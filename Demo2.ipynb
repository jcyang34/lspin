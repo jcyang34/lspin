{
 "cells": [
  {
   "cell_type": "code",
   "execution_count": 1,
   "metadata": {},
   "outputs": [],
   "source": [
    "import numpy as np\n",
    "import matplotlib\n",
    "import matplotlib.pyplot as plt\n",
    "from matplotlib import cm,colors"
   ]
  },
  {
   "cell_type": "code",
   "execution_count": 2,
   "metadata": {},
   "outputs": [],
   "source": [
    "from model import Model\n",
    "from model import convertToOneHot, DataSet_meta\n",
    "import optuna"
   ]
  },
  {
   "cell_type": "code",
   "execution_count": 3,
   "metadata": {},
   "outputs": [],
   "source": [
    "from sklearn.metrics import mean_squared_error"
   ]
  },
  {
   "cell_type": "markdown",
   "metadata": {},
   "source": [
    "## Data Generation"
   ]
  },
  {
   "cell_type": "markdown",
   "metadata": {},
   "source": [
    "#### E5:\n",
    "$$\n",
    "y = \\begin{cases}\n",
    "    x_1 \\times x_2 + 2x_{21} & \\text{if } x_{21} = -1 \\\\ \n",
    "    x_2 \\times x_3 + 2x_{21} & \\text{if } x_{21} = 0  \\\\\n",
    "    x_3 \\times x_4 + 2x_{21} & \\text{if } x_{21} = 1  \\\\\n",
    "\\end{cases}\n",
    "$$"
   ]
  },
  {
   "cell_type": "code",
   "execution_count": 4,
   "metadata": {},
   "outputs": [],
   "source": [
    "N_train = 1500\n",
    "N_valid=300\n",
    "N_test = 300\n",
    "D=20"
   ]
  },
  {
   "cell_type": "code",
   "execution_count": 5,
   "metadata": {},
   "outputs": [],
   "source": [
    "np.random.seed(42)"
   ]
  },
  {
   "cell_type": "code",
   "execution_count": 6,
   "metadata": {},
   "outputs": [],
   "source": [
    "group_size=int(N_train/3)\n",
    "X_train = np.sign(np.random.normal(0,1,(N_train,D)))\n",
    "X_train = np.concatenate((X_train,\n",
    "                         np.concatenate(([-1]*group_size,[0]*group_size,[1]*group_size)).reshape(-1,1)),axis=1)\n",
    "Y_train = np.concatenate((X_train[:group_size,0]*X_train[:group_size,1]+2*X_train[:group_size,-1],\n",
    "                          X_train[group_size:(group_size*2),1]*X_train[group_size:(group_size*2),2]+2*X_train[group_size:(group_size*2),-1],\n",
    "                          X_train[(group_size*2):(group_size*3),2]*X_train[(group_size*2):(group_size*3),3]+2*X_train[(group_size*2):(group_size*3),-1],\n",
    "                         ),axis=0)"
   ]
  },
  {
   "cell_type": "code",
   "execution_count": 7,
   "metadata": {},
   "outputs": [],
   "source": [
    "group_size=int(N_valid/3)\n",
    "X_valid = np.sign(np.random.normal(0,1,(N_valid,D)))\n",
    "X_valid = np.concatenate((X_valid,\n",
    "                         np.concatenate(([-1]*group_size,[0]*group_size,[1]*group_size)).reshape(-1,1)),axis=1)\n",
    "Y_valid = np.concatenate((X_valid[:group_size,0]*X_valid[:group_size,1]+2*X_valid[:group_size,-1],\n",
    "                          X_valid[group_size:(group_size*2),1]*X_valid[group_size:(group_size*2),2]+2*X_valid[group_size:(group_size*2),-1],\n",
    "                          X_valid[(group_size*2):(group_size*3),2]*X_valid[(group_size*2):(group_size*3),3]+2*X_valid[(group_size*2):(group_size*3),-1],\n",
    "                         ),axis=0)"
   ]
  },
  {
   "cell_type": "code",
   "execution_count": 8,
   "metadata": {},
   "outputs": [],
   "source": [
    "group_size=int(N_test/3)\n",
    "X_test = np.sign(np.random.normal(0,1,(N_test,D)))\n",
    "X_test = np.concatenate((X_test,\n",
    "                         np.concatenate(([-1]*group_size,[0]*group_size,[1]*group_size)).reshape(-1,1)),axis=1)\n",
    "Y_test = np.concatenate((X_test[:group_size,0]*X_test[:group_size,1]+2*X_test[:group_size,-1],\n",
    "                          X_test[group_size:(group_size*2),1]*X_test[group_size:(group_size*2),2]+2*X_test[group_size:(group_size*2),-1],\n",
    "                          X_test[(group_size*2):(group_size*3),2]*X_test[(group_size*2):(group_size*3),3]+2*X_test[(group_size*2):(group_size*3),-1],\n",
    "                         ),axis=0)"
   ]
  },
  {
   "cell_type": "code",
   "execution_count": 9,
   "metadata": {},
   "outputs": [],
   "source": [
    "np.random.seed(42)\n",
    "train_sample_indices = np.arange(N_train)\n",
    "np.random.shuffle(train_sample_indices)\n",
    "\n",
    "X_train = X_train[train_sample_indices,:]\n",
    "Y_train = Y_train[train_sample_indices]"
   ]
  },
  {
   "cell_type": "code",
   "execution_count": 10,
   "metadata": {},
   "outputs": [],
   "source": [
    "valid_sample_indices = np.arange(N_valid)\n",
    "np.random.shuffle(valid_sample_indices)\n",
    "\n",
    "X_valid = X_valid[valid_sample_indices,:]\n",
    "Y_valid = Y_valid[valid_sample_indices]"
   ]
  },
  {
   "cell_type": "code",
   "execution_count": 11,
   "metadata": {},
   "outputs": [],
   "source": [
    "test_sample_indices = np.arange(N_test)\n",
    "np.random.shuffle(test_sample_indices)\n",
    "\n",
    "X_test = X_test[test_sample_indices,:]\n",
    "Y_test = Y_test[test_sample_indices]"
   ]
  },
  {
   "cell_type": "markdown",
   "metadata": {},
   "source": [
    "## Run LSPIN"
   ]
  },
  {
   "cell_type": "code",
   "execution_count": 12,
   "metadata": {},
   "outputs": [],
   "source": [
    "dataset = DataSet_meta(**{'_data':X_train, '_labels':Y_train.reshape(-1,1), '_meta':Y_train.reshape(-1,1),\n",
    "                '_valid_data':X_valid, '_valid_labels':Y_valid.reshape(-1,1),'_valid_meta': Y_valid.reshape(-1,1),\n",
    "                '_test_data':X_test, '_test_labels':Y_test.reshape(-1,1), '_test_meta':Y_test.reshape(-1,1),})"
   ]
  },
  {
   "cell_type": "code",
   "execution_count": 13,
   "metadata": {},
   "outputs": [],
   "source": [
    "model_params = {'input_node': X_train.shape[1],\n",
    " 'hidden_layers_node': [500, 100, 1],\n",
    " 'output_node': 1,\n",
    " 'feature_selection': True,\n",
    " 'gating_net_hidden_layers_node': [100],\n",
    " 'display_step': 1000,\n",
    " 'activation_gating': 'tanh',\n",
    " 'activation_pred': 'l_relu',\n",
    " 'lam': 1}"
   ]
  },
  {
   "cell_type": "code",
   "execution_count": 14,
   "metadata": {},
   "outputs": [],
   "source": [
    "training_params = {\n",
    "    'batch_size':X_train.shape[0]\n",
    "}"
   ]
  },
  {
   "cell_type": "code",
   "execution_count": 15,
   "metadata": {},
   "outputs": [],
   "source": [
    "# objective function for optuna hyper-parameter optimization\n",
    "def lstg_objective(trial):  \n",
    "    \n",
    "    global model\n",
    "            \n",
    "    training_params['lr'] = trial.suggest_loguniform('learning_rate',0.01,0.1) \n",
    "    training_params[\"num_epoch\"] = trial.suggest_categorical('num_epoch', [2000,3000,5000,7000])\n",
    "\n",
    "    model = Model(**model_params)\n",
    "    train_acces, train_losses, val_acces, val_losses = model.train(dataset=dataset,\n",
    "                                                               **training_params\n",
    "                                                              )\n",
    "    \n",
    "    alpha_mat_valid=model.get_prob_alpha(X_valid)\n",
    "    print(\"In trial:---------------------\")\n",
    "    print(\"union feat: {}\".format(sum(np.sum(alpha_mat_valid > 0,axis=0)>0)))\n",
    "    print(\"median feat: {}\".format(np.median(np.sum(alpha_mat_valid > 0,axis=1))))\n",
    "       \n",
    "    loss= val_losses[-1]\n",
    "            \n",
    "    return loss\n",
    "        \n",
    "def callback(study,trial):\n",
    "    global best_model\n",
    "    if study.best_trial == trial:\n",
    "        best_model = model"
   ]
  },
  {
   "cell_type": "code",
   "execution_count": 17,
   "metadata": {
    "scrolled": true
   },
   "outputs": [
    {
     "name": "stderr",
     "output_type": "stream",
     "text": [
      "\u001b[32m[I 2022-01-27 02:44:33,575]\u001b[0m A new study created in memory with name: no-name-7db6f61c-f8b2-484a-a551-886ce68edf8b\u001b[0m\n"
     ]
    },
    {
     "name": "stdout",
     "output_type": "stream",
     "text": [
      "num_samples : 1500\n",
      "Epoch: 1000 train loss=0.763489604 valid loss= 0.664828300\n",
      "Epoch: 2000 train loss=0.413426101 valid loss= 0.347265512\n",
      "Epoch: 3000 train loss=0.356250465 valid loss= 0.305183172\n",
      "Epoch: 4000 train loss=0.348233759 valid loss= 0.299743474\n",
      "Epoch: 5000 train loss=0.331610113 valid loss= 0.292882681\n",
      "Epoch: 6000 train loss=0.322337300 valid loss= 0.287250578\n"
     ]
    },
    {
     "name": "stderr",
     "output_type": "stream",
     "text": [
      "\u001b[32m[I 2022-01-27 02:45:36,100]\u001b[0m Trial 0 finished with value: 0.28526127338409424 and parameters: {'learning_rate': 0.014142394653685757, 'num_epoch': 7000}. Best is trial 0 with value: 0.28526127338409424.\u001b[0m\n"
     ]
    },
    {
     "name": "stdout",
     "output_type": "stream",
     "text": [
      "Epoch: 7000 train loss=0.313670546 valid loss= 0.285261273\n",
      "Optimization Finished!\n",
      "test loss: 0.28539472818374634, test acc: 1.0\n",
      "In trial:---------------------\n",
      "union feat: 5\n",
      "median feat: 3.0\n",
      "num_samples : 1500\n",
      "Epoch: 1000 train loss=0.331825525 valid loss= 0.293193966\n",
      "Epoch: 2000 train loss=0.303772449 valid loss= 0.283340156\n",
      "Epoch: 3000 train loss=0.307156891 valid loss= 0.286126226\n",
      "Epoch: 4000 train loss=0.311347246 valid loss= 0.281119674\n",
      "Epoch: 5000 train loss=0.292486906 valid loss= 0.280392587\n",
      "Epoch: 6000 train loss=0.291246593 valid loss= 0.282726020\n"
     ]
    },
    {
     "name": "stderr",
     "output_type": "stream",
     "text": [
      "\u001b[32m[I 2022-01-27 02:46:38,789]\u001b[0m Trial 1 finished with value: 0.28080520033836365 and parameters: {'learning_rate': 0.07924635860833862, 'num_epoch': 7000}. Best is trial 1 with value: 0.28080520033836365.\u001b[0m\n"
     ]
    },
    {
     "name": "stdout",
     "output_type": "stream",
     "text": [
      "Epoch: 7000 train loss=0.294735670 valid loss= 0.280805200\n",
      "Optimization Finished!\n",
      "test loss: 0.28074586391448975, test acc: 1.0\n",
      "In trial:---------------------\n",
      "union feat: 5\n",
      "median feat: 3.0\n",
      "num_samples : 1500\n",
      "Epoch: 1000 train loss=0.462686181 valid loss= 0.417351454\n"
     ]
    },
    {
     "name": "stderr",
     "output_type": "stream",
     "text": [
      "\u001b[32m[I 2022-01-27 02:46:58,030]\u001b[0m Trial 2 finished with value: 0.33124247193336487 and parameters: {'learning_rate': 0.03981334133839327, 'num_epoch': 2000}. Best is trial 1 with value: 0.28080520033836365.\u001b[0m\n"
     ]
    },
    {
     "name": "stdout",
     "output_type": "stream",
     "text": [
      "Epoch: 2000 train loss=0.374475539 valid loss= 0.331242472\n",
      "Optimization Finished!\n",
      "test loss: 0.3266412019729614, test acc: 1.0\n",
      "In trial:---------------------\n",
      "union feat: 14\n",
      "median feat: 4.0\n",
      "num_samples : 1500\n",
      "Epoch: 1000 train loss=0.789332032 valid loss= 0.694122672\n",
      "Epoch: 2000 train loss=0.430617213 valid loss= 0.363718778\n",
      "Epoch: 3000 train loss=0.368334681 valid loss= 0.318091989\n",
      "Epoch: 4000 train loss=0.352876961 valid loss= 0.307152361\n",
      "Epoch: 5000 train loss=0.333127379 valid loss= 0.300463617\n",
      "Epoch: 6000 train loss=0.344740093 valid loss= 0.306336910\n"
     ]
    },
    {
     "name": "stderr",
     "output_type": "stream",
     "text": [
      "\u001b[32m[I 2022-01-27 02:48:00,819]\u001b[0m Trial 3 finished with value: 0.2979745864868164 and parameters: {'learning_rate': 0.0161857880049561, 'num_epoch': 7000}. Best is trial 1 with value: 0.28080520033836365.\u001b[0m\n"
     ]
    },
    {
     "name": "stdout",
     "output_type": "stream",
     "text": [
      "Epoch: 7000 train loss=0.327946246 valid loss= 0.297974586\n",
      "Optimization Finished!\n",
      "test loss: 0.2979092001914978, test acc: 1.0\n",
      "In trial:---------------------\n",
      "union feat: 5\n",
      "median feat: 3.0\n",
      "num_samples : 1500\n",
      "Epoch: 1000 train loss=0.343280166 valid loss= 0.308035254\n",
      "Epoch: 2000 train loss=0.318222255 valid loss= 0.284338146\n",
      "Epoch: 3000 train loss=0.306477845 valid loss= 0.284354895\n",
      "Epoch: 4000 train loss=0.299026787 valid loss= 0.282553673\n"
     ]
    },
    {
     "name": "stderr",
     "output_type": "stream",
     "text": [
      "\u001b[32m[I 2022-01-27 02:48:46,264]\u001b[0m Trial 4 finished with value: 0.28076401352882385 and parameters: {'learning_rate': 0.06445201217297805, 'num_epoch': 5000}. Best is trial 4 with value: 0.28076401352882385.\u001b[0m\n"
     ]
    },
    {
     "name": "stdout",
     "output_type": "stream",
     "text": [
      "Epoch: 5000 train loss=0.295667529 valid loss= 0.280764014\n",
      "Optimization Finished!\n",
      "test loss: 0.2807355225086212, test acc: 1.0\n",
      "In trial:---------------------\n",
      "union feat: 5\n",
      "median feat: 3.0\n",
      "num_samples : 1500\n",
      "Epoch: 1000 train loss=0.422218770 valid loss= 0.381009161\n",
      "Epoch: 2000 train loss=0.337540746 valid loss= 0.293814182\n",
      "Epoch: 3000 train loss=0.319016814 valid loss= 0.288436592\n",
      "Epoch: 4000 train loss=0.310676754 valid loss= 0.284166127\n",
      "Epoch: 5000 train loss=0.307676524 valid loss= 0.285369903\n",
      "Epoch: 6000 train loss=0.303480744 valid loss= 0.285188496\n"
     ]
    },
    {
     "name": "stderr",
     "output_type": "stream",
     "text": [
      "\u001b[32m[I 2022-01-27 02:49:49,460]\u001b[0m Trial 5 finished with value: 0.282027930021286 and parameters: {'learning_rate': 0.026744584554884415, 'num_epoch': 7000}. Best is trial 4 with value: 0.28076401352882385.\u001b[0m\n"
     ]
    },
    {
     "name": "stdout",
     "output_type": "stream",
     "text": [
      "Epoch: 7000 train loss=0.297481805 valid loss= 0.282027930\n",
      "Optimization Finished!\n",
      "test loss: 0.2820155620574951, test acc: 1.0\n",
      "In trial:---------------------\n",
      "union feat: 5\n",
      "median feat: 3.0\n",
      "num_samples : 1500\n",
      "Epoch: 1000 train loss=0.354428142 valid loss= 0.300112486\n",
      "Epoch: 2000 train loss=0.315219760 valid loss= 0.285317451\n",
      "Epoch: 3000 train loss=0.317813963 valid loss= 0.292607516\n",
      "Epoch: 4000 train loss=0.306395888 valid loss= 0.285342276\n",
      "Epoch: 5000 train loss=0.299309045 valid loss= 0.283370614\n",
      "Epoch: 6000 train loss=0.298734784 valid loss= 0.283085078\n"
     ]
    },
    {
     "name": "stderr",
     "output_type": "stream",
     "text": [
      "\u001b[32m[I 2022-01-27 02:50:52,461]\u001b[0m Trial 6 finished with value: 0.28137049078941345 and parameters: {'learning_rate': 0.05278362971590137, 'num_epoch': 7000}. Best is trial 4 with value: 0.28076401352882385.\u001b[0m\n"
     ]
    },
    {
     "name": "stdout",
     "output_type": "stream",
     "text": [
      "Epoch: 7000 train loss=0.293508053 valid loss= 0.281370491\n",
      "Optimization Finished!\n",
      "test loss: 0.28141891956329346, test acc: 1.0\n",
      "In trial:---------------------\n",
      "union feat: 5\n",
      "median feat: 3.0\n",
      "num_samples : 1500\n",
      "Epoch: 1000 train loss=0.331458867 valid loss= 0.292968154\n",
      "Epoch: 2000 train loss=0.309948564 valid loss= 0.289608836\n",
      "Epoch: 3000 train loss=0.307645470 valid loss= 0.286528051\n",
      "Epoch: 4000 train loss=0.315821171 valid loss= 0.298227996\n"
     ]
    },
    {
     "name": "stderr",
     "output_type": "stream",
     "text": [
      "\u001b[32m[I 2022-01-27 02:51:37,836]\u001b[0m Trial 7 finished with value: 0.2825685441493988 and parameters: {'learning_rate': 0.08903952682244844, 'num_epoch': 5000}. Best is trial 4 with value: 0.28076401352882385.\u001b[0m\n"
     ]
    },
    {
     "name": "stdout",
     "output_type": "stream",
     "text": [
      "Epoch: 5000 train loss=0.295552522 valid loss= 0.282568544\n",
      "Optimization Finished!\n",
      "test loss: 0.2827301025390625, test acc: 1.0\n",
      "In trial:---------------------\n",
      "union feat: 5\n",
      "median feat: 3.0\n",
      "num_samples : 1500\n",
      "Epoch: 1000 train loss=0.409633815 valid loss= 0.330396533\n",
      "Epoch: 2000 train loss=0.337618738 valid loss= 0.293059766\n",
      "Epoch: 3000 train loss=0.332377046 valid loss= 0.285082012\n",
      "Epoch: 4000 train loss=0.310496271 valid loss= 0.285313934\n",
      "Epoch: 5000 train loss=0.319207907 valid loss= 0.283061475\n",
      "Epoch: 6000 train loss=0.309553444 valid loss= 0.283518314\n"
     ]
    },
    {
     "name": "stderr",
     "output_type": "stream",
     "text": [
      "\u001b[32m[I 2022-01-27 02:52:40,731]\u001b[0m Trial 8 finished with value: 0.2817590534687042 and parameters: {'learning_rate': 0.03057515102298176, 'num_epoch': 7000}. Best is trial 4 with value: 0.28076401352882385.\u001b[0m\n"
     ]
    },
    {
     "name": "stdout",
     "output_type": "stream",
     "text": [
      "Epoch: 7000 train loss=0.300420105 valid loss= 0.281759053\n",
      "Optimization Finished!\n",
      "test loss: 0.2817884683609009, test acc: 1.0\n",
      "In trial:---------------------\n",
      "union feat: 5\n",
      "median feat: 3.0\n",
      "num_samples : 1500\n",
      "Epoch: 1000 train loss=0.353857726 valid loss= 0.316712826\n"
     ]
    },
    {
     "name": "stderr",
     "output_type": "stream",
     "text": [
      "\u001b[32m[I 2022-01-27 02:53:00,488]\u001b[0m Trial 9 finished with value: 0.28791099786758423 and parameters: {'learning_rate': 0.041261473185627506, 'num_epoch': 2000}. Best is trial 4 with value: 0.28076401352882385.\u001b[0m\n"
     ]
    },
    {
     "name": "stdout",
     "output_type": "stream",
     "text": [
      "Epoch: 2000 train loss=0.323896021 valid loss= 0.287910998\n",
      "Optimization Finished!\n",
      "test loss: 0.2879062592983246, test acc: 1.0\n",
      "In trial:---------------------\n",
      "union feat: 5\n",
      "median feat: 3.0\n",
      "num_samples : 1500\n",
      "Epoch: 1000 train loss=0.340813130 valid loss= 0.299750268\n",
      "Epoch: 2000 train loss=0.320382595 valid loss= 0.289170235\n"
     ]
    },
    {
     "name": "stderr",
     "output_type": "stream",
     "text": [
      "\u001b[32m[I 2022-01-27 02:53:28,765]\u001b[0m Trial 10 finished with value: 0.28221696615219116 and parameters: {'learning_rate': 0.06897033337286865, 'num_epoch': 3000}. Best is trial 4 with value: 0.28076401352882385.\u001b[0m\n"
     ]
    },
    {
     "name": "stdout",
     "output_type": "stream",
     "text": [
      "Epoch: 3000 train loss=0.305382490 valid loss= 0.282216966\n",
      "Optimization Finished!\n",
      "test loss: 0.28200313448905945, test acc: 1.0\n",
      "In trial:---------------------\n",
      "union feat: 5\n",
      "median feat: 3.0\n",
      "num_samples : 1500\n",
      "Epoch: 1000 train loss=0.324670851 valid loss= 0.292677790\n",
      "Epoch: 2000 train loss=0.305937678 valid loss= 0.285808653\n",
      "Epoch: 3000 train loss=0.296203911 valid loss= 0.280796051\n",
      "Epoch: 4000 train loss=0.292654753 valid loss= 0.281079650\n"
     ]
    },
    {
     "name": "stderr",
     "output_type": "stream",
     "text": [
      "\u001b[32m[I 2022-01-27 02:54:15,070]\u001b[0m Trial 11 finished with value: 0.2809104323387146 and parameters: {'learning_rate': 0.09453272537070384, 'num_epoch': 5000}. Best is trial 4 with value: 0.28076401352882385.\u001b[0m\n"
     ]
    },
    {
     "name": "stdout",
     "output_type": "stream",
     "text": [
      "Epoch: 5000 train loss=0.292513281 valid loss= 0.280910432\n",
      "Optimization Finished!\n",
      "test loss: 0.28066250681877136, test acc: 1.0\n",
      "In trial:---------------------\n",
      "union feat: 5\n",
      "median feat: 3.0\n",
      "num_samples : 1500\n",
      "Epoch: 1000 train loss=0.339726359 valid loss= 0.296134770\n",
      "Epoch: 2000 train loss=0.314547747 valid loss= 0.285711557\n",
      "Epoch: 3000 train loss=0.310898751 valid loss= 0.287513345\n",
      "Epoch: 4000 train loss=0.302660465 valid loss= 0.286396623\n"
     ]
    },
    {
     "name": "stderr",
     "output_type": "stream",
     "text": [
      "\u001b[32m[I 2022-01-27 02:55:00,940]\u001b[0m Trial 12 finished with value: 0.28385627269744873 and parameters: {'learning_rate': 0.0627608492688713, 'num_epoch': 5000}. Best is trial 4 with value: 0.28076401352882385.\u001b[0m\n"
     ]
    },
    {
     "name": "stdout",
     "output_type": "stream",
     "text": [
      "Epoch: 5000 train loss=0.298814744 valid loss= 0.283856273\n",
      "Optimization Finished!\n",
      "test loss: 0.2837928235530853, test acc: 1.0\n",
      "In trial:---------------------\n",
      "union feat: 5\n",
      "median feat: 3.0\n",
      "num_samples : 1500\n",
      "Epoch: 1000 train loss=0.462426960 valid loss= 0.422205448\n",
      "Epoch: 2000 train loss=0.347982645 valid loss= 0.306759387\n",
      "Epoch: 3000 train loss=0.329551429 valid loss= 0.291186363\n",
      "Epoch: 4000 train loss=0.318383694 valid loss= 0.287736356\n"
     ]
    },
    {
     "name": "stderr",
     "output_type": "stream",
     "text": [
      "\u001b[32m[I 2022-01-27 02:55:46,920]\u001b[0m Trial 13 finished with value: 0.2876785397529602 and parameters: {'learning_rate': 0.021961032282362947, 'num_epoch': 5000}. Best is trial 4 with value: 0.28076401352882385.\u001b[0m\n"
     ]
    },
    {
     "name": "stdout",
     "output_type": "stream",
     "text": [
      "Epoch: 5000 train loss=0.320323467 valid loss= 0.287678540\n",
      "Optimization Finished!\n",
      "test loss: 0.2872154712677002, test acc: 1.0\n",
      "In trial:---------------------\n",
      "union feat: 5\n",
      "median feat: 3.0\n",
      "num_samples : 1500\n",
      "Epoch: 1000 train loss=0.346327782 valid loss= 0.309597760\n",
      "Epoch: 2000 train loss=0.317032337 valid loss= 0.286652833\n"
     ]
    },
    {
     "name": "stderr",
     "output_type": "stream",
     "text": [
      "\u001b[32m[I 2022-01-27 02:56:14,908]\u001b[0m Trial 14 finished with value: 0.2832625210285187 and parameters: {'learning_rate': 0.050859236377150834, 'num_epoch': 3000}. Best is trial 4 with value: 0.28076401352882385.\u001b[0m\n"
     ]
    },
    {
     "name": "stdout",
     "output_type": "stream",
     "text": [
      "Epoch: 3000 train loss=0.312844515 valid loss= 0.283262521\n",
      "Optimization Finished!\n",
      "test loss: 0.28319159150123596, test acc: 1.0\n",
      "In trial:---------------------\n",
      "union feat: 5\n",
      "median feat: 3.0\n",
      "num_samples : 1500\n",
      "Epoch: 1000 train loss=0.381032616 valid loss= 0.309761494\n",
      "Epoch: 2000 train loss=0.327998579 valid loss= 0.290919721\n",
      "Epoch: 3000 train loss=0.324188143 valid loss= 0.286131173\n",
      "Epoch: 4000 train loss=0.309011161 valid loss= 0.284014493\n"
     ]
    },
    {
     "name": "stderr",
     "output_type": "stream",
     "text": [
      "\u001b[32m[I 2022-01-27 02:57:00,681]\u001b[0m Trial 15 finished with value: 0.28334370255470276 and parameters: {'learning_rate': 0.07473696261165531, 'num_epoch': 5000}. Best is trial 4 with value: 0.28076401352882385.\u001b[0m\n"
     ]
    },
    {
     "name": "stdout",
     "output_type": "stream",
     "text": [
      "Epoch: 5000 train loss=0.307816595 valid loss= 0.283343703\n",
      "Optimization Finished!\n",
      "test loss: 0.2845681607723236, test acc: 1.0\n",
      "In trial:---------------------\n",
      "union feat: 6\n",
      "median feat: 3.0\n",
      "num_samples : 1500\n",
      "Epoch: 1000 train loss=0.993694186 valid loss= 0.928655744\n"
     ]
    },
    {
     "name": "stderr",
     "output_type": "stream",
     "text": [
      "\u001b[32m[I 2022-01-27 02:57:19,730]\u001b[0m Trial 16 finished with value: 0.3910070061683655 and parameters: {'learning_rate': 0.010974935035457312, 'num_epoch': 2000}. Best is trial 4 with value: 0.28076401352882385.\u001b[0m\n"
     ]
    },
    {
     "name": "stdout",
     "output_type": "stream",
     "text": [
      "Epoch: 2000 train loss=0.484966040 valid loss= 0.391007006\n",
      "Optimization Finished!\n",
      "test loss: 0.38740190863609314, test acc: 1.0\n",
      "In trial:---------------------\n",
      "union feat: 16\n",
      "median feat: 4.0\n",
      "num_samples : 1500\n",
      "Epoch: 1000 train loss=0.346441358 valid loss= 0.311035544\n",
      "Epoch: 2000 train loss=0.312015027 valid loss= 0.286684811\n"
     ]
    },
    {
     "name": "stderr",
     "output_type": "stream",
     "text": [
      "\u001b[32m[I 2022-01-27 02:57:48,257]\u001b[0m Trial 17 finished with value: 0.29191190004348755 and parameters: {'learning_rate': 0.041840884222509346, 'num_epoch': 3000}. Best is trial 4 with value: 0.28076401352882385.\u001b[0m\n"
     ]
    },
    {
     "name": "stdout",
     "output_type": "stream",
     "text": [
      "Epoch: 3000 train loss=0.318258792 valid loss= 0.291911900\n",
      "Optimization Finished!\n",
      "test loss: 0.2916521430015564, test acc: 1.0\n",
      "In trial:---------------------\n",
      "union feat: 5\n",
      "median feat: 3.0\n",
      "num_samples : 1500\n",
      "Epoch: 1000 train loss=0.343447179 valid loss= 0.302992523\n",
      "Epoch: 2000 train loss=0.320013911 valid loss= 0.287334561\n",
      "Epoch: 3000 train loss=0.301980048 valid loss= 0.283091813\n",
      "Epoch: 4000 train loss=0.296925694 valid loss= 0.281536281\n",
      "Epoch: 5000 train loss=0.298510522 valid loss= 0.283499449\n",
      "Epoch: 6000 train loss=0.300892264 valid loss= 0.283836067\n"
     ]
    },
    {
     "name": "stderr",
     "output_type": "stream",
     "text": [
      "\u001b[32m[I 2022-01-27 02:58:51,889]\u001b[0m Trial 18 finished with value: 0.28263986110687256 and parameters: {'learning_rate': 0.05901848899994408, 'num_epoch': 7000}. Best is trial 4 with value: 0.28076401352882385.\u001b[0m\n"
     ]
    },
    {
     "name": "stdout",
     "output_type": "stream",
     "text": [
      "Epoch: 7000 train loss=0.292461395 valid loss= 0.282639861\n",
      "Optimization Finished!\n",
      "test loss: 0.28321486711502075, test acc: 1.0\n",
      "In trial:---------------------\n",
      "union feat: 5\n",
      "median feat: 3.0\n",
      "num_samples : 1500\n",
      "Epoch: 1000 train loss=0.331579715 valid loss= 0.290780783\n",
      "Epoch: 2000 train loss=0.307942510 valid loss= 0.284310639\n",
      "Epoch: 3000 train loss=0.309303969 valid loss= 0.285773903\n",
      "Epoch: 4000 train loss=0.299213290 valid loss= 0.284449160\n"
     ]
    },
    {
     "name": "stderr",
     "output_type": "stream",
     "text": [
      "\u001b[32m[I 2022-01-27 02:59:37,684]\u001b[0m Trial 19 finished with value: 0.28695622086524963 and parameters: {'learning_rate': 0.09756068728569076, 'num_epoch': 5000}. Best is trial 4 with value: 0.28076401352882385.\u001b[0m\n"
     ]
    },
    {
     "name": "stdout",
     "output_type": "stream",
     "text": [
      "Epoch: 5000 train loss=0.302873313 valid loss= 0.286956221\n",
      "Optimization Finished!\n",
      "test loss: 0.28644827008247375, test acc: 1.0\n",
      "In trial:---------------------\n",
      "union feat: 5\n",
      "median feat: 3.0\n"
     ]
    }
   ],
   "source": [
    "best_model = None\n",
    "model = None\n",
    "study = optuna.create_study(pruner=None)\n",
    "study.optimize(lstg_objective, n_trials=20, callbacks=[callback])"
   ]
  },
  {
   "cell_type": "code",
   "execution_count": 18,
   "metadata": {},
   "outputs": [
    {
     "name": "stdout",
     "output_type": "stream",
     "text": [
      "Mean Squared Error on the test: 0.00086\n"
     ]
    }
   ],
   "source": [
    "Y_test_pred = best_model.test(X_test)[0].reshape(-1) \n",
    "print(\"Mean Squared Error on the test: {:.5f}\".format(np.mean((Y_test - Y_test_pred)**2)))"
   ]
  },
  {
   "cell_type": "markdown",
   "metadata": {},
   "source": [
    "## Visualizing the gate matrix"
   ]
  },
  {
   "cell_type": "code",
   "execution_count": 19,
   "metadata": {},
   "outputs": [],
   "source": [
    "gate_matrix_test = best_model.get_prob_alpha(X_test)"
   ]
  },
  {
   "cell_type": "code",
   "execution_count": 20,
   "metadata": {},
   "outputs": [],
   "source": [
    "# compare to ground truth\n",
    "g_test = np.zeros((X_test.shape[0],X_test.shape[1]))\n",
    "for i in range(g_test.shape[0]):\n",
    "    if X_test[i,-1] == -1:\n",
    "        g_test[i,0] = 1\n",
    "        g_test[i,1] = 1\n",
    "    elif X_test[i,-1] == 0:\n",
    "        g_test[i,1] = 1\n",
    "        g_test[i,2] = 1\n",
    "    elif X_test[i,-1] == 1:\n",
    "        g_test[i,2] = 1\n",
    "        g_test[i,3] = 1\n",
    "g_test[:,-1] = 1"
   ]
  },
  {
   "cell_type": "code",
   "execution_count": 22,
   "metadata": {},
   "outputs": [
    {
     "data": {
      "image/png": "[encoded data removed]",
      "text/plain": [
       "<Figure size 720x432 with 5 Axes>"
      ]
     },
     "metadata": {
      "needs_background": "light"
     },
     "output_type": "display_data"
    }
   ],
   "source": [
    "fig, axes = plt.subplots(1, 2, sharex=True,sharey=False,figsize=(10,6))\n",
    "\n",
    "\n",
    "\n",
    "cmap = cm.Blues \n",
    "bounds=[0,0.5,1]\n",
    "norm = colors.BoundaryNorm(bounds, cmap.N)\n",
    "fig.add_subplot(111, frameon=False)\n",
    "\n",
    "title_size = 30\n",
    "\n",
    "xlabel_size = 35\n",
    "ylabel_size = 35\n",
    "\n",
    "xtick_size = 20\n",
    "ytick_size = 20\n",
    "bar_label_size = 20\n",
    "\n",
    "matplotlib.rc('xtick', labelsize=20) \n",
    "\n",
    "\n",
    "# Test\n",
    "y_axis_order = np.argsort(X_test[:,-1])\n",
    "\n",
    "im5 = axes[0].imshow(g_test[y_axis_order,:],aspect='auto',cmap=cmap, norm=norm)\n",
    "axes[0].set_title(\"Ground Truth\",fontsize=title_size,fontweight=\"bold\")\n",
    "axes[0].set_ylabel(\"Sample Index\",fontsize=ylabel_size,labelpad=20)\n",
    "axes[0].set_xticks([0,1,2,3,20])\n",
    "axes[0].set_xticklabels([1,2,3,4,21])\n",
    "axes[0].set_yticks([0,49,99,149,199,249])\n",
    "axes[0].set_yticklabels([1,50,100,150,200,250],fontsize=ytick_size)\n",
    "\n",
    "im7 = axes[1].imshow(gate_matrix_test[y_axis_order,:],aspect='auto',cmap=cmap)\n",
    "axes[1].set_title(\"LSPIN\",fontsize=title_size,fontweight=\"bold\")\n",
    "axes[1].set_yticks([0,49,99,149,199,249])\n",
    "axes[1].set_yticklabels([1,50,100,150,200,250],fontsize=ytick_size)\n",
    "\n",
    "cbar = fig.colorbar(im5,ax=axes[0], cmap=cmap, norm=norm, boundaries=bounds, ticks=[0, 1])\n",
    "cbar.ax.tick_params(labelsize=bar_label_size)\n",
    "\n",
    "cbar = fig.colorbar(im7,ax=axes[1],cmap=cmap)\n",
    "cbar.ax.tick_params(labelsize=bar_label_size)\n",
    "\n",
    "plt.tick_params(labelcolor='none', top=False, bottom=False, left=False, right=False)\n",
    "plt.xlabel(\"Feature Index\",fontsize=xlabel_size)\n",
    "#plt.xticks(list(range(1,12)))\n",
    "\n",
    "\n",
    "plt.tight_layout()\n",
    "plt.show()"
   ]
  }
 ],
 "metadata": {
  "kernelspec": {
   "display_name": "Python 3",
   "language": "python",
   "name": "python3"
  },
  "language_info": {
   "codemirror_mode": {
    "name": "ipython",
    "version": 3
   },
   "file_extension": ".py",
   "mimetype": "text/x-python",
   "name": "python",
   "nbconvert_exporter": "python",
   "pygments_lexer": "ipython3",
   "version": "3.6.9"
  }
 },
 "nbformat": 4,
 "nbformat_minor": 4
}
