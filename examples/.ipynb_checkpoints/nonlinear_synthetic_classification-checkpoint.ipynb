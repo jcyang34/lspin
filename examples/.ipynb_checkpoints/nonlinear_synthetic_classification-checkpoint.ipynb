{
 "cells": [
  {
   "cell_type": "code",
   "execution_count": 1,
   "metadata": {},
   "outputs": [],
   "source": [
    "import numpy as np\n",
    "import scipy\n",
    "import sys\n",
    "import os\n",
    "import optuna\n",
    "\n",
    "from sklearn.model_selection import train_test_split\n",
    "\n",
    "from lspin.lspin_model import Model\n",
    "from lspin.utils import convertToOneHot, DataSet\n",
    "\n",
    "from matplotlib import cm,colors\n",
    "import matplotlib \n",
    "import matplotlib.pyplot as plt"
   ]
  },
  {
   "cell_type": "code",
   "execution_count": 3,
   "metadata": {},
   "outputs": [],
   "source": [
    "# If need to use GPU\n",
    "os.environ['CUDA_VISIBLE_DEVICES'] = '2'"
   ]
  },
  {
   "cell_type": "markdown",
   "metadata": {},
   "source": [
    "### Data Generation (Exp 4)"
   ]
  },
  {
   "cell_type": "code",
   "execution_count": 4,
   "metadata": {},
   "outputs": [],
   "source": [
    "np.random.seed(34)\n",
    "X1 = np.random.normal(loc=1,scale=0.5,size=(500,4))\n",
    "X2 = np.random.normal(loc=-1,scale=0.5,size=(500,4))\n",
    "logit1 = np.exp(X1[:, 0] *X1[:, 1]  - 0.9)\n",
    "logit2 = np.exp(np.sum(X2[:, 2:4]**2, axis = 1) - 2.5)\n",
    "Y1 = 1.*(1/(1+logit1) > 0.5).reshape(-1,1)\n",
    "Y2 = 1.*(1/(1+logit2) > 0.5).reshape(-1,1)"
   ]
  },
  {
   "cell_type": "code",
   "execution_count": 5,
   "metadata": {},
   "outputs": [],
   "source": [
    "#### add noise to the next 46 irrelevant features\n",
    "X = np.concatenate((X1,X2),axis=0)\n",
    "noise = np.random.normal(loc=0,scale=0.5,size=(1000,46))\n",
    "X = np.concatenate((X,noise),axis=1)\n",
    "Y = np.concatenate((Y1,Y2),axis=0).reshape(-1)"
   ]
  },
  {
   "cell_type": "code",
   "execution_count": 6,
   "metadata": {},
   "outputs": [],
   "source": [
    "ground_truth = np.zeros((1000,50))\n",
    "ground_truth[:500,:2] = 1\n",
    "ground_truth[500:,2:4] = 1"
   ]
  },
  {
   "cell_type": "code",
   "execution_count": 7,
   "metadata": {},
   "outputs": [],
   "source": [
    "Y_onehot = convertToOneHot(Y.astype(int))"
   ]
  },
  {
   "cell_type": "code",
   "execution_count": 8,
   "metadata": {},
   "outputs": [],
   "source": [
    "y_g = np.concatenate((Y_onehot,ground_truth),axis=1)"
   ]
  },
  {
   "cell_type": "code",
   "execution_count": 9,
   "metadata": {},
   "outputs": [],
   "source": [
    "X_non_zeros=np.sum(X,axis=0)!=0\n",
    "XN=scipy.stats.zscore(X[:,X_non_zeros], axis=0)"
   ]
  },
  {
   "cell_type": "code",
   "execution_count": 10,
   "metadata": {},
   "outputs": [
    {
     "data": {
      "text/plain": [
       "(50,)"
      ]
     },
     "execution_count": 10,
     "metadata": {},
     "output_type": "execute_result"
    }
   ],
   "source": [
    "X_non_zeros.shape"
   ]
  },
  {
   "cell_type": "code",
   "execution_count": 11,
   "metadata": {},
   "outputs": [],
   "source": [
    "x_train,x_test,y_g_train,y_g_test = train_test_split(XN,y_g,train_size=0.95,random_state=34)\n",
    "x_train,x_valid,y_g_train,y_g_valid = train_test_split(x_train,y_g_train,test_size=0.1,random_state=34)"
   ]
  },
  {
   "cell_type": "code",
   "execution_count": 12,
   "metadata": {},
   "outputs": [],
   "source": [
    "y_train = y_g_train[:,:2]\n",
    "y_valid = y_g_valid[:,:2]\n",
    "y_test = y_g_test[:,:2]"
   ]
  },
  {
   "cell_type": "code",
   "execution_count": 13,
   "metadata": {},
   "outputs": [],
   "source": [
    "g_train = y_g_train[:,2:]\n",
    "g_valid = y_g_valid[:,2:]\n",
    "g_test = y_g_test[:,2:]"
   ]
  },
  {
   "cell_type": "code",
   "execution_count": 14,
   "metadata": {},
   "outputs": [],
   "source": [
    "dataset = DataSet(**{'_data':x_train, '_labels':y_train,\n",
    "                '_valid_data':x_valid, '_valid_labels':y_valid,\n",
    "                '_test_data':x_test, '_test_labels':y_test})"
   ]
  },
  {
   "cell_type": "markdown",
   "metadata": {},
   "source": [
    "### LSPIN"
   ]
  },
  {
   "cell_type": "code",
   "execution_count": 15,
   "metadata": {},
   "outputs": [],
   "source": [
    "# objective function for optuna hyper-parameter optimization\n",
    "def lspin_objective(trial):  \n",
    "    \n",
    "    global model\n",
    "            \n",
    "    params = {\n",
    "        \"input_node\" : x_train.shape[1],           # input dimension for the prediction network\n",
    "        \"hidden_layers_node\" : [200,200],          # number of nodes for each hidden layer of the prediction net\n",
    "        \"output_node\" : 2,                         # number of nodes for the output layer of the prediction net\n",
    "        \"feature_selection\" : True,                # if using the gating net\n",
    "        \"gating_net_hidden_layers_node\":[100,100], # number of nodes for each hidden layer of the gating net\n",
    "        \"display_step\" : 200,                      # number of epochs to output info      \n",
    "    }\n",
    "    params['activation']= 'tanh' # non-linear prediction\n",
    "    params['batch_size']= x_train.shape[0] \n",
    "    # hyper-parameter to optimize: lambda, learning rate, number of epochs\n",
    "    params['lam'] = trial.suggest_loguniform('lam',1.33,1.35) \n",
    "    params['learning_rate'] = trial.suggest_loguniform('learning_rate',0.03,0.05) \n",
    "    num_epoch = trial.suggest_categorical('num_epoch', [1000,1200])\n",
    "    \n",
    "    # specify the model with these parameters and train the model\n",
    "    model_dir = None\n",
    "    model = Model(**params)\n",
    "    train_acces, train_losses, val_acces, val_losses = model.train(trial, dataset, model_dir, num_epoch=num_epoch)\n",
    "        \n",
    "    val_acc, val_loss = model.evaluate(x_valid,y_valid)\n",
    "    print(\"In trial:---------------------\")    \n",
    "    loss=(1-val_acc)\n",
    "            \n",
    "    return loss\n",
    "        \n",
    "def callback(study,trial):\n",
    "    global best_model\n",
    "    if study.best_trial == trial:\n",
    "        best_model = model"
   ]
  },
  {
   "cell_type": "code",
   "execution_count": 16,
   "metadata": {
    "scrolled": true
   },
   "outputs": [
    {
     "name": "stderr",
     "output_type": "stream",
     "text": [
      "\u001b[32m[I 2021-06-30 15:15:55,664]\u001b[0m A new study created in memory with name: no-name-e29b792d-6a25-4b58-81f2-d5a80b0225a1\u001b[0m\n"
     ]
    },
    {
     "name": "stdout",
     "output_type": "stream",
     "text": [
      "WARNING:tensorflow:From /.local/lib/python3.6/site-packages/lspin/lspin_model.py:52: The name tf.Session is deprecated. Please use tf.compat.v1.Session instead.\n",
      "\n",
      "WARNING:tensorflow:From /.local/lib/python3.6/site-packages/lspin/lspin_model.py:54: The name tf.placeholder is deprecated. Please use tf.compat.v1.placeholder instead.\n",
      "\n",
      "WARNING:tensorflow:From /.local/lib/python3.6/site-packages/lspin/lspin_model.py:70: The name tf.variable_scope is deprecated. Please use tf.compat.v1.variable_scope instead.\n",
      "\n",
      "WARNING:tensorflow:From /.local/lib/python3.6/site-packages/lspin/lspin_model.py:70: The name tf.AUTO_REUSE is deprecated. Please use tf.compat.v1.AUTO_REUSE instead.\n",
      "\n",
      "WARNING:tensorflow:From /.local/lib/python3.6/site-packages/lspin/lspin_model.py:71: The name tf.get_variable is deprecated. Please use tf.compat.v1.get_variable instead.\n",
      "\n",
      "WARNING:tensorflow:From /.local/lib/python3.6/site-packages/lspin/lspin_model.py:259: The name tf.random_normal is deprecated. Please use tf.random.normal instead.\n",
      "\n",
      "WARNING:tensorflow:From /.local/lib/python3.6/site-packages/lspin/lspin_model.py:107: batch_normalization (from tensorflow.python.layers.normalization) is deprecated and will be removed in a future version.\n",
      "Instructions for updating:\n",
      "Use keras.layers.BatchNormalization instead.  In particular, `tf.control_dependencies(tf.GraphKeys.UPDATE_OPS)` should not be used (consult the `tf.keras.layers.batch_normalization` documentation).\n",
      "WARNING:tensorflow:From /usr/local/lib/python3.6/dist-packages/tensorflow_core/python/layers/normalization.py:327: Layer.apply (from tensorflow.python.keras.engine.base_layer) is deprecated and will be removed in a future version.\n",
      "Instructions for updating:\n",
      "Please use `layer.__call__` method instead.\n",
      "WARNING:tensorflow:From /.local/lib/python3.6/site-packages/lspin/lspin_model.py:171: softmax_cross_entropy_with_logits (from tensorflow.python.ops.nn_ops) is deprecated and will be removed in a future version.\n",
      "Instructions for updating:\n",
      "\n",
      "Future major versions of TensorFlow will allow gradients to flow\n",
      "into the labels input on backprop by default.\n",
      "\n",
      "See `tf.nn.softmax_cross_entropy_with_logits_v2`.\n",
      "\n",
      "WARNING:tensorflow:From /.local/lib/python3.6/site-packages/lspin/lspin_model.py:179: The name tf.erf is deprecated. Please use tf.math.erf instead.\n",
      "\n",
      "WARNING:tensorflow:From /.local/lib/python3.6/site-packages/lspin/lspin_model.py:189: The name tf.get_collection is deprecated. Please use tf.compat.v1.get_collection instead.\n",
      "\n",
      "WARNING:tensorflow:From /.local/lib/python3.6/site-packages/lspin/lspin_model.py:189: The name tf.GraphKeys is deprecated. Please use tf.compat.v1.GraphKeys instead.\n",
      "\n",
      "WARNING:tensorflow:From /.local/lib/python3.6/site-packages/lspin/lspin_model.py:191: The name tf.train.GradientDescentOptimizer is deprecated. Please use tf.compat.v1.train.GradientDescentOptimizer instead.\n",
      "\n",
      "WARNING:tensorflow:From /usr/local/lib/python3.6/dist-packages/tensorflow_core/python/ops/math_grad.py:1424: where (from tensorflow.python.ops.array_ops) is deprecated and will be removed in a future version.\n",
      "Instructions for updating:\n",
      "Use tf.where in 2.0, which has the same broadcast rule as np.where\n",
      "WARNING:tensorflow:From /.local/lib/python3.6/site-packages/lspin/lspin_model.py:198: The name tf.global_variables_initializer is deprecated. Please use tf.compat.v1.global_variables_initializer instead.\n",
      "\n",
      "WARNING:tensorflow:From /.local/lib/python3.6/site-packages/lspin/lspin_model.py:199: The name tf.train.Saver is deprecated. Please use tf.compat.v1.train.Saver instead.\n",
      "\n",
      "WARNING:tensorflow:From /.local/lib/python3.6/site-packages/lspin/lspin_model.py:216: The name tf.set_random_seed is deprecated. Please use tf.compat.v1.set_random_seed instead.\n",
      "\n",
      "num_samples : 855\n",
      "Epoch: 200 train loss=1.259160519 valid loss= 1.547514439 valid acc= 0.610526323\n",
      "train reg_fs: 0.9232039451599121\n",
      "Epoch: 400 train loss=1.008005261 valid loss= 1.007211566 valid acc= 0.905263186\n",
      "train reg_fs: 0.7130903601646423\n",
      "Epoch: 600 train loss=0.729645848 valid loss= 0.660794556 valid acc= 0.926315784\n",
      "train reg_fs: 0.43162596225738525\n",
      "Epoch: 800 train loss=0.663473010 valid loss= 0.510551810 valid acc= 0.947368443\n",
      "train reg_fs: 0.3118478059768677\n"
     ]
    },
    {
     "name": "stderr",
     "output_type": "stream",
     "text": [
      "\u001b[32m[I 2021-06-30 15:16:04,480]\u001b[0m Trial 0 finished with value: 0.042105257511138916 and parameters: {'lam': 1.342006779968915, 'learning_rate': 0.038530786904334376, 'num_epoch': 1000}. Best is trial 0 with value: 0.042105257511138916.\u001b[0m\n"
     ]
    },
    {
     "name": "stdout",
     "output_type": "stream",
     "text": [
      "Epoch: 1000 train loss=0.602262855 valid loss= 0.479161531 valid acc= 0.957894742\n",
      "train reg_fs: 0.2837294936180115\n",
      "Optimization Finished!\n",
      "test loss: 0.5001273155212402, test acc: 0.9399999976158142\n",
      "test loss: 0.4791615307331085, test acc: 0.9578947424888611\n",
      "Saving model..\n",
      "In trial:---------------------\n",
      "num_samples : 855\n",
      "Epoch: 200 train loss=1.228336811 valid loss= 1.501558304 valid acc= 0.673684239\n",
      "train reg_fs: 0.8982646465301514\n",
      "Epoch: 400 train loss=0.854213595 valid loss= 0.831812143 valid acc= 0.894736826\n",
      "train reg_fs: 0.5454210042953491\n",
      "Epoch: 600 train loss=0.652399123 valid loss= 0.520138383 valid acc= 0.957894742\n",
      "train reg_fs: 0.32508817315101624\n",
      "Epoch: 800 train loss=0.608740151 valid loss= 0.472031265 valid acc= 0.968421042\n",
      "train reg_fs: 0.28472867608070374\n"
     ]
    },
    {
     "name": "stderr",
     "output_type": "stream",
     "text": [
      "\u001b[32m[I 2021-06-30 15:16:11,837]\u001b[0m Trial 1 finished with value: 0.042105257511138916 and parameters: {'lam': 1.3359391068805877, 'learning_rate': 0.04611800548802468, 'num_epoch': 1000}. Best is trial 0 with value: 0.042105257511138916.\u001b[0m\n"
     ]
    },
    {
     "name": "stdout",
     "output_type": "stream",
     "text": [
      "Epoch: 1000 train loss=0.583458662 valid loss= 0.464647472 valid acc= 0.957894742\n",
      "train reg_fs: 0.274225652217865\n",
      "Optimization Finished!\n",
      "test loss: 0.47442910075187683, test acc: 0.9599999785423279\n",
      "test loss: 0.46464747190475464, test acc: 0.9578947424888611\n",
      "Saving model..\n",
      "In trial:---------------------\n",
      "num_samples : 855\n",
      "Epoch: 200 train loss=1.406479120 valid loss= 1.592115641 valid acc= 0.642105281\n",
      "train reg_fs: 0.9848817586898804\n",
      "Epoch: 400 train loss=1.150762677 valid loss= 1.284080505 valid acc= 0.778947353\n",
      "train reg_fs: 0.8450086712837219\n",
      "Epoch: 600 train loss=0.901040256 valid loss= 0.894543886 valid acc= 0.947368443\n",
      "train reg_fs: 0.6232041120529175\n",
      "Epoch: 800 train loss=0.708288431 valid loss= 0.612215757 valid acc= 0.936842084\n",
      "train reg_fs: 0.3980051875114441\n"
     ]
    },
    {
     "name": "stderr",
     "output_type": "stream",
     "text": [
      "\u001b[32m[I 2021-06-30 15:16:19,260]\u001b[0m Trial 2 finished with value: 0.042105257511138916 and parameters: {'lam': 1.3364437055469722, 'learning_rate': 0.0302899702686382, 'num_epoch': 1000}. Best is trial 0 with value: 0.042105257511138916.\u001b[0m\n"
     ]
    },
    {
     "name": "stdout",
     "output_type": "stream",
     "text": [
      "Epoch: 1000 train loss=0.621665359 valid loss= 0.512828112 valid acc= 0.957894742\n",
      "train reg_fs: 0.31738635897636414\n",
      "Optimization Finished!\n",
      "test loss: 0.5324496030807495, test acc: 0.9200000166893005\n",
      "test loss: 0.5128281116485596, test acc: 0.9578947424888611\n",
      "Saving model..\n",
      "In trial:---------------------\n",
      "num_samples : 855\n",
      "Epoch: 200 train loss=1.191180825 valid loss= 1.489248395 valid acc= 0.694736838\n",
      "train reg_fs: 0.8900322318077087\n",
      "Epoch: 400 train loss=0.800500572 valid loss= 0.764142931 valid acc= 0.915789485\n",
      "train reg_fs: 0.5093992352485657\n",
      "Epoch: 600 train loss=0.624150872 valid loss= 0.534852743 valid acc= 0.947368443\n",
      "train reg_fs: 0.3107636570930481\n",
      "Epoch: 800 train loss=0.594873488 valid loss= 0.523015559 valid acc= 0.957894742\n",
      "train reg_fs: 0.28017929196357727\n"
     ]
    },
    {
     "name": "stderr",
     "output_type": "stream",
     "text": [
      "\u001b[32m[I 2021-06-30 15:16:26,967]\u001b[0m Trial 3 finished with value: 0.042105257511138916 and parameters: {'lam': 1.349999812938492, 'learning_rate': 0.04996064986214312, 'num_epoch': 1000}. Best is trial 0 with value: 0.042105257511138916.\u001b[0m\n"
     ]
    },
    {
     "name": "stdout",
     "output_type": "stream",
     "text": [
      "Epoch: 1000 train loss=0.568858385 valid loss= 0.512241006 valid acc= 0.957894742\n",
      "train reg_fs: 0.27102094888687134\n",
      "Optimization Finished!\n",
      "test loss: 0.5129810571670532, test acc: 0.9599999785423279\n",
      "test loss: 0.512241005897522, test acc: 0.9578947424888611\n",
      "Saving model..\n",
      "In trial:---------------------\n",
      "num_samples : 855\n",
      "Epoch: 200 train loss=1.404285312 valid loss= 1.647422314 valid acc= 0.631578922\n",
      "train reg_fs: 0.9825489521026611\n",
      "Epoch: 400 train loss=1.148612380 valid loss= 1.214433312 valid acc= 0.831578970\n",
      "train reg_fs: 0.8269355297088623\n",
      "Epoch: 600 train loss=0.898676157 valid loss= 0.827345967 valid acc= 0.926315784\n",
      "train reg_fs: 0.575130820274353\n",
      "Epoch: 800 train loss=0.698701143 valid loss= 0.570089817 valid acc= 0.936842084\n",
      "train reg_fs: 0.36355775594711304\n"
     ]
    },
    {
     "name": "stderr",
     "output_type": "stream",
     "text": [
      "\u001b[32m[I 2021-06-30 15:16:34,691]\u001b[0m Trial 4 finished with value: 0.03157895803451538 and parameters: {'lam': 1.3411641908258738, 'learning_rate': 0.030612486252828107, 'num_epoch': 1000}. Best is trial 4 with value: 0.03157895803451538.\u001b[0m\n"
     ]
    },
    {
     "name": "stdout",
     "output_type": "stream",
     "text": [
      "Epoch: 1000 train loss=0.649905801 valid loss= 0.494270712 valid acc= 0.968421042\n",
      "train reg_fs: 0.30171680450439453\n",
      "Optimization Finished!\n",
      "test loss: 0.5059752464294434, test acc: 0.9599999785423279\n",
      "test loss: 0.4942707121372223, test acc: 0.9684210419654846\n",
      "Saving model..\n",
      "In trial:---------------------\n",
      "num_samples : 855\n",
      "Epoch: 200 train loss=1.298176050 valid loss= 1.616714239 valid acc= 0.610526323\n",
      "train reg_fs: 0.9311048984527588\n",
      "Epoch: 400 train loss=0.930920005 valid loss= 0.991977572 valid acc= 0.810526311\n",
      "train reg_fs: 0.6330304741859436\n",
      "Epoch: 600 train loss=0.650113523 valid loss= 0.566876769 valid acc= 0.926315784\n",
      "train reg_fs: 0.3490907847881317\n",
      "Epoch: 800 train loss=0.614413261 valid loss= 0.495047271 valid acc= 0.957894742\n",
      "train reg_fs: 0.29389384388923645\n"
     ]
    },
    {
     "name": "stderr",
     "output_type": "stream",
     "text": [
      "\u001b[32m[I 2021-06-30 15:16:42,286]\u001b[0m Trial 5 finished with value: 0.05263155698776245 and parameters: {'lam': 1.343853946730164, 'learning_rate': 0.042354137477841086, 'num_epoch': 1000}. Best is trial 4 with value: 0.03157895803451538.\u001b[0m\n"
     ]
    },
    {
     "name": "stdout",
     "output_type": "stream",
     "text": [
      "Epoch: 1000 train loss=0.605933189 valid loss= 0.483722508 valid acc= 0.947368443\n",
      "train reg_fs: 0.27830109000205994\n",
      "Optimization Finished!\n",
      "test loss: 0.52410489320755, test acc: 0.9200000166893005\n",
      "test loss: 0.4837225079536438, test acc: 0.9473684430122375\n",
      "Saving model..\n",
      "In trial:---------------------\n",
      "num_samples : 855\n",
      "Epoch: 200 train loss=1.227736831 valid loss= 1.560510278 valid acc= 0.652631581\n",
      "train reg_fs: 0.9284818172454834\n",
      "Epoch: 400 train loss=0.987392783 valid loss= 1.027312636 valid acc= 0.842105269\n",
      "train reg_fs: 0.7223008871078491\n",
      "Epoch: 600 train loss=0.749088883 valid loss= 0.646657526 valid acc= 0.957894742\n",
      "train reg_fs: 0.4264427721500397\n",
      "Epoch: 800 train loss=0.622673750 valid loss= 0.539942443 valid acc= 0.957894742\n",
      "train reg_fs: 0.31940633058547974\n"
     ]
    },
    {
     "name": "stderr",
     "output_type": "stream",
     "text": [
      "\u001b[32m[I 2021-06-30 15:16:49,910]\u001b[0m Trial 6 finished with value: 0.03157895803451538 and parameters: {'lam': 1.3411831931366256, 'learning_rate': 0.04852808573602967, 'num_epoch': 1000}. Best is trial 4 with value: 0.03157895803451538.\u001b[0m\n"
     ]
    },
    {
     "name": "stdout",
     "output_type": "stream",
     "text": [
      "Epoch: 1000 train loss=0.599249125 valid loss= 0.510762990 valid acc= 0.968421042\n",
      "train reg_fs: 0.2827635109424591\n",
      "Optimization Finished!\n",
      "test loss: 0.48223885893821716, test acc: 0.9599999785423279\n",
      "test loss: 0.5107629895210266, test acc: 0.9684210419654846\n",
      "Saving model..\n",
      "In trial:---------------------\n",
      "num_samples : 855\n",
      "Epoch: 200 train loss=1.312774658 valid loss= 1.602373004 valid acc= 0.631578922\n",
      "train reg_fs: 0.9524717926979065\n",
      "Epoch: 400 train loss=1.050531864 valid loss= 1.094789386 valid acc= 0.852631569\n",
      "train reg_fs: 0.767245888710022\n",
      "Epoch: 600 train loss=0.748357475 valid loss= 0.693533957 valid acc= 0.936842084\n",
      "train reg_fs: 0.4619521200656891\n",
      "Epoch: 800 train loss=0.655557513 valid loss= 0.517588913 valid acc= 0.957894742\n",
      "train reg_fs: 0.31738924980163574\n",
      "Epoch: 1000 train loss=0.629485369 valid loss= 0.486333847 valid acc= 0.968421042\n",
      "train reg_fs: 0.2855575382709503\n"
     ]
    },
    {
     "name": "stderr",
     "output_type": "stream",
     "text": [
      "\u001b[32m[I 2021-06-30 15:16:58,950]\u001b[0m Trial 7 finished with value: 0.042105257511138916 and parameters: {'lam': 1.3394055462332204, 'learning_rate': 0.03592061544755101, 'num_epoch': 1200}. Best is trial 4 with value: 0.03157895803451538.\u001b[0m\n"
     ]
    },
    {
     "name": "stdout",
     "output_type": "stream",
     "text": [
      "Epoch: 1200 train loss=0.580744684 valid loss= 0.480238616 valid acc= 0.957894742\n",
      "train reg_fs: 0.2747056186199188\n",
      "Optimization Finished!\n",
      "test loss: 0.4685354232788086, test acc: 0.9599999785423279\n",
      "test loss: 0.4802386164665222, test acc: 0.9578947424888611\n",
      "Saving model..\n",
      "In trial:---------------------\n",
      "num_samples : 855\n",
      "Epoch: 200 train loss=1.268035173 valid loss= 1.599132776 valid acc= 0.610526323\n",
      "train reg_fs: 0.9305226802825928\n",
      "Epoch: 400 train loss=0.959705353 valid loss= 0.981145084 valid acc= 0.894736826\n",
      "train reg_fs: 0.6885173320770264\n",
      "Epoch: 600 train loss=0.706171453 valid loss= 0.596878886 valid acc= 0.978947341\n",
      "train reg_fs: 0.40980926156044006\n",
      "Epoch: 800 train loss=0.650966525 valid loss= 0.500395775 valid acc= 0.978947341\n",
      "train reg_fs: 0.3121826946735382\n"
     ]
    },
    {
     "name": "stderr",
     "output_type": "stream",
     "text": [
      "\u001b[32m[I 2021-06-30 15:17:06,842]\u001b[0m Trial 8 finished with value: 0.05263155698776245 and parameters: {'lam': 1.3433046125524208, 'learning_rate': 0.0393780410774627, 'num_epoch': 1000}. Best is trial 4 with value: 0.03157895803451538.\u001b[0m\n"
     ]
    },
    {
     "name": "stdout",
     "output_type": "stream",
     "text": [
      "Epoch: 1000 train loss=0.592532992 valid loss= 0.482111096 valid acc= 0.947368443\n",
      "train reg_fs: 0.28469935059547424\n",
      "Optimization Finished!\n",
      "test loss: 0.48316842317581177, test acc: 0.9399999976158142\n",
      "test loss: 0.4821110963821411, test acc: 0.9473684430122375\n",
      "Saving model..\n",
      "In trial:---------------------\n",
      "num_samples : 855\n",
      "Epoch: 200 train loss=1.292147636 valid loss= 1.615460038 valid acc= 0.557894766\n",
      "train reg_fs: 0.939929723739624\n",
      "Epoch: 400 train loss=1.025847316 valid loss= 1.070688009 valid acc= 0.863157868\n",
      "train reg_fs: 0.7346184253692627\n",
      "Epoch: 600 train loss=0.741590202 valid loss= 0.629283547 valid acc= 0.947368443\n",
      "train reg_fs: 0.41268613934516907\n",
      "Epoch: 800 train loss=0.626742899 valid loss= 0.498299390 valid acc= 0.968421042\n",
      "train reg_fs: 0.30463746190071106\n",
      "Epoch: 1000 train loss=0.616921842 valid loss= 0.478080451 valid acc= 0.957894742\n",
      "train reg_fs: 0.2814018428325653\n"
     ]
    },
    {
     "name": "stderr",
     "output_type": "stream",
     "text": [
      "\u001b[32m[I 2021-06-30 15:17:15,825]\u001b[0m Trial 9 finished with value: 0.042105257511138916 and parameters: {'lam': 1.334815655460889, 'learning_rate': 0.03962475362695143, 'num_epoch': 1200}. Best is trial 4 with value: 0.03157895803451538.\u001b[0m\n"
     ]
    },
    {
     "name": "stdout",
     "output_type": "stream",
     "text": [
      "Epoch: 1200 train loss=0.586487651 valid loss= 0.466797650 valid acc= 0.957894742\n",
      "train reg_fs: 0.27255159616470337\n",
      "Optimization Finished!\n",
      "test loss: 0.46841976046562195, test acc: 0.9399999976158142\n",
      "test loss: 0.4667976498603821, test acc: 0.9578947424888611\n",
      "Saving model..\n",
      "In trial:---------------------\n",
      "num_samples : 855\n",
      "Epoch: 200 train loss=1.369912863 valid loss= 1.645016670 valid acc= 0.589473665\n",
      "train reg_fs: 0.9713201522827148\n",
      "Epoch: 400 train loss=1.136728764 valid loss= 1.212807655 valid acc= 0.789473712\n",
      "train reg_fs: 0.8444429636001587\n",
      "Epoch: 600 train loss=0.916053653 valid loss= 0.877973676 valid acc= 0.947368443\n",
      "train reg_fs: 0.6430167555809021\n",
      "Epoch: 800 train loss=0.735657573 valid loss= 0.618294835 valid acc= 0.947368443\n",
      "train reg_fs: 0.4107559323310852\n",
      "Epoch: 1000 train loss=0.635974765 valid loss= 0.507349372 valid acc= 0.968421042\n",
      "train reg_fs: 0.31394198536872864\n"
     ]
    },
    {
     "name": "stderr",
     "output_type": "stream",
     "text": [
      "\u001b[32m[I 2021-06-30 15:17:24,802]\u001b[0m Trial 10 finished with value: 0.021052658557891846 and parameters: {'lam': 1.3304434406568801, 'learning_rate': 0.03009577531126319, 'num_epoch': 1200}. Best is trial 10 with value: 0.021052658557891846.\u001b[0m\n"
     ]
    },
    {
     "name": "stdout",
     "output_type": "stream",
     "text": [
      "Epoch: 1200 train loss=0.574149668 valid loss= 0.474928290 valid acc= 0.978947341\n",
      "train reg_fs: 0.28742799162864685\n",
      "Optimization Finished!\n",
      "test loss: 0.48730266094207764, test acc: 0.9800000190734863\n",
      "test loss: 0.4749282896518707, test acc: 0.9789473414421082\n",
      "Saving model..\n",
      "In trial:---------------------\n",
      "num_samples : 855\n",
      "Epoch: 200 train loss=1.382699609 valid loss= 1.612343550 valid acc= 0.631578922\n",
      "train reg_fs: 0.9606497883796692\n",
      "Epoch: 400 train loss=1.123662114 valid loss= 1.206386328 valid acc= 0.821052611\n",
      "train reg_fs: 0.8108639121055603\n",
      "Epoch: 600 train loss=0.906556726 valid loss= 0.866448939 valid acc= 0.926315784\n",
      "train reg_fs: 0.6149004697799683\n",
      "Epoch: 800 train loss=0.697420955 valid loss= 0.611814201 valid acc= 0.947368443\n",
      "train reg_fs: 0.39475634694099426\n",
      "Epoch: 1000 train loss=0.647097945 valid loss= 0.514909625 valid acc= 0.947368443\n",
      "train reg_fs: 0.3126424252986908\n"
     ]
    },
    {
     "name": "stderr",
     "output_type": "stream",
     "text": [
      "\u001b[32m[I 2021-06-30 15:17:33,719]\u001b[0m Trial 11 finished with value: 0.042105257511138916 and parameters: {'lam': 1.331684072510318, 'learning_rate': 0.030072091746881142, 'num_epoch': 1200}. Best is trial 10 with value: 0.021052658557891846.\u001b[0m\n"
     ]
    },
    {
     "name": "stdout",
     "output_type": "stream",
     "text": [
      "Epoch: 1200 train loss=0.630606532 valid loss= 0.489762068 valid acc= 0.957894742\n",
      "train reg_fs: 0.28962910175323486\n",
      "Optimization Finished!\n",
      "test loss: 0.5065842866897583, test acc: 0.9200000166893005\n",
      "test loss: 0.4897620677947998, test acc: 0.9578947424888611\n",
      "Saving model..\n",
      "In trial:---------------------\n",
      "num_samples : 855\n",
      "Epoch: 200 train loss=1.376428843 valid loss= 1.617213488 valid acc= 0.631578922\n",
      "train reg_fs: 0.9827612638473511\n",
      "Epoch: 400 train loss=1.125450015 valid loss= 1.219600439 valid acc= 0.810526311\n",
      "train reg_fs: 0.8225691914558411\n",
      "Epoch: 600 train loss=0.836628795 valid loss= 0.796825826 valid acc= 0.936842084\n",
      "train reg_fs: 0.5509284734725952\n",
      "Epoch: 800 train loss=0.673471808 valid loss= 0.561954916 valid acc= 0.947368443\n",
      "train reg_fs: 0.35961809754371643\n",
      "Epoch: 1000 train loss=0.607801080 valid loss= 0.509690642 valid acc= 0.957894742\n",
      "train reg_fs: 0.3005325198173523\n"
     ]
    },
    {
     "name": "stderr",
     "output_type": "stream",
     "text": [
      "\u001b[32m[I 2021-06-30 15:17:42,690]\u001b[0m Trial 12 finished with value: 0.0736842155456543 and parameters: {'lam': 1.3470415206582773, 'learning_rate': 0.03342040649819926, 'num_epoch': 1200}. Best is trial 10 with value: 0.021052658557891846.\u001b[0m\n"
     ]
    },
    {
     "name": "stdout",
     "output_type": "stream",
     "text": [
      "Epoch: 1200 train loss=0.589335263 valid loss= 0.497843862 valid acc= 0.926315784\n",
      "train reg_fs: 0.2832173705101013\n",
      "Optimization Finished!\n",
      "test loss: 0.5074743032455444, test acc: 0.9399999976158142\n",
      "test loss: 0.497843861579895, test acc: 0.9263157844543457\n",
      "Saving model..\n",
      "In trial:---------------------\n",
      "num_samples : 855\n",
      "Epoch: 200 train loss=1.341206551 valid loss= 1.630692720 valid acc= 0.547368407\n",
      "train reg_fs: 0.9519316554069519\n",
      "Epoch: 400 train loss=1.089474559 valid loss= 1.164586782 valid acc= 0.852631569\n",
      "train reg_fs: 0.7760950922966003\n",
      "Epoch: 600 train loss=0.805486560 valid loss= 0.754137516 valid acc= 0.947368443\n",
      "train reg_fs: 0.49493876099586487\n",
      "Epoch: 800 train loss=0.650902152 valid loss= 0.551052928 valid acc= 0.947368443\n",
      "train reg_fs: 0.33584263920783997\n",
      "Epoch: 1000 train loss=0.609616220 valid loss= 0.519516945 valid acc= 0.936842084\n",
      "train reg_fs: 0.2943539321422577\n"
     ]
    },
    {
     "name": "stderr",
     "output_type": "stream",
     "text": [
      "\u001b[32m[I 2021-06-30 15:17:52,053]\u001b[0m Trial 13 finished with value: 0.05263155698776245 and parameters: {'lam': 1.3310396451579927, 'learning_rate': 0.03257309578681142, 'num_epoch': 1200}. Best is trial 10 with value: 0.021052658557891846.\u001b[0m\n"
     ]
    },
    {
     "name": "stdout",
     "output_type": "stream",
     "text": [
      "Epoch: 1200 train loss=0.569893420 valid loss= 0.509879708 valid acc= 0.947368443\n",
      "train reg_fs: 0.2768692970275879\n",
      "Optimization Finished!\n",
      "test loss: 0.4866233170032501, test acc: 0.9399999976158142\n",
      "test loss: 0.5098797082901001, test acc: 0.9473684430122375\n",
      "Saving model..\n",
      "In trial:---------------------\n",
      "num_samples : 855\n",
      "Epoch: 200 train loss=1.370140791 valid loss= 1.650060415 valid acc= 0.568421066\n",
      "train reg_fs: 0.9544336199760437\n",
      "Epoch: 400 train loss=1.061377287 valid loss= 1.160006642 valid acc= 0.800000012\n",
      "train reg_fs: 0.7558267712593079\n",
      "Epoch: 600 train loss=0.751165748 valid loss= 0.693905234 valid acc= 0.936842084\n",
      "train reg_fs: 0.45005545020103455\n",
      "Epoch: 800 train loss=0.653781652 valid loss= 0.524070084 valid acc= 0.947368443\n",
      "train reg_fs: 0.32020092010498047\n",
      "Epoch: 1000 train loss=0.614911914 valid loss= 0.481855035 valid acc= 0.957894742\n",
      "train reg_fs: 0.2877730131149292\n"
     ]
    },
    {
     "name": "stderr",
     "output_type": "stream",
     "text": [
      "\u001b[32m[I 2021-06-30 15:18:01,011]\u001b[0m Trial 14 finished with value: 0.042105257511138916 and parameters: {'lam': 1.3388965923176113, 'learning_rate': 0.03216362351526932, 'num_epoch': 1200}. Best is trial 10 with value: 0.021052658557891846.\u001b[0m\n"
     ]
    },
    {
     "name": "stdout",
     "output_type": "stream",
     "text": [
      "Epoch: 1200 train loss=0.588194489 valid loss= 0.471443534 valid acc= 0.957894742\n",
      "train reg_fs: 0.27671846747398376\n",
      "Optimization Finished!\n",
      "test loss: 0.4767344892024994, test acc: 0.9399999976158142\n",
      "test loss: 0.4714435338973999, test acc: 0.9578947424888611\n",
      "Saving model..\n",
      "In trial:---------------------\n",
      "num_samples : 855\n",
      "Epoch: 200 train loss=1.409141779 valid loss= 1.603806376 valid acc= 0.652631581\n",
      "train reg_fs: 0.9863489866256714\n",
      "Epoch: 400 train loss=1.129574060 valid loss= 1.207584858 valid acc= 0.863157868\n",
      "train reg_fs: 0.8483014702796936\n",
      "Epoch: 600 train loss=0.932049870 valid loss= 0.872527003 valid acc= 0.947368443\n",
      "train reg_fs: 0.6386035680770874\n",
      "Epoch: 800 train loss=0.725249171 valid loss= 0.635054052 valid acc= 0.947368443\n",
      "train reg_fs: 0.4165358543395996\n",
      "Epoch: 1000 train loss=0.621792495 valid loss= 0.540043294 valid acc= 0.968421042\n",
      "train reg_fs: 0.32869064807891846\n"
     ]
    },
    {
     "name": "stderr",
     "output_type": "stream",
     "text": [
      "\u001b[32m[I 2021-06-30 15:18:10,141]\u001b[0m Trial 15 finished with value: 0.042105257511138916 and parameters: {'lam': 1.3446592938066169, 'learning_rate': 0.03004508453332398, 'num_epoch': 1200}. Best is trial 10 with value: 0.021052658557891846.\u001b[0m\n"
     ]
    },
    {
     "name": "stdout",
     "output_type": "stream",
     "text": [
      "Epoch: 1200 train loss=0.588914633 valid loss= 0.487011105 valid acc= 0.957894742\n",
      "train reg_fs: 0.29441365599632263\n",
      "Optimization Finished!\n",
      "test loss: 0.5088893175125122, test acc: 0.9399999976158142\n",
      "test loss: 0.4870111048221588, test acc: 0.9578947424888611\n",
      "Saving model..\n",
      "In trial:---------------------\n",
      "num_samples : 855\n",
      "Epoch: 200 train loss=1.302776217 valid loss= 1.615385532 valid acc= 0.621052623\n",
      "train reg_fs: 0.9459099769592285\n",
      "Epoch: 400 train loss=1.054830790 valid loss= 1.052333117 valid acc= 0.873684227\n",
      "train reg_fs: 0.7483452558517456\n",
      "Epoch: 600 train loss=0.776410937 valid loss= 0.693356633 valid acc= 0.947368443\n",
      "train reg_fs: 0.4667244553565979\n",
      "Epoch: 800 train loss=0.655041337 valid loss= 0.530080080 valid acc= 0.968421042\n",
      "train reg_fs: 0.33972853422164917\n",
      "Epoch: 1000 train loss=0.610229731 valid loss= 0.484944165 valid acc= 0.957894742\n",
      "train reg_fs: 0.2980578541755676\n"
     ]
    },
    {
     "name": "stderr",
     "output_type": "stream",
     "text": [
      "\u001b[32m[I 2021-06-30 15:18:19,111]\u001b[0m Trial 16 finished with value: 0.042105257511138916 and parameters: {'lam': 1.333342444501154, 'learning_rate': 0.03442274367288076, 'num_epoch': 1200}. Best is trial 10 with value: 0.021052658557891846.\u001b[0m\n"
     ]
    },
    {
     "name": "stdout",
     "output_type": "stream",
     "text": [
      "Epoch: 1200 train loss=0.591233969 valid loss= 0.472528517 valid acc= 0.957894742\n",
      "train reg_fs: 0.28323668241500854\n",
      "Optimization Finished!\n",
      "test loss: 0.47563666105270386, test acc: 0.9800000190734863\n",
      "test loss: 0.47252851724624634, test acc: 0.9578947424888611\n",
      "Saving model..\n",
      "In trial:---------------------\n",
      "num_samples : 855\n",
      "Epoch: 200 train loss=1.372126937 valid loss= 1.587711811 valid acc= 0.631578922\n",
      "train reg_fs: 0.9642323851585388\n",
      "Epoch: 400 train loss=1.111517549 valid loss= 1.201499343 valid acc= 0.852631569\n",
      "train reg_fs: 0.8116798400878906\n",
      "Epoch: 600 train loss=0.882746339 valid loss= 0.869680464 valid acc= 0.873684227\n",
      "train reg_fs: 0.5817590355873108\n",
      "Epoch: 800 train loss=0.730177522 valid loss= 0.619530678 valid acc= 0.936842084\n",
      "train reg_fs: 0.39827877283096313\n"
     ]
    },
    {
     "name": "stderr",
     "output_type": "stream",
     "text": [
      "\u001b[32m[I 2021-06-30 15:18:26,889]\u001b[0m Trial 17 finished with value: 0.042105257511138916 and parameters: {'lam': 1.3379354422403351, 'learning_rate': 0.0312869524801197, 'num_epoch': 1000}. Best is trial 10 with value: 0.021052658557891846.\u001b[0m\n"
     ]
    },
    {
     "name": "stdout",
     "output_type": "stream",
     "text": [
      "Epoch: 1000 train loss=0.626332521 valid loss= 0.513537049 valid acc= 0.957894742\n",
      "train reg_fs: 0.3193507492542267\n",
      "Optimization Finished!\n",
      "test loss: 0.5316625833511353, test acc: 0.9399999976158142\n",
      "test loss: 0.5135370492935181, test acc: 0.9578947424888611\n",
      "Saving model..\n",
      "In trial:---------------------\n",
      "num_samples : 855\n",
      "Epoch: 200 train loss=1.346750021 valid loss= 1.642251492 valid acc= 0.600000024\n",
      "train reg_fs: 0.9535817503929138\n",
      "Epoch: 400 train loss=1.007004261 valid loss= 1.130001903 valid acc= 0.789473712\n",
      "train reg_fs: 0.7198790907859802\n",
      "Epoch: 600 train loss=0.728739858 valid loss= 0.660335898 valid acc= 0.926315784\n",
      "train reg_fs: 0.41109395027160645\n",
      "Epoch: 800 train loss=0.628322244 valid loss= 0.519014299 valid acc= 0.947368443\n",
      "train reg_fs: 0.307695209980011\n",
      "Epoch: 1000 train loss=0.606039286 valid loss= 0.489035428 valid acc= 0.957894742\n",
      "train reg_fs: 0.28421255946159363\n"
     ]
    },
    {
     "name": "stderr",
     "output_type": "stream",
     "text": [
      "\u001b[32m[I 2021-06-30 15:18:36,217]\u001b[0m Trial 18 finished with value: 0.03157895803451538 and parameters: {'lam': 1.3479977548470443, 'learning_rate': 0.035264719670417354, 'num_epoch': 1200}. Best is trial 10 with value: 0.021052658557891846.\u001b[0m\n"
     ]
    },
    {
     "name": "stdout",
     "output_type": "stream",
     "text": [
      "Epoch: 1200 train loss=0.575023413 valid loss= 0.471005976 valid acc= 0.968421042\n",
      "train reg_fs: 0.2753027379512787\n",
      "Optimization Finished!\n",
      "test loss: 0.4930962026119232, test acc: 0.9200000166893005\n",
      "test loss: 0.47100597620010376, test acc: 0.9684210419654846\n",
      "Saving model..\n",
      "In trial:---------------------\n",
      "num_samples : 855\n",
      "Epoch: 200 train loss=1.283929706 valid loss= 1.563724756 valid acc= 0.589473665\n",
      "train reg_fs: 0.9284371733665466\n",
      "Epoch: 400 train loss=1.005973577 valid loss= 0.992297769 valid acc= 0.905263186\n",
      "train reg_fs: 0.700556755065918\n",
      "Epoch: 600 train loss=0.722592831 valid loss= 0.615368009 valid acc= 0.947368443\n",
      "train reg_fs: 0.40107420086860657\n",
      "Epoch: 800 train loss=0.617810369 valid loss= 0.498662800 valid acc= 0.978947341\n",
      "train reg_fs: 0.3025791049003601\n",
      "Epoch: 1000 train loss=0.593167067 valid loss= 0.472234249 valid acc= 0.978947341\n",
      "train reg_fs: 0.2819666862487793\n"
     ]
    },
    {
     "name": "stderr",
     "output_type": "stream",
     "text": [
      "\u001b[32m[I 2021-06-30 15:18:45,203]\u001b[0m Trial 19 finished with value: 0.03157895803451538 and parameters: {'lam': 1.3493051537182426, 'learning_rate': 0.03661697168426751, 'num_epoch': 1200}. Best is trial 10 with value: 0.021052658557891846.\u001b[0m\n"
     ]
    },
    {
     "name": "stdout",
     "output_type": "stream",
     "text": [
      "Epoch: 1200 train loss=0.598595858 valid loss= 0.466337442 valid acc= 0.968421042\n",
      "train reg_fs: 0.2744970917701721\n",
      "Optimization Finished!\n",
      "test loss: 0.46693873405456543, test acc: 0.9800000190734863\n",
      "test loss: 0.4663374423980713, test acc: 0.9684210419654846\n",
      "Saving model..\n",
      "In trial:---------------------\n"
     ]
    }
   ],
   "source": [
    "# optimize the model via Optuna and obtain the best model with largest validation acc\n",
    "best_model = None\n",
    "model = None\n",
    "study = optuna.create_study(pruner=None)\n",
    "study.optimize(lspin_objective, n_trials=20, callbacks=[callback])"
   ]
  },
  {
   "cell_type": "code",
   "execution_count": 17,
   "metadata": {},
   "outputs": [],
   "source": [
    "# get the training gate matrix\n",
    "gate_mat_nonl=best_model.get_prob_alpha(x_train)"
   ]
  },
  {
   "cell_type": "code",
   "execution_count": 18,
   "metadata": {},
   "outputs": [
    {
     "name": "stdout",
     "output_type": "stream",
     "text": [
      "test loss: 0.48730266094207764, test acc: 0.9800000190734863\n",
      "Saving model..\n",
      "Trial Finished*************\n",
      "Best model's lambda: 1.3304434406568801\n",
      "Best model's learning rate: 0.03009577531126319\n",
      "Best model's num of epochs: 1200\n",
      "Test acc : 0.9800000190734863\n"
     ]
    }
   ],
   "source": [
    "best_lr = study.best_params['learning_rate']\n",
    "best_epoch = study.best_params['num_epoch']\n",
    "best_lam = study.best_params['lam']\n",
    "\n",
    "# test the best model\n",
    "test_acc, loss = best_model.evaluate(x_test,y_test)\n",
    "            \n",
    "print(\"Trial Finished*************\")\n",
    "print(\"Best model's lambda: {}\".format(best_lam))\n",
    "print(\"Best model's learning rate: {}\".format(best_lr))\n",
    "print(\"Best model's num of epochs: {}\".format(best_epoch))\n",
    "print(\"Test acc : {}\".format(test_acc))"
   ]
  },
  {
   "cell_type": "markdown",
   "metadata": {},
   "source": [
    "### Comparing the training gates to the ground truth"
   ]
  },
  {
   "cell_type": "code",
   "execution_count": 19,
   "metadata": {},
   "outputs": [],
   "source": [
    "cmap = cm.Blues \n",
    "bounds=[0,0.5,1]\n",
    "norm = colors.BoundaryNorm(bounds, cmap.N)\n",
    "\n",
    "title_size = 30\n",
    "xlabel_size = 35\n",
    "ylabel_size = 35\n",
    "xtick_size = 20\n",
    "ytick_size = 20\n",
    "bar_label_size = 20"
   ]
  },
  {
   "cell_type": "code",
   "execution_count": 20,
   "metadata": {},
   "outputs": [
    {
     "data": {
      "image/png": "[encoded data removed]",
      "text/plain": [
       "<Figure size 720x432 with 5 Axes>"
      ]
     },
     "metadata": {
      "needs_background": "light"
     },
     "output_type": "display_data"
    }
   ],
   "source": [
    "matplotlib.rc('xtick', labelsize=xtick_size) \n",
    "\n",
    "fig, axes = plt.subplots(1, 2, sharex=True,sharey=False,figsize=(10,6))\n",
    "\n",
    "fig.add_subplot(111, frameon=False)\n",
    "\n",
    "g_train_label = 1*(g_train[:,2] == 1)\n",
    "sorted_order_train = np.concatenate((np.where(g_train_label == 0)[0],np.where(g_train_label == 1)[0]))\n",
    "\n",
    "im1 = axes[0].imshow(g_train[sorted_order_train,:25],aspect='auto',cmap=cmap, norm=norm)\n",
    "axes[0].set_title(\"Ground Truth\",fontsize=title_size,fontweight=\"bold\")\n",
    "axes[0].set_xticks([0,1,2,3,9,14,19])\n",
    "axes[0].set_xticklabels([1,2,3,4,10,15,20],fontsize=xtick_size)\n",
    "axes[0].set_yticks([0,199,399,599,799])\n",
    "axes[0].set_yticklabels([1,200,400,600,800],fontsize=ytick_size)\n",
    "axes[0].set_ylabel(\"Sample Index\",fontsize=ylabel_size,labelpad=7)\n",
    "\n",
    "im3 = axes[1].imshow(gate_mat_nonl[sorted_order_train,:25],aspect='auto',cmap=cmap)\n",
    "axes[1].set_title(\"LSPIN\",fontsize=title_size,fontweight=\"bold\")\n",
    "axes[1].set_yticks([0,199,399,599,799])\n",
    "axes[1].set_yticklabels([1,200,400,600,800],fontsize=ytick_size)\n",
    "\n",
    "cbar = fig.colorbar(im1,ax=axes[0], cmap=cmap, norm=norm, boundaries=bounds, ticks=[0, 1])\n",
    "cbar.ax.tick_params(labelsize=bar_label_size)\n",
    "cbar = fig.colorbar(im3,ax=axes[1])\n",
    "cbar.ax.tick_params(labelsize=bar_label_size)\n",
    "\n",
    "plt.tick_params(labelcolor='none', top=False, bottom=False, left=False, right=False)\n",
    "plt.xlabel(\"Feature Index\",fontsize=xlabel_size)\n",
    "\n",
    "plt.tight_layout()"
   ]
  },
  {
   "cell_type": "code",
   "execution_count": 21,
   "metadata": {},
   "outputs": [
    {
     "name": "stdout",
     "output_type": "stream",
     "text": [
      "True Positive Rate: 0.9936\n"
     ]
    }
   ],
   "source": [
    "### TPR of the discoveries\n",
    "print(\"True Positive Rate: {:.4f}\".format(np.sum((g_train > 0) & (gate_mat_nonl >0))/np.sum(g_train > 0)))"
   ]
  },
  {
   "cell_type": "code",
   "execution_count": 22,
   "metadata": {},
   "outputs": [
    {
     "name": "stdout",
     "output_type": "stream",
     "text": [
      "False Discovery Rate: 0.0368\n"
     ]
    }
   ],
   "source": [
    "### FDR of the discoveries\n",
    "print(\"False Discovery Rate: {:.4f}\".format(np.sum((g_train ==0)&(gate_mat_nonl >0))/np.sum(gate_mat_nonl >0)))"
   ]
  },
  {
   "cell_type": "markdown",
   "metadata": {},
   "source": [
    "### Compare the test gates to the ground truth"
   ]
  },
  {
   "cell_type": "code",
   "execution_count": 23,
   "metadata": {},
   "outputs": [],
   "source": [
    "gate_mat_nonl_test = best_model.get_prob_alpha(x_test)"
   ]
  },
  {
   "cell_type": "code",
   "execution_count": 24,
   "metadata": {},
   "outputs": [
    {
     "data": {
      "image/png": "[encoded data removed]",
      "text/plain": [
       "<Figure size 720x432 with 5 Axes>"
      ]
     },
     "metadata": {
      "needs_background": "light"
     },
     "output_type": "display_data"
    }
   ],
   "source": [
    "fig, axes = plt.subplots(1, 2, sharex=True,sharey=False,figsize=(10,6))\n",
    "\n",
    "fig.add_subplot(111, frameon=False)\n",
    "\n",
    "g_test_label = 1*(g_test[:,2] == 1)\n",
    "sorted_order_test = np.concatenate((np.where(g_test_label == 0)[0],np.where(g_test_label == 1)[0]))\n",
    "\n",
    "im1 = axes[0].imshow(g_test[sorted_order_test,:25],aspect='auto',cmap=cmap, norm=norm)\n",
    "axes[0].set_title(\"Ground Truth\",fontsize=title_size,fontweight=\"bold\")\n",
    "axes[0].set_ylabel(\"Sample Index\",fontsize=ylabel_size,labelpad=20)\n",
    "axes[0].set_xticks([0,1,2,3,9,14,19])\n",
    "axes[0].set_xticklabels([1,2,3,4,10,15,20],fontsize=xtick_size)\n",
    "axes[0].set_yticks([0,19,39])\n",
    "axes[0].set_yticklabels([1,20,40],fontsize=ytick_size)\n",
    "\n",
    "im2 = axes[1].imshow(gate_mat_nonl_test[sorted_order_test,:25],aspect='auto',cmap=cmap)\n",
    "axes[1].set_title(\"LSPIN\",fontsize=title_size,fontweight=\"bold\")\n",
    "axes[1].set_yticks([0,19,39])\n",
    "axes[1].set_yticklabels([1,20,40],fontsize=ytick_size)\n",
    "\n",
    "cbar = fig.colorbar(im1,ax=axes[0], cmap=cmap, norm=norm, boundaries=bounds, ticks=[0, 1])\n",
    "cbar.ax.tick_params(labelsize=bar_label_size)\n",
    "cbar = fig.colorbar(im2,ax=axes[1])\n",
    "cbar.ax.tick_params(labelsize=bar_label_size)\n",
    "\n",
    "plt.tick_params(labelcolor='none', top=False, bottom=False, left=False, right=False)\n",
    "plt.xlabel(\"Feature Index\",fontsize=xlabel_size)\n",
    "plt.tight_layout()"
   ]
  },
  {
   "cell_type": "code",
   "execution_count": 25,
   "metadata": {},
   "outputs": [
    {
     "name": "stdout",
     "output_type": "stream",
     "text": [
      "True Positive Rate: 0.9900\n"
     ]
    }
   ],
   "source": [
    "### TPR\n",
    "print(\"True Positive Rate: {:.4f}\".format(np.sum((g_test > 0) & (gate_mat_nonl_test >0))/np.sum(g_test > 0)))"
   ]
  },
  {
   "cell_type": "code",
   "execution_count": 26,
   "metadata": {},
   "outputs": [
    {
     "name": "stdout",
     "output_type": "stream",
     "text": [
      "False Discovery Rate: 0.0294\n"
     ]
    }
   ],
   "source": [
    "### FDR:\n",
    "print(\"False Discovery Rate: {:.4f}\".format(np.sum((g_test ==0)&(gate_mat_nonl_test >0))/np.sum(gate_mat_nonl_test >0)))"
   ]
  }
 ],
 "metadata": {
  "kernelspec": {
   "display_name": "Python 3",
   "language": "python",
   "name": "python3"
  },
  "language_info": {
   "codemirror_mode": {
    "name": "ipython",
    "version": 3
   },
   "file_extension": ".py",
   "mimetype": "text/x-python",
   "name": "python",
   "nbconvert_exporter": "python",
   "pygments_lexer": "ipython3",
   "version": "3.6.9"
  }
 },
 "nbformat": 4,
 "nbformat_minor": 4
}
