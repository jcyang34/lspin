{
 "cells": [
  {
   "cell_type": "code",
   "execution_count": 1,
   "metadata": {},
   "outputs": [],
   "source": [
    "import numpy as np\n",
    "import scipy\n",
    "import sys\n",
    "import os\n",
    "import optuna\n",
    "\n",
    "from sklearn.model_selection import train_test_split\n",
    "from sklearn.metrics import mean_squared_error\n",
    "from sklearn.metrics import r2_score\n",
    "\n",
    "from lspin.lspin_model import Model\n",
    "from lspin.utils import DataSet\n",
    "\n",
    "from collections import Counter\n",
    "import matplotlib.pyplot as plt\n",
    "from matplotlib import cm,colors"
   ]
  },
  {
   "cell_type": "code",
   "execution_count": 2,
   "metadata": {},
   "outputs": [
    {
     "name": "stdout",
     "output_type": "stream",
     "text": [
      "Wed Jun  9 13:27:15 2021       \n",
      "+-----------------------------------------------------------------------------+\n",
      "| NVIDIA-SMI 418.87.01    Driver Version: 418.87.01    CUDA Version: 10.1     |\n",
      "|-------------------------------+----------------------+----------------------+\n",
      "| GPU  Name        Persistence-M| Bus-Id        Disp.A | Volatile Uncorr. ECC |\n",
      "| Fan  Temp  Perf  Pwr:Usage/Cap|         Memory-Usage | GPU-Util  Compute M. |\n",
      "|===============================+======================+======================|\n",
      "|   0  GeForce RTX 208...  Off  | 00000000:1A:00.0  On |                  N/A |\n",
      "| 29%   26C    P8    17W / 250W |     31MiB / 10988MiB |      0%      Default |\n",
      "+-------------------------------+----------------------+----------------------+\n",
      "|   1  GeForce RTX 208...  Off  | 00000000:1B:00.0 Off |                  N/A |\n",
      "| 29%   26C    P8    11W / 250W |  10644MiB / 10989MiB |      0%      Default |\n",
      "+-------------------------------+----------------------+----------------------+\n",
      "|   2  GeForce RTX 208...  Off  | 00000000:60:00.0 Off |                  N/A |\n",
      "| 29%   25C    P8    20W / 250W |  10644MiB / 10989MiB |      0%      Default |\n",
      "+-------------------------------+----------------------+----------------------+\n",
      "|   3  GeForce RTX 208...  Off  | 00000000:61:00.0 Off |                  N/A |\n",
      "| 29%   26C    P8    14W / 250W |      1MiB / 10989MiB |      0%      Default |\n",
      "+-------------------------------+----------------------+----------------------+\n",
      "|   4  GeForce RTX 208...  Off  | 00000000:B1:00.0 Off |                  N/A |\n",
      "| 29%   25C    P8     8W / 250W |      1MiB / 10989MiB |      0%      Default |\n",
      "+-------------------------------+----------------------+----------------------+\n",
      "|   5  GeForce RTX 208...  Off  | 00000000:B2:00.0 Off |                  N/A |\n",
      "| 29%   26C    P8    14W / 250W |      1MiB / 10989MiB |      0%      Default |\n",
      "+-------------------------------+----------------------+----------------------+\n",
      "|   6  GeForce RTX 208...  Off  | 00000000:DA:00.0 Off |                  N/A |\n",
      "| 29%   23C    P8    19W / 250W |      1MiB / 10989MiB |      0%      Default |\n",
      "+-------------------------------+----------------------+----------------------+\n",
      "|   7  GeForce RTX 208...  Off  | 00000000:DB:00.0 Off |                  N/A |\n",
      "| 31%   25C    P8    17W / 250W |      1MiB / 10989MiB |      0%      Default |\n",
      "+-------------------------------+----------------------+----------------------+\n",
      "                                                                               \n",
      "+-----------------------------------------------------------------------------+\n",
      "| Processes:                                                       GPU Memory |\n",
      "|  GPU       PID   Type   Process name                             Usage      |\n",
      "|=============================================================================|\n",
      "+-----------------------------------------------------------------------------+\n"
     ]
    }
   ],
   "source": [
    "!nvidia-smi"
   ]
  },
  {
   "cell_type": "code",
   "execution_count": 3,
   "metadata": {},
   "outputs": [],
   "source": [
    "os.environ['CUDA_VISIBLE_DEVICES'] = '0'"
   ]
  },
  {
   "cell_type": "markdown",
   "metadata": {},
   "source": [
    "### Linear synthetic data generation\n",
    "\n",
    "Group 1: $X$ ~ $N(1,0.5)$,  $Y = -2X_1 + X_2 - 0.5X_3$\n",
    "\n",
    "Group 2: $X$ ~ $N(-1,0.5)$, $Y = -0.5X_3 + X_4 - 2X_5$\n",
    "\n"
   ]
  },
  {
   "cell_type": "code",
   "execution_count": 4,
   "metadata": {},
   "outputs": [],
   "source": [
    "np.random.seed(34)\n",
    "\n",
    "Xs1 = np.random.normal(loc=1,scale=0.5,size=(300,5))\n",
    "Ys1 = -2*Xs1[:,0]+1*Xs1[:,1]-0.5*Xs1[:,2]\n",
    "\n",
    "Xs2 = np.random.normal(loc=-1,scale=0.5,size=(300,5))\n",
    "Ys2 = -0.5*Xs2[:,2]+1*Xs2[:,3]-2*Xs2[:,4]"
   ]
  },
  {
   "cell_type": "code",
   "execution_count": 5,
   "metadata": {},
   "outputs": [],
   "source": [
    "X_data = np.concatenate((Xs1,Xs2),axis=0)\n",
    "Y_data = np.concatenate((Ys1.reshape(-1,1),Ys2.reshape(-1,1)),axis=0)"
   ]
  },
  {
   "cell_type": "code",
   "execution_count": 6,
   "metadata": {},
   "outputs": [],
   "source": [
    "Y_data = Y_data-Y_data.min()\n",
    "Y_data=Y_data/Y_data.max()"
   ]
  },
  {
   "cell_type": "code",
   "execution_count": 7,
   "metadata": {},
   "outputs": [],
   "source": [
    "# The ground truth group label of each sample\n",
    "case_labels = np.concatenate((np.array([1]*300),np.array([2]*300)))"
   ]
  },
  {
   "cell_type": "code",
   "execution_count": 8,
   "metadata": {},
   "outputs": [],
   "source": [
    "Y_data = np.concatenate((Y_data,case_labels.reshape(-1,1)),axis=1)"
   ]
  },
  {
   "cell_type": "code",
   "execution_count": 9,
   "metadata": {},
   "outputs": [],
   "source": [
    "# 10% for validation, 10% for test \n",
    "X_train,X_remain,yc_train,yc_remain = train_test_split(X_data,Y_data,train_size=0.8,shuffle=True,random_state=34)\n",
    "X_valid,X_test,yc_valid,yc_test = train_test_split(X_remain,yc_remain,train_size=0.5,shuffle=True,random_state=34)"
   ]
  },
  {
   "cell_type": "code",
   "execution_count": 10,
   "metadata": {},
   "outputs": [],
   "source": [
    "# Only 10 samples used for training\n",
    "X_train,_,yc_train,_ = train_test_split(X_train,yc_train,train_size=10,shuffle=True,random_state=34)"
   ]
  },
  {
   "cell_type": "code",
   "execution_count": 11,
   "metadata": {},
   "outputs": [
    {
     "name": "stdout",
     "output_type": "stream",
     "text": [
      "Sample sizes:\n",
      "10 60 60\n"
     ]
    }
   ],
   "source": [
    "print(\"Sample sizes:\")\n",
    "print(X_train.shape[0],X_valid.shape[0],X_test.shape[0])"
   ]
  },
  {
   "cell_type": "code",
   "execution_count": 12,
   "metadata": {},
   "outputs": [],
   "source": [
    "y_train = yc_train[:,0].reshape(-1,1)\n",
    "y_valid = yc_valid[:,0].reshape(-1,1)\n",
    "y_test = yc_test[:,0].reshape(-1,1)"
   ]
  },
  {
   "cell_type": "code",
   "execution_count": 13,
   "metadata": {},
   "outputs": [],
   "source": [
    "train_label = yc_train[:,1]\n",
    "valid_label = yc_valid[:,1]\n",
    "test_label= yc_test[:,1]"
   ]
  },
  {
   "cell_type": "code",
   "execution_count": 14,
   "metadata": {},
   "outputs": [
    {
     "data": {
      "text/plain": [
       "Counter({2.0: 6, 1.0: 4})"
      ]
     },
     "execution_count": 14,
     "metadata": {},
     "output_type": "execute_result"
    }
   ],
   "source": [
    "Counter(train_label)"
   ]
  },
  {
   "cell_type": "code",
   "execution_count": 15,
   "metadata": {},
   "outputs": [
    {
     "data": {
      "text/plain": [
       "Counter({2.0: 29, 1.0: 31})"
      ]
     },
     "execution_count": 15,
     "metadata": {},
     "output_type": "execute_result"
    }
   ],
   "source": [
    "Counter(valid_label)"
   ]
  },
  {
   "cell_type": "code",
   "execution_count": 16,
   "metadata": {},
   "outputs": [],
   "source": [
    "dataset = DataSet(**{'_data':X_train, '_labels':y_train,\n",
    "                '_valid_data':X_valid, '_valid_labels':y_valid,\n",
    "                '_test_data':X_test, '_test_labels':y_test})"
   ]
  },
  {
   "cell_type": "code",
   "execution_count": 17,
   "metadata": {},
   "outputs": [],
   "source": [
    "# reference ground truth feature matrix (training/test)\n",
    "ref_feat_mat_train = np.array([[1,1,1,0,0] if label == 1 else [0,0,1,1,1] for label in train_label])\n",
    "ref_feat_mat_test = np.array([[1,1,1,0,0] if label == 1 else [0,0,1,1,1] for label in test_label])"
   ]
  },
  {
   "cell_type": "markdown",
   "metadata": {},
   "source": [
    "### LLSPIN"
   ]
  },
  {
   "cell_type": "code",
   "execution_count": 18,
   "metadata": {},
   "outputs": [],
   "source": [
    "# objective function for optuna hyper-parameter optimization\n",
    "def llspin_objective(trial):  \n",
    "    global model\n",
    "    \n",
    "    # hyper-parameter specification\n",
    "    params = {     \n",
    "        \"input_node\" : X_train.shape[1], # input dimension for the prediction network\n",
    "        \"hidden_layers_node\" : [100,100,10,1], # number of nodes for each hidden layer of the prediction net\n",
    "        \"output_node\" : 1, # number of nodes for the output layer of the prediction net\n",
    "        \"feature_selection\" : True, # if using the gating net\n",
    "        \"gating_net_hidden_layers_node\": [10], # number of nodes for each hidden layer of the gating net\n",
    "        \"display_step\" : 500 # number of epochs to output info\n",
    "    }\n",
    "    params['activation']= 'none' # linear prediction\n",
    "    params['batch_size']= X_train.shape[0]\n",
    "    \n",
    "    # hyper-parameter to optimize: lambda, learning rate, number of epochs\n",
    "    params['lam'] = trial.suggest_loguniform('lam',1e-3,1e-2)\n",
    "    params['learning_rate'] = trial.suggest_loguniform('learning_rate', 1e-2, 2e-1)\n",
    "    num_epoch = trial.suggest_categorical('num_epoch', [2000,5000,10000,15000])\n",
    "\n",
    "    # specify the model with these parameters and train the model\n",
    "    model_dir =None\n",
    "    model = Model(**params)\n",
    "    train_acces, train_losses, val_acces, val_losses = model.train(trial, dataset, model_dir, num_epoch=num_epoch)\n",
    "\n",
    "    print(\"In trial:---------------------\")\n",
    "    val_prediction = model.test(X_valid)[0]\n",
    "    mse = mean_squared_error(y_valid.reshape(-1),val_prediction.reshape(-1))\n",
    "    print(\"validation mse: {}\".format(mse))\n",
    "    \n",
    "    loss= mse\n",
    "            \n",
    "    return loss\n",
    "        \n",
    "def callback(study,trial):\n",
    "    global best_model\n",
    "    if study.best_trial == trial:\n",
    "        best_model = model"
   ]
  },
  {
   "cell_type": "code",
   "execution_count": null,
   "metadata": {
    "scrolled": true
   },
   "outputs": [
    {
     "name": "stderr",
     "output_type": "stream",
     "text": [
      "\u001b[32m[I 2021-06-09 13:27:32,527]\u001b[0m A new study created in memory with name: no-name-784631e1-8b80-409d-a4bb-04db67aaec09\u001b[0m\n"
     ]
    },
    {
     "name": "stdout",
     "output_type": "stream",
     "text": [
      "WARNING:tensorflow:From /.local/lib/python3.6/site-packages/lspin/lspin_model.py:52: The name tf.Session is deprecated. Please use tf.compat.v1.Session instead.\n",
      "\n",
      "WARNING:tensorflow:From /.local/lib/python3.6/site-packages/lspin/lspin_model.py:54: The name tf.placeholder is deprecated. Please use tf.compat.v1.placeholder instead.\n",
      "\n",
      "WARNING:tensorflow:From /.local/lib/python3.6/site-packages/lspin/lspin_model.py:70: The name tf.variable_scope is deprecated. Please use tf.compat.v1.variable_scope instead.\n",
      "\n",
      "WARNING:tensorflow:From /.local/lib/python3.6/site-packages/lspin/lspin_model.py:70: The name tf.AUTO_REUSE is deprecated. Please use tf.compat.v1.AUTO_REUSE instead.\n",
      "\n",
      "WARNING:tensorflow:From /.local/lib/python3.6/site-packages/lspin/lspin_model.py:71: The name tf.get_variable is deprecated. Please use tf.compat.v1.get_variable instead.\n",
      "\n",
      "WARNING:tensorflow:From /.local/lib/python3.6/site-packages/lspin/lspin_model.py:259: The name tf.random_normal is deprecated. Please use tf.random.normal instead.\n",
      "\n",
      "WARNING:tensorflow:From /.local/lib/python3.6/site-packages/lspin/lspin_model.py:107: batch_normalization (from tensorflow.python.layers.normalization) is deprecated and will be removed in a future version.\n",
      "Instructions for updating:\n",
      "Use keras.layers.BatchNormalization instead.  In particular, `tf.control_dependencies(tf.GraphKeys.UPDATE_OPS)` should not be used (consult the `tf.keras.layers.batch_normalization` documentation).\n",
      "WARNING:tensorflow:From /usr/local/lib/python3.6/dist-packages/tensorflow_core/python/layers/normalization.py:327: Layer.apply (from tensorflow.python.keras.engine.base_layer) is deprecated and will be removed in a future version.\n",
      "Instructions for updating:\n",
      "Please use `layer.__call__` method instead.\n",
      "WARNING:tensorflow:From /.local/lib/python3.6/site-packages/lspin/lspin_model.py:139: The name tf.squared_difference is deprecated. Please use tf.math.squared_difference instead.\n",
      "\n",
      "WARNING:tensorflow:From /.local/lib/python3.6/site-packages/lspin/lspin_model.py:179: The name tf.erf is deprecated. Please use tf.math.erf instead.\n",
      "\n",
      "WARNING:tensorflow:From /.local/lib/python3.6/site-packages/lspin/lspin_model.py:189: The name tf.get_collection is deprecated. Please use tf.compat.v1.get_collection instead.\n",
      "\n",
      "WARNING:tensorflow:From /.local/lib/python3.6/site-packages/lspin/lspin_model.py:189: The name tf.GraphKeys is deprecated. Please use tf.compat.v1.GraphKeys instead.\n",
      "\n",
      "WARNING:tensorflow:From /.local/lib/python3.6/site-packages/lspin/lspin_model.py:191: The name tf.train.GradientDescentOptimizer is deprecated. Please use tf.compat.v1.train.GradientDescentOptimizer instead.\n",
      "\n",
      "WARNING:tensorflow:From /usr/local/lib/python3.6/dist-packages/tensorflow_core/python/ops/math_grad.py:1424: where (from tensorflow.python.ops.array_ops) is deprecated and will be removed in a future version.\n",
      "Instructions for updating:\n",
      "Use tf.where in 2.0, which has the same broadcast rule as np.where\n",
      "WARNING:tensorflow:From /.local/lib/python3.6/site-packages/lspin/lspin_model.py:198: The name tf.global_variables_initializer is deprecated. Please use tf.compat.v1.global_variables_initializer instead.\n",
      "\n",
      "WARNING:tensorflow:From /.local/lib/python3.6/site-packages/lspin/lspin_model.py:199: The name tf.train.Saver is deprecated. Please use tf.compat.v1.train.Saver instead.\n",
      "\n",
      "WARNING:tensorflow:From /.local/lib/python3.6/site-packages/lspin/lspin_model.py:216: The name tf.set_random_seed is deprecated. Please use tf.compat.v1.set_random_seed instead.\n",
      "\n",
      "num_samples : 10\n",
      "Epoch: 500 train loss=0.022313906 valid loss= 0.009770257\n",
      "train reg_fs: 0.003302376251667738\n",
      "Epoch: 1000 train loss=0.015723947 valid loss= 0.008784211\n",
      "train reg_fs: 0.003245599800720811\n",
      "Epoch: 1500 train loss=0.016275508 valid loss= 0.007534881\n",
      "train reg_fs: 0.0031389512587338686\n",
      "Epoch: 2000 train loss=0.005656354 valid loss= 0.006482915\n",
      "train reg_fs: 0.0030357043724507093\n",
      "Epoch: 2500 train loss=0.012758752 valid loss= 0.005750337\n",
      "train reg_fs: 0.0029370146803557873\n",
      "Epoch: 3000 train loss=0.006644018 valid loss= 0.005527750\n",
      "train reg_fs: 0.0028627817519009113\n",
      "Epoch: 3500 train loss=0.004157724 valid loss= 0.005195247\n",
      "train reg_fs: 0.0028136507607996464\n",
      "Epoch: 4000 train loss=0.007247763 valid loss= 0.005401418\n",
      "train reg_fs: 0.0027689621783792973\n",
      "Epoch: 4500 train loss=0.006990158 valid loss= 0.005594454\n",
      "train reg_fs: 0.002733649918809533\n",
      "Epoch: 5000 train loss=0.006580980 valid loss= 0.005718374\n",
      "train reg_fs: 0.0027005935553461313\n",
      "Epoch: 5500 train loss=0.008688191 valid loss= 0.005505720\n",
      "train reg_fs: 0.0026677967980504036\n",
      "Epoch: 6000 train loss=0.007209564 valid loss= 0.005096478\n",
      "train reg_fs: 0.0026391304563730955\n",
      "Epoch: 6500 train loss=0.005085456 valid loss= 0.005512546\n",
      "train reg_fs: 0.0026127747260034084\n",
      "Epoch: 7000 train loss=0.003098157 valid loss= 0.005343322\n",
      "train reg_fs: 0.0025868138764053583\n",
      "Epoch: 7500 train loss=0.004701263 valid loss= 0.004998397\n",
      "train reg_fs: 0.00256386399269104\n",
      "Epoch: 8000 train loss=0.003779721 valid loss= 0.004992690\n",
      "train reg_fs: 0.0025385417975485325\n",
      "Epoch: 8500 train loss=0.005822320 valid loss= 0.005287425\n",
      "train reg_fs: 0.0025111325085163116\n",
      "Epoch: 9000 train loss=0.005376459 valid loss= 0.004718935\n",
      "train reg_fs: 0.0024906634353101254\n",
      "Epoch: 9500 train loss=0.003450895 valid loss= 0.004578470\n",
      "train reg_fs: 0.0024673533625900745\n"
     ]
    },
    {
     "name": "stderr",
     "output_type": "stream",
     "text": [
      "\u001b[32m[I 2021-06-09 13:28:46,087]\u001b[0m Trial 0 finished with value: 0.0022523737829998535 and parameters: {'lam': 0.003883489637489512, 'learning_rate': 0.06439732977424069, 'num_epoch': 10000}. Best is trial 0 with value: 0.0022523737829998535.\u001b[0m\n"
     ]
    },
    {
     "name": "stdout",
     "output_type": "stream",
     "text": [
      "Epoch: 10000 train loss=0.005342162 valid loss= 0.004870072\n",
      "train reg_fs: 0.002445986494421959\n",
      "Optimization Finished!\n",
      "test loss: 0.005089527927339077, test acc: 1.0\n",
      "In trial:---------------------\n",
      "validation mse: 0.0022523737829998535\n",
      "num_samples : 10\n",
      "Epoch: 500 train loss=0.011207588 valid loss= 0.008126455\n",
      "train reg_fs: 0.0010521281510591507\n",
      "Epoch: 1000 train loss=0.003823173 valid loss= 0.007895250\n",
      "train reg_fs: 0.001070027006790042\n",
      "Epoch: 1500 train loss=0.008512949 valid loss= 0.006499665\n",
      "train reg_fs: 0.00108095514588058\n",
      "Epoch: 2000 train loss=0.004366301 valid loss= 0.006664342\n",
      "train reg_fs: 0.0010873962892219424\n",
      "Epoch: 2500 train loss=0.006327778 valid loss= 0.006871816\n",
      "train reg_fs: 0.0010895736049860716\n",
      "Epoch: 3000 train loss=0.007808583 valid loss= 0.007084729\n",
      "train reg_fs: 0.0010899240151047707\n",
      "Epoch: 3500 train loss=0.010074838 valid loss= 0.006538206\n",
      "train reg_fs: 0.0010879657929763198\n",
      "Epoch: 4000 train loss=0.004755164 valid loss= 0.006234311\n",
      "train reg_fs: 0.0010863622883334756\n",
      "Epoch: 4500 train loss=0.003423079 valid loss= 0.006996065\n",
      "train reg_fs: 0.0010827654041349888\n",
      "Epoch: 5000 train loss=0.005296282 valid loss= 0.006205704\n",
      "train reg_fs: 0.001079328591004014\n",
      "Epoch: 5500 train loss=0.002200036 valid loss= 0.006804271\n",
      "train reg_fs: 0.001076292246580124\n",
      "Epoch: 6000 train loss=0.008739052 valid loss= 0.005670757\n",
      "train reg_fs: 0.0010732405353337526\n",
      "Epoch: 6500 train loss=0.002066632 valid loss= 0.006377244\n",
      "train reg_fs: 0.0010692526120692492\n",
      "Epoch: 7000 train loss=0.003110480 valid loss= 0.006374889\n",
      "train reg_fs: 0.001067273085936904\n",
      "Epoch: 7500 train loss=0.002178618 valid loss= 0.006449254\n",
      "train reg_fs: 0.0010629155440256\n",
      "Epoch: 8000 train loss=0.004415568 valid loss= 0.006862075\n",
      "train reg_fs: 0.0010579873342067003\n",
      "Epoch: 8500 train loss=0.001953359 valid loss= 0.006815451\n",
      "train reg_fs: 0.0010556173510849476\n",
      "Epoch: 9000 train loss=0.003174661 valid loss= 0.006792835\n",
      "train reg_fs: 0.0010531385196372867\n",
      "Epoch: 9500 train loss=0.002537184 valid loss= 0.007373923\n",
      "train reg_fs: 0.0010493779554963112\n",
      "Epoch: 10000 train loss=0.003076615 valid loss= 0.007367904\n",
      "train reg_fs: 0.001045950106345117\n",
      "Epoch: 10500 train loss=0.003185786 valid loss= 0.007189060\n",
      "train reg_fs: 0.0010436117881909013\n",
      "Epoch: 11000 train loss=0.003175591 valid loss= 0.007640589\n",
      "train reg_fs: 0.0010408989619463682\n",
      "Epoch: 11500 train loss=0.003927635 valid loss= 0.007525941\n",
      "train reg_fs: 0.0010381945176050067\n",
      "Epoch: 12000 train loss=0.002963033 valid loss= 0.007607969\n",
      "train reg_fs: 0.001035011257044971\n",
      "Epoch: 12500 train loss=0.004177360 valid loss= 0.007668420\n",
      "train reg_fs: 0.0010312935337424278\n",
      "Epoch: 13000 train loss=0.001817481 valid loss= 0.007573043\n",
      "train reg_fs: 0.0010282488074153662\n",
      "Epoch: 13500 train loss=0.003044523 valid loss= 0.008248745\n",
      "train reg_fs: 0.0010274008382111788\n",
      "Epoch: 14000 train loss=0.004130257 valid loss= 0.008295565\n",
      "train reg_fs: 0.0010251188650727272\n",
      "Epoch: 14500 train loss=0.005383412 valid loss= 0.008095845\n",
      "train reg_fs: 0.0010224351426586509\n"
     ]
    },
    {
     "name": "stderr",
     "output_type": "stream",
     "text": [
      "\u001b[32m[I 2021-06-09 13:30:32,861]\u001b[0m Trial 1 finished with value: 0.007105216089030159 and parameters: {'lam': 0.0012219701594999547, 'learning_rate': 0.04338465595237179, 'num_epoch': 15000}. Best is trial 0 with value: 0.0022523737829998535.\u001b[0m\n"
     ]
    },
    {
     "name": "stdout",
     "output_type": "stream",
     "text": [
      "Epoch: 15000 train loss=0.003311180 valid loss= 0.008136822\n",
      "train reg_fs: 0.0010208827443420887\n",
      "Optimization Finished!\n",
      "test loss: 0.008139625191688538, test acc: 1.0\n",
      "In trial:---------------------\n",
      "validation mse: 0.007105216089030159\n",
      "num_samples : 10\n",
      "Epoch: 500 train loss=0.017387433 valid loss= 0.012356287\n",
      "train reg_fs: 0.0059558553621172905\n",
      "Epoch: 1000 train loss=0.013175860 valid loss= 0.012430336\n",
      "train reg_fs: 0.005838837940245867\n",
      "Epoch: 1500 train loss=0.009155419 valid loss= 0.010593643\n",
      "train reg_fs: 0.005645436234772205\n"
     ]
    },
    {
     "name": "stderr",
     "output_type": "stream",
     "text": [
      "\u001b[32m[I 2021-06-09 13:30:48,066]\u001b[0m Trial 2 finished with value: 0.003794714426014938 and parameters: {'lam': 0.007079986803505477, 'learning_rate': 0.048684454035950835, 'num_epoch': 2000}. Best is trial 0 with value: 0.0022523737829998535.\u001b[0m\n"
     ]
    },
    {
     "name": "stdout",
     "output_type": "stream",
     "text": [
      "Epoch: 2000 train loss=0.007604019 valid loss= 0.009384656\n",
      "train reg_fs: 0.005413692444562912\n",
      "Optimization Finished!\n",
      "test loss: 0.010324066504836082, test acc: 1.0\n",
      "In trial:---------------------\n",
      "validation mse: 0.003794714426014938\n",
      "num_samples : 10\n",
      "Epoch: 500 train loss=0.018944018 valid loss= 0.014900930\n",
      "train reg_fs: 0.008120614103972912\n",
      "Epoch: 1000 train loss=0.021567423 valid loss= 0.014174756\n",
      "train reg_fs: 0.008189311251044273\n",
      "Epoch: 1500 train loss=0.018139530 valid loss= 0.013414746\n",
      "train reg_fs: 0.00820611510425806\n",
      "Epoch: 2000 train loss=0.028834846 valid loss= 0.013178995\n",
      "train reg_fs: 0.008153011091053486\n",
      "Epoch: 2500 train loss=0.016683139 valid loss= 0.012477109\n",
      "train reg_fs: 0.008039404638111591\n",
      "Epoch: 3000 train loss=0.023624573 valid loss= 0.012232075\n",
      "train reg_fs: 0.007864437997341156\n",
      "Epoch: 3500 train loss=0.014490904 valid loss= 0.011532737\n",
      "train reg_fs: 0.00765744736418128\n",
      "Epoch: 4000 train loss=0.009002409 valid loss= 0.010617074\n",
      "train reg_fs: 0.007433295249938965\n",
      "Epoch: 4500 train loss=0.010652427 valid loss= 0.009890170\n",
      "train reg_fs: 0.007219878025352955\n",
      "Epoch: 5000 train loss=0.013505492 valid loss= 0.010065664\n",
      "train reg_fs: 0.00702772568911314\n",
      "Epoch: 5500 train loss=0.008318411 valid loss= 0.009755494\n",
      "train reg_fs: 0.006864455994218588\n",
      "Epoch: 6000 train loss=0.008380398 valid loss= 0.009255794\n",
      "train reg_fs: 0.006714562885463238\n",
      "Epoch: 6500 train loss=0.009541964 valid loss= 0.009100910\n",
      "train reg_fs: 0.006575731560587883\n",
      "Epoch: 7000 train loss=0.009140414 valid loss= 0.009154610\n",
      "train reg_fs: 0.006452837027609348\n",
      "Epoch: 7500 train loss=0.007203679 valid loss= 0.008350413\n",
      "train reg_fs: 0.006341550964862108\n",
      "Epoch: 8000 train loss=0.009114064 valid loss= 0.008712638\n",
      "train reg_fs: 0.0062448810786008835\n",
      "Epoch: 8500 train loss=0.012073605 valid loss= 0.008010426\n",
      "train reg_fs: 0.006159184966236353\n",
      "Epoch: 9000 train loss=0.009394640 valid loss= 0.008472815\n",
      "train reg_fs: 0.006084296852350235\n",
      "Epoch: 9500 train loss=0.009380179 valid loss= 0.008142972\n",
      "train reg_fs: 0.006020417436957359\n",
      "Epoch: 10000 train loss=0.007117347 valid loss= 0.007799185\n",
      "train reg_fs: 0.0059665534645318985\n",
      "Epoch: 10500 train loss=0.006748850 valid loss= 0.008011940\n",
      "train reg_fs: 0.005914428271353245\n",
      "Epoch: 11000 train loss=0.008792734 valid loss= 0.008148892\n",
      "train reg_fs: 0.005870608612895012\n",
      "Epoch: 11500 train loss=0.006978631 valid loss= 0.008300293\n",
      "train reg_fs: 0.005831101443618536\n",
      "Epoch: 12000 train loss=0.007797804 valid loss= 0.008059207\n",
      "train reg_fs: 0.005796415731310844\n",
      "Epoch: 12500 train loss=0.007366285 valid loss= 0.007484412\n",
      "train reg_fs: 0.005765543784946203\n",
      "Epoch: 13000 train loss=0.006890078 valid loss= 0.007641190\n",
      "train reg_fs: 0.005738831125199795\n",
      "Epoch: 13500 train loss=0.007081532 valid loss= 0.007696719\n",
      "train reg_fs: 0.005714054219424725\n",
      "Epoch: 14000 train loss=0.006544532 valid loss= 0.007426567\n",
      "train reg_fs: 0.005693015642464161\n",
      "Epoch: 14500 train loss=0.008033156 valid loss= 0.007535234\n",
      "train reg_fs: 0.0056737810373306274\n"
     ]
    },
    {
     "name": "stderr",
     "output_type": "stream",
     "text": [
      "\u001b[32m[I 2021-06-09 13:32:31,288]\u001b[0m Trial 3 finished with value: 0.0016990584191348224 and parameters: {'lam': 0.009541430683749332, 'learning_rate': 0.030779626709414948, 'num_epoch': 15000}. Best is trial 3 with value: 0.0016990584191348224.\u001b[0m\n"
     ]
    },
    {
     "name": "stdout",
     "output_type": "stream",
     "text": [
      "Epoch: 15000 train loss=0.006697439 valid loss= 0.007528402\n",
      "train reg_fs: 0.005656127817928791\n",
      "Optimization Finished!\n",
      "test loss: 0.007170992903411388, test acc: 1.0\n",
      "In trial:---------------------\n",
      "validation mse: 0.0016990584191348224\n",
      "num_samples : 10\n",
      "Epoch: 500 train loss=0.024861738 valid loss= 0.014797097\n",
      "train reg_fs: 0.007014403119683266\n",
      "Epoch: 1000 train loss=0.017193856 valid loss= 0.014263406\n",
      "train reg_fs: 0.007049694191664457\n",
      "Epoch: 1500 train loss=0.016437398 valid loss= 0.013317544\n",
      "train reg_fs: 0.007047083228826523\n",
      "Epoch: 2000 train loss=0.016257817 valid loss= 0.013072792\n",
      "train reg_fs: 0.007003327365964651\n",
      "Epoch: 2500 train loss=0.017399827 valid loss= 0.012551479\n",
      "train reg_fs: 0.006910430733114481\n",
      "Epoch: 3000 train loss=0.013549084 valid loss= 0.011813994\n",
      "train reg_fs: 0.0067959376610815525\n",
      "Epoch: 3500 train loss=0.011693019 valid loss= 0.011535782\n",
      "train reg_fs: 0.006676733028143644\n",
      "Epoch: 4000 train loss=0.010120342 valid loss= 0.010685699\n",
      "train reg_fs: 0.006563366856426001\n",
      "Epoch: 4500 train loss=0.012027713 valid loss= 0.010130553\n",
      "train reg_fs: 0.006457498297095299\n",
      "Epoch: 5000 train loss=0.009908592 valid loss= 0.009659043\n",
      "train reg_fs: 0.006348452530801296\n",
      "Epoch: 5500 train loss=0.012148719 valid loss= 0.009562229\n",
      "train reg_fs: 0.006249505095183849\n",
      "Epoch: 6000 train loss=0.007732848 valid loss= 0.009284511\n",
      "train reg_fs: 0.0061600529588758945\n",
      "Epoch: 6500 train loss=0.011025694 valid loss= 0.009344144\n",
      "train reg_fs: 0.006083810701966286\n",
      "Epoch: 7000 train loss=0.007356756 valid loss= 0.009579477\n",
      "train reg_fs: 0.006018131040036678\n",
      "Epoch: 7500 train loss=0.008181848 valid loss= 0.009398057\n",
      "train reg_fs: 0.005958443507552147\n",
      "Epoch: 8000 train loss=0.007026305 valid loss= 0.009660397\n",
      "train reg_fs: 0.005905311554670334\n",
      "Epoch: 8500 train loss=0.008368788 valid loss= 0.009508112\n",
      "train reg_fs: 0.0058541493490338326\n",
      "Epoch: 9000 train loss=0.015397396 valid loss= 0.009680770\n",
      "train reg_fs: 0.005809112451970577\n",
      "Epoch: 9500 train loss=0.006735555 valid loss= 0.009701384\n",
      "train reg_fs: 0.005769405979663134\n"
     ]
    },
    {
     "name": "stderr",
     "output_type": "stream",
     "text": [
      "\u001b[32m[I 2021-06-09 13:33:41,025]\u001b[0m Trial 4 finished with value: 0.0034220419690377236 and parameters: {'lam': 0.008285758060492502, 'learning_rate': 0.024021429904968226, 'num_epoch': 10000}. Best is trial 3 with value: 0.0016990584191348224.\u001b[0m\n"
     ]
    },
    {
     "name": "stdout",
     "output_type": "stream",
     "text": [
      "Epoch: 10000 train loss=0.011858592 valid loss= 0.009261000\n",
      "train reg_fs: 0.005729031283408403\n",
      "Optimization Finished!\n",
      "test loss: 0.010188571177423, test acc: 1.0\n",
      "In trial:---------------------\n",
      "validation mse: 0.0034220419690377236\n",
      "num_samples : 10\n",
      "Epoch: 500 train loss=0.027789928 valid loss= 0.008978786\n",
      "train reg_fs: 0.0028965631499886513\n",
      "Epoch: 1000 train loss=0.008774036 valid loss= 0.007018934\n",
      "train reg_fs: 0.00284218299202621\n",
      "Epoch: 1500 train loss=0.005881134 valid loss= 0.005660791\n",
      "train reg_fs: 0.002767748897895217\n",
      "Epoch: 2000 train loss=0.006470607 valid loss= 0.004884418\n",
      "train reg_fs: 0.002701239427551627\n",
      "Epoch: 2500 train loss=0.008612873 valid loss= 0.004919943\n",
      "train reg_fs: 0.0026639250572770834\n",
      "Epoch: 3000 train loss=0.004769850 valid loss= 0.004765563\n",
      "train reg_fs: 0.0026372664142400026\n",
      "Epoch: 3500 train loss=0.006681521 valid loss= 0.005078346\n",
      "train reg_fs: 0.002612611511722207\n",
      "Epoch: 4000 train loss=0.004065666 valid loss= 0.004758834\n",
      "train reg_fs: 0.002588660456240177\n",
      "Epoch: 4500 train loss=0.003222695 valid loss= 0.005353997\n",
      "train reg_fs: 0.002563566667959094\n",
      "Epoch: 5000 train loss=0.005680268 valid loss= 0.005026086\n",
      "train reg_fs: 0.002539954846724868\n",
      "Epoch: 5500 train loss=0.004350699 valid loss= 0.005037428\n",
      "train reg_fs: 0.0025125094689428806\n",
      "Epoch: 6000 train loss=0.004055910 valid loss= 0.004689080\n",
      "train reg_fs: 0.0024877910036593676\n",
      "Epoch: 6500 train loss=0.003147648 valid loss= 0.004778925\n",
      "train reg_fs: 0.0024625875521451235\n",
      "Epoch: 7000 train loss=0.003398188 valid loss= 0.004626164\n",
      "train reg_fs: 0.002435975708067417\n",
      "Epoch: 7500 train loss=0.005903116 valid loss= 0.004782625\n",
      "train reg_fs: 0.0024054846726357937\n",
      "Epoch: 8000 train loss=0.003172938 valid loss= 0.004695561\n",
      "train reg_fs: 0.0023692965041846037\n",
      "Epoch: 8500 train loss=0.003683535 valid loss= 0.004688231\n",
      "train reg_fs: 0.002338668331503868\n",
      "Epoch: 9000 train loss=0.003822181 valid loss= 0.004987126\n",
      "train reg_fs: 0.0023077488876879215\n",
      "Epoch: 9500 train loss=0.006013535 valid loss= 0.004753224\n",
      "train reg_fs: 0.002279731212183833\n"
     ]
    },
    {
     "name": "stderr",
     "output_type": "stream",
     "text": [
      "\u001b[32m[I 2021-06-09 13:34:51,565]\u001b[0m Trial 5 finished with value: 0.0025412223493337356 and parameters: {'lam': 0.003413846822414352, 'learning_rate': 0.056951130853022974, 'num_epoch': 10000}. Best is trial 3 with value: 0.0016990584191348224.\u001b[0m\n"
     ]
    },
    {
     "name": "stdout",
     "output_type": "stream",
     "text": [
      "Epoch: 10000 train loss=0.004261486 valid loss= 0.004778273\n",
      "train reg_fs: 0.0022542448714375496\n",
      "Optimization Finished!\n",
      "test loss: 0.0045815110206604, test acc: 1.0\n",
      "In trial:---------------------\n",
      "validation mse: 0.0025412223493337356\n",
      "num_samples : 10\n",
      "Epoch: 500 train loss=0.015354103 valid loss= 0.007966319\n",
      "train reg_fs: 0.0019508545519784093\n",
      "Epoch: 1000 train loss=0.008458465 valid loss= 0.008719478\n",
      "train reg_fs: 0.0019696648232638836\n",
      "Epoch: 1500 train loss=0.009116321 valid loss= 0.008373967\n",
      "train reg_fs: 0.001960398629307747\n"
     ]
    },
    {
     "name": "stderr",
     "output_type": "stream",
     "text": [
      "\u001b[32m[I 2021-06-09 13:35:06,862]\u001b[0m Trial 6 finished with value: 0.006288676575515568 and parameters: {'lam': 0.00224900334463563, 'learning_rate': 0.0641643768855399, 'num_epoch': 2000}. Best is trial 3 with value: 0.0016990584191348224.\u001b[0m\n"
     ]
    },
    {
     "name": "stdout",
     "output_type": "stream",
     "text": [
      "Epoch: 2000 train loss=0.010245584 valid loss= 0.008234105\n",
      "train reg_fs: 0.0019159348448738456\n",
      "Optimization Finished!\n",
      "test loss: 0.007846588268876076, test acc: 1.0\n",
      "In trial:---------------------\n",
      "validation mse: 0.006288676575515568\n",
      "num_samples : 10\n",
      "Epoch: 500 train loss=0.010267456 valid loss= 0.008337686\n",
      "train reg_fs: 0.0022187698632478714\n",
      "Epoch: 1000 train loss=0.007026777 valid loss= 0.008313911\n",
      "train reg_fs: 0.002109330613166094\n",
      "Epoch: 1500 train loss=0.004438032 valid loss= 0.006493642\n",
      "train reg_fs: 0.0020464593544602394\n"
     ]
    },
    {
     "name": "stderr",
     "output_type": "stream",
     "text": [
      "\u001b[32m[I 2021-06-09 13:35:21,975]\u001b[0m Trial 7 finished with value: 0.002789591403468627 and parameters: {'lam': 0.002522122519157233, 'learning_rate': 0.17897388395029834, 'num_epoch': 2000}. Best is trial 3 with value: 0.0016990584191348224.\u001b[0m\n"
     ]
    },
    {
     "name": "stdout",
     "output_type": "stream",
     "text": [
      "Epoch: 2000 train loss=0.003186711 valid loss= 0.004777455\n",
      "train reg_fs: 0.0019719803240150213\n",
      "Optimization Finished!\n",
      "test loss: 0.004667926579713821, test acc: 1.0\n",
      "In trial:---------------------\n",
      "validation mse: 0.002789591403468627\n",
      "num_samples : 10\n",
      "Epoch: 500 train loss=0.012916974 valid loss= 0.007179527\n",
      "train reg_fs: 0.0011633511167019606\n",
      "Epoch: 1000 train loss=0.003360679 valid loss= 0.007723641\n",
      "train reg_fs: 0.0011676725698634982\n",
      "Epoch: 1500 train loss=0.008074935 valid loss= 0.006767609\n",
      "train reg_fs: 0.001147391158156097\n",
      "Epoch: 2000 train loss=0.004318853 valid loss= 0.006120988\n",
      "train reg_fs: 0.0011223446344956756\n",
      "Epoch: 2500 train loss=0.006495896 valid loss= 0.004719510\n",
      "train reg_fs: 0.0011082309065386653\n",
      "Epoch: 3000 train loss=0.004945834 valid loss= 0.004520002\n",
      "train reg_fs: 0.0010965106775984168\n",
      "Epoch: 3500 train loss=0.003277320 valid loss= 0.004471404\n",
      "train reg_fs: 0.0010894987499341369\n",
      "Epoch: 4000 train loss=0.002662863 valid loss= 0.004647531\n",
      "train reg_fs: 0.0010816709836944938\n",
      "Epoch: 4500 train loss=0.003766306 valid loss= 0.005045983\n",
      "train reg_fs: 0.0010789178777486086\n",
      "Epoch: 5000 train loss=0.003093317 valid loss= 0.005250557\n",
      "train reg_fs: 0.00107175437733531\n",
      "Epoch: 5500 train loss=0.002256253 valid loss= 0.005722246\n",
      "train reg_fs: 0.001061736256815493\n",
      "Epoch: 6000 train loss=0.002400534 valid loss= 0.005668200\n",
      "train reg_fs: 0.0010566171258687973\n",
      "Epoch: 6500 train loss=0.006690932 valid loss= 0.005601620\n",
      "train reg_fs: 0.0010500813368707895\n",
      "Epoch: 7000 train loss=0.001889613 valid loss= 0.005820350\n",
      "train reg_fs: 0.001044146716594696\n",
      "Epoch: 7500 train loss=0.002393797 valid loss= 0.005687639\n",
      "train reg_fs: 0.0010386266512796283\n",
      "Epoch: 8000 train loss=0.003223659 valid loss= 0.006102057\n",
      "train reg_fs: 0.0010331227676942945\n",
      "Epoch: 8500 train loss=0.002552729 valid loss= 0.006290816\n",
      "train reg_fs: 0.0010285554453730583\n",
      "Epoch: 9000 train loss=0.002440709 valid loss= 0.006292540\n",
      "train reg_fs: 0.001019701361656189\n",
      "Epoch: 9500 train loss=0.002245787 valid loss= 0.006027158\n",
      "train reg_fs: 0.001014607260003686\n",
      "Epoch: 10000 train loss=0.001865801 valid loss= 0.006748949\n",
      "train reg_fs: 0.0010076714679598808\n",
      "Epoch: 10500 train loss=0.002852573 valid loss= 0.006472638\n",
      "train reg_fs: 0.001003494020551443\n",
      "Epoch: 11000 train loss=0.002322792 valid loss= 0.006764302\n",
      "train reg_fs: 0.0009935509879142046\n",
      "Epoch: 11500 train loss=0.002117495 valid loss= 0.006789387\n",
      "train reg_fs: 0.0009877056581899524\n",
      "Epoch: 12000 train loss=0.002765568 valid loss= 0.006579761\n",
      "train reg_fs: 0.0009773679776117206\n",
      "Epoch: 12500 train loss=0.004045908 valid loss= 0.006510003\n",
      "train reg_fs: 0.0009694891050457954\n",
      "Epoch: 13000 train loss=0.002554200 valid loss= 0.006621993\n",
      "train reg_fs: 0.0009635328897275031\n",
      "Epoch: 13500 train loss=0.002462751 valid loss= 0.006654330\n",
      "train reg_fs: 0.0009563294006511569\n",
      "Epoch: 14000 train loss=0.002165796 valid loss= 0.006533531\n",
      "train reg_fs: 0.0009472997044213116\n",
      "Epoch: 14500 train loss=0.001791443 valid loss= 0.007023208\n",
      "train reg_fs: 0.0009365064324811101\n"
     ]
    },
    {
     "name": "stderr",
     "output_type": "stream",
     "text": [
      "\u001b[32m[I 2021-06-09 13:37:05,480]\u001b[0m Trial 8 finished with value: 0.005587314618975505 and parameters: {'lam': 0.0013032658882896671, 'learning_rate': 0.13966780355159442, 'num_epoch': 15000}. Best is trial 3 with value: 0.0016990584191348224.\u001b[0m\n"
     ]
    },
    {
     "name": "stdout",
     "output_type": "stream",
     "text": [
      "Epoch: 15000 train loss=0.001743163 valid loss= 0.006542098\n",
      "train reg_fs: 0.0009277578792534769\n",
      "Optimization Finished!\n",
      "test loss: 0.006021247245371342, test acc: 1.0\n",
      "In trial:---------------------\n",
      "validation mse: 0.005587314618975505\n",
      "num_samples : 10\n",
      "Epoch: 500 train loss=0.014470300 valid loss= 0.011936891\n",
      "train reg_fs: 0.004041420295834541\n",
      "Epoch: 1000 train loss=0.011907851 valid loss= 0.011353906\n",
      "train reg_fs: 0.00406915508210659\n",
      "Epoch: 1500 train loss=0.011464285 valid loss= 0.010776605\n",
      "train reg_fs: 0.00408617127686739\n",
      "Epoch: 2000 train loss=0.011927523 valid loss= 0.011333328\n",
      "train reg_fs: 0.004098651930689812\n",
      "Epoch: 2500 train loss=0.016446758 valid loss= 0.010796323\n",
      "train reg_fs: 0.00410455884411931\n",
      "Epoch: 3000 train loss=0.015361741 valid loss= 0.010827194\n",
      "train reg_fs: 0.00410839868709445\n",
      "Epoch: 3500 train loss=0.029389277 valid loss= 0.011015773\n",
      "train reg_fs: 0.004105051979422569\n",
      "Epoch: 4000 train loss=0.016312290 valid loss= 0.010803182\n",
      "train reg_fs: 0.004093724302947521\n",
      "Epoch: 4500 train loss=0.014766091 valid loss= 0.010414314\n",
      "train reg_fs: 0.004077710676938295\n"
     ]
    },
    {
     "name": "stderr",
     "output_type": "stream",
     "text": [
      "\u001b[32m[I 2021-06-09 13:37:41,633]\u001b[0m Trial 9 finished with value: 0.006049237622819886 and parameters: {'lam': 0.004804618720994227, 'learning_rate': 0.013319706656756832, 'num_epoch': 5000}. Best is trial 3 with value: 0.0016990584191348224.\u001b[0m\n"
     ]
    },
    {
     "name": "stdout",
     "output_type": "stream",
     "text": [
      "Epoch: 5000 train loss=0.011205612 valid loss= 0.010173280\n",
      "train reg_fs: 0.004056781530380249\n",
      "Optimization Finished!\n",
      "test loss: 0.010970991104841232, test acc: 1.0\n",
      "In trial:---------------------\n",
      "validation mse: 0.006049237622819886\n",
      "num_samples : 10\n",
      "Epoch: 500 train loss=0.018530261 valid loss= 0.015829731\n",
      "train reg_fs: 0.007975614629685879\n",
      "Epoch: 1000 train loss=0.020023629 valid loss= 0.015210662\n",
      "train reg_fs: 0.008005167357623577\n",
      "Epoch: 1500 train loss=0.018161234 valid loss= 0.015226040\n",
      "train reg_fs: 0.008027114905416965\n",
      "Epoch: 2000 train loss=0.022322521 valid loss= 0.015051195\n",
      "train reg_fs: 0.008044459857046604\n",
      "Epoch: 2500 train loss=0.017160274 valid loss= 0.015126780\n",
      "train reg_fs: 0.008054251782596111\n",
      "Epoch: 3000 train loss=0.029047478 valid loss= 0.015261409\n",
      "train reg_fs: 0.008057145401835442\n",
      "Epoch: 3500 train loss=0.020682033 valid loss= 0.015037909\n",
      "train reg_fs: 0.008054112084209919\n",
      "Epoch: 4000 train loss=0.026348334 valid loss= 0.014601590\n",
      "train reg_fs: 0.00804367009550333\n",
      "Epoch: 4500 train loss=0.018320985 valid loss= 0.014360802\n",
      "train reg_fs: 0.008024266920983791\n",
      "Epoch: 5000 train loss=0.016504113 valid loss= 0.014215466\n",
      "train reg_fs: 0.007996311411261559\n",
      "Epoch: 5500 train loss=0.017330315 valid loss= 0.013937442\n",
      "train reg_fs: 0.007963086478412151\n",
      "Epoch: 6000 train loss=0.017870750 valid loss= 0.013878394\n",
      "train reg_fs: 0.007915429770946503\n",
      "Epoch: 6500 train loss=0.015020477 valid loss= 0.013655057\n",
      "train reg_fs: 0.007859093137085438\n",
      "Epoch: 7000 train loss=0.015611211 valid loss= 0.013543693\n",
      "train reg_fs: 0.0077943201176822186\n",
      "Epoch: 7500 train loss=0.020707076 valid loss= 0.013882793\n",
      "train reg_fs: 0.007723664864897728\n",
      "Epoch: 8000 train loss=0.017971175 valid loss= 0.013592767\n",
      "train reg_fs: 0.007652318570762873\n",
      "Epoch: 8500 train loss=0.014047353 valid loss= 0.012675552\n",
      "train reg_fs: 0.007579650264233351\n",
      "Epoch: 9000 train loss=0.013828006 valid loss= 0.012180654\n",
      "train reg_fs: 0.007504930254071951\n",
      "Epoch: 9500 train loss=0.019548398 valid loss= 0.012155382\n",
      "train reg_fs: 0.007427994627505541\n",
      "Epoch: 10000 train loss=0.015887529 valid loss= 0.012454433\n",
      "train reg_fs: 0.007348746992647648\n",
      "Epoch: 10500 train loss=0.012530936 valid loss= 0.011513101\n",
      "train reg_fs: 0.007273169234395027\n",
      "Epoch: 11000 train loss=0.012059852 valid loss= 0.011546764\n",
      "train reg_fs: 0.007193863857537508\n",
      "Epoch: 11500 train loss=0.010387364 valid loss= 0.010785343\n",
      "train reg_fs: 0.007112236227840185\n",
      "Epoch: 12000 train loss=0.011310760 valid loss= 0.010576769\n",
      "train reg_fs: 0.007033425848931074\n",
      "Epoch: 12500 train loss=0.011723371 valid loss= 0.010375663\n",
      "train reg_fs: 0.006955093704164028\n",
      "Epoch: 13000 train loss=0.009554829 valid loss= 0.010156168\n",
      "train reg_fs: 0.006876918952912092\n",
      "Epoch: 13500 train loss=0.011893275 valid loss= 0.010309072\n",
      "train reg_fs: 0.006804932840168476\n",
      "Epoch: 14000 train loss=0.012756166 valid loss= 0.010060786\n",
      "train reg_fs: 0.006735200062394142\n",
      "Epoch: 14500 train loss=0.010382887 valid loss= 0.010142816\n",
      "train reg_fs: 0.006667726207524538\n"
     ]
    },
    {
     "name": "stderr",
     "output_type": "stream",
     "text": [
      "\u001b[32m[I 2021-06-09 13:39:25,228]\u001b[0m Trial 10 finished with value: 0.0027883558920916776 and parameters: {'lam': 0.009473692887143153, 'learning_rate': 0.010371221546126439, 'num_epoch': 15000}. Best is trial 3 with value: 0.0016990584191348224.\u001b[0m\n"
     ]
    },
    {
     "name": "stdout",
     "output_type": "stream",
     "text": [
      "Epoch: 15000 train loss=0.010488868 valid loss= 0.009723995\n",
      "train reg_fs: 0.006605359259992838\n",
      "Optimization Finished!\n",
      "test loss: 0.010501702316105366, test acc: 1.0\n",
      "In trial:---------------------\n",
      "validation mse: 0.0027883558920916776\n",
      "num_samples : 10\n",
      "Epoch: 500 train loss=0.024820458 valid loss= 0.011059128\n",
      "train reg_fs: 0.004348983056843281\n",
      "Epoch: 1000 train loss=0.029960738 valid loss= 0.011043524\n",
      "train reg_fs: 0.004382821265608072\n",
      "Epoch: 1500 train loss=0.016669208 valid loss= 0.010733021\n",
      "train reg_fs: 0.00440139090642333\n",
      "Epoch: 2000 train loss=0.009818004 valid loss= 0.009897228\n",
      "train reg_fs: 0.00439168605953455\n",
      "Epoch: 2500 train loss=0.011455824 valid loss= 0.009763950\n",
      "train reg_fs: 0.004361046478152275\n",
      "Epoch: 3000 train loss=0.013476651 valid loss= 0.009599546\n",
      "train reg_fs: 0.004306818824261427\n",
      "Epoch: 3500 train loss=0.010924435 valid loss= 0.008782953\n",
      "train reg_fs: 0.00423829909414053\n",
      "Epoch: 4000 train loss=0.007413713 valid loss= 0.007827684\n",
      "train reg_fs: 0.004161665216088295\n",
      "Epoch: 4500 train loss=0.005739848 valid loss= 0.007435978\n",
      "train reg_fs: 0.0040937005542218685\n",
      "Epoch: 5000 train loss=0.007998543 valid loss= 0.007169413\n",
      "train reg_fs: 0.0040286025032401085\n",
      "Epoch: 5500 train loss=0.012540104 valid loss= 0.006845983\n",
      "train reg_fs: 0.003975190222263336\n",
      "Epoch: 6000 train loss=0.012928191 valid loss= 0.006796729\n",
      "train reg_fs: 0.003929048776626587\n",
      "Epoch: 6500 train loss=0.009280200 valid loss= 0.007005992\n",
      "train reg_fs: 0.003893661079928279\n",
      "Epoch: 7000 train loss=0.006717256 valid loss= 0.006839650\n",
      "train reg_fs: 0.0038617842365056276\n",
      "Epoch: 7500 train loss=0.006797674 valid loss= 0.007081455\n",
      "train reg_fs: 0.0038354673888534307\n",
      "Epoch: 8000 train loss=0.006162554 valid loss= 0.007256214\n",
      "train reg_fs: 0.003811002941802144\n",
      "Epoch: 8500 train loss=0.006173619 valid loss= 0.007270467\n",
      "train reg_fs: 0.003789136651903391\n",
      "Epoch: 9000 train loss=0.007230585 valid loss= 0.007115026\n",
      "train reg_fs: 0.0037676168140023947\n",
      "Epoch: 9500 train loss=0.004922424 valid loss= 0.006885970\n",
      "train reg_fs: 0.003745491849258542\n"
     ]
    },
    {
     "name": "stderr",
     "output_type": "stream",
     "text": [
      "\u001b[32m[I 2021-06-09 13:40:35,406]\u001b[0m Trial 11 finished with value: 0.0031884831563777417 and parameters: {'lam': 0.00511628072993654, 'learning_rate': 0.023565132603485268, 'num_epoch': 10000}. Best is trial 3 with value: 0.0016990584191348224.\u001b[0m\n"
     ]
    },
    {
     "name": "stdout",
     "output_type": "stream",
     "text": [
      "Epoch: 10000 train loss=0.009391947 valid loss= 0.006958700\n",
      "train reg_fs: 0.0037243987899273634\n",
      "Optimization Finished!\n",
      "test loss: 0.0071415589191019535, test acc: 1.0\n",
      "In trial:---------------------\n",
      "validation mse: 0.0031884831563777417\n",
      "num_samples : 10\n",
      "Epoch: 500 train loss=0.013220356 valid loss= 0.009411133\n",
      "train reg_fs: 0.004112581722438335\n",
      "Epoch: 1000 train loss=0.012628891 valid loss= 0.006065193\n",
      "train reg_fs: 0.003856116905808449\n",
      "Epoch: 1500 train loss=0.014070885 valid loss= 0.005261523\n",
      "train reg_fs: 0.003624584060162306\n",
      "Epoch: 2000 train loss=0.005332575 valid loss= 0.004899909\n",
      "train reg_fs: 0.003478668164461851\n",
      "Epoch: 2500 train loss=0.004616737 valid loss= 0.004947250\n",
      "train reg_fs: 0.0033622444607317448\n",
      "Epoch: 3000 train loss=0.007623914 valid loss= 0.004947599\n",
      "train reg_fs: 0.003271553898230195\n",
      "Epoch: 3500 train loss=0.006911887 valid loss= 0.005496927\n",
      "train reg_fs: 0.003201102837920189\n",
      "Epoch: 4000 train loss=0.008172883 valid loss= 0.005269810\n",
      "train reg_fs: 0.003146426286548376\n",
      "Epoch: 4500 train loss=0.004441109 valid loss= 0.004991807\n",
      "train reg_fs: 0.0031051526311784983\n"
     ]
    },
    {
     "name": "stderr",
     "output_type": "stream",
     "text": [
      "\u001b[32m[I 2021-06-09 13:41:10,668]\u001b[0m Trial 12 finished with value: 0.0017216452857893398 and parameters: {'lam': 0.005189101781718661, 'learning_rate': 0.09878003101488075, 'num_epoch': 5000}. Best is trial 3 with value: 0.0016990584191348224.\u001b[0m\n"
     ]
    },
    {
     "name": "stdout",
     "output_type": "stream",
     "text": [
      "Epoch: 5000 train loss=0.004570576 valid loss= 0.004934789\n",
      "train reg_fs: 0.0030762592796236277\n",
      "Optimization Finished!\n",
      "test loss: 0.006085921078920364, test acc: 1.0\n",
      "In trial:---------------------\n",
      "validation mse: 0.0017216452857893398\n",
      "num_samples : 10\n",
      "Epoch: 500 train loss=0.022765197 valid loss= 0.011972445\n",
      "train reg_fs: 0.005377051420509815\n",
      "Epoch: 1000 train loss=0.015342034 valid loss= 0.013146933\n",
      "train reg_fs: 0.005382683593779802\n",
      "Epoch: 1500 train loss=0.009916726 valid loss= 0.011016808\n",
      "train reg_fs: 0.005199277773499489\n",
      "Epoch: 2000 train loss=0.010954605 valid loss= 0.010059711\n",
      "train reg_fs: 0.005054736975580454\n",
      "Epoch: 2500 train loss=0.009614635 valid loss= 0.008488432\n",
      "train reg_fs: 0.0049189431592822075\n",
      "Epoch: 3000 train loss=0.006792231 valid loss= 0.007461427\n",
      "train reg_fs: 0.004737744107842445\n",
      "Epoch: 3500 train loss=0.017093495 valid loss= 0.007598844\n",
      "train reg_fs: 0.00454900786280632\n",
      "Epoch: 4000 train loss=0.006506638 valid loss= 0.007562861\n",
      "train reg_fs: 0.004383980296552181\n",
      "Epoch: 4500 train loss=0.005878154 valid loss= 0.007487018\n",
      "train reg_fs: 0.004228705074638128\n"
     ]
    },
    {
     "name": "stderr",
     "output_type": "stream",
     "text": [
      "\u001b[32m[I 2021-06-09 13:41:46,818]\u001b[0m Trial 13 finished with value: 0.0031986747739506218 and parameters: {'lam': 0.006095465005357707, 'learning_rate': 0.11199487062093659, 'num_epoch': 5000}. Best is trial 3 with value: 0.0016990584191348224.\u001b[0m\n"
     ]
    },
    {
     "name": "stdout",
     "output_type": "stream",
     "text": [
      "Epoch: 5000 train loss=0.006931276 valid loss= 0.007275349\n",
      "train reg_fs: 0.004092828836292028\n",
      "Optimization Finished!\n",
      "test loss: 0.0069700549356639385, test acc: 1.0\n",
      "In trial:---------------------\n",
      "validation mse: 0.0031986747739506218\n",
      "num_samples : 10\n",
      "Epoch: 500 train loss=0.014688170 valid loss= 0.015082756\n",
      "train reg_fs: 0.007335580885410309\n",
      "Epoch: 1000 train loss=0.018983610 valid loss= 0.014111740\n",
      "train reg_fs: 0.007351011969149113\n",
      "Epoch: 1500 train loss=0.016699476 valid loss= 0.014056543\n",
      "train reg_fs: 0.007325442973524332\n",
      "Epoch: 2000 train loss=0.010158769 valid loss= 0.013425866\n",
      "train reg_fs: 0.007239215541630983\n",
      "Epoch: 2500 train loss=0.011163300 valid loss= 0.013400493\n",
      "train reg_fs: 0.007107890211045742\n",
      "Epoch: 3000 train loss=0.014204999 valid loss= 0.012057475\n",
      "train reg_fs: 0.006972065661102533\n",
      "Epoch: 3500 train loss=0.015732404 valid loss= 0.011417655\n",
      "train reg_fs: 0.006818653549998999\n",
      "Epoch: 4000 train loss=0.010751817 valid loss= 0.010641359\n",
      "train reg_fs: 0.00666945381090045\n",
      "Epoch: 4500 train loss=0.012661353 valid loss= 0.010279874\n",
      "train reg_fs: 0.006507935933768749\n"
     ]
    },
    {
     "name": "stderr",
     "output_type": "stream",
     "text": [
      "\u001b[32m[I 2021-06-09 13:42:22,768]\u001b[0m Trial 14 finished with value: 0.0028495224630894493 and parameters: {'lam': 0.008714291798895234, 'learning_rate': 0.028298975888012803, 'num_epoch': 5000}. Best is trial 3 with value: 0.0016990584191348224.\u001b[0m\n"
     ]
    },
    {
     "name": "stdout",
     "output_type": "stream",
     "text": [
      "Epoch: 5000 train loss=0.010074891 valid loss= 0.009338413\n",
      "train reg_fs: 0.0063712699338793755\n",
      "Optimization Finished!\n",
      "test loss: 0.00973171554505825, test acc: 1.0\n",
      "In trial:---------------------\n",
      "validation mse: 0.0028495224630894493\n",
      "num_samples : 10\n",
      "Epoch: 500 train loss=0.012052828 valid loss= 0.013097459\n",
      "train reg_fs: 0.008172563277184963\n",
      "Epoch: 1000 train loss=0.013415048 valid loss= 0.012291252\n",
      "train reg_fs: 0.007381445728242397\n",
      "Epoch: 1500 train loss=0.016154628 valid loss= 0.010038085\n",
      "train reg_fs: 0.00663731899112463\n",
      "Epoch: 2000 train loss=0.010465188 valid loss= 0.008831480\n",
      "train reg_fs: 0.006251682061702013\n",
      "Epoch: 2500 train loss=0.011745486 valid loss= 0.008289748\n",
      "train reg_fs: 0.005974174477159977\n",
      "Epoch: 3000 train loss=0.010932090 valid loss= 0.008299963\n",
      "train reg_fs: 0.005768727045506239\n",
      "Epoch: 3500 train loss=0.012080082 valid loss= 0.008014323\n",
      "train reg_fs: 0.005632726941257715\n",
      "Epoch: 4000 train loss=0.007644839 valid loss= 0.007666591\n",
      "train reg_fs: 0.005530362017452717\n",
      "Epoch: 4500 train loss=0.009485899 valid loss= 0.007515613\n",
      "train reg_fs: 0.0054594180546700954\n"
     ]
    },
    {
     "name": "stderr",
     "output_type": "stream",
     "text": [
      "\u001b[32m[I 2021-06-09 13:42:58,319]\u001b[0m Trial 15 finished with value: 0.00165826992633757 and parameters: {'lam': 0.009739347112199434, 'learning_rate': 0.09925705390754952, 'num_epoch': 5000}. Best is trial 15 with value: 0.00165826992633757.\u001b[0m\n"
     ]
    },
    {
     "name": "stdout",
     "output_type": "stream",
     "text": [
      "Epoch: 5000 train loss=0.006352738 valid loss= 0.007615907\n",
      "train reg_fs: 0.005411155056208372\n",
      "Optimization Finished!\n",
      "test loss: 0.007960723713040352, test acc: 1.0\n",
      "In trial:---------------------\n",
      "validation mse: 0.00165826992633757\n",
      "num_samples : 10\n",
      "Epoch: 500 train loss=0.016249055 valid loss= 0.008117892\n",
      "train reg_fs: 0.0015042511513456702\n",
      "Epoch: 1000 train loss=0.014758967 valid loss= 0.007693813\n",
      "train reg_fs: 0.0015252628363668919\n",
      "Epoch: 1500 train loss=0.007563307 valid loss= 0.007434932\n",
      "train reg_fs: 0.0015310586895793676\n",
      "Epoch: 2000 train loss=0.008156115 valid loss= 0.006546839\n",
      "train reg_fs: 0.0015220512868836522\n",
      "Epoch: 2500 train loss=0.015833348 valid loss= 0.005620243\n",
      "train reg_fs: 0.0015007136389613152\n",
      "Epoch: 3000 train loss=0.008406984 valid loss= 0.004937343\n",
      "train reg_fs: 0.0014657874125987291\n",
      "Epoch: 3500 train loss=0.005441472 valid loss= 0.004725770\n",
      "train reg_fs: 0.0014324663206934929\n",
      "Epoch: 4000 train loss=0.009857626 valid loss= 0.003709644\n",
      "train reg_fs: 0.0014101146953180432\n",
      "Epoch: 4500 train loss=0.003507819 valid loss= 0.003770522\n",
      "train reg_fs: 0.0013961672084406018\n",
      "Epoch: 5000 train loss=0.006278882 valid loss= 0.003390888\n",
      "train reg_fs: 0.0013873829739168286\n",
      "Epoch: 5500 train loss=0.004878433 valid loss= 0.003777533\n",
      "train reg_fs: 0.001382010872475803\n",
      "Epoch: 6000 train loss=0.004693631 valid loss= 0.003632165\n",
      "train reg_fs: 0.001377770910039544\n",
      "Epoch: 6500 train loss=0.007635974 valid loss= 0.003724325\n",
      "train reg_fs: 0.0013729886850342155\n",
      "Epoch: 7000 train loss=0.004146498 valid loss= 0.003968150\n",
      "train reg_fs: 0.0013677767710760236\n",
      "Epoch: 7500 train loss=0.003125354 valid loss= 0.003688285\n",
      "train reg_fs: 0.00136251887306571\n",
      "Epoch: 8000 train loss=0.004008143 valid loss= 0.003630463\n",
      "train reg_fs: 0.0013568042777478695\n",
      "Epoch: 8500 train loss=0.004832413 valid loss= 0.003571877\n",
      "train reg_fs: 0.0013512406731024384\n",
      "Epoch: 9000 train loss=0.002446288 valid loss= 0.003698502\n",
      "train reg_fs: 0.0013460530899465084\n",
      "Epoch: 9500 train loss=0.008056811 valid loss= 0.003915044\n",
      "train reg_fs: 0.0013411883264780045\n",
      "Epoch: 10000 train loss=0.002795834 valid loss= 0.003786289\n",
      "train reg_fs: 0.001336917164735496\n",
      "Epoch: 10500 train loss=0.002461640 valid loss= 0.003434370\n",
      "train reg_fs: 0.0013334255199879408\n",
      "Epoch: 11000 train loss=0.004722548 valid loss= 0.003405263\n",
      "train reg_fs: 0.001330269151367247\n",
      "Epoch: 11500 train loss=0.002430635 valid loss= 0.003965800\n",
      "train reg_fs: 0.001327203935943544\n",
      "Epoch: 12000 train loss=0.003962616 valid loss= 0.003407450\n",
      "train reg_fs: 0.0013246644521132112\n",
      "Epoch: 12500 train loss=0.002847850 valid loss= 0.003265958\n",
      "train reg_fs: 0.0013227182207629085\n",
      "Epoch: 13000 train loss=0.001856424 valid loss= 0.003468288\n",
      "train reg_fs: 0.0013207937590777874\n",
      "Epoch: 13500 train loss=0.007495122 valid loss= 0.003961585\n",
      "train reg_fs: 0.0013191145844757557\n",
      "Epoch: 14000 train loss=0.004464242 valid loss= 0.003699652\n",
      "train reg_fs: 0.001317701768130064\n",
      "Epoch: 14500 train loss=0.003114070 valid loss= 0.003519225\n",
      "train reg_fs: 0.001316359848715365\n"
     ]
    },
    {
     "name": "stderr",
     "output_type": "stream",
     "text": [
      "\u001b[32m[I 2021-06-09 13:44:39,979]\u001b[0m Trial 16 finished with value: 0.0023101903378982117 and parameters: {'lam': 0.0017559953871331075, 'learning_rate': 0.0363560173015988, 'num_epoch': 15000}. Best is trial 15 with value: 0.00165826992633757.\u001b[0m\n"
     ]
    },
    {
     "name": "stdout",
     "output_type": "stream",
     "text": [
      "Epoch: 15000 train loss=0.002760206 valid loss= 0.003600512\n",
      "train reg_fs: 0.0013151410967111588\n",
      "Optimization Finished!\n",
      "test loss: 0.0033213268034160137, test acc: 1.0\n",
      "In trial:---------------------\n",
      "validation mse: 0.0023101903378982117\n",
      "num_samples : 10\n",
      "Epoch: 500 train loss=0.031865999 valid loss= 0.015813023\n",
      "train reg_fs: 0.007790629751980305\n",
      "Epoch: 1000 train loss=0.022420697 valid loss= 0.015662745\n",
      "train reg_fs: 0.0077937631867825985\n",
      "Epoch: 1500 train loss=0.014929792 valid loss= 0.016046276\n",
      "train reg_fs: 0.0077819558791816235\n",
      "Epoch: 2000 train loss=0.020629486 valid loss= 0.015486469\n",
      "train reg_fs: 0.007726049516350031\n",
      "Epoch: 2500 train loss=0.022092791 valid loss= 0.015472999\n",
      "train reg_fs: 0.00765221519395709\n",
      "Epoch: 3000 train loss=0.020353656 valid loss= 0.014851242\n",
      "train reg_fs: 0.007565842941403389\n",
      "Epoch: 3500 train loss=0.016696148 valid loss= 0.014411373\n",
      "train reg_fs: 0.007474636659026146\n",
      "Epoch: 4000 train loss=0.015114848 valid loss= 0.014259589\n",
      "train reg_fs: 0.007384206634014845\n",
      "Epoch: 4500 train loss=0.015403256 valid loss= 0.012794002\n",
      "train reg_fs: 0.007313345558941364\n"
     ]
    },
    {
     "name": "stderr",
     "output_type": "stream",
     "text": [
      "\u001b[32m[I 2021-06-09 13:45:15,242]\u001b[0m Trial 17 finished with value: 0.005475062943685449 and parameters: {'lam': 0.009351686893764238, 'learning_rate': 0.01782566164509465, 'num_epoch': 5000}. Best is trial 15 with value: 0.00165826992633757.\u001b[0m\n"
     ]
    },
    {
     "name": "stdout",
     "output_type": "stream",
     "text": [
      "Epoch: 5000 train loss=0.014184423 valid loss= 0.012997447\n",
      "train reg_fs: 0.007240308448672295\n",
      "Optimization Finished!\n",
      "test loss: 0.013595668599009514, test acc: 1.0\n",
      "In trial:---------------------\n",
      "validation mse: 0.005475062943685449\n",
      "num_samples : 10\n",
      "Epoch: 500 train loss=0.017994951 valid loss= 0.012721084\n",
      "train reg_fs: 0.005808974150568247\n",
      "Epoch: 1000 train loss=0.016874027 valid loss= 0.013893738\n",
      "train reg_fs: 0.005594339687377214\n",
      "Epoch: 1500 train loss=0.011414945 valid loss= 0.010360444\n",
      "train reg_fs: 0.005301536526530981\n",
      "Epoch: 2000 train loss=0.014331406 valid loss= 0.009097489\n",
      "train reg_fs: 0.0050873723812401295\n",
      "Epoch: 2500 train loss=0.011877953 valid loss= 0.007156280\n",
      "train reg_fs: 0.0047882068902254105\n",
      "Epoch: 3000 train loss=0.005923893 valid loss= 0.006631561\n",
      "train reg_fs: 0.0045595052652060986\n",
      "Epoch: 3500 train loss=0.007672123 valid loss= 0.006821246\n",
      "train reg_fs: 0.004400182515382767\n",
      "Epoch: 4000 train loss=0.006350899 valid loss= 0.006490137\n",
      "train reg_fs: 0.004291996359825134\n",
      "Epoch: 4500 train loss=0.005615444 valid loss= 0.005599873\n",
      "train reg_fs: 0.004211759194731712\n",
      "Epoch: 5000 train loss=0.010460364 valid loss= 0.006465841\n",
      "train reg_fs: 0.0041508302092552185\n",
      "Epoch: 5500 train loss=0.004533990 valid loss= 0.005634019\n",
      "train reg_fs: 0.0041030882857739925\n",
      "Epoch: 6000 train loss=0.007101955 valid loss= 0.005715433\n",
      "train reg_fs: 0.004069621674716473\n",
      "Epoch: 6500 train loss=0.006713514 valid loss= 0.005488179\n",
      "train reg_fs: 0.0040423753671348095\n",
      "Epoch: 7000 train loss=0.005030683 valid loss= 0.005606511\n",
      "train reg_fs: 0.004020723048597574\n",
      "Epoch: 7500 train loss=0.005226966 valid loss= 0.005190158\n",
      "train reg_fs: 0.004004356916993856\n",
      "Epoch: 8000 train loss=0.005089305 valid loss= 0.006098410\n",
      "train reg_fs: 0.003990419674664736\n",
      "Epoch: 8500 train loss=0.005361837 valid loss= 0.005689856\n",
      "train reg_fs: 0.003978732042014599\n",
      "Epoch: 9000 train loss=0.004524576 valid loss= 0.006071471\n",
      "train reg_fs: 0.003968664910644293\n",
      "Epoch: 9500 train loss=0.006785178 valid loss= 0.005732086\n",
      "train reg_fs: 0.003960029222071171\n",
      "Epoch: 10000 train loss=0.004383274 valid loss= 0.005600214\n",
      "train reg_fs: 0.003953039646148682\n",
      "Epoch: 10500 train loss=0.004524548 valid loss= 0.005421714\n",
      "train reg_fs: 0.003946878481656313\n"
     ]
    }
   ],
   "source": [
    "# optimize the model via Optuna and obtain the best model with smallest validation mse\n",
    "best_model = None\n",
    "model = None\n",
    "study = optuna.create_study(pruner=None)\n",
    "study.optimize(llspin_objective, n_trials=100, callbacks=[callback])"
   ]
  },
  {
   "cell_type": "code",
   "execution_count": 19,
   "metadata": {},
   "outputs": [],
   "source": [
    "# get the training gate matrix\n",
    "gate_mat_train = best_model.get_prob_alpha(X_train)"
   ]
  },
  {
   "cell_type": "code",
   "execution_count": 20,
   "metadata": {},
   "outputs": [],
   "source": [
    "best_lr = study.best_params['learning_rate']\n",
    "best_epoch = study.best_params['num_epoch']\n",
    "best_lam = study.best_params['lam']"
   ]
  },
  {
   "cell_type": "code",
   "execution_count": 21,
   "metadata": {},
   "outputs": [
    {
     "name": "stdout",
     "output_type": "stream",
     "text": [
      "Trial Finished*************\n",
      "Best model's lambda: 0.0024685863565374637\n",
      "Best model's learning rate: 0.193657897430231\n",
      "Best model's num of epochs: 10000\n",
      "Test mse : 0.0001876552209172821\n",
      "Test r2 : 0.9954718243499533\n"
     ]
    }
   ],
   "source": [
    "# test the best model\n",
    "y_pred_llspin = best_model.test(X_test)[0]\n",
    "            \n",
    "print(\"Trial Finished*************\")\n",
    "print(\"Best model's lambda: {}\".format(best_lam))\n",
    "print(\"Best model's learning rate: {}\".format(best_lr))\n",
    "print(\"Best model's num of epochs: {}\".format(best_epoch))\n",
    "print(\"Test mse : {}\".format(mean_squared_error(y_test.reshape(-1),y_pred_llspin.reshape(-1))))\n",
    "print(\"Test r2 : {}\".format(r2_score(y_test.reshape(-1),y_pred_llspin.reshape(-1),multioutput='raw_values')[0]))"
   ]
  },
  {
   "cell_type": "markdown",
   "metadata": {},
   "source": [
    "### Comparing the training gates to the ground truth"
   ]
  },
  {
   "cell_type": "code",
   "execution_count": 22,
   "metadata": {},
   "outputs": [],
   "source": [
    "cmap = cm.Blues\n",
    "bounds=[0,0.5,1]\n",
    "norm = colors.BoundaryNorm(bounds, cmap.N)\n",
    "\n",
    "title_size = 30\n",
    "xtick_size = 20\n",
    "ytick_size = 20\n",
    "xlabel_size = 35\n",
    "ylabel_size = 35\n",
    "colorbar_tick_size = 20\n",
    "title_pad = 10"
   ]
  },
  {
   "cell_type": "code",
   "execution_count": 23,
   "metadata": {},
   "outputs": [
    {
     "data": {
      "image/png": "[encoded data removed]",
      "text/plain": [
       "<Figure size 576x432 with 4 Axes>"
      ]
     },
     "metadata": {
      "needs_background": "light"
     },
     "output_type": "display_data"
    }
   ],
   "source": [
    "fig, axes = plt.subplots(1, 2,sharex=False, sharey=True,figsize=(8, 6))\n",
    "\n",
    "sorted_order = np.concatenate((np.where(train_label == 1)[0],np.where(train_label == 2)[0]))\n",
    "\n",
    "im1 = axes[0].imshow(ref_feat_mat_train[sorted_order,:].astype(int),aspect='auto',cmap=cmap, norm=norm)\n",
    "axes[0].set_title(\"Ground Truth\",fontsize=title_size,fontweight=\"bold\",pad=title_pad)\n",
    "axes[0].set_ylabel(\"Sample Index\",fontsize=ylabel_size)\n",
    "axes[0].set_yticks([1,3,5,7,9])\n",
    "axes[0].set_yticklabels([2,4,6,8,10],fontsize=ytick_size)\n",
    "axes[0].set_xticks(list(range(5)))\n",
    "axes[0].set_xticklabels(list(range(1,6)),fontsize=xtick_size)\n",
    "axes[0].set_xlabel(\"Feature Index\",fontsize=xlabel_size,labelpad=-5)\n",
    "\n",
    "cbar = fig.colorbar(im1,ax=axes[0], cmap=cmap, norm=norm, boundaries=bounds, ticks=[0, 1])\n",
    "cbar.ax.tick_params(labelsize=colorbar_tick_size)\n",
    "\n",
    "im2 = axes[1].imshow(gate_mat_train[sorted_order,:],aspect='auto',cmap=cmap)\n",
    "axes[1].set_title(\"LLSPIN Gates\",fontsize=title_size,fontweight=\"bold\",pad=title_pad)\n",
    "axes[1].set_yticks([1,3,5,7,9])\n",
    "axes[1].set_yticklabels([2,4,6,8,10],fontsize=ytick_size)\n",
    "axes[1].set_xticks(list(range(5)))\n",
    "axes[1].set_xticklabels(list(range(1,6)),fontsize=xtick_size)\n",
    "axes[1].set_xlabel(\"Feature Index\",fontsize=xlabel_size,labelpad=-5)\n",
    "\n",
    "cbar = fig.colorbar(im2,ax=axes[1])\n",
    "cbar.ax.tick_params(labelsize=colorbar_tick_size)\n",
    "\n",
    "plt.tight_layout()"
   ]
  },
  {
   "cell_type": "markdown",
   "metadata": {},
   "source": [
    "### Comparing the test gates to the ground truth"
   ]
  },
  {
   "cell_type": "code",
   "execution_count": 24,
   "metadata": {},
   "outputs": [],
   "source": [
    "gate_mat_test = best_model.get_prob_alpha(X_test)"
   ]
  },
  {
   "cell_type": "code",
   "execution_count": 25,
   "metadata": {},
   "outputs": [
    {
     "data": {
      "image/png": "[encoded data removed]",
      "text/plain": [
       "<Figure size 576x432 with 4 Axes>"
      ]
     },
     "metadata": {
      "needs_background": "light"
     },
     "output_type": "display_data"
    }
   ],
   "source": [
    "fig, axes = plt.subplots(1, 2,sharex=False, sharey=True,figsize=(8, 6))\n",
    "\n",
    "fig.subplots_adjust(bottom=0.01)\n",
    "\n",
    "sorted_order_test = np.concatenate((np.where(test_label == 1)[0],np.where(test_label == 2)[0]))\n",
    "\n",
    "im1 = axes[0].imshow(ref_feat_mat_test[sorted_order_test,:].astype(int),aspect='auto',cmap=cmap, norm=norm)\n",
    "axes[0].set_title(\"Ground Truth\",fontsize=title_size,fontweight=\"bold\",pad=title_pad)\n",
    "axes[0].set_ylabel(\"Sample Index\",fontsize=ylabel_size)\n",
    "axes[0].set_yticks([0,9,19,29,39,49])\n",
    "axes[0].set_yticklabels([1,10,20,30,40,50],fontsize=ytick_size)\n",
    "axes[0].set_xticks(list(range(5)))\n",
    "axes[0].set_xticklabels(list(range(1,6)),fontsize=xtick_size)\n",
    "axes[0].set_xlabel(\"Feature Index\",fontsize=xlabel_size,labelpad=-5)\n",
    "cbar = fig.colorbar(im1,ax=axes[0], cmap=cmap, norm=norm, boundaries=bounds, ticks=[0, 1])\n",
    "cbar.ax.tick_params(labelsize=colorbar_tick_size)\n",
    "    \n",
    "im2 = axes[1].imshow(gate_mat_test[sorted_order_test,:],aspect='auto',cmap=cmap)\n",
    "axes[1].set_title(\"LLSPIN Gates\",fontsize=title_size,fontweight=\"bold\",pad=title_pad)\n",
    "axes[1].set_yticks([0,9,19,29,39,49])\n",
    "axes[1].set_yticklabels([1,10,20,30,40,50],fontsize=ytick_size)\n",
    "axes[1].set_xticks(list(range(5)))\n",
    "axes[1].set_xticklabels(list(range(1,6)),fontsize=xtick_size)\n",
    "axes[1].set_xlabel(\"Feature Index\",fontsize=xlabel_size,labelpad=-5)\n",
    "    \n",
    "cbar = fig.colorbar(im2,ax=axes[1])\n",
    "cbar.ax.tick_params(labelsize=colorbar_tick_size)\n",
    "\n",
    "plt.tight_layout()"
   ]
  }
 ],
 "metadata": {
  "kernelspec": {
   "display_name": "Python 3",
   "language": "python",
   "name": "python3"
  },
  "language_info": {
   "codemirror_mode": {
    "name": "ipython",
    "version": 3
   },
   "file_extension": ".py",
   "mimetype": "text/x-python",
   "name": "python",
   "nbconvert_exporter": "python",
   "pygments_lexer": "ipython3",
   "version": "3.6.9"
  }
 },
 "nbformat": 4,
 "nbformat_minor": 4
}
