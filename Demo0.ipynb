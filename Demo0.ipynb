{
 "cells": [
  {
   "cell_type": "code",
   "execution_count": 1,
   "metadata": {},
   "outputs": [],
   "source": [
    "import numpy as np\n",
    "import scipy\n",
    "import sys\n",
    "import os\n",
    "import optuna\n",
    "\n",
    "from sklearn.model_selection import train_test_split\n",
    "from sklearn.metrics import mean_squared_error\n",
    "from sklearn.metrics import r2_score\n",
    "\n",
    "from collections import Counter\n",
    "import matplotlib.pyplot as plt\n",
    "from matplotlib import cm,colors"
   ]
  },
  {
   "cell_type": "code",
   "execution_count": 2,
   "metadata": {},
   "outputs": [],
   "source": [
    "from model import Model\n",
    "from model import convertToOneHot, DataSet_meta"
   ]
  },
  {
   "cell_type": "markdown",
   "metadata": {},
   "source": [
    "## Linear synthetic data generation\n",
    "\n",
    "Group 1: $X$ ~ $N(1,0.5)$,  $Y = -2X_1 + X_2$\n",
    "\n",
    "Group 2: $X$ ~ $N(-1,0.5)$, $Y =  X_3 - 2X_4$\n",
    "\n"
   ]
  },
  {
   "cell_type": "code",
   "execution_count": 5,
   "metadata": {},
   "outputs": [],
   "source": [
    "def linear_simple_data_gen(n_sample = 500, seed = 42):\n",
    "    rng = np.random.default_rng(seed)\n",
    "    \n",
    "    Xs1 = np.random.normal(loc=1,scale=0.5,size=(n_sample,4))\n",
    "    Ys1 = -2*Xs1[:,0]+1*Xs1[:,1]\n",
    "\n",
    "    Xs2 = np.random.normal(loc=-1,scale=0.5,size=(n_sample,4))\n",
    "    Ys2 = Xs2[:,2]-2*Xs2[:,3]\n",
    "    \n",
    "    X_data = np.concatenate((Xs1,Xs2),axis=0)\n",
    "    Y_data = np.concatenate((Ys1.reshape(-1,1),Ys2.reshape(-1,1)),axis=0)\n",
    "    \n",
    "    Y_data = Y_data-Y_data.min()\n",
    "    Y_data=Y_data/Y_data.max()\n",
    "    \n",
    "    # The ground truth group label of each sample\n",
    "    case_labels = np.concatenate((np.array([1]*n_sample),np.array([2]*n_sample)))\n",
    "    \n",
    "    Y_data = np.concatenate((Y_data,case_labels.reshape(-1,1)),axis=1)\n",
    "    \n",
    "    return X_data, Y_data"
   ]
  },
  {
   "cell_type": "code",
   "execution_count": 6,
   "metadata": {},
   "outputs": [],
   "source": [
    "X_data, Y_data = linear_simple_data_gen()"
   ]
  },
  {
   "cell_type": "code",
   "execution_count": 11,
   "metadata": {},
   "outputs": [
    {
     "name": "stdout",
     "output_type": "stream",
     "text": [
      "Train/Valid/Test sizes: 800/100/100\n"
     ]
    }
   ],
   "source": [
    "X_train,X_remain,yc_train,yc_remain = train_test_split(X_data,Y_data,train_size=0.8,shuffle=True,random_state=42)\n",
    "X_valid,X_test,yc_valid,yc_test = train_test_split(X_remain,yc_remain,train_size=0.5,shuffle=True,random_state=42)\n",
    "print(\"Train/Valid/Test sizes: {}/{}/{}\".format(X_train.shape[0],X_valid.shape[0],X_test.shape[0]))"
   ]
  },
  {
   "cell_type": "code",
   "execution_count": 12,
   "metadata": {},
   "outputs": [],
   "source": [
    "y_train = yc_train[:,0].reshape(-1,1)\n",
    "y_valid = yc_valid[:,0].reshape(-1,1)\n",
    "y_test = yc_test[:,0].reshape(-1,1)"
   ]
  },
  {
   "cell_type": "code",
   "execution_count": 13,
   "metadata": {},
   "outputs": [],
   "source": [
    "train_label = yc_train[:,1]\n",
    "valid_label = yc_valid[:,1]\n",
    "test_label= yc_test[:,1]"
   ]
  },
  {
   "cell_type": "code",
   "execution_count": 14,
   "metadata": {},
   "outputs": [],
   "source": [
    "dataset = DataSet_meta(**{'_data':X_train, '_labels':y_train,'_meta':y_train,\n",
    "                '_valid_data':X_valid, '_valid_labels':y_valid,'_valid_meta':y_valid,\n",
    "                '_test_data':X_test, '_test_labels':y_test,'_test_meta':y_test})"
   ]
  },
  {
   "cell_type": "code",
   "execution_count": 16,
   "metadata": {},
   "outputs": [],
   "source": [
    "# reference ground truth feature matrix (training/test)\n",
    "ref_feat_mat_train = np.array([[1,1,0,0] if label == 1 else [0,0,1,1] for label in train_label])\n",
    "ref_feat_mat_test = np.array([[1,1,0,0] if label == 1 else [0,0,1,1] for label in test_label])"
   ]
  },
  {
   "cell_type": "code",
   "execution_count": 18,
   "metadata": {},
   "outputs": [
    {
     "data": {
      "image/png": "[encoded data removed]",
      "text/plain": [
       "<Figure size 576x432 with 2 Axes>"
      ]
     },
     "metadata": {
      "needs_background": "light"
     },
     "output_type": "display_data"
    }
   ],
   "source": [
    "# visualize the ground truth features on the training set\n",
    "cmap = cm.Blues\n",
    "bounds=[0,0.5,1]\n",
    "norm = colors.BoundaryNorm(bounds, cmap.N)\n",
    "\n",
    "title_size = 30\n",
    "xtick_size = 20\n",
    "ytick_size = 20\n",
    "xlabel_size = 35\n",
    "ylabel_size = 35\n",
    "colorbar_tick_size = 20\n",
    "title_pad = 10\n",
    "\n",
    "fig, axes = plt.subplots(1, 1,sharex=False, sharey=True,figsize=(8, 6))\n",
    "\n",
    "sorted_order = np.concatenate((np.where(train_label == 1)[0],np.where(train_label == 2)[0]))\n",
    "\n",
    "im1 = axes.imshow(ref_feat_mat_train[sorted_order,:].astype(int),aspect='auto',cmap=cmap, norm=norm)\n",
    "axes.set_title(\"Ground Truth\",fontsize=title_size,fontweight=\"bold\",pad=title_pad)\n",
    "axes.set_ylabel(\"Sample Index\",fontsize=ylabel_size)\n",
    "axes.set_yticks([200,400,600,800])\n",
    "axes.set_yticklabels([200,400,600,800],fontsize=ytick_size)\n",
    "axes.set_xticks(list(range(4)))\n",
    "axes.set_xticklabels(list(range(1,5)),fontsize=xtick_size)\n",
    "axes.set_xlabel(\"Feature Index\",fontsize=xlabel_size,labelpad=-5)\n",
    "\n",
    "cbar = fig.colorbar(im1,ax=axes, cmap=cmap, norm=norm, boundaries=bounds, ticks=[0, 1])\n",
    "cbar.ax.tick_params(labelsize=colorbar_tick_size)\n",
    "\n",
    "plt.tight_layout()"
   ]
  },
  {
   "cell_type": "markdown",
   "metadata": {},
   "source": [
    "## Run LLSPIN"
   ]
  },
  {
   "cell_type": "code",
   "execution_count": 57,
   "metadata": {},
   "outputs": [],
   "source": [
    "# hyper-parameter specification\n",
    "model_params = {     \n",
    "    \"input_node\" : X_train.shape[1],       # input dimension for the prediction network\n",
    "    \"hidden_layers_node\" : [100,100,10,1], # number of nodes for each hidden layer of the prediction net\n",
    "    \"output_node\" : 1,                     # number of nodes for the output layer of the prediction net\n",
    "    \"feature_selection\" : True,            # if using the gating net\n",
    "    \"gating_net_hidden_layers_node\": [10], # number of nodes for each hidden layer of the gating net\n",
    "    \"display_step\" : 500                   # number of epochs to output info\n",
    "}\n",
    "model_params['activation_pred']= 'none' # linear prediction\n",
    "model_params['activation_gating'] = 'tanh'\n",
    "model_params['batch_normalization'] = 'False'\n",
    "\n",
    "model_params['lam'] = 5e-3\n"
   ]
  },
  {
   "cell_type": "code",
   "execution_count": 58,
   "metadata": {},
   "outputs": [],
   "source": [
    "training_params = {\n",
    "    'batch_size':X_train.shape[0],\n",
    "    \"lr\":1e-1,\n",
    "    \"num_epoch\":10000\n",
    "} "
   ]
  },
  {
   "cell_type": "code",
   "execution_count": 59,
   "metadata": {},
   "outputs": [
    {
     "name": "stdout",
     "output_type": "stream",
     "text": [
      "num_samples : 800\n",
      "Epoch: 500 train loss=0.016767448 valid loss= 0.013629722\n",
      "Epoch: 1000 train loss=0.014332635 valid loss= 0.009840881\n",
      "Epoch: 1500 train loss=0.010844952 valid loss= 0.007706206\n",
      "Epoch: 2000 train loss=0.009384687 valid loss= 0.006143078\n",
      "Epoch: 2500 train loss=0.008567016 valid loss= 0.004824609\n",
      "Epoch: 3000 train loss=0.007319970 valid loss= 0.004121997\n",
      "Epoch: 3500 train loss=0.007164987 valid loss= 0.003820428\n",
      "Epoch: 4000 train loss=0.006108257 valid loss= 0.003579485\n",
      "Epoch: 4500 train loss=0.006391070 valid loss= 0.003490650\n",
      "Epoch: 5000 train loss=0.006267024 valid loss= 0.003442385\n",
      "Epoch: 5500 train loss=0.005371733 valid loss= 0.003343649\n",
      "Epoch: 6000 train loss=0.005749664 valid loss= 0.003389985\n",
      "Epoch: 6500 train loss=0.005893863 valid loss= 0.003335554\n",
      "Epoch: 7000 train loss=0.005956644 valid loss= 0.003324579\n",
      "Epoch: 7500 train loss=0.005438792 valid loss= 0.003282265\n",
      "Epoch: 8000 train loss=0.006128579 valid loss= 0.003285499\n",
      "Epoch: 8500 train loss=0.006132436 valid loss= 0.003284866\n",
      "Epoch: 9000 train loss=0.006237290 valid loss= 0.003291912\n",
      "Epoch: 9500 train loss=0.006175607 valid loss= 0.003267979\n",
      "Epoch: 10000 train loss=0.005339841 valid loss= 0.003256366\n",
      "Optimization Finished!\n",
      "test loss: 0.0032070917077362537, test acc: 1.0\n"
     ]
    }
   ],
   "source": [
    "model = Model(**model_params)\n",
    "train_acces, train_losses, val_acces, val_losses = model.train(dataset=dataset,**training_params)"
   ]
  },
  {
   "cell_type": "code",
   "execution_count": 60,
   "metadata": {},
   "outputs": [],
   "source": [
    "gate_mat_train = model.get_prob_alpha(X_train)"
   ]
  },
  {
   "cell_type": "code",
   "execution_count": 61,
   "metadata": {},
   "outputs": [
    {
     "name": "stdout",
     "output_type": "stream",
     "text": [
      "Test mse : 0.00027235682257454853\n",
      "Test r2 : 0.9894594603393193\n"
     ]
    }
   ],
   "source": [
    "y_pred_llspin = model.test(X_test)[0]\n",
    "print(\"Test mse : {}\".format(mean_squared_error(y_test.reshape(-1),y_pred_llspin.reshape(-1))))\n",
    "print(\"Test r2 : {}\".format(r2_score(y_test.reshape(-1),y_pred_llspin.reshape(-1))))"
   ]
  },
  {
   "cell_type": "markdown",
   "metadata": {},
   "source": [
    "### Comparing the training gates to the ground truth"
   ]
  },
  {
   "cell_type": "code",
   "execution_count": 63,
   "metadata": {},
   "outputs": [
    {
     "data": {
      "image/png": "[encoded data removed]",
      "text/plain": [
       "<Figure size 1440x432 with 4 Axes>"
      ]
     },
     "metadata": {
      "needs_background": "light"
     },
     "output_type": "display_data"
    }
   ],
   "source": [
    "fig, axes = plt.subplots(1, 2,sharex=False, sharey=True,figsize=(20, 6))\n",
    "\n",
    "sorted_order = np.concatenate((np.where(train_label == 1)[0],np.where(train_label == 2)[0]))\n",
    "\n",
    "im1 = axes[0].imshow(ref_feat_mat_train[sorted_order,:].astype(int),aspect='auto',cmap=cmap, norm=norm)\n",
    "axes[0].set_title(\"Ground Truth\",fontsize=title_size,fontweight=\"bold\",pad=title_pad)\n",
    "axes[0].set_ylabel(\"Sample Index\",fontsize=ylabel_size)\n",
    "axes[0].set_yticks([200,400,600,800])\n",
    "axes[0].set_yticklabels([200,400,600,800],fontsize=ytick_size)\n",
    "axes[0].set_xticks(list(range(4)))\n",
    "axes[0].set_xticklabels(list(range(1,5)),fontsize=xtick_size)\n",
    "axes[0].set_xlabel(\"Feature Index\",fontsize=xlabel_size,labelpad=-5)\n",
    "\n",
    "cbar = fig.colorbar(im1,ax=axes[0], cmap=cmap, norm=norm, boundaries=bounds, ticks=[0, 1])\n",
    "cbar.ax.tick_params(labelsize=colorbar_tick_size)\n",
    "\n",
    "im2 = axes[1].imshow(gate_mat_train[sorted_order,:],aspect='auto',cmap=cmap)\n",
    "axes[1].set_title(\"LLSPIN Gates\",fontsize=title_size,fontweight=\"bold\",pad=title_pad)\n",
    "axes[1].set_yticks([200,400,600,800])\n",
    "axes[1].set_yticklabels([200,400,600,800],fontsize=ytick_size)\n",
    "axes[1].set_xticks(list(range(4)))\n",
    "axes[1].set_xticklabels(list(range(1,5)),fontsize=xtick_size)\n",
    "axes[1].set_xlabel(\"Feature Index\",fontsize=xlabel_size,labelpad=-5)\n",
    "\n",
    "cbar = fig.colorbar(im2,ax=axes[1])\n",
    "cbar.ax.tick_params(labelsize=colorbar_tick_size)\n",
    "\n",
    "plt.tight_layout()"
   ]
  }
 ],
 "metadata": {
  "kernelspec": {
   "display_name": "Python 3",
   "language": "python",
   "name": "python3"
  },
  "language_info": {
   "codemirror_mode": {
    "name": "ipython",
    "version": 3
   },
   "file_extension": ".py",
   "mimetype": "text/x-python",
   "name": "python",
   "nbconvert_exporter": "python",
   "pygments_lexer": "ipython3",
   "version": "3.6.9"
  }
 },
 "nbformat": 4,
 "nbformat_minor": 4
}
