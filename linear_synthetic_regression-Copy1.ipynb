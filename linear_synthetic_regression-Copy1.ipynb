{
 "cells": [
  {
   "cell_type": "code",
   "execution_count": 2,
   "metadata": {},
   "outputs": [
    {
     "ename": "SyntaxError",
     "evalue": "invalid syntax (LSPIN_model.py, line 78)",
     "output_type": "error",
     "traceback": [
      "Traceback \u001b[0;36m(most recent call last)\u001b[0m:\n",
      "  File \u001b[1;32m\"/usr/local/lib/python3.6/dist-packages/IPython/core/interactiveshell.py\"\u001b[0m, line \u001b[1;32m3319\u001b[0m, in \u001b[1;35mrun_code\u001b[0m\n    exec(code_obj, self.user_global_ns, self.user_ns)\n",
      "\u001b[0;36m  File \u001b[0;32m\"<ipython-input-2-70d670a41495>\"\u001b[0;36m, line \u001b[0;32m11\u001b[0;36m, in \u001b[0;35m<module>\u001b[0;36m\u001b[0m\n\u001b[0;31m    from LSPIN_model import Model\u001b[0m\n",
      "\u001b[0;36m  File \u001b[0;32m\"/tf/localSTG/script/nips_2021_examples/LSPIN_model.py\"\u001b[0;36m, line \u001b[0;32m78\u001b[0m\n\u001b[0;31m    for i in range(len(hidden_layers_node))\u001b[0m\n\u001b[0m                                           ^\u001b[0m\n\u001b[0;31mSyntaxError\u001b[0m\u001b[0;31m:\u001b[0m invalid syntax\n"
     ]
    }
   ],
   "source": [
    "import numpy as np\n",
    "import scipy\n",
    "import sys\n",
    "import os\n",
    "import optuna\n",
    "\n",
    "from sklearn.model_selection import train_test_split\n",
    "from sklearn.metrics import mean_squared_error\n",
    "from sklearn.metrics import r2_score\n",
    "\n",
    "from LSPIN_model import Model\n",
    "from utils import DataSet"
   ]
  },
  {
   "cell_type": "code",
   "execution_count": 5,
   "metadata": {},
   "outputs": [],
   "source": [
    "os.environ['CUDA_VISIBLE_DEVICES'] = '1'"
   ]
  },
  {
   "cell_type": "markdown",
   "metadata": {},
   "source": [
    "### Linear synthetic data generation\n",
    "\n",
    "Group 1: $X$ ~ $N(1,0.5)$,  $Y = -2X_1 + X_2 - 0.5X_3$\n",
    "\n",
    "Group 2: $X$ ~ $N(-1,0.5)$, $Y = -0.5X_3 + X_4 - 2X_5$\n",
    "\n"
   ]
  },
  {
   "cell_type": "code",
   "execution_count": 6,
   "metadata": {},
   "outputs": [],
   "source": [
    "np.random.seed(34)\n",
    "\n",
    "Xs1 = np.random.normal(loc=1,scale=0.5,size=(300,5))\n",
    "Ys1 = -2*Xs1[:,0]+1*Xs1[:,1]-0.5*Xs1[:,2]\n",
    "\n",
    "Xs2 = np.random.normal(loc=-1,scale=0.5,size=(300,5))\n",
    "Ys2 = -0.5*Xs2[:,2]+1*Xs2[:,3]-2*Xs2[:,4]"
   ]
  },
  {
   "cell_type": "code",
   "execution_count": 7,
   "metadata": {},
   "outputs": [],
   "source": [
    "X_data = np.concatenate((Xs1,Xs2),axis=0)\n",
    "Y_data = np.concatenate((Ys1.reshape(-1,1),Ys2.reshape(-1,1)),axis=0)"
   ]
  },
  {
   "cell_type": "code",
   "execution_count": 8,
   "metadata": {},
   "outputs": [],
   "source": [
    "Y_data = Y_data-Y_data.min()\n",
    "Y_data=Y_data/Y_data.max()"
   ]
  },
  {
   "cell_type": "code",
   "execution_count": 9,
   "metadata": {},
   "outputs": [],
   "source": [
    "# The ground truth group label of each sample\n",
    "case_labels = np.concatenate((np.array([1]*300),np.array([2]*300)))"
   ]
  },
  {
   "cell_type": "code",
   "execution_count": 10,
   "metadata": {},
   "outputs": [],
   "source": [
    "Y_data = np.concatenate((Y_data,case_labels.reshape(-1,1)),axis=1)"
   ]
  },
  {
   "cell_type": "code",
   "execution_count": 11,
   "metadata": {},
   "outputs": [],
   "source": [
    "# 10% for validation, 10% for test \n",
    "X_train,X_remain,yc_train,yc_remain = train_test_split(X_data,Y_data,train_size=0.8,shuffle=True,random_state=34)\n",
    "X_valid,X_test,yc_valid,yc_test = train_test_split(X_remain,yc_remain,train_size=0.5,shuffle=True,random_state=34)"
   ]
  },
  {
   "cell_type": "code",
   "execution_count": 12,
   "metadata": {},
   "outputs": [],
   "source": [
    "# Only 10 samples used for training\n",
    "X_train,_,yc_train,_ = train_test_split(X_train,yc_train,train_size=10,shuffle=True,random_state=34)"
   ]
  },
  {
   "cell_type": "code",
   "execution_count": 13,
   "metadata": {},
   "outputs": [
    {
     "name": "stdout",
     "output_type": "stream",
     "text": [
      "Sample sizes:\n",
      "10 60 60\n"
     ]
    }
   ],
   "source": [
    "print(\"Sample sizes:\")\n",
    "print(X_train.shape[0],X_valid.shape[0],X_test.shape[0])"
   ]
  },
  {
   "cell_type": "code",
   "execution_count": 14,
   "metadata": {},
   "outputs": [],
   "source": [
    "y_train = yc_train[:,0].reshape(-1,1)\n",
    "y_valid = yc_valid[:,0].reshape(-1,1)\n",
    "y_test = yc_test[:,0].reshape(-1,1)"
   ]
  },
  {
   "cell_type": "code",
   "execution_count": 15,
   "metadata": {},
   "outputs": [],
   "source": [
    "train_label = yc_train[:,1]\n",
    "valid_label = yc_valid[:,1]\n",
    "test_label= yc_test[:,1]"
   ]
  },
  {
   "cell_type": "code",
   "execution_count": 16,
   "metadata": {},
   "outputs": [
    {
     "data": {
      "text/plain": [
       "Counter({2.0: 6, 1.0: 4})"
      ]
     },
     "execution_count": 16,
     "metadata": {},
     "output_type": "execute_result"
    }
   ],
   "source": [
    "from collections import Counter\n",
    "Counter(train_label)"
   ]
  },
  {
   "cell_type": "code",
   "execution_count": 17,
   "metadata": {},
   "outputs": [
    {
     "data": {
      "text/plain": [
       "Counter({2.0: 29, 1.0: 31})"
      ]
     },
     "execution_count": 17,
     "metadata": {},
     "output_type": "execute_result"
    }
   ],
   "source": [
    "Counter(valid_label)"
   ]
  },
  {
   "cell_type": "code",
   "execution_count": 18,
   "metadata": {},
   "outputs": [],
   "source": [
    "dataset = DataSet(**{'_data':X_train, '_labels':y_train,\n",
    "                '_valid_data':X_valid, '_valid_labels':y_valid,\n",
    "                '_test_data':X_test, '_test_labels':y_test})"
   ]
  },
  {
   "cell_type": "code",
   "execution_count": 19,
   "metadata": {},
   "outputs": [],
   "source": [
    "# reference ground truth feature matrix (training/test)\n",
    "ref_feat_mat_train = np.array([[1,1,1,0,0] if label == 1 else [0,0,1,1,1] for label in train_label])\n",
    "ref_feat_mat_test = np.array([[1,1,1,0,0] if label == 1 else [0,0,1,1,1] for label in test_label])"
   ]
  },
  {
   "cell_type": "markdown",
   "metadata": {},
   "source": [
    "### LLSPIN"
   ]
  },
  {
   "cell_type": "code",
   "execution_count": 22,
   "metadata": {},
   "outputs": [],
   "source": [
    "def llspin_objective(trial):  \n",
    "    global model\n",
    "            \n",
    "    params = {\n",
    "        \"feature_selection\" : True,\n",
    "        \"sigma\" : 0.5,\n",
    "        \"display_step\" : 500,\n",
    "        \"hidden_layers_node\" : [100,100,10,1], # hidden layers: 100,100,10,1\n",
    "        \"input_node\" : X_train.shape[1],\n",
    "        \"output_node\" : 1\n",
    "    }\n",
    "    params['stddev_input'] = 0.1 \n",
    "    params['activation']= 'none'\n",
    "    params['batch_size']= X_train.shape[0]\n",
    "    params['feature_selection_dimension']=[10]\n",
    "    params['lam'] = trial.suggest_loguniform('lam',1e-3,1e-2)\n",
    "    params['learning_rate'] = trial.suggest_loguniform('learning_rate', 1e-2, 2e-1)\n",
    "    num_epoch = trial.suggest_categorical('num_epoch', [2000,5000,10000,15000])\n",
    "\n",
    "    model_dir =None\n",
    "    model = Model(**params)\n",
    "    train_acces, train_losses, val_acces, val_losses = model.train(trial, dataset, model_dir, num_epoch=num_epoch)\n",
    "\n",
    "    print(\"In trial:---------------------\")\n",
    "    val_prediction = model.test(X_valid)[0]\n",
    "    mse = mean_squared_error(y_valid.reshape(-1),val_prediction.reshape(-1))\n",
    "    print(\"validation mse: {}\".format(mse))\n",
    "    \n",
    "    loss= mse\n",
    "            \n",
    "    return loss\n",
    "        \n",
    "def callback(study,trial):\n",
    "    global best_model\n",
    "    if study.best_trial == trial:\n",
    "        best_model = model"
   ]
  },
  {
   "cell_type": "code",
   "execution_count": 23,
   "metadata": {
    "scrolled": true
   },
   "outputs": [
    {
     "name": "stderr",
     "output_type": "stream",
     "text": [
      "\u001b[32m[I 2021-06-07 18:42:13,455]\u001b[0m A new study created in memory with name: no-name-63c2f283-7476-4d4a-8782-4d2798b485e9\u001b[0m\n"
     ]
    },
    {
     "name": "stdout",
     "output_type": "stream",
     "text": [
      "WARNING:tensorflow:From /tf/localSTG/script/nips_2021_examples/LSPIN_model.py:118: The name tf.squared_difference is deprecated. Please use tf.math.squared_difference instead.\n",
      "\n",
      "WARNING:tensorflow:From /tf/localSTG/script/nips_2021_examples/LSPIN_model.py:128: The name tf.erf is deprecated. Please use tf.math.erf instead.\n",
      "\n",
      "WARNING:tensorflow:From /tf/localSTG/script/nips_2021_examples/LSPIN_model.py:136: The name tf.get_collection is deprecated. Please use tf.compat.v1.get_collection instead.\n",
      "\n",
      "WARNING:tensorflow:From /tf/localSTG/script/nips_2021_examples/LSPIN_model.py:136: The name tf.GraphKeys is deprecated. Please use tf.compat.v1.GraphKeys instead.\n",
      "\n",
      "WARNING:tensorflow:From /tf/localSTG/script/nips_2021_examples/LSPIN_model.py:138: The name tf.train.GradientDescentOptimizer is deprecated. Please use tf.compat.v1.train.GradientDescentOptimizer instead.\n",
      "\n",
      "WARNING:tensorflow:From /usr/local/lib/python3.6/dist-packages/tensorflow_core/python/ops/math_grad.py:1424: where (from tensorflow.python.ops.array_ops) is deprecated and will be removed in a future version.\n",
      "Instructions for updating:\n",
      "Use tf.where in 2.0, which has the same broadcast rule as np.where\n",
      "WARNING:tensorflow:From /tf/localSTG/script/nips_2021_examples/LSPIN_model.py:143: The name tf.global_variables_initializer is deprecated. Please use tf.compat.v1.global_variables_initializer instead.\n",
      "\n",
      "WARNING:tensorflow:From /tf/localSTG/script/nips_2021_examples/LSPIN_model.py:144: The name tf.train.Saver is deprecated. Please use tf.compat.v1.train.Saver instead.\n",
      "\n",
      "WARNING:tensorflow:From /tf/localSTG/script/nips_2021_examples/LSPIN_model.py:161: The name tf.set_random_seed is deprecated. Please use tf.compat.v1.set_random_seed instead.\n",
      "\n",
      "num_samples : 10\n",
      "Epoch: 500 train loss=0.017082859 valid loss= 0.012888828\n",
      "train reg_fs: 0.004163460806012154\n",
      "Epoch: 1000 train loss=0.017388588 valid loss= 0.012372995\n",
      "train reg_fs: 0.004205964971333742\n",
      "Epoch: 1500 train loss=0.010543897 valid loss= 0.012051567\n",
      "train reg_fs: 0.004225475713610649\n",
      "Epoch: 2000 train loss=0.015496747 valid loss= 0.011280326\n",
      "train reg_fs: 0.004233748652040958\n",
      "Epoch: 2500 train loss=0.010254271 valid loss= 0.011088714\n",
      "train reg_fs: 0.00422280840575695\n",
      "Epoch: 3000 train loss=0.007823689 valid loss= 0.010987395\n",
      "train reg_fs: 0.004192065913230181\n",
      "Epoch: 3500 train loss=0.008171651 valid loss= 0.010063154\n",
      "train reg_fs: 0.004159087780863047\n",
      "Epoch: 4000 train loss=0.009584986 valid loss= 0.009677341\n",
      "train reg_fs: 0.004125325009226799\n",
      "Epoch: 4500 train loss=0.007959045 valid loss= 0.008828618\n",
      "train reg_fs: 0.004094329196959734\n",
      "Epoch: 5000 train loss=0.010105012 valid loss= 0.008692080\n",
      "train reg_fs: 0.0040653846226632595\n",
      "Epoch: 5500 train loss=0.023222353 valid loss= 0.009014018\n",
      "train reg_fs: 0.004041712731122971\n",
      "Epoch: 6000 train loss=0.009257162 valid loss= 0.008420038\n",
      "train reg_fs: 0.004024099092930555\n",
      "Epoch: 6500 train loss=0.007969853 valid loss= 0.008342467\n",
      "train reg_fs: 0.004003548063337803\n",
      "Epoch: 7000 train loss=0.010202469 valid loss= 0.007792460\n",
      "train reg_fs: 0.003979939501732588\n",
      "Epoch: 7500 train loss=0.006181435 valid loss= 0.007568181\n",
      "train reg_fs: 0.003952906001359224\n",
      "Epoch: 8000 train loss=0.008601662 valid loss= 0.007431432\n",
      "train reg_fs: 0.003923524171113968\n",
      "Epoch: 8500 train loss=0.008810834 valid loss= 0.007446996\n",
      "train reg_fs: 0.0038882375229150057\n",
      "Epoch: 9000 train loss=0.009581835 valid loss= 0.006512049\n",
      "train reg_fs: 0.0038455724716186523\n",
      "Epoch: 9500 train loss=0.012883969 valid loss= 0.006253484\n",
      "train reg_fs: 0.003799337660893798\n"
     ]
    },
    {
     "name": "stderr",
     "output_type": "stream",
     "text": [
      "\u001b[32m[I 2021-06-07 18:43:17,028]\u001b[0m Trial 0 finished with value: 0.0020889255863539547 and parameters: {'lam': 0.004927018478614294, 'learning_rate': 0.024424042119870894, 'num_epoch': 10000}. Best is trial 0 with value: 0.0020889255863539547.\u001b[0m\n"
     ]
    },
    {
     "name": "stdout",
     "output_type": "stream",
     "text": [
      "Epoch: 10000 train loss=0.006256951 valid loss= 0.005928251\n",
      "train reg_fs: 0.003749425755813718\n",
      "Optimization Finished!\n",
      "test loss: 0.006102028302848339, test acc: 1.0\n",
      "In trial:---------------------\n",
      "validation mse: 0.0020889255863539547\n",
      "num_samples : 10\n",
      "Epoch: 500 train loss=0.012221505 valid loss= 0.007392874\n",
      "train reg_fs: 0.001980807865038514\n",
      "Epoch: 1000 train loss=0.006189080 valid loss= 0.007732480\n",
      "train reg_fs: 0.0020118753891438246\n",
      "Epoch: 1500 train loss=0.011017598 valid loss= 0.008393418\n",
      "train reg_fs: 0.0020200328435748816\n"
     ]
    },
    {
     "name": "stderr",
     "output_type": "stream",
     "text": [
      "\u001b[32m[I 2021-06-07 18:43:30,727]\u001b[0m Trial 1 finished with value: 0.0047921307633848175 and parameters: {'lam': 0.00224475864833115, 'learning_rate': 0.09061963241154962, 'num_epoch': 2000}. Best is trial 0 with value: 0.0020889255863539547.\u001b[0m\n"
     ]
    },
    {
     "name": "stdout",
     "output_type": "stream",
     "text": [
      "Epoch: 2000 train loss=0.004990913 valid loss= 0.006808318\n",
      "train reg_fs: 0.0020139808766543865\n",
      "Optimization Finished!\n",
      "test loss: 0.00713279377669096, test acc: 1.0\n",
      "In trial:---------------------\n",
      "validation mse: 0.0047921307633848175\n",
      "num_samples : 10\n",
      "Epoch: 500 train loss=0.021683356 valid loss= 0.010146989\n",
      "train reg_fs: 0.004057804588228464\n",
      "Epoch: 1000 train loss=0.010695552 valid loss= 0.010790971\n",
      "train reg_fs: 0.004110498353838921\n",
      "Epoch: 1500 train loss=0.007166344 valid loss= 0.009813948\n",
      "train reg_fs: 0.004101005848497152\n",
      "Epoch: 2000 train loss=0.016711924 valid loss= 0.008073894\n",
      "train reg_fs: 0.004030206706374884\n",
      "Epoch: 2500 train loss=0.006949844 valid loss= 0.007687825\n",
      "train reg_fs: 0.003930754028260708\n",
      "Epoch: 3000 train loss=0.009484207 valid loss= 0.006797547\n",
      "train reg_fs: 0.0038275648839771748\n",
      "Epoch: 3500 train loss=0.013306601 valid loss= 0.005839625\n",
      "train reg_fs: 0.0037364610470831394\n",
      "Epoch: 4000 train loss=0.013328041 valid loss= 0.005741736\n",
      "train reg_fs: 0.003655081382021308\n",
      "Epoch: 4500 train loss=0.007239173 valid loss= 0.005783344\n",
      "train reg_fs: 0.0035887204576283693\n"
     ]
    },
    {
     "name": "stderr",
     "output_type": "stream",
     "text": [
      "\u001b[32m[I 2021-06-07 18:44:02,771]\u001b[0m Trial 2 finished with value: 0.0025509456761361946 and parameters: {'lam': 0.004652716190141008, 'learning_rate': 0.0701870991086343, 'num_epoch': 5000}. Best is trial 0 with value: 0.0020889255863539547.\u001b[0m\n"
     ]
    },
    {
     "name": "stdout",
     "output_type": "stream",
     "text": [
      "Epoch: 5000 train loss=0.006274582 valid loss= 0.006118827\n",
      "train reg_fs: 0.0035378416068851948\n",
      "Optimization Finished!\n",
      "test loss: 0.006202762946486473, test acc: 1.0\n",
      "In trial:---------------------\n",
      "validation mse: 0.0025509456761361946\n",
      "num_samples : 10\n",
      "Epoch: 500 train loss=0.017360538 valid loss= 0.013427481\n",
      "train reg_fs: 0.006695840507745743\n",
      "Epoch: 1000 train loss=0.011972673 valid loss= 0.013029356\n",
      "train reg_fs: 0.0067109777592122555\n",
      "Epoch: 1500 train loss=0.016708918 valid loss= 0.012467748\n",
      "train reg_fs: 0.006655930541455746\n",
      "Epoch: 2000 train loss=0.011644462 valid loss= 0.013352912\n",
      "train reg_fs: 0.006529373116791248\n",
      "Epoch: 2500 train loss=0.013344629 valid loss= 0.013163691\n",
      "train reg_fs: 0.0063719297759234905\n",
      "Epoch: 3000 train loss=0.011959812 valid loss= 0.012281744\n",
      "train reg_fs: 0.006198951508849859\n",
      "Epoch: 3500 train loss=0.015301536 valid loss= 0.012393642\n",
      "train reg_fs: 0.006047871895134449\n",
      "Epoch: 4000 train loss=0.010478195 valid loss= 0.011508787\n",
      "train reg_fs: 0.00590522913262248\n",
      "Epoch: 4500 train loss=0.012318882 valid loss= 0.010425851\n",
      "train reg_fs: 0.005766364745795727\n",
      "Epoch: 5000 train loss=0.011707487 valid loss= 0.009759752\n",
      "train reg_fs: 0.005618623923510313\n",
      "Epoch: 5500 train loss=0.010225385 valid loss= 0.009551754\n",
      "train reg_fs: 0.005480884574353695\n",
      "Epoch: 6000 train loss=0.007941955 valid loss= 0.009141601\n",
      "train reg_fs: 0.00537317106500268\n",
      "Epoch: 6500 train loss=0.007209422 valid loss= 0.009234641\n",
      "train reg_fs: 0.005289673339575529\n",
      "Epoch: 7000 train loss=0.009718125 valid loss= 0.009323353\n",
      "train reg_fs: 0.005221997853368521\n",
      "Epoch: 7500 train loss=0.008069154 valid loss= 0.009326428\n",
      "train reg_fs: 0.005164748057723045\n",
      "Epoch: 8000 train loss=0.014972450 valid loss= 0.009342805\n",
      "train reg_fs: 0.005115556064993143\n",
      "Epoch: 8500 train loss=0.007266001 valid loss= 0.009229252\n",
      "train reg_fs: 0.005072104278951883\n",
      "Epoch: 9000 train loss=0.006524499 valid loss= 0.009294786\n",
      "train reg_fs: 0.005032965913414955\n",
      "Epoch: 9500 train loss=0.006926689 valid loss= 0.009410000\n",
      "train reg_fs: 0.004997673910111189\n",
      "Epoch: 10000 train loss=0.007512469 valid loss= 0.009187791\n",
      "train reg_fs: 0.004965511150658131\n",
      "Epoch: 10500 train loss=0.007774926 valid loss= 0.009052381\n",
      "train reg_fs: 0.004934350494295359\n",
      "Epoch: 11000 train loss=0.007204266 valid loss= 0.009007133\n",
      "train reg_fs: 0.004903699271380901\n",
      "Epoch: 11500 train loss=0.008999661 valid loss= 0.009021698\n",
      "train reg_fs: 0.004875516518950462\n",
      "Epoch: 12000 train loss=0.006987780 valid loss= 0.009047419\n",
      "train reg_fs: 0.0048502660356462\n",
      "Epoch: 12500 train loss=0.018154033 valid loss= 0.009094163\n",
      "train reg_fs: 0.004825429990887642\n",
      "Epoch: 13000 train loss=0.007826174 valid loss= 0.008715025\n",
      "train reg_fs: 0.004801301751285791\n",
      "Epoch: 13500 train loss=0.007147143 valid loss= 0.008745715\n",
      "train reg_fs: 0.004779557231813669\n",
      "Epoch: 14000 train loss=0.008669626 valid loss= 0.008823439\n",
      "train reg_fs: 0.004759310744702816\n",
      "Epoch: 14500 train loss=0.011355739 valid loss= 0.008926252\n",
      "train reg_fs: 0.004739177413284779\n"
     ]
    },
    {
     "name": "stderr",
     "output_type": "stream",
     "text": [
      "\u001b[32m[I 2021-06-07 18:45:35,574]\u001b[0m Trial 3 finished with value: 0.003977444598867114 and parameters: {'lam': 0.00787074333928316, 'learning_rate': 0.03487222416277155, 'num_epoch': 15000}. Best is trial 0 with value: 0.0020889255863539547.\u001b[0m\n"
     ]
    },
    {
     "name": "stdout",
     "output_type": "stream",
     "text": [
      "Epoch: 15000 train loss=0.007552603 valid loss= 0.008851998\n",
      "train reg_fs: 0.004722239915281534\n",
      "Optimization Finished!\n",
      "test loss: 0.008915446698665619, test acc: 1.0\n",
      "In trial:---------------------\n",
      "validation mse: 0.003977444598867114\n",
      "num_samples : 10\n",
      "Epoch: 500 train loss=0.012702712 valid loss= 0.007159659\n",
      "train reg_fs: 0.0008749970002099872\n",
      "Epoch: 1000 train loss=0.007853322 valid loss= 0.007024700\n",
      "train reg_fs: 0.0008811700390651822\n",
      "Epoch: 1500 train loss=0.008154844 valid loss= 0.006567081\n",
      "train reg_fs: 0.0008785647223703563\n",
      "Epoch: 2000 train loss=0.009929305 valid loss= 0.006390165\n",
      "train reg_fs: 0.0008692147093825042\n",
      "Epoch: 2500 train loss=0.005575351 valid loss= 0.005000520\n",
      "train reg_fs: 0.0008608990465290844\n",
      "Epoch: 3000 train loss=0.004637283 valid loss= 0.004262076\n",
      "train reg_fs: 0.000854589743539691\n",
      "Epoch: 3500 train loss=0.004626405 valid loss= 0.003505003\n",
      "train reg_fs: 0.000847900693770498\n",
      "Epoch: 4000 train loss=0.005135344 valid loss= 0.004000553\n",
      "train reg_fs: 0.0008407949935644865\n",
      "Epoch: 4500 train loss=0.003842549 valid loss= 0.003187237\n",
      "train reg_fs: 0.0008334842859767377\n",
      "Epoch: 5000 train loss=0.003385698 valid loss= 0.002625903\n",
      "train reg_fs: 0.0008249566308222711\n",
      "Epoch: 5500 train loss=0.003324047 valid loss= 0.002714433\n",
      "train reg_fs: 0.0008166555198840797\n",
      "Epoch: 6000 train loss=0.002837765 valid loss= 0.002120415\n",
      "train reg_fs: 0.000809228396974504\n",
      "Epoch: 6500 train loss=0.002172340 valid loss= 0.002077530\n",
      "train reg_fs: 0.0008024807902984321\n",
      "Epoch: 7000 train loss=0.005735209 valid loss= 0.002658044\n",
      "train reg_fs: 0.0007964697433635592\n",
      "Epoch: 7500 train loss=0.004704298 valid loss= 0.002189399\n",
      "train reg_fs: 0.0007908445550128818\n",
      "Epoch: 8000 train loss=0.005303795 valid loss= 0.002059207\n",
      "train reg_fs: 0.0007856501615606248\n",
      "Epoch: 8500 train loss=0.002755297 valid loss= 0.002261799\n",
      "train reg_fs: 0.0007802770705893636\n",
      "Epoch: 9000 train loss=0.003159260 valid loss= 0.002127100\n",
      "train reg_fs: 0.0007744933245703578\n",
      "Epoch: 9500 train loss=0.003520799 valid loss= 0.002687449\n",
      "train reg_fs: 0.000770330079831183\n"
     ]
    },
    {
     "name": "stderr",
     "output_type": "stream",
     "text": [
      "\u001b[32m[I 2021-06-07 18:46:38,443]\u001b[0m Trial 4 finished with value: 0.0010752054741934962 and parameters: {'lam': 0.001035152259866348, 'learning_rate': 0.03505659685677204, 'num_epoch': 10000}. Best is trial 4 with value: 0.0010752054741934962.\u001b[0m\n"
     ]
    },
    {
     "name": "stdout",
     "output_type": "stream",
     "text": [
      "Epoch: 10000 train loss=0.003559629 valid loss= 0.001853115\n",
      "train reg_fs: 0.0007655687513761222\n",
      "Optimization Finished!\n",
      "test loss: 0.0020743526984006166, test acc: 1.0\n",
      "In trial:---------------------\n",
      "validation mse: 0.0010752054741934962\n",
      "num_samples : 10\n",
      "Epoch: 500 train loss=0.011274687 valid loss= 0.009335619\n",
      "train reg_fs: 0.0017090120818465948\n",
      "Epoch: 1000 train loss=0.008889034 valid loss= 0.009166956\n",
      "train reg_fs: 0.0017356355674564838\n",
      "Epoch: 1500 train loss=0.008329604 valid loss= 0.008569258\n",
      "train reg_fs: 0.001739890780299902\n"
     ]
    },
    {
     "name": "stderr",
     "output_type": "stream",
     "text": [
      "\u001b[32m[I 2021-06-07 18:46:52,228]\u001b[0m Trial 5 finished with value: 0.0064265065892820765 and parameters: {'lam': 0.0019906955579042664, 'learning_rate': 0.047733018954318314, 'num_epoch': 2000}. Best is trial 4 with value: 0.0010752054741934962.\u001b[0m\n"
     ]
    },
    {
     "name": "stdout",
     "output_type": "stream",
     "text": [
      "Epoch: 2000 train loss=0.006901350 valid loss= 0.008175173\n",
      "train reg_fs: 0.0017270990647375584\n",
      "Optimization Finished!\n",
      "test loss: 0.008816452696919441, test acc: 1.0\n",
      "In trial:---------------------\n",
      "validation mse: 0.0064265065892820765\n",
      "num_samples : 10\n",
      "Epoch: 500 train loss=0.011128817 valid loss= 0.008753171\n",
      "train reg_fs: 0.0026107681915163994\n",
      "Epoch: 1000 train loss=0.010632508 valid loss= 0.010961786\n",
      "train reg_fs: 0.0026034293696284294\n",
      "Epoch: 1500 train loss=0.007381289 valid loss= 0.009002181\n",
      "train reg_fs: 0.002531600883230567\n",
      "Epoch: 2000 train loss=0.004815103 valid loss= 0.008629251\n",
      "train reg_fs: 0.0024992937687784433\n",
      "Epoch: 2500 train loss=0.005503241 valid loss= 0.007865005\n",
      "train reg_fs: 0.0024854892399162054\n",
      "Epoch: 3000 train loss=0.004860429 valid loss= 0.007516863\n",
      "train reg_fs: 0.0024788533337414265\n",
      "Epoch: 3500 train loss=0.007145326 valid loss= 0.007178391\n",
      "train reg_fs: 0.002490200800821185\n",
      "Epoch: 4000 train loss=0.007114625 valid loss= 0.007444371\n",
      "train reg_fs: 0.002478444715961814\n",
      "Epoch: 4500 train loss=0.004471504 valid loss= 0.007477165\n",
      "train reg_fs: 0.0024644217919558287\n"
     ]
    },
    {
     "name": "stderr",
     "output_type": "stream",
     "text": [
      "\u001b[32m[I 2021-06-07 18:47:24,058]\u001b[0m Trial 6 finished with value: 0.005047576999216768 and parameters: {'lam': 0.002947669761048189, 'learning_rate': 0.1304964072454408, 'num_epoch': 5000}. Best is trial 4 with value: 0.0010752054741934962.\u001b[0m\n"
     ]
    },
    {
     "name": "stdout",
     "output_type": "stream",
     "text": [
      "Epoch: 5000 train loss=0.006152906 valid loss= 0.007526995\n",
      "train reg_fs: 0.0024476596154272556\n",
      "Optimization Finished!\n",
      "test loss: 0.007548806723207235, test acc: 1.0\n",
      "In trial:---------------------\n",
      "validation mse: 0.005047576999216768\n",
      "num_samples : 10\n",
      "Epoch: 500 train loss=0.012898826 valid loss= 0.009487173\n",
      "train reg_fs: 0.0021047599148005247\n",
      "Epoch: 1000 train loss=0.011955120 valid loss= 0.008959239\n",
      "train reg_fs: 0.002115724142640829\n",
      "Epoch: 1500 train loss=0.006416965 valid loss= 0.007899761\n",
      "train reg_fs: 0.0021046216133981943\n"
     ]
    },
    {
     "name": "stderr",
     "output_type": "stream",
     "text": [
      "\u001b[32m[I 2021-06-07 18:47:38,033]\u001b[0m Trial 7 finished with value: 0.00508217467790855 and parameters: {'lam': 0.0024933118804860138, 'learning_rate': 0.029779834239611475, 'num_epoch': 2000}. Best is trial 4 with value: 0.0010752054741934962.\u001b[0m\n"
     ]
    },
    {
     "name": "stdout",
     "output_type": "stream",
     "text": [
      "Epoch: 2000 train loss=0.017211739 valid loss= 0.007186251\n",
      "train reg_fs: 0.0020783666986972094\n",
      "Optimization Finished!\n",
      "test loss: 0.009350382722914219, test acc: 1.0\n",
      "In trial:---------------------\n",
      "validation mse: 0.00508217467790855\n",
      "num_samples : 10\n",
      "Epoch: 500 train loss=0.015327052 valid loss= 0.006873445\n",
      "train reg_fs: 0.0010927078546956182\n",
      "Epoch: 1000 train loss=0.011930894 valid loss= 0.007229929\n",
      "train reg_fs: 0.0010842438787221909\n",
      "Epoch: 1500 train loss=0.006108251 valid loss= 0.005730150\n",
      "train reg_fs: 0.0010549870785325766\n"
     ]
    },
    {
     "name": "stderr",
     "output_type": "stream",
     "text": [
      "\u001b[32m[I 2021-06-07 18:47:52,029]\u001b[0m Trial 8 finished with value: 0.0033306740384031978 and parameters: {'lam': 0.001231756819901638, 'learning_rate': 0.13088460360096935, 'num_epoch': 2000}. Best is trial 4 with value: 0.0010752054741934962.\u001b[0m\n"
     ]
    },
    {
     "name": "stdout",
     "output_type": "stream",
     "text": [
      "Epoch: 2000 train loss=0.003878758 valid loss= 0.004377028\n",
      "train reg_fs: 0.001032091910019517\n",
      "Optimization Finished!\n",
      "test loss: 0.004651795607060194, test acc: 1.0\n",
      "In trial:---------------------\n",
      "validation mse: 0.0033306740384031978\n",
      "num_samples : 10\n",
      "Epoch: 500 train loss=0.015282326 valid loss= 0.008557163\n",
      "train reg_fs: 0.0011728341924026608\n",
      "Epoch: 1000 train loss=0.012480865 valid loss= 0.008015867\n",
      "train reg_fs: 0.0011835591867566109\n"
     ]
    },
    {
     "ename": "KeyboardInterrupt",
     "evalue": "",
     "output_type": "error",
     "traceback": [
      "\u001b[0;31m---------------------------------------------------------------------------\u001b[0m",
      "\u001b[0;31mKeyboardInterrupt\u001b[0m                         Traceback (most recent call last)",
      "\u001b[0;32m<ipython-input-23-89138ae8a412>\u001b[0m in \u001b[0;36m<module>\u001b[0;34m\u001b[0m\n\u001b[1;32m      2\u001b[0m \u001b[0mmodel\u001b[0m \u001b[0;34m=\u001b[0m \u001b[0;32mNone\u001b[0m\u001b[0;34m\u001b[0m\u001b[0;34m\u001b[0m\u001b[0m\n\u001b[1;32m      3\u001b[0m \u001b[0mstudy\u001b[0m \u001b[0;34m=\u001b[0m \u001b[0moptuna\u001b[0m\u001b[0;34m.\u001b[0m\u001b[0mcreate_study\u001b[0m\u001b[0;34m(\u001b[0m\u001b[0mpruner\u001b[0m\u001b[0;34m=\u001b[0m\u001b[0;32mNone\u001b[0m\u001b[0;34m)\u001b[0m\u001b[0;34m\u001b[0m\u001b[0;34m\u001b[0m\u001b[0m\n\u001b[0;32m----> 4\u001b[0;31m \u001b[0mstudy\u001b[0m\u001b[0;34m.\u001b[0m\u001b[0moptimize\u001b[0m\u001b[0;34m(\u001b[0m\u001b[0mllspin_objective\u001b[0m\u001b[0;34m,\u001b[0m \u001b[0mn_trials\u001b[0m\u001b[0;34m=\u001b[0m\u001b[0;36m100\u001b[0m\u001b[0;34m,\u001b[0m \u001b[0mcallbacks\u001b[0m\u001b[0;34m=\u001b[0m\u001b[0;34m[\u001b[0m\u001b[0mcallback\u001b[0m\u001b[0;34m]\u001b[0m\u001b[0;34m)\u001b[0m\u001b[0;34m\u001b[0m\u001b[0;34m\u001b[0m\u001b[0m\n\u001b[0m",
      "\u001b[0;32m~.local/lib/python3.6/site-packages/optuna/study.py\u001b[0m in \u001b[0;36moptimize\u001b[0;34m(self, func, n_trials, timeout, n_jobs, catch, callbacks, gc_after_trial, show_progress_bar)\u001b[0m\n\u001b[1;32m    407\u001b[0m             \u001b[0mcallbacks\u001b[0m\u001b[0;34m=\u001b[0m\u001b[0mcallbacks\u001b[0m\u001b[0;34m,\u001b[0m\u001b[0;34m\u001b[0m\u001b[0;34m\u001b[0m\u001b[0m\n\u001b[1;32m    408\u001b[0m             \u001b[0mgc_after_trial\u001b[0m\u001b[0;34m=\u001b[0m\u001b[0mgc_after_trial\u001b[0m\u001b[0;34m,\u001b[0m\u001b[0;34m\u001b[0m\u001b[0;34m\u001b[0m\u001b[0m\n\u001b[0;32m--> 409\u001b[0;31m             \u001b[0mshow_progress_bar\u001b[0m\u001b[0;34m=\u001b[0m\u001b[0mshow_progress_bar\u001b[0m\u001b[0;34m,\u001b[0m\u001b[0;34m\u001b[0m\u001b[0;34m\u001b[0m\u001b[0m\n\u001b[0m\u001b[1;32m    410\u001b[0m         )\n\u001b[1;32m    411\u001b[0m \u001b[0;34m\u001b[0m\u001b[0m\n",
      "\u001b[0;32m~.local/lib/python3.6/site-packages/optuna/_optimize.py\u001b[0m in \u001b[0;36m_optimize\u001b[0;34m(study, func, n_trials, timeout, n_jobs, catch, callbacks, gc_after_trial, show_progress_bar)\u001b[0m\n\u001b[1;32m     74\u001b[0m                 \u001b[0mreseed_sampler_rng\u001b[0m\u001b[0;34m=\u001b[0m\u001b[0;32mFalse\u001b[0m\u001b[0;34m,\u001b[0m\u001b[0;34m\u001b[0m\u001b[0;34m\u001b[0m\u001b[0m\n\u001b[1;32m     75\u001b[0m                 \u001b[0mtime_start\u001b[0m\u001b[0;34m=\u001b[0m\u001b[0;32mNone\u001b[0m\u001b[0;34m,\u001b[0m\u001b[0;34m\u001b[0m\u001b[0;34m\u001b[0m\u001b[0m\n\u001b[0;32m---> 76\u001b[0;31m                 \u001b[0mprogress_bar\u001b[0m\u001b[0;34m=\u001b[0m\u001b[0mprogress_bar\u001b[0m\u001b[0;34m,\u001b[0m\u001b[0;34m\u001b[0m\u001b[0;34m\u001b[0m\u001b[0m\n\u001b[0m\u001b[1;32m     77\u001b[0m             )\n\u001b[1;32m     78\u001b[0m         \u001b[0;32melse\u001b[0m\u001b[0;34m:\u001b[0m\u001b[0;34m\u001b[0m\u001b[0;34m\u001b[0m\u001b[0m\n",
      "\u001b[0;32m~.local/lib/python3.6/site-packages/optuna/_optimize.py\u001b[0m in \u001b[0;36m_optimize_sequential\u001b[0;34m(study, func, n_trials, timeout, catch, callbacks, gc_after_trial, reseed_sampler_rng, time_start, progress_bar)\u001b[0m\n\u001b[1;32m    161\u001b[0m \u001b[0;34m\u001b[0m\u001b[0m\n\u001b[1;32m    162\u001b[0m         \u001b[0;32mtry\u001b[0m\u001b[0;34m:\u001b[0m\u001b[0;34m\u001b[0m\u001b[0;34m\u001b[0m\u001b[0m\n\u001b[0;32m--> 163\u001b[0;31m             \u001b[0mtrial\u001b[0m \u001b[0;34m=\u001b[0m \u001b[0m_run_trial\u001b[0m\u001b[0;34m(\u001b[0m\u001b[0mstudy\u001b[0m\u001b[0;34m,\u001b[0m \u001b[0mfunc\u001b[0m\u001b[0;34m,\u001b[0m \u001b[0mcatch\u001b[0m\u001b[0;34m)\u001b[0m\u001b[0;34m\u001b[0m\u001b[0;34m\u001b[0m\u001b[0m\n\u001b[0m\u001b[1;32m    164\u001b[0m         \u001b[0;32mexcept\u001b[0m \u001b[0mException\u001b[0m\u001b[0;34m:\u001b[0m\u001b[0;34m\u001b[0m\u001b[0;34m\u001b[0m\u001b[0m\n\u001b[1;32m    165\u001b[0m             \u001b[0;32mraise\u001b[0m\u001b[0;34m\u001b[0m\u001b[0;34m\u001b[0m\u001b[0m\n",
      "\u001b[0;32m~.local/lib/python3.6/site-packages/optuna/_optimize.py\u001b[0m in \u001b[0;36m_run_trial\u001b[0;34m(study, func, catch)\u001b[0m\n\u001b[1;32m    215\u001b[0m \u001b[0;34m\u001b[0m\u001b[0m\n\u001b[1;32m    216\u001b[0m     \u001b[0;32mtry\u001b[0m\u001b[0;34m:\u001b[0m\u001b[0;34m\u001b[0m\u001b[0;34m\u001b[0m\u001b[0m\n\u001b[0;32m--> 217\u001b[0;31m         \u001b[0mvalue_or_values\u001b[0m \u001b[0;34m=\u001b[0m \u001b[0mfunc\u001b[0m\u001b[0;34m(\u001b[0m\u001b[0mtrial\u001b[0m\u001b[0;34m)\u001b[0m\u001b[0;34m\u001b[0m\u001b[0;34m\u001b[0m\u001b[0m\n\u001b[0m\u001b[1;32m    218\u001b[0m     \u001b[0;32mexcept\u001b[0m \u001b[0mexceptions\u001b[0m\u001b[0;34m.\u001b[0m\u001b[0mTrialPruned\u001b[0m \u001b[0;32mas\u001b[0m \u001b[0me\u001b[0m\u001b[0;34m:\u001b[0m\u001b[0;34m\u001b[0m\u001b[0;34m\u001b[0m\u001b[0m\n\u001b[1;32m    219\u001b[0m         \u001b[0;31m# TODO(mamu): Handle multi-objective cases.\u001b[0m\u001b[0;34m\u001b[0m\u001b[0;34m\u001b[0m\u001b[0;34m\u001b[0m\u001b[0m\n",
      "\u001b[0;32m<ipython-input-22-31be7e4c83c8>\u001b[0m in \u001b[0;36mllspin_objective\u001b[0;34m(trial)\u001b[0m\n\u001b[1;32m     20\u001b[0m     \u001b[0mmodel_dir\u001b[0m \u001b[0;34m=\u001b[0m\u001b[0;32mNone\u001b[0m\u001b[0;34m\u001b[0m\u001b[0;34m\u001b[0m\u001b[0m\n\u001b[1;32m     21\u001b[0m     \u001b[0mmodel\u001b[0m \u001b[0;34m=\u001b[0m \u001b[0mModel\u001b[0m\u001b[0;34m(\u001b[0m\u001b[0;34m**\u001b[0m\u001b[0mparams\u001b[0m\u001b[0;34m)\u001b[0m\u001b[0;34m\u001b[0m\u001b[0;34m\u001b[0m\u001b[0m\n\u001b[0;32m---> 22\u001b[0;31m     \u001b[0mtrain_acces\u001b[0m\u001b[0;34m,\u001b[0m \u001b[0mtrain_losses\u001b[0m\u001b[0;34m,\u001b[0m \u001b[0mval_acces\u001b[0m\u001b[0;34m,\u001b[0m \u001b[0mval_losses\u001b[0m \u001b[0;34m=\u001b[0m \u001b[0mmodel\u001b[0m\u001b[0;34m.\u001b[0m\u001b[0mtrain\u001b[0m\u001b[0;34m(\u001b[0m\u001b[0mtrial\u001b[0m\u001b[0;34m,\u001b[0m \u001b[0mdataset\u001b[0m\u001b[0;34m,\u001b[0m \u001b[0mmodel_dir\u001b[0m\u001b[0;34m,\u001b[0m \u001b[0mnum_epoch\u001b[0m\u001b[0;34m=\u001b[0m\u001b[0mnum_epoch\u001b[0m\u001b[0;34m)\u001b[0m\u001b[0;34m\u001b[0m\u001b[0;34m\u001b[0m\u001b[0m\n\u001b[0m\u001b[1;32m     23\u001b[0m \u001b[0;34m\u001b[0m\u001b[0m\n\u001b[1;32m     24\u001b[0m     \u001b[0mprint\u001b[0m\u001b[0;34m(\u001b[0m\u001b[0;34m\"In trial:---------------------\"\u001b[0m\u001b[0;34m)\u001b[0m\u001b[0;34m\u001b[0m\u001b[0;34m\u001b[0m\u001b[0m\n",
      "\u001b[0;32m~tf/localSTG/script/nips_2021_examples/LSPIN_model.py\u001b[0m in \u001b[0;36mtrain\u001b[0;34m(self, trial, dataset, output_dir, num_epoch, plot_loss)\u001b[0m\n\u001b[1;32m    273\u001b[0m                                                               \u001b[0mself\u001b[0m\u001b[0;34m.\u001b[0m\u001b[0my\u001b[0m\u001b[0;34m:\u001b[0m \u001b[0mbatch_ys\u001b[0m\u001b[0;34m,\u001b[0m\u001b[0;34m\u001b[0m\u001b[0;34m\u001b[0m\u001b[0m\n\u001b[1;32m    274\u001b[0m                                                               \u001b[0mself\u001b[0m\u001b[0;34m.\u001b[0m\u001b[0mtrain_gates\u001b[0m\u001b[0;34m:\u001b[0m \u001b[0;34m[\u001b[0m\u001b[0;36m1.0\u001b[0m\u001b[0;34m]\u001b[0m\u001b[0;34m,\u001b[0m\u001b[0;34m\u001b[0m\u001b[0;34m\u001b[0m\u001b[0m\n\u001b[0;32m--> 275\u001b[0;31m                                                               \u001b[0mself\u001b[0m\u001b[0;34m.\u001b[0m\u001b[0mis_train\u001b[0m\u001b[0;34m:\u001b[0m\u001b[0;32mTrue\u001b[0m\u001b[0;34m,\u001b[0m\u001b[0;34m\u001b[0m\u001b[0;34m\u001b[0m\u001b[0m\n\u001b[0m\u001b[1;32m    276\u001b[0m                                                               })\n\u001b[1;32m    277\u001b[0m                 \u001b[0mavg_loss\u001b[0m \u001b[0;34m+=\u001b[0m \u001b[0mc\u001b[0m \u001b[0;34m/\u001b[0m \u001b[0mtotal_batch\u001b[0m\u001b[0;34m\u001b[0m\u001b[0;34m\u001b[0m\u001b[0m\n",
      "\u001b[0;32m~usr/local/lib/python3.6/dist-packages/tensorflow_core/python/client/session.py\u001b[0m in \u001b[0;36mrun\u001b[0;34m(self, fetches, feed_dict, options, run_metadata)\u001b[0m\n\u001b[1;32m    954\u001b[0m     \u001b[0;32mtry\u001b[0m\u001b[0;34m:\u001b[0m\u001b[0;34m\u001b[0m\u001b[0;34m\u001b[0m\u001b[0m\n\u001b[1;32m    955\u001b[0m       result = self._run(None, fetches, feed_dict, options_ptr,\n\u001b[0;32m--> 956\u001b[0;31m                          run_metadata_ptr)\n\u001b[0m\u001b[1;32m    957\u001b[0m       \u001b[0;32mif\u001b[0m \u001b[0mrun_metadata\u001b[0m\u001b[0;34m:\u001b[0m\u001b[0;34m\u001b[0m\u001b[0;34m\u001b[0m\u001b[0m\n\u001b[1;32m    958\u001b[0m         \u001b[0mproto_data\u001b[0m \u001b[0;34m=\u001b[0m \u001b[0mtf_session\u001b[0m\u001b[0;34m.\u001b[0m\u001b[0mTF_GetBuffer\u001b[0m\u001b[0;34m(\u001b[0m\u001b[0mrun_metadata_ptr\u001b[0m\u001b[0;34m)\u001b[0m\u001b[0;34m\u001b[0m\u001b[0;34m\u001b[0m\u001b[0m\n",
      "\u001b[0;32m~usr/local/lib/python3.6/dist-packages/tensorflow_core/python/client/session.py\u001b[0m in \u001b[0;36m_run\u001b[0;34m(self, handle, fetches, feed_dict, options, run_metadata)\u001b[0m\n\u001b[1;32m   1147\u001b[0m             \u001b[0mfeed_handles\u001b[0m\u001b[0;34m[\u001b[0m\u001b[0msubfeed_t\u001b[0m\u001b[0;34m]\u001b[0m \u001b[0;34m=\u001b[0m \u001b[0msubfeed_val\u001b[0m\u001b[0;34m\u001b[0m\u001b[0;34m\u001b[0m\u001b[0m\n\u001b[1;32m   1148\u001b[0m           \u001b[0;32melse\u001b[0m\u001b[0;34m:\u001b[0m\u001b[0;34m\u001b[0m\u001b[0;34m\u001b[0m\u001b[0m\n\u001b[0;32m-> 1149\u001b[0;31m             \u001b[0mnp_val\u001b[0m \u001b[0;34m=\u001b[0m \u001b[0mnp\u001b[0m\u001b[0;34m.\u001b[0m\u001b[0masarray\u001b[0m\u001b[0;34m(\u001b[0m\u001b[0msubfeed_val\u001b[0m\u001b[0;34m,\u001b[0m \u001b[0mdtype\u001b[0m\u001b[0;34m=\u001b[0m\u001b[0msubfeed_dtype\u001b[0m\u001b[0;34m)\u001b[0m\u001b[0;34m\u001b[0m\u001b[0;34m\u001b[0m\u001b[0m\n\u001b[0m\u001b[1;32m   1150\u001b[0m \u001b[0;34m\u001b[0m\u001b[0m\n\u001b[1;32m   1151\u001b[0m           if (not is_tensor_handle_feed and\n",
      "\u001b[0;32m~usr/local/lib/python3.6/dist-packages/numpy/core/_asarray.py\u001b[0m in \u001b[0;36masarray\u001b[0;34m(a, dtype, order)\u001b[0m\n\u001b[1;32m     83\u001b[0m \u001b[0;34m\u001b[0m\u001b[0m\n\u001b[1;32m     84\u001b[0m     \"\"\"\n\u001b[0;32m---> 85\u001b[0;31m     \u001b[0;32mreturn\u001b[0m \u001b[0marray\u001b[0m\u001b[0;34m(\u001b[0m\u001b[0ma\u001b[0m\u001b[0;34m,\u001b[0m \u001b[0mdtype\u001b[0m\u001b[0;34m,\u001b[0m \u001b[0mcopy\u001b[0m\u001b[0;34m=\u001b[0m\u001b[0;32mFalse\u001b[0m\u001b[0;34m,\u001b[0m \u001b[0morder\u001b[0m\u001b[0;34m=\u001b[0m\u001b[0morder\u001b[0m\u001b[0;34m)\u001b[0m\u001b[0;34m\u001b[0m\u001b[0;34m\u001b[0m\u001b[0m\n\u001b[0m\u001b[1;32m     86\u001b[0m \u001b[0;34m\u001b[0m\u001b[0m\n\u001b[1;32m     87\u001b[0m \u001b[0;34m\u001b[0m\u001b[0m\n",
      "\u001b[0;31mKeyboardInterrupt\u001b[0m: "
     ]
    }
   ],
   "source": [
    "best_model = None\n",
    "model = None\n",
    "study = optuna.create_study(pruner=None)\n",
    "study.optimize(llspin_objective, n_trials=100, callbacks=[callback])"
   ]
  },
  {
   "cell_type": "code",
   "execution_count": 46,
   "metadata": {},
   "outputs": [],
   "source": [
    "gate_mat_train = best_model.get_prob_alpha(X_train)"
   ]
  },
  {
   "cell_type": "code",
   "execution_count": 47,
   "metadata": {},
   "outputs": [],
   "source": [
    "best_lr = study.best_params['learning_rate']\n",
    "best_epoch = study.best_params['num_epoch']\n",
    "best_lam = study.best_params['lam']"
   ]
  },
  {
   "cell_type": "code",
   "execution_count": 48,
   "metadata": {},
   "outputs": [
    {
     "name": "stdout",
     "output_type": "stream",
     "text": [
      "Trial Finished*************\n",
      "Best model's lambda: 0.0020811013859500485\n",
      "Best model's learning rate: 0.15266423143883523\n",
      "Best model's num of epochs: 15000\n",
      "Test mse : 0.00025906965903572585\n",
      "Test r2 : 0.9937485729628137\n"
     ]
    }
   ],
   "source": [
    "y_pred_llspin = best_model.test(X_test)[0]\n",
    "            \n",
    "print(\"Trial Finished*************\")\n",
    "print(\"Best model's lambda: {}\".format(best_lam))\n",
    "print(\"Best model's learning rate: {}\".format(best_lr))\n",
    "print(\"Best model's num of epochs: {}\".format(best_epoch))\n",
    "print(\"Test mse : {}\".format(mean_squared_error(y_test.reshape(-1),y_pred_llspin.reshape(-1))))\n",
    "print(\"Test r2 : {}\".format(r2_score(y_test.reshape(-1),y_pred_llspin.reshape(-1),multioutput='raw_values')[0]))"
   ]
  },
  {
   "cell_type": "markdown",
   "metadata": {},
   "source": [
    "### Comparing the training gates"
   ]
  },
  {
   "cell_type": "code",
   "execution_count": 59,
   "metadata": {},
   "outputs": [],
   "source": [
    "import matplotlib.pyplot as plt\n",
    "from matplotlib import cm,colors\n",
    "\n",
    "cmap = cm.Blues\n",
    "bounds=[0,0.5,1]\n",
    "norm = colors.BoundaryNorm(bounds, cmap.N)\n",
    "\n",
    "title_size = 30\n",
    "xtick_size = 20\n",
    "ytick_size = 20\n",
    "xlabel_size = 35\n",
    "ylabel_size = 35\n",
    "colorbar_tick_size = 20\n",
    "title_pad = 10"
   ]
  },
  {
   "cell_type": "code",
   "execution_count": 69,
   "metadata": {},
   "outputs": [
    {
     "data": {
      "image/png": "[encoded data removed]",
      "text/plain": [
       "<Figure size 576x432 with 4 Axes>"
      ]
     },
     "metadata": {
      "needs_background": "light"
     },
     "output_type": "display_data"
    }
   ],
   "source": [
    "fig, axes = plt.subplots(1, 2,sharex=False, sharey=True,figsize=(8, 6))\n",
    "\n",
    "sorted_order = np.concatenate((np.where(train_label == 1)[0],np.where(train_label == 2)[0]))\n",
    "\n",
    "im1 = axes[0].imshow(ref_feat_mat_train[sorted_order,:].astype(int),aspect='auto',cmap=cmap, norm=norm)\n",
    "axes[0].set_title(\"Ground Truth\",fontsize=title_size,fontweight=\"bold\",pad=title_pad)\n",
    "axes[0].set_ylabel(\"Sample Index\",fontsize=ylabel_size)\n",
    "axes[0].set_yticks([1,3,5,7,9])\n",
    "axes[0].set_yticklabels([2,4,6,8,10],fontsize=ytick_size)\n",
    "axes[0].set_xticks(list(range(5)))\n",
    "axes[0].set_xticklabels(list(range(1,6)),fontsize=xtick_size)\n",
    "axes[0].set_xlabel(\"Feature Index\",fontsize=xlabel_size,labelpad=-5)\n",
    "\n",
    "cbar = fig.colorbar(im1,ax=axes[0], cmap=cmap, norm=norm, boundaries=bounds, ticks=[0, 1])\n",
    "cbar.ax.tick_params(labelsize=colorbar_tick_size)\n",
    "\n",
    "im2 = axes[1].imshow(gate_mat_train[sorted_order,:],aspect='auto',cmap=cmap)\n",
    "axes[1].set_title(\"LLSPIN Gates\",fontsize=title_size,fontweight=\"bold\",pad=title_pad)\n",
    "axes[1].set_yticks([1,3,5,7,9])\n",
    "axes[1].set_yticklabels([2,4,6,8,10],fontsize=ytick_size)\n",
    "axes[1].set_xticks(list(range(5)))\n",
    "axes[1].set_xticklabels(list(range(1,6)),fontsize=xtick_size)\n",
    "axes[1].set_xlabel(\"Feature Index\",fontsize=xlabel_size,labelpad=-5)\n",
    "\n",
    "cbar = fig.colorbar(im2,ax=axes[1])\n",
    "cbar.ax.tick_params(labelsize=colorbar_tick_size)\n",
    "\n",
    "plt.tight_layout()"
   ]
  },
  {
   "cell_type": "markdown",
   "metadata": {},
   "source": [
    "### Comparing the test gates"
   ]
  },
  {
   "cell_type": "code",
   "execution_count": 50,
   "metadata": {},
   "outputs": [],
   "source": [
    "gate_mat_test = best_model.get_prob_alpha(X_test)"
   ]
  },
  {
   "cell_type": "code",
   "execution_count": 70,
   "metadata": {},
   "outputs": [
    {
     "data": {
      "image/png": "[encoded data removed]",
      "text/plain": [
       "<Figure size 576x432 with 4 Axes>"
      ]
     },
     "metadata": {
      "needs_background": "light"
     },
     "output_type": "display_data"
    }
   ],
   "source": [
    "fig, axes = plt.subplots(1, 2,sharex=False, sharey=True,figsize=(8, 6))\n",
    "\n",
    "fig.subplots_adjust(bottom=0.01)\n",
    "\n",
    "im1 = axes[0].imshow(ref_feat_mat_test[sorted_order_test,:].astype(int),aspect='auto',cmap=cmap, norm=norm)\n",
    "axes[0].set_title(\"Ground Truth\",fontsize=title_size,fontweight=\"bold\",pad=title_pad)\n",
    "axes[0].set_ylabel(\"Sample Index\",fontsize=ylabel_size)\n",
    "axes[0].set_yticks([0,9,19,29,39,49])\n",
    "axes[0].set_yticklabels([1,10,20,30,40,50],fontsize=ytick_size)\n",
    "axes[0].set_xticks(list(range(5)))\n",
    "axes[0].set_xticklabels(list(range(1,6)),fontsize=xtick_size)\n",
    "axes[0].set_xlabel(\"Feature Index\",fontsize=xlabel_size,labelpad=-5)\n",
    "cbar = fig.colorbar(im1,ax=axes[0], cmap=cmap, norm=norm, boundaries=bounds, ticks=[0, 1])\n",
    "cbar.ax.tick_params(labelsize=colorbar_tick_size)\n",
    "    \n",
    "im2 = axes[1].imshow(gate_mat_test[sorted_order_test,:],aspect='auto',cmap=cmap)\n",
    "axes[1].set_title(\"LLSPIN Gates\",fontsize=title_size,fontweight=\"bold\",pad=title_pad)\n",
    "axes[1].set_yticks([0,9,19,29,39,49])\n",
    "axes[1].set_yticklabels([1,10,20,30,40,50],fontsize=ytick_size)\n",
    "axes[1].set_xticks(list(range(5)))\n",
    "axes[1].set_xticklabels(list(range(1,6)),fontsize=xtick_size)\n",
    "axes[1].set_xlabel(\"Feature Index\",fontsize=xlabel_size,labelpad=-5)\n",
    "    \n",
    "cbar = fig.colorbar(im2,ax=axes[1])\n",
    "cbar.ax.tick_params(labelsize=colorbar_tick_size)\n",
    "\n",
    "plt.tight_layout()"
   ]
  }
 ],
 "metadata": {
  "kernelspec": {
   "display_name": "Python 3",
   "language": "python",
   "name": "python3"
  },
  "language_info": {
   "codemirror_mode": {
    "name": "ipython",
    "version": 3
   },
   "file_extension": ".py",
   "mimetype": "text/x-python",
   "name": "python",
   "nbconvert_exporter": "python",
   "pygments_lexer": "ipython3",
   "version": "3.6.9"
  }
 },
 "nbformat": 4,
 "nbformat_minor": 4
}
