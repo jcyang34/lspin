{
 "cells": [
  {
   "cell_type": "code",
   "execution_count": 1,
   "metadata": {},
   "outputs": [],
   "source": [
    "import numpy as np\n",
    "import scipy\n",
    "import sys\n",
    "import os\n",
    "import optuna\n",
    "\n",
    "from sklearn.model_selection import train_test_split\n",
    "\n",
    "from lspin.lspin_model import Model\n",
    "from lspin.utils import convertToOneHot, DataSet\n",
    "\n",
    "from matplotlib import cm,colors\n",
    "import matplotlib \n",
    "import matplotlib.pyplot as plt"
   ]
  },
  {
   "cell_type": "code",
   "execution_count": 2,
   "metadata": {},
   "outputs": [],
   "source": [
    "# If need to use GPU\n",
    "os.environ['CUDA_VISIBLE_DEVICES'] = '2'"
   ]
  },
  {
   "cell_type": "markdown",
   "metadata": {},
   "source": [
    "### Data Generation (Exp 4)"
   ]
  },
  {
   "cell_type": "code",
   "execution_count": 3,
   "metadata": {},
   "outputs": [],
   "source": [
    "np.random.seed(34)\n",
    "X1 = np.random.normal(loc=1,scale=0.5,size=(500,4))\n",
    "X2 = np.random.normal(loc=-1,scale=0.5,size=(500,4))\n",
    "logit1 = np.exp(X1[:, 0] *X1[:, 1]  - 0.9)\n",
    "logit2 = np.exp(np.sum(X2[:, 2:4]**2, axis = 1) - 2.5)\n",
    "Y1 = 1.*(1/(1+logit1) > 0.5).reshape(-1,1)\n",
    "Y2 = 1.*(1/(1+logit2) > 0.5).reshape(-1,1)"
   ]
  },
  {
   "cell_type": "code",
   "execution_count": 4,
   "metadata": {},
   "outputs": [],
   "source": [
    "#### add noise to the next 46 irrelevant features\n",
    "X = np.concatenate((X1,X2),axis=0)\n",
    "noise = np.random.normal(loc=0,scale=0.5,size=(1000,46))\n",
    "X = np.concatenate((X,noise),axis=1)\n",
    "Y = np.concatenate((Y1,Y2),axis=0).reshape(-1)"
   ]
  },
  {
   "cell_type": "code",
   "execution_count": 5,
   "metadata": {},
   "outputs": [],
   "source": [
    "ground_truth = np.zeros((1000,50))\n",
    "ground_truth[:500,:2] = 1\n",
    "ground_truth[500:,2:4] = 1"
   ]
  },
  {
   "cell_type": "code",
   "execution_count": 6,
   "metadata": {},
   "outputs": [],
   "source": [
    "Y_onehot = convertToOneHot(Y.astype(int))"
   ]
  },
  {
   "cell_type": "code",
   "execution_count": 7,
   "metadata": {},
   "outputs": [],
   "source": [
    "y_g = np.concatenate((Y_onehot,ground_truth),axis=1)"
   ]
  },
  {
   "cell_type": "code",
   "execution_count": 8,
   "metadata": {},
   "outputs": [],
   "source": [
    "X_non_zeros=np.sum(X,axis=0)!=0\n",
    "XN=scipy.stats.zscore(X[:,X_non_zeros], axis=0)"
   ]
  },
  {
   "cell_type": "code",
   "execution_count": 9,
   "metadata": {},
   "outputs": [],
   "source": [
    "x_train,x_test,y_g_train,y_g_test = train_test_split(XN,y_g,train_size=0.95,random_state=34)\n",
    "x_train,x_valid,y_g_train,y_g_valid = train_test_split(x_train,y_g_train,test_size=0.1,random_state=34)"
   ]
  },
  {
   "cell_type": "code",
   "execution_count": 10,
   "metadata": {},
   "outputs": [],
   "source": [
    "y_train = y_g_train[:,:2]\n",
    "y_valid = y_g_valid[:,:2]\n",
    "y_test = y_g_test[:,:2]"
   ]
  },
  {
   "cell_type": "code",
   "execution_count": 11,
   "metadata": {},
   "outputs": [],
   "source": [
    "g_train = y_g_train[:,2:]\n",
    "g_valid = y_g_valid[:,2:]\n",
    "g_test = y_g_test[:,2:]"
   ]
  },
  {
   "cell_type": "code",
   "execution_count": 12,
   "metadata": {},
   "outputs": [],
   "source": [
    "dataset = DataSet(**{'_data':x_train, '_labels':y_train,\n",
    "                '_valid_data':x_valid, '_valid_labels':y_valid,\n",
    "                '_test_data':x_test, '_test_labels':y_test})"
   ]
  },
  {
   "cell_type": "markdown",
   "metadata": {},
   "source": [
    "### LSPIN"
   ]
  },
  {
   "cell_type": "code",
   "execution_count": 13,
   "metadata": {},
   "outputs": [],
   "source": [
    "# objective function for optuna hyper-parameter optimization\n",
    "def lspin_objective(trial):  \n",
    "    \n",
    "    global model\n",
    "            \n",
    "    params = {\n",
    "        \"input_node\" : x_train.shape[1],  # input dimension for the prediction network\n",
    "        \"hidden_layers_node\" : [200,200], # number of nodes for each hidden layer of the prediction net\n",
    "        \"output_node\" : 2, # number of nodes for the output layer of the prediction net\n",
    "        \"feature_selection\" : True, # if using the gating net\n",
    "        \"gating_net_hidden_layers_node\":[100,100], # number of nodes for each hidden layer of the gating net\n",
    "        \"display_step\" : 200, # number of epochs to output info      \n",
    "    }\n",
    "    params['activation']= 'tanh' # non-linear prediction\n",
    "    params['batch_size']= x_train.shape[0] \n",
    "    # hyper-parameter to optimize: lambda, learning rate, number of epochs\n",
    "    params['lam'] = trial.suggest_loguniform('lam',1.33,1.35) \n",
    "    params['learning_rate'] = trial.suggest_loguniform('learning_rate',0.03,0.05) \n",
    "    num_epoch = trial.suggest_categorical('num_epoch', [1000,1200])\n",
    "    \n",
    "    # specify the model with these parameters and train the model\n",
    "    model_dir = None\n",
    "    model = Model(**params)\n",
    "    train_acces, train_losses, val_acces, val_losses = model.train(trial, dataset, model_dir, num_epoch=num_epoch)\n",
    "        \n",
    "    print(\"In trial:---------------------\")    \n",
    "    loss=(1-val_acces[-1])\n",
    "            \n",
    "    return loss\n",
    "        \n",
    "def callback(study,trial):\n",
    "    global best_model\n",
    "    if study.best_trial == trial:\n",
    "        best_model = model"
   ]
  },
  {
   "cell_type": "code",
   "execution_count": 14,
   "metadata": {
    "scrolled": true
   },
   "outputs": [
    {
     "name": "stderr",
     "output_type": "stream",
     "text": [
      "\u001b[32m[I 2021-06-09 00:59:08,493]\u001b[0m A new study created in memory with name: no-name-f821e573-d926-4f93-9c91-505377ab83c5\u001b[0m\n"
     ]
    },
    {
     "name": "stdout",
     "output_type": "stream",
     "text": [
      "WARNING:tensorflow:From /tf/localSTG/script/arxiv_lspin/LSPIN_model.py:52: The name tf.Session is deprecated. Please use tf.compat.v1.Session instead.\n",
      "\n",
      "WARNING:tensorflow:From /tf/localSTG/script/arxiv_lspin/LSPIN_model.py:54: The name tf.placeholder is deprecated. Please use tf.compat.v1.placeholder instead.\n",
      "\n",
      "WARNING:tensorflow:From /tf/localSTG/script/arxiv_lspin/LSPIN_model.py:70: The name tf.variable_scope is deprecated. Please use tf.compat.v1.variable_scope instead.\n",
      "\n",
      "WARNING:tensorflow:From /tf/localSTG/script/arxiv_lspin/LSPIN_model.py:70: The name tf.AUTO_REUSE is deprecated. Please use tf.compat.v1.AUTO_REUSE instead.\n",
      "\n",
      "WARNING:tensorflow:From /tf/localSTG/script/arxiv_lspin/LSPIN_model.py:71: The name tf.get_variable is deprecated. Please use tf.compat.v1.get_variable instead.\n",
      "\n",
      "WARNING:tensorflow:From /tf/localSTG/script/arxiv_lspin/LSPIN_model.py:259: The name tf.random_normal is deprecated. Please use tf.random.normal instead.\n",
      "\n",
      "WARNING:tensorflow:From /tf/localSTG/script/arxiv_lspin/LSPIN_model.py:107: batch_normalization (from tensorflow.python.layers.normalization) is deprecated and will be removed in a future version.\n",
      "Instructions for updating:\n",
      "Use keras.layers.BatchNormalization instead.  In particular, `tf.control_dependencies(tf.GraphKeys.UPDATE_OPS)` should not be used (consult the `tf.keras.layers.batch_normalization` documentation).\n",
      "WARNING:tensorflow:From /usr/local/lib/python3.6/dist-packages/tensorflow_core/python/layers/normalization.py:327: Layer.apply (from tensorflow.python.keras.engine.base_layer) is deprecated and will be removed in a future version.\n",
      "Instructions for updating:\n",
      "Please use `layer.__call__` method instead.\n",
      "WARNING:tensorflow:From /tf/localSTG/script/arxiv_lspin/LSPIN_model.py:171: softmax_cross_entropy_with_logits (from tensorflow.python.ops.nn_ops) is deprecated and will be removed in a future version.\n",
      "Instructions for updating:\n",
      "\n",
      "Future major versions of TensorFlow will allow gradients to flow\n",
      "into the labels input on backprop by default.\n",
      "\n",
      "See `tf.nn.softmax_cross_entropy_with_logits_v2`.\n",
      "\n",
      "WARNING:tensorflow:From /tf/localSTG/script/arxiv_lspin/LSPIN_model.py:179: The name tf.erf is deprecated. Please use tf.math.erf instead.\n",
      "\n",
      "WARNING:tensorflow:From /tf/localSTG/script/arxiv_lspin/LSPIN_model.py:189: The name tf.get_collection is deprecated. Please use tf.compat.v1.get_collection instead.\n",
      "\n",
      "WARNING:tensorflow:From /tf/localSTG/script/arxiv_lspin/LSPIN_model.py:189: The name tf.GraphKeys is deprecated. Please use tf.compat.v1.GraphKeys instead.\n",
      "\n",
      "WARNING:tensorflow:From /tf/localSTG/script/arxiv_lspin/LSPIN_model.py:191: The name tf.train.GradientDescentOptimizer is deprecated. Please use tf.compat.v1.train.GradientDescentOptimizer instead.\n",
      "\n",
      "WARNING:tensorflow:From /usr/local/lib/python3.6/dist-packages/tensorflow_core/python/ops/math_grad.py:1424: where (from tensorflow.python.ops.array_ops) is deprecated and will be removed in a future version.\n",
      "Instructions for updating:\n",
      "Use tf.where in 2.0, which has the same broadcast rule as np.where\n",
      "WARNING:tensorflow:From /tf/localSTG/script/arxiv_lspin/LSPIN_model.py:198: The name tf.global_variables_initializer is deprecated. Please use tf.compat.v1.global_variables_initializer instead.\n",
      "\n",
      "WARNING:tensorflow:From /tf/localSTG/script/arxiv_lspin/LSPIN_model.py:199: The name tf.train.Saver is deprecated. Please use tf.compat.v1.train.Saver instead.\n",
      "\n",
      "WARNING:tensorflow:From /tf/localSTG/script/arxiv_lspin/LSPIN_model.py:216: The name tf.set_random_seed is deprecated. Please use tf.compat.v1.set_random_seed instead.\n",
      "\n",
      "num_samples : 855\n",
      "Epoch: 200 train loss=1.310165405 valid loss= 1.617476702 valid acc= 0.600000024\n",
      "train reg_fs: 0.9420244693756104\n",
      "Epoch: 400 train loss=1.039386749 valid loss= 1.065548182 valid acc= 0.863157868\n",
      "train reg_fs: 0.7539281249046326\n",
      "Epoch: 600 train loss=0.782097161 valid loss= 0.695846856 valid acc= 0.947368443\n",
      "train reg_fs: 0.4588620364665985\n",
      "Epoch: 800 train loss=0.656143069 valid loss= 0.539656103 valid acc= 0.947368443\n",
      "train reg_fs: 0.32167497277259827\n",
      "Epoch: 1000 train loss=0.604834080 valid loss= 0.529517651 valid acc= 0.936842084\n",
      "train reg_fs: 0.28574448823928833\n"
     ]
    },
    {
     "name": "stderr",
     "output_type": "stream",
     "text": [
      "\u001b[32m[I 2021-06-09 00:59:17,800]\u001b[0m Trial 0 finished with value: 0.0736842155456543 and parameters: {'lam': 1.3323043143332474, 'learning_rate': 0.03579113728490362, 'num_epoch': 1200}. Best is trial 0 with value: 0.0736842155456543.\u001b[0m\n"
     ]
    },
    {
     "name": "stdout",
     "output_type": "stream",
     "text": [
      "Epoch: 1200 train loss=0.580309153 valid loss= 0.546958804 valid acc= 0.926315784\n",
      "train reg_fs: 0.2739960849285126\n",
      "Optimization Finished!\n",
      "test loss: 0.5188823938369751, test acc: 0.9399999976158142\n",
      "In trial:---------------------\n",
      "num_samples : 855\n",
      "Epoch: 200 train loss=1.264215469 valid loss= 1.610129356 valid acc= 0.610526323\n",
      "train reg_fs: 0.9364818930625916\n",
      "Epoch: 400 train loss=0.978311062 valid loss= 1.035368562 valid acc= 0.852631569\n",
      "train reg_fs: 0.6853827834129333\n",
      "Epoch: 600 train loss=0.705202341 valid loss= 0.598279595 valid acc= 0.957894742\n",
      "train reg_fs: 0.3800981938838959\n",
      "Epoch: 800 train loss=0.631145120 valid loss= 0.496793747 valid acc= 0.968421042\n",
      "train reg_fs: 0.2977437376976013\n",
      "Epoch: 1000 train loss=0.605877042 valid loss= 0.482157916 valid acc= 0.947368443\n",
      "train reg_fs: 0.27866417169570923\n"
     ]
    },
    {
     "name": "stderr",
     "output_type": "stream",
     "text": [
      "\u001b[32m[I 2021-06-09 00:59:25,812]\u001b[0m Trial 1 finished with value: 0.06315791606903076 and parameters: {'lam': 1.345281407175253, 'learning_rate': 0.04317489223854034, 'num_epoch': 1200}. Best is trial 1 with value: 0.06315791606903076.\u001b[0m\n"
     ]
    },
    {
     "name": "stdout",
     "output_type": "stream",
     "text": [
      "Epoch: 1200 train loss=0.570747018 valid loss= 0.480518222 valid acc= 0.936842084\n",
      "train reg_fs: 0.2709203064441681\n",
      "Optimization Finished!\n",
      "test loss: 0.4765968322753906, test acc: 0.9399999976158142\n",
      "In trial:---------------------\n",
      "num_samples : 855\n",
      "Epoch: 200 train loss=1.317672729 valid loss= 1.641305685 valid acc= 0.621052623\n",
      "train reg_fs: 0.9525023698806763\n",
      "Epoch: 400 train loss=1.054144979 valid loss= 1.150711536 valid acc= 0.831578970\n",
      "train reg_fs: 0.7656197547912598\n",
      "Epoch: 600 train loss=0.789661169 valid loss= 0.741455436 valid acc= 0.936842084\n",
      "train reg_fs: 0.4903777837753296\n",
      "Epoch: 800 train loss=0.652752221 valid loss= 0.547411084 valid acc= 0.957894742\n",
      "train reg_fs: 0.33770450949668884\n",
      "Epoch: 1000 train loss=0.595542431 valid loss= 0.492202759 valid acc= 0.957894742\n",
      "train reg_fs: 0.29256388545036316\n"
     ]
    },
    {
     "name": "stderr",
     "output_type": "stream",
     "text": [
      "\u001b[32m[I 2021-06-09 00:59:33,716]\u001b[0m Trial 2 finished with value: 0.042105257511138916 and parameters: {'lam': 1.3318084777880048, 'learning_rate': 0.03224241268564818, 'num_epoch': 1200}. Best is trial 2 with value: 0.042105257511138916.\u001b[0m\n"
     ]
    },
    {
     "name": "stdout",
     "output_type": "stream",
     "text": [
      "Epoch: 1200 train loss=0.590168834 valid loss= 0.477563560 valid acc= 0.957894742\n",
      "train reg_fs: 0.2778356969356537\n",
      "Optimization Finished!\n",
      "test loss: 0.4896546006202698, test acc: 0.9399999976158142\n",
      "In trial:---------------------\n",
      "num_samples : 855\n",
      "Epoch: 200 train loss=1.332284212 valid loss= 1.604079962 valid acc= 0.610526323\n",
      "train reg_fs: 0.9404875636100769\n",
      "Epoch: 400 train loss=1.070879936 valid loss= 1.135441065 valid acc= 0.831578970\n",
      "train reg_fs: 0.7720264792442322\n",
      "Epoch: 600 train loss=0.801261008 valid loss= 0.749356389 valid acc= 0.915789485\n",
      "train reg_fs: 0.4924895763397217\n",
      "Epoch: 800 train loss=0.645271897 valid loss= 0.516487956 valid acc= 0.968421042\n",
      "train reg_fs: 0.32349348068237305\n"
     ]
    },
    {
     "name": "stderr",
     "output_type": "stream",
     "text": [
      "\u001b[32m[I 2021-06-09 00:59:40,635]\u001b[0m Trial 3 finished with value: 0.021052658557891846 and parameters: {'lam': 1.3356179802337673, 'learning_rate': 0.03415095165875802, 'num_epoch': 1000}. Best is trial 3 with value: 0.021052658557891846.\u001b[0m\n"
     ]
    },
    {
     "name": "stdout",
     "output_type": "stream",
     "text": [
      "Epoch: 1000 train loss=0.634272575 valid loss= 0.480046391 valid acc= 0.978947341\n",
      "train reg_fs: 0.2885267436504364\n",
      "Optimization Finished!\n",
      "test loss: 0.49368128180503845, test acc: 0.9800000190734863\n",
      "In trial:---------------------\n",
      "num_samples : 855\n",
      "Epoch: 200 train loss=1.254026771 valid loss= 1.541875958 valid acc= 0.652631581\n",
      "train reg_fs: 0.917992353439331\n",
      "Epoch: 400 train loss=0.922410846 valid loss= 0.897333622 valid acc= 0.894736826\n",
      "train reg_fs: 0.6040046811103821\n",
      "Epoch: 600 train loss=0.679880798 valid loss= 0.548994184 valid acc= 0.947368443\n",
      "train reg_fs: 0.353877454996109\n",
      "Epoch: 800 train loss=0.606088221 valid loss= 0.482364327 valid acc= 0.968421042\n",
      "train reg_fs: 0.2950032353401184\n"
     ]
    },
    {
     "name": "stderr",
     "output_type": "stream",
     "text": [
      "\u001b[32m[I 2021-06-09 00:59:47,429]\u001b[0m Trial 4 finished with value: 0.042105257511138916 and parameters: {'lam': 1.3415589989600964, 'learning_rate': 0.041167570906951154, 'num_epoch': 1000}. Best is trial 3 with value: 0.021052658557891846.\u001b[0m\n"
     ]
    },
    {
     "name": "stdout",
     "output_type": "stream",
     "text": [
      "Epoch: 1000 train loss=0.591958165 valid loss= 0.464177370 valid acc= 0.957894742\n",
      "train reg_fs: 0.2756142318248749\n",
      "Optimization Finished!\n",
      "test loss: 0.49727797508239746, test acc: 0.9399999976158142\n",
      "In trial:---------------------\n",
      "num_samples : 855\n",
      "Epoch: 200 train loss=1.342789650 valid loss= 1.630054712 valid acc= 0.589473665\n",
      "train reg_fs: 0.9442297220230103\n",
      "Epoch: 400 train loss=0.985995650 valid loss= 1.037678838 valid acc= 0.810526311\n",
      "train reg_fs: 0.6776531338691711\n",
      "Epoch: 600 train loss=0.734539866 valid loss= 0.607362151 valid acc= 0.947368443\n",
      "train reg_fs: 0.382542222738266\n",
      "Epoch: 800 train loss=0.637869358 valid loss= 0.529847741 valid acc= 0.936842084\n",
      "train reg_fs: 0.299154669046402\n",
      "Epoch: 1000 train loss=0.585578084 valid loss= 0.515826285 valid acc= 0.957894742\n",
      "train reg_fs: 0.2801528573036194\n"
     ]
    },
    {
     "name": "stderr",
     "output_type": "stream",
     "text": [
      "\u001b[32m[I 2021-06-09 00:59:55,353]\u001b[0m Trial 5 finished with value: 0.05263155698776245 and parameters: {'lam': 1.3433969941468273, 'learning_rate': 0.03582338303864946, 'num_epoch': 1200}. Best is trial 3 with value: 0.021052658557891846.\u001b[0m\n"
     ]
    },
    {
     "name": "stdout",
     "output_type": "stream",
     "text": [
      "Epoch: 1200 train loss=0.569369555 valid loss= 0.506338954 valid acc= 0.947368443\n",
      "train reg_fs: 0.2724713385105133\n",
      "Optimization Finished!\n",
      "test loss: 0.5467492341995239, test acc: 0.9399999976158142\n",
      "In trial:---------------------\n",
      "num_samples : 855\n",
      "Epoch: 200 train loss=1.303195238 valid loss= 1.596703053 valid acc= 0.621052623\n",
      "train reg_fs: 0.9282729029655457\n",
      "Epoch: 400 train loss=0.992682099 valid loss= 1.072336435 valid acc= 0.863157868\n",
      "train reg_fs: 0.7041851878166199\n",
      "Epoch: 600 train loss=0.732444406 valid loss= 0.641387939 valid acc= 0.926315784\n",
      "train reg_fs: 0.41450610756874084\n",
      "Epoch: 800 train loss=0.651704073 valid loss= 0.502004743 valid acc= 0.968421042\n",
      "train reg_fs: 0.30314967036247253\n",
      "Epoch: 1000 train loss=0.616323769 valid loss= 0.480842531 valid acc= 0.957894742\n",
      "train reg_fs: 0.28083914518356323\n"
     ]
    },
    {
     "name": "stderr",
     "output_type": "stream",
     "text": [
      "\u001b[32m[I 2021-06-09 01:00:03,400]\u001b[0m Trial 6 finished with value: 0.03157895803451538 and parameters: {'lam': 1.3347912801214878, 'learning_rate': 0.04138448332198891, 'num_epoch': 1200}. Best is trial 3 with value: 0.021052658557891846.\u001b[0m\n"
     ]
    },
    {
     "name": "stdout",
     "output_type": "stream",
     "text": [
      "Epoch: 1200 train loss=0.598537385 valid loss= 0.471546203 valid acc= 0.968421042\n",
      "train reg_fs: 0.2732055187225342\n",
      "Optimization Finished!\n",
      "test loss: 0.4482109546661377, test acc: 0.9599999785423279\n",
      "In trial:---------------------\n",
      "num_samples : 855\n",
      "Epoch: 200 train loss=1.235010505 valid loss= 1.561515808 valid acc= 0.610526323\n",
      "train reg_fs: 0.9197767376899719\n",
      "Epoch: 400 train loss=0.928120196 valid loss= 0.921032906 valid acc= 0.884210527\n",
      "train reg_fs: 0.6404025554656982\n",
      "Epoch: 600 train loss=0.667085826 valid loss= 0.547644794 valid acc= 0.978947341\n",
      "train reg_fs: 0.3559536635875702\n",
      "Epoch: 800 train loss=0.609950721 valid loss= 0.477597892 valid acc= 0.978947341\n",
      "train reg_fs: 0.29402410984039307\n"
     ]
    },
    {
     "name": "stderr",
     "output_type": "stream",
     "text": [
      "\u001b[32m[I 2021-06-09 01:00:10,200]\u001b[0m Trial 7 finished with value: 0.021052658557891846 and parameters: {'lam': 1.3398733937540295, 'learning_rate': 0.04363993309678353, 'num_epoch': 1000}. Best is trial 3 with value: 0.021052658557891846.\u001b[0m\n"
     ]
    },
    {
     "name": "stdout",
     "output_type": "stream",
     "text": [
      "Epoch: 1000 train loss=0.591744184 valid loss= 0.462019593 valid acc= 0.978947341\n",
      "train reg_fs: 0.276135116815567\n",
      "Optimization Finished!\n",
      "test loss: 0.4858841896057129, test acc: 0.9800000190734863\n",
      "In trial:---------------------\n",
      "num_samples : 855\n",
      "Epoch: 200 train loss=1.261884809 valid loss= 1.506924152 valid acc= 0.684210539\n",
      "train reg_fs: 0.9212700724601746\n",
      "Epoch: 400 train loss=0.986238122 valid loss= 1.021186829 valid acc= 0.894736826\n",
      "train reg_fs: 0.6996583342552185\n",
      "Epoch: 600 train loss=0.716787457 valid loss= 0.618490994 valid acc= 0.968421042\n",
      "train reg_fs: 0.4023599624633789\n",
      "Epoch: 800 train loss=0.615418613 valid loss= 0.500361919 valid acc= 0.978947341\n",
      "train reg_fs: 0.3077399730682373\n",
      "Epoch: 1000 train loss=0.599508703 valid loss= 0.471384764 valid acc= 0.968421042\n",
      "train reg_fs: 0.28111428022384644\n"
     ]
    },
    {
     "name": "stderr",
     "output_type": "stream",
     "text": [
      "\u001b[32m[I 2021-06-09 01:00:18,448]\u001b[0m Trial 8 finished with value: 0.021052658557891846 and parameters: {'lam': 1.3350031029756104, 'learning_rate': 0.04004780743454121, 'num_epoch': 1200}. Best is trial 3 with value: 0.021052658557891846.\u001b[0m\n"
     ]
    },
    {
     "name": "stdout",
     "output_type": "stream",
     "text": [
      "Epoch: 1200 train loss=0.586302578 valid loss= 0.462659717 valid acc= 0.978947341\n",
      "train reg_fs: 0.27212661504745483\n",
      "Optimization Finished!\n",
      "test loss: 0.452670693397522, test acc: 0.9800000190734863\n",
      "In trial:---------------------\n",
      "num_samples : 855\n",
      "Epoch: 200 train loss=1.336011648 valid loss= 1.677230835 valid acc= 0.600000024\n",
      "train reg_fs: 0.9620391726493835\n",
      "Epoch: 400 train loss=1.082153320 valid loss= 1.194415212 valid acc= 0.800000012\n",
      "train reg_fs: 0.7892257571220398\n",
      "Epoch: 600 train loss=0.812921643 valid loss= 0.779650092 valid acc= 0.926315784\n",
      "train reg_fs: 0.5160986185073853\n",
      "Epoch: 800 train loss=0.671659529 valid loss= 0.563576221 valid acc= 0.957894742\n",
      "train reg_fs: 0.3428153991699219\n"
     ]
    },
    {
     "name": "stderr",
     "output_type": "stream",
     "text": [
      "\u001b[32m[I 2021-06-09 01:00:25,291]\u001b[0m Trial 9 finished with value: 0.042105257511138916 and parameters: {'lam': 1.3358662625067041, 'learning_rate': 0.032167521607333, 'num_epoch': 1000}. Best is trial 3 with value: 0.021052658557891846.\u001b[0m\n"
     ]
    },
    {
     "name": "stdout",
     "output_type": "stream",
     "text": [
      "Epoch: 1000 train loss=0.607517242 valid loss= 0.518465757 valid acc= 0.957894742\n",
      "train reg_fs: 0.29470598697662354\n",
      "Optimization Finished!\n",
      "test loss: 0.49816828966140747, test acc: 0.9800000190734863\n",
      "In trial:---------------------\n",
      "num_samples : 855\n",
      "Epoch: 200 train loss=1.188124299 valid loss= 1.490750074 valid acc= 0.652631581\n",
      "train reg_fs: 0.8796790242195129\n",
      "Epoch: 400 train loss=0.843880534 valid loss= 0.733621716 valid acc= 0.957894742\n",
      "train reg_fs: 0.5167275667190552\n",
      "Epoch: 600 train loss=0.628564477 valid loss= 0.503264368 valid acc= 0.957894742\n",
      "train reg_fs: 0.30721279978752136\n",
      "Epoch: 800 train loss=0.601631343 valid loss= 0.473148525 valid acc= 0.957894742\n",
      "train reg_fs: 0.27998799085617065\n"
     ]
    },
    {
     "name": "stderr",
     "output_type": "stream",
     "text": [
      "\u001b[32m[I 2021-06-09 01:00:32,237]\u001b[0m Trial 10 finished with value: 0.042105257511138916 and parameters: {'lam': 1.3499676166791879, 'learning_rate': 0.049911690675783375, 'num_epoch': 1000}. Best is trial 3 with value: 0.021052658557891846.\u001b[0m\n"
     ]
    },
    {
     "name": "stdout",
     "output_type": "stream",
     "text": [
      "Epoch: 1000 train loss=0.608754039 valid loss= 0.459806025 valid acc= 0.957894742\n",
      "train reg_fs: 0.2716641128063202\n",
      "Optimization Finished!\n",
      "test loss: 0.4675906300544739, test acc: 0.9399999976158142\n",
      "In trial:---------------------\n",
      "num_samples : 855\n",
      "Epoch: 200 train loss=1.203555822 valid loss= 1.463378429 valid acc= 0.694736838\n",
      "train reg_fs: 0.9057389497756958\n",
      "Epoch: 400 train loss=0.931800187 valid loss= 0.898571253 valid acc= 0.926315784\n",
      "train reg_fs: 0.6492835879325867\n",
      "Epoch: 600 train loss=0.703487217 valid loss= 0.556854665 valid acc= 0.978947341\n",
      "train reg_fs: 0.3758409321308136\n",
      "Epoch: 800 train loss=0.620400071 valid loss= 0.493410289 valid acc= 0.978947341\n",
      "train reg_fs: 0.300072580575943\n"
     ]
    },
    {
     "name": "stderr",
     "output_type": "stream",
     "text": [
      "\u001b[32m[I 2021-06-09 01:00:39,043]\u001b[0m Trial 11 finished with value: 0.042105257511138916 and parameters: {'lam': 1.3389011285437407, 'learning_rate': 0.0471996140661701, 'num_epoch': 1000}. Best is trial 3 with value: 0.021052658557891846.\u001b[0m\n"
     ]
    },
    {
     "name": "stdout",
     "output_type": "stream",
     "text": [
      "Epoch: 1000 train loss=0.570152998 valid loss= 0.478079617 valid acc= 0.957894742\n",
      "train reg_fs: 0.27820560336112976\n",
      "Optimization Finished!\n",
      "test loss: 0.4740692377090454, test acc: 0.9800000190734863\n",
      "In trial:---------------------\n",
      "num_samples : 855\n",
      "Epoch: 200 train loss=1.211282849 valid loss= 1.570477962 valid acc= 0.578947365\n",
      "train reg_fs: 0.8878248333930969\n",
      "Epoch: 400 train loss=0.864595532 valid loss= 0.853734851 valid acc= 0.884210527\n",
      "train reg_fs: 0.5474482774734497\n",
      "Epoch: 600 train loss=0.624862015 valid loss= 0.519303560 valid acc= 0.957894742\n",
      "train reg_fs: 0.32017961144447327\n",
      "Epoch: 800 train loss=0.601745248 valid loss= 0.489950240 valid acc= 0.957894742\n",
      "train reg_fs: 0.28106823563575745\n"
     ]
    },
    {
     "name": "stderr",
     "output_type": "stream",
     "text": [
      "\u001b[32m[I 2021-06-09 01:00:45,842]\u001b[0m Trial 12 finished with value: 0.05263155698776245 and parameters: {'lam': 1.338631222113282, 'learning_rate': 0.04501656682229684, 'num_epoch': 1000}. Best is trial 3 with value: 0.021052658557891846.\u001b[0m\n"
     ]
    },
    {
     "name": "stdout",
     "output_type": "stream",
     "text": [
      "Epoch: 1000 train loss=0.566961288 valid loss= 0.506489575 valid acc= 0.947368443\n",
      "train reg_fs: 0.27065369486808777\n",
      "Optimization Finished!\n",
      "test loss: 0.5161955952644348, test acc: 0.9399999976158142\n",
      "In trial:---------------------\n",
      "num_samples : 855\n",
      "Epoch: 200 train loss=1.326365232 valid loss= 1.634575605 valid acc= 0.610526323\n",
      "train reg_fs: 0.9604507088661194\n",
      "Epoch: 400 train loss=1.095134377 valid loss= 1.123998404 valid acc= 0.873684227\n",
      "train reg_fs: 0.7746894955635071\n",
      "Epoch: 600 train loss=0.799443364 valid loss= 0.732829750 valid acc= 0.936842084\n",
      "train reg_fs: 0.4924046993255615\n",
      "Epoch: 800 train loss=0.625333786 valid loss= 0.549003541 valid acc= 0.947368443\n",
      "train reg_fs: 0.33404117822647095\n"
     ]
    },
    {
     "name": "stderr",
     "output_type": "stream",
     "text": [
      "\u001b[32m[I 2021-06-09 01:00:53,052]\u001b[0m Trial 13 finished with value: 0.0736842155456543 and parameters: {'lam': 1.3469111671793716, 'learning_rate': 0.036597447339059876, 'num_epoch': 1000}. Best is trial 3 with value: 0.021052658557891846.\u001b[0m\n"
     ]
    },
    {
     "name": "stdout",
     "output_type": "stream",
     "text": [
      "Epoch: 1000 train loss=0.612769842 valid loss= 0.521781921 valid acc= 0.926315784\n",
      "train reg_fs: 0.2923942506313324\n",
      "Optimization Finished!\n",
      "test loss: 0.511163055896759, test acc: 0.9399999976158142\n",
      "In trial:---------------------\n",
      "num_samples : 855\n",
      "Epoch: 200 train loss=1.381943703 valid loss= 1.668527842 valid acc= 0.578947365\n",
      "train reg_fs: 0.9755231142044067\n",
      "Epoch: 400 train loss=1.133325577 valid loss= 1.248171568 valid acc= 0.800000012\n",
      "train reg_fs: 0.8427013754844666\n",
      "Epoch: 600 train loss=0.925448060 valid loss= 0.922072291 valid acc= 0.884210527\n",
      "train reg_fs: 0.6421219706535339\n",
      "Epoch: 800 train loss=0.708773553 valid loss= 0.626452804 valid acc= 0.947368443\n",
      "train reg_fs: 0.4067229926586151\n"
     ]
    },
    {
     "name": "stderr",
     "output_type": "stream",
     "text": [
      "\u001b[32m[I 2021-06-09 01:01:00,012]\u001b[0m Trial 14 finished with value: 0.06315791606903076 and parameters: {'lam': 1.3372811446893453, 'learning_rate': 0.03016400359122619, 'num_epoch': 1000}. Best is trial 3 with value: 0.021052658557891846.\u001b[0m\n"
     ]
    },
    {
     "name": "stdout",
     "output_type": "stream",
     "text": [
      "Epoch: 1000 train loss=0.645592034 valid loss= 0.523850143 valid acc= 0.936842084\n",
      "train reg_fs: 0.31478363275527954\n",
      "Optimization Finished!\n",
      "test loss: 0.5361195206642151, test acc: 0.9200000166893005\n",
      "In trial:---------------------\n",
      "num_samples : 855\n",
      "Epoch: 200 train loss=1.347985506 valid loss= 1.689475775 valid acc= 0.536842108\n",
      "train reg_fs: 0.9543085694313049\n",
      "Epoch: 400 train loss=1.043295383 valid loss= 1.134194016 valid acc= 0.810526311\n",
      "train reg_fs: 0.744708240032196\n",
      "Epoch: 600 train loss=0.741665721 valid loss= 0.666089475 valid acc= 0.947368443\n",
      "train reg_fs: 0.43128588795661926\n",
      "Epoch: 800 train loss=0.634939730 valid loss= 0.513010502 valid acc= 0.978947341\n",
      "train reg_fs: 0.31884515285491943\n"
     ]
    },
    {
     "name": "stderr",
     "output_type": "stream",
     "text": [
      "\u001b[32m[I 2021-06-09 01:01:06,919]\u001b[0m Trial 15 finished with value: 0.042105257511138916 and parameters: {'lam': 1.3420099606601028, 'learning_rate': 0.03754177246161795, 'num_epoch': 1000}. Best is trial 3 with value: 0.021052658557891846.\u001b[0m\n"
     ]
    },
    {
     "name": "stdout",
     "output_type": "stream",
     "text": [
      "Epoch: 1000 train loss=0.598432064 valid loss= 0.487925053 valid acc= 0.957894742\n",
      "train reg_fs: 0.29170042276382446\n",
      "Optimization Finished!\n",
      "test loss: 0.4843060374259949, test acc: 0.9599999785423279\n",
      "In trial:---------------------\n",
      "num_samples : 855\n",
      "Epoch: 200 train loss=1.308981538 valid loss= 1.584636450 valid acc= 0.621052623\n",
      "train reg_fs: 0.9284934401512146\n",
      "Epoch: 400 train loss=1.047532916 valid loss= 1.061860561 valid acc= 0.873684227\n",
      "train reg_fs: 0.737003743648529\n",
      "Epoch: 600 train loss=0.775412977 valid loss= 0.742332578 valid acc= 0.905263186\n",
      "train reg_fs: 0.4607210159301758\n",
      "Epoch: 800 train loss=0.656549335 valid loss= 0.544499278 valid acc= 0.926315784\n",
      "train reg_fs: 0.31899961829185486\n"
     ]
    },
    {
     "name": "stderr",
     "output_type": "stream",
     "text": [
      "\u001b[32m[I 2021-06-09 01:01:13,669]\u001b[0m Trial 16 finished with value: 0.06315791606903076 and parameters: {'lam': 1.3301190233706843, 'learning_rate': 0.03326357595843957, 'num_epoch': 1000}. Best is trial 3 with value: 0.021052658557891846.\u001b[0m\n"
     ]
    },
    {
     "name": "stdout",
     "output_type": "stream",
     "text": [
      "Epoch: 1000 train loss=0.588571072 valid loss= 0.497862667 valid acc= 0.936842084\n",
      "train reg_fs: 0.2842864394187927\n",
      "Optimization Finished!\n",
      "test loss: 0.5244101881980896, test acc: 0.9399999976158142\n",
      "In trial:---------------------\n",
      "num_samples : 855\n",
      "Epoch: 200 train loss=1.315474987 valid loss= 1.545742035 valid acc= 0.663157880\n",
      "train reg_fs: 0.925799548625946\n",
      "Epoch: 400 train loss=0.969269753 valid loss= 1.060981393 valid acc= 0.821052611\n",
      "train reg_fs: 0.6563692092895508\n",
      "Epoch: 600 train loss=0.701064348 valid loss= 0.598125935 valid acc= 0.936842084\n",
      "train reg_fs: 0.36821797490119934\n",
      "Epoch: 800 train loss=0.619981289 valid loss= 0.497291625 valid acc= 0.957894742\n",
      "train reg_fs: 0.29789063334465027\n",
      "Epoch: 1000 train loss=0.597427130 valid loss= 0.472958624 valid acc= 0.968421042\n",
      "train reg_fs: 0.2797623574733734\n"
     ]
    },
    {
     "name": "stderr",
     "output_type": "stream",
     "text": [
      "\u001b[32m[I 2021-06-09 01:01:21,609]\u001b[0m Trial 17 finished with value: 0.042105257511138916 and parameters: {'lam': 1.3342120217025752, 'learning_rate': 0.0391524628495796, 'num_epoch': 1200}. Best is trial 3 with value: 0.021052658557891846.\u001b[0m\n"
     ]
    },
    {
     "name": "stdout",
     "output_type": "stream",
     "text": [
      "Epoch: 1200 train loss=0.581128359 valid loss= 0.481639743 valid acc= 0.957894742\n",
      "train reg_fs: 0.2721322774887085\n",
      "Optimization Finished!\n",
      "test loss: 0.46770620346069336, test acc: 0.9800000190734863\n",
      "In trial:---------------------\n",
      "num_samples : 855\n",
      "Epoch: 200 train loss=1.353978395 valid loss= 1.646989465 valid acc= 0.589473665\n",
      "train reg_fs: 0.9549949765205383\n",
      "Epoch: 400 train loss=1.068101048 valid loss= 1.117827535 valid acc= 0.800000012\n",
      "train reg_fs: 0.7421356439590454\n",
      "Epoch: 600 train loss=0.769688010 valid loss= 0.667618155 valid acc= 0.926315784\n",
      "train reg_fs: 0.4382047951221466\n",
      "Epoch: 800 train loss=0.670830011 valid loss= 0.508289337 valid acc= 0.957894742\n",
      "train reg_fs: 0.3143782615661621\n",
      "Epoch: 1000 train loss=0.606644988 valid loss= 0.479618013 valid acc= 0.968421042\n",
      "train reg_fs: 0.28487628698349\n"
     ]
    },
    {
     "name": "stderr",
     "output_type": "stream",
     "text": [
      "\u001b[32m[I 2021-06-09 01:01:29,896]\u001b[0m Trial 18 finished with value: 0.021052658557891846 and parameters: {'lam': 1.3300300351074918, 'learning_rate': 0.034382710425257514, 'num_epoch': 1200}. Best is trial 3 with value: 0.021052658557891846.\u001b[0m\n"
     ]
    },
    {
     "name": "stdout",
     "output_type": "stream",
     "text": [
      "Epoch: 1200 train loss=0.592698157 valid loss= 0.466482908 valid acc= 0.978947341\n",
      "train reg_fs: 0.27433645725250244\n",
      "Optimization Finished!\n",
      "test loss: 0.4661831855773926, test acc: 0.9800000190734863\n",
      "In trial:---------------------\n",
      "num_samples : 855\n",
      "Epoch: 200 train loss=1.372171521 valid loss= 1.618820667 valid acc= 0.600000024\n",
      "train reg_fs: 0.9659713506698608\n",
      "Epoch: 400 train loss=1.098479033 valid loss= 1.171012402 valid acc= 0.821052611\n",
      "train reg_fs: 0.8156918883323669\n",
      "Epoch: 600 train loss=0.864446163 valid loss= 0.833327651 valid acc= 0.905263186\n",
      "train reg_fs: 0.5654541254043579\n",
      "Epoch: 800 train loss=0.707277656 valid loss= 0.584123492 valid acc= 0.947368443\n",
      "train reg_fs: 0.36744609475135803\n",
      "Epoch: 1000 train loss=0.652917564 valid loss= 0.514499903 valid acc= 0.936842084\n",
      "train reg_fs: 0.3049432933330536\n"
     ]
    },
    {
     "name": "stderr",
     "output_type": "stream",
     "text": [
      "\u001b[32m[I 2021-06-09 01:01:37,948]\u001b[0m Trial 19 finished with value: 0.06315791606903076 and parameters: {'lam': 1.3311099795732295, 'learning_rate': 0.030040945006697017, 'num_epoch': 1200}. Best is trial 3 with value: 0.021052658557891846.\u001b[0m\n"
     ]
    },
    {
     "name": "stdout",
     "output_type": "stream",
     "text": [
      "Epoch: 1200 train loss=0.595592499 valid loss= 0.507396102 valid acc= 0.936842084\n",
      "train reg_fs: 0.284793496131897\n",
      "Optimization Finished!\n",
      "test loss: 0.5051913857460022, test acc: 0.9399999976158142\n",
      "In trial:---------------------\n"
     ]
    }
   ],
   "source": [
    "# optimize the model via Optuna and obtain the best model with largest validation acc\n",
    "best_model = None\n",
    "model = None\n",
    "study = optuna.create_study(pruner=None)\n",
    "study.optimize(lspin_objective, n_trials=20, callbacks=[callback])"
   ]
  },
  {
   "cell_type": "code",
   "execution_count": 15,
   "metadata": {},
   "outputs": [],
   "source": [
    "# get the training gate matrix\n",
    "gate_mat_nonl=best_model.get_prob_alpha(x_train)"
   ]
  },
  {
   "cell_type": "code",
   "execution_count": 16,
   "metadata": {},
   "outputs": [
    {
     "name": "stdout",
     "output_type": "stream",
     "text": [
      "test loss: 0.49368128180503845, test acc: 0.9800000190734863\n",
      "Saving model..\n",
      "Trial Finished*************\n",
      "Best model's lambda: 1.3356179802337673\n",
      "Best model's learning rate: 0.03415095165875802\n",
      "Best model's num of epochs: 1000\n",
      "Test acc : 0.9800000190734863\n"
     ]
    }
   ],
   "source": [
    "best_lr = study.best_params['learning_rate']\n",
    "best_epoch = study.best_params['num_epoch']\n",
    "best_lam = study.best_params['lam']\n",
    "\n",
    "# test the best model\n",
    "test_acc, loss = best_model.evaluate(x_test,y_test)\n",
    "            \n",
    "print(\"Trial Finished*************\")\n",
    "print(\"Best model's lambda: {}\".format(best_lam))\n",
    "print(\"Best model's learning rate: {}\".format(best_lr))\n",
    "print(\"Best model's num of epochs: {}\".format(best_epoch))\n",
    "print(\"Test acc : {}\".format(test_acc))"
   ]
  },
  {
   "cell_type": "markdown",
   "metadata": {},
   "source": [
    "### Comparing the training gates to the ground truth"
   ]
  },
  {
   "cell_type": "code",
   "execution_count": 17,
   "metadata": {},
   "outputs": [],
   "source": [
    "cmap = cm.Blues \n",
    "bounds=[0,0.5,1]\n",
    "norm = colors.BoundaryNorm(bounds, cmap.N)\n",
    "\n",
    "title_size = 30\n",
    "xlabel_size = 35\n",
    "ylabel_size = 35\n",
    "xtick_size = 20\n",
    "ytick_size = 20\n",
    "bar_label_size = 20"
   ]
  },
  {
   "cell_type": "code",
   "execution_count": 18,
   "metadata": {},
   "outputs": [
    {
     "data": {
      "image/png": "[encoded data removed]",
      "text/plain": [
       "<Figure size 720x432 with 5 Axes>"
      ]
     },
     "metadata": {
      "needs_background": "light"
     },
     "output_type": "display_data"
    }
   ],
   "source": [
    "fig, axes = plt.subplots(1, 2, sharex=True,sharey=False,figsize=(10,6))\n",
    "\n",
    "fig.add_subplot(111, frameon=False)\n",
    "matplotlib.rc('xtick', labelsize=xtick_size) \n",
    "\n",
    "g_train_label = 1*(g_train[:,2] == 1)\n",
    "sorted_order_train = np.concatenate((np.where(g_train_label == 0)[0],np.where(g_train_label == 1)[0]))\n",
    "\n",
    "im1 = axes[0].imshow(g_train[sorted_order_train,:25],aspect='auto',cmap=cmap, norm=norm)\n",
    "axes[0].set_title(\"Ground Truth\",fontsize=title_size,fontweight=\"bold\")\n",
    "axes[0].set_xticks([0,1,2,3,9,14,19])\n",
    "axes[0].set_xticklabels([1,2,3,4,10,15,20],fontsize=xtick_size)\n",
    "axes[0].set_yticks([0,199,399,599,799])\n",
    "axes[0].set_yticklabels([1,200,400,600,800],fontsize=ytick_size)\n",
    "axes[0].set_ylabel(\"Sample Index\",fontsize=ylabel_size,labelpad=7)\n",
    "\n",
    "im3 = axes[1].imshow(gate_mat_nonl[sorted_order_train,:25],aspect='auto',cmap=cmap)\n",
    "axes[1].set_title(\"LSPIN\",fontsize=title_size,fontweight=\"bold\")\n",
    "axes[1].set_yticks([0,199,399,599,799])\n",
    "axes[1].set_yticklabels([1,200,400,600,800],fontsize=ytick_size)\n",
    "\n",
    "cbar = fig.colorbar(im1,ax=axes[0], cmap=cmap, norm=norm, boundaries=bounds, ticks=[0, 1])\n",
    "cbar.ax.tick_params(labelsize=bar_label_size)\n",
    "cbar = fig.colorbar(im3,ax=axes[1])\n",
    "cbar.ax.tick_params(labelsize=bar_label_size)\n",
    "\n",
    "plt.tick_params(labelcolor='none', top=False, bottom=False, left=False, right=False)\n",
    "plt.xlabel(\"Feature Index\",fontsize=xlabel_size)\n",
    "\n",
    "plt.tight_layout()"
   ]
  },
  {
   "cell_type": "code",
   "execution_count": 19,
   "metadata": {},
   "outputs": [
    {
     "name": "stdout",
     "output_type": "stream",
     "text": [
      "True Positive Rate: 1.0000\n"
     ]
    }
   ],
   "source": [
    "### TPR of the discoveries\n",
    "print(\"True Positive Rate: {:.4f}\".format(np.sum((g_train > 0) & (gate_mat_nonl >0))/np.sum(g_train > 0)))"
   ]
  },
  {
   "cell_type": "code",
   "execution_count": 20,
   "metadata": {},
   "outputs": [
    {
     "name": "stdout",
     "output_type": "stream",
     "text": [
      "False Discovery Rate: 0.0573\n"
     ]
    }
   ],
   "source": [
    "### FDR of the discoveries\n",
    "print(\"False Discovery Rate: {:.4f}\".format(np.sum((g_train ==0)&(gate_mat_nonl >0))/np.sum(gate_mat_nonl >0)))"
   ]
  },
  {
   "cell_type": "markdown",
   "metadata": {},
   "source": [
    "### Compare the test gates to the ground truth"
   ]
  },
  {
   "cell_type": "code",
   "execution_count": 21,
   "metadata": {},
   "outputs": [],
   "source": [
    "gate_mat_nonl_test = best_model.get_prob_alpha(x_test)"
   ]
  },
  {
   "cell_type": "code",
   "execution_count": 22,
   "metadata": {},
   "outputs": [
    {
     "data": {
      "image/png": "[encoded data removed]",
      "text/plain": [
       "<Figure size 720x432 with 5 Axes>"
      ]
     },
     "metadata": {
      "needs_background": "light"
     },
     "output_type": "display_data"
    }
   ],
   "source": [
    "fig, axes = plt.subplots(1, 2, sharex=True,sharey=False,figsize=(10,6))\n",
    "\n",
    "fig.add_subplot(111, frameon=False)\n",
    "\n",
    "matplotlib.rc('xtick', labelsize=xtick_size) \n",
    "\n",
    "g_test_label = 1*(g_test[:,2] == 1)\n",
    "sorted_order_test = np.concatenate((np.where(g_test_label == 0)[0],np.where(g_test_label == 1)[0]))\n",
    "\n",
    "im1 = axes[0].imshow(g_test[sorted_order_test,:25],aspect='auto',cmap=cmap, norm=norm)\n",
    "axes[0].set_title(\"Ground Truth\",fontsize=title_size,fontweight=\"bold\")\n",
    "axes[0].set_ylabel(\"Sample Index\",fontsize=ylabel_size,labelpad=20)\n",
    "axes[0].set_xticks([0,1,2,3,9,14,19])\n",
    "axes[0].set_xticklabels([1,2,3,4,10,15,20],fontsize=xtick_size)\n",
    "axes[0].set_yticks([0,19,39])\n",
    "axes[0].set_yticklabels([1,20,40],fontsize=ytick_size)\n",
    "\n",
    "im2 = axes[1].imshow(gate_mat_nonl_test[sorted_order_test,:25],aspect='auto',cmap=cmap)\n",
    "axes[1].set_title(\"LSPIN\",fontsize=title_size,fontweight=\"bold\")\n",
    "axes[1].set_yticks([0,19,39])\n",
    "axes[1].set_yticklabels([1,20,40],fontsize=ytick_size)\n",
    "\n",
    "cbar = fig.colorbar(im1,ax=axes[0], cmap=cmap, norm=norm, boundaries=bounds, ticks=[0, 1])\n",
    "cbar.ax.tick_params(labelsize=bar_label_size)\n",
    "cbar = fig.colorbar(im2,ax=axes[1])\n",
    "cbar.ax.tick_params(labelsize=bar_label_size)\n",
    "\n",
    "plt.tick_params(labelcolor='none', top=False, bottom=False, left=False, right=False)\n",
    "plt.xlabel(\"Feature Index\",fontsize=xlabel_size)\n",
    "plt.tight_layout()"
   ]
  },
  {
   "cell_type": "code",
   "execution_count": 23,
   "metadata": {},
   "outputs": [
    {
     "name": "stdout",
     "output_type": "stream",
     "text": [
      "True Positive Rate: 1.0000\n"
     ]
    }
   ],
   "source": [
    "### TPR\n",
    "print(\"True Positive Rate: {:.4f}\".format(np.sum((g_test > 0) & (gate_mat_nonl_test >0))/np.sum(g_test > 0)))"
   ]
  },
  {
   "cell_type": "code",
   "execution_count": 24,
   "metadata": {},
   "outputs": [
    {
     "name": "stdout",
     "output_type": "stream",
     "text": [
      "False Discovery Rate: 0.0566\n"
     ]
    }
   ],
   "source": [
    "### FDR:\n",
    "print(\"False Discovery Rate: {:.4f}\".format(np.sum((g_test ==0)&(gate_mat_nonl_test >0))/np.sum(gate_mat_nonl_test >0)))"
   ]
  }
 ],
 "metadata": {
  "kernelspec": {
   "display_name": "Python 3",
   "language": "python",
   "name": "python3"
  },
  "language_info": {
   "codemirror_mode": {
    "name": "ipython",
    "version": 3
   },
   "file_extension": ".py",
   "mimetype": "text/x-python",
   "name": "python",
   "nbconvert_exporter": "python",
   "pygments_lexer": "ipython3",
   "version": "3.6.9"
  }
 },
 "nbformat": 4,
 "nbformat_minor": 4
}
