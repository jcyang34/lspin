{
 "cells": [
  {
   "cell_type": "code",
   "execution_count": 1,
   "metadata": {},
   "outputs": [],
   "source": [
    "import numpy as np\n",
    "import scipy\n",
    "import sys\n",
    "import os\n",
    "import optuna\n",
    "\n",
    "from sklearn.model_selection import train_test_split\n",
    "\n",
    "from lspin.lspin_model import Model\n",
    "from lspin.utils import convertToOneHot, DataSet\n",
    "\n",
    "from matplotlib import cm,colors\n",
    "import matplotlib \n",
    "import matplotlib.pyplot as plt"
   ]
  },
  {
   "cell_type": "code",
   "execution_count": 3,
   "metadata": {},
   "outputs": [],
   "source": [
    "# If need to use GPU\n",
    "os.environ['CUDA_VISIBLE_DEVICES'] = '0'"
   ]
  },
  {
   "cell_type": "markdown",
   "metadata": {},
   "source": [
    "### Data Generation (Exp 4)"
   ]
  },
  {
   "cell_type": "code",
   "execution_count": 4,
   "metadata": {},
   "outputs": [],
   "source": [
    "np.random.seed(34)\n",
    "X1 = np.random.normal(loc=1,scale=0.5,size=(500,4))\n",
    "X2 = np.random.normal(loc=-1,scale=0.5,size=(500,4))\n",
    "logit1 = np.exp(X1[:, 0] *X1[:, 1]  - 0.9)\n",
    "logit2 = np.exp(np.sum(X2[:, 2:4]**2, axis = 1) - 2.5)\n",
    "Y1 = 1.*(1/(1+logit1) > 0.5).reshape(-1,1)\n",
    "Y2 = 1.*(1/(1+logit2) > 0.5).reshape(-1,1)"
   ]
  },
  {
   "cell_type": "code",
   "execution_count": 5,
   "metadata": {},
   "outputs": [],
   "source": [
    "#### add noise to the next 46 irrelevant features\n",
    "X = np.concatenate((X1,X2),axis=0)\n",
    "noise = np.random.normal(loc=0,scale=0.5,size=(1000,46))\n",
    "X = np.concatenate((X,noise),axis=1)\n",
    "Y = np.concatenate((Y1,Y2),axis=0).reshape(-1)"
   ]
  },
  {
   "cell_type": "code",
   "execution_count": 6,
   "metadata": {},
   "outputs": [],
   "source": [
    "ground_truth = np.zeros((1000,50))\n",
    "ground_truth[:500,:2] = 1\n",
    "ground_truth[500:,2:4] = 1"
   ]
  },
  {
   "cell_type": "code",
   "execution_count": 7,
   "metadata": {},
   "outputs": [],
   "source": [
    "Y_onehot = convertToOneHot(Y.astype(int))"
   ]
  },
  {
   "cell_type": "code",
   "execution_count": 8,
   "metadata": {},
   "outputs": [],
   "source": [
    "y_g = np.concatenate((Y_onehot,ground_truth),axis=1)"
   ]
  },
  {
   "cell_type": "code",
   "execution_count": 9,
   "metadata": {},
   "outputs": [],
   "source": [
    "X_non_zeros=np.sum(X,axis=0)!=0\n",
    "XN=scipy.stats.zscore(X[:,X_non_zeros], axis=0)"
   ]
  },
  {
   "cell_type": "code",
   "execution_count": 10,
   "metadata": {},
   "outputs": [
    {
     "data": {
      "text/plain": [
       "(50,)"
      ]
     },
     "execution_count": 10,
     "metadata": {},
     "output_type": "execute_result"
    }
   ],
   "source": [
    "X_non_zeros.shape"
   ]
  },
  {
   "cell_type": "code",
   "execution_count": 11,
   "metadata": {},
   "outputs": [],
   "source": [
    "x_train,x_test,y_g_train,y_g_test = train_test_split(XN,y_g,train_size=0.95,random_state=34)\n",
    "x_train,x_valid,y_g_train,y_g_valid = train_test_split(x_train,y_g_train,test_size=0.1,random_state=34)"
   ]
  },
  {
   "cell_type": "code",
   "execution_count": 12,
   "metadata": {},
   "outputs": [],
   "source": [
    "y_train = y_g_train[:,:2]\n",
    "y_valid = y_g_valid[:,:2]\n",
    "y_test = y_g_test[:,:2]"
   ]
  },
  {
   "cell_type": "code",
   "execution_count": 13,
   "metadata": {},
   "outputs": [],
   "source": [
    "g_train = y_g_train[:,2:]\n",
    "g_valid = y_g_valid[:,2:]\n",
    "g_test = y_g_test[:,2:]"
   ]
  },
  {
   "cell_type": "code",
   "execution_count": 14,
   "metadata": {},
   "outputs": [],
   "source": [
    "dataset = DataSet(**{'_data':x_train, '_labels':y_train,\n",
    "                '_valid_data':x_valid, '_valid_labels':y_valid,\n",
    "                '_test_data':x_test, '_test_labels':y_test})"
   ]
  },
  {
   "cell_type": "markdown",
   "metadata": {},
   "source": [
    "### LSPIN"
   ]
  },
  {
   "cell_type": "code",
   "execution_count": 15,
   "metadata": {},
   "outputs": [],
   "source": [
    "# objective function for optuna hyper-parameter optimization\n",
    "def lspin_objective(trial):  \n",
    "    \n",
    "    global model\n",
    "            \n",
    "    params = {\n",
    "        \"input_node\" : x_train.shape[1],           # input dimension for the prediction network\n",
    "        \"hidden_layers_node\" : [200,200],          # number of nodes for each hidden layer of the prediction net\n",
    "        \"output_node\" : 2,                         # number of nodes for the output layer of the prediction net\n",
    "        \"feature_selection\" : True,                # if using the gating net\n",
    "        \"gating_net_hidden_layers_node\":[100,100], # number of nodes for each hidden layer of the gating net\n",
    "        \"display_step\" : 200,                      # number of epochs to output info      \n",
    "    }\n",
    "    params['activation']= 'tanh' # non-linear prediction\n",
    "    params['batch_size']= x_train.shape[0] \n",
    "    # hyper-parameter to optimize: lambda, learning rate, number of epochs\n",
    "    params['lam'] = trial.suggest_loguniform('lam',1.33,1.35) \n",
    "    params['learning_rate'] = trial.suggest_loguniform('learning_rate',0.03,0.05) \n",
    "    num_epoch = trial.suggest_categorical('num_epoch', [1000,1200])\n",
    "    \n",
    "    # specify the model with these parameters and train the model\n",
    "    model_dir = None\n",
    "    model = Model(**params)\n",
    "    train_acces, train_losses, val_acces, val_losses = model.train(trial, dataset, model_dir, num_epoch=num_epoch)\n",
    "        \n",
    "    print(\"In trial:---------------------\")    \n",
    "    loss=(1-val_acces[-1])\n",
    "            \n",
    "    return loss\n",
    "        \n",
    "def callback(study,trial):\n",
    "    global best_model\n",
    "    if study.best_trial == trial:\n",
    "        best_model = model"
   ]
  },
  {
   "cell_type": "code",
   "execution_count": 16,
   "metadata": {
    "scrolled": true
   },
   "outputs": [
    {
     "name": "stderr",
     "output_type": "stream",
     "text": [
      "\u001b[32m[I 2021-06-13 18:29:59,416]\u001b[0m A new study created in memory with name: no-name-c06a463c-d05d-4ad9-bb86-06540d64ef1b\u001b[0m\n"
     ]
    },
    {
     "name": "stdout",
     "output_type": "stream",
     "text": [
      "WARNING:tensorflow:From /.local/lib/python3.6/site-packages/lspin/lspin_model.py:52: The name tf.Session is deprecated. Please use tf.compat.v1.Session instead.\n",
      "\n",
      "WARNING:tensorflow:From /.local/lib/python3.6/site-packages/lspin/lspin_model.py:54: The name tf.placeholder is deprecated. Please use tf.compat.v1.placeholder instead.\n",
      "\n",
      "WARNING:tensorflow:From /.local/lib/python3.6/site-packages/lspin/lspin_model.py:70: The name tf.variable_scope is deprecated. Please use tf.compat.v1.variable_scope instead.\n",
      "\n",
      "WARNING:tensorflow:From /.local/lib/python3.6/site-packages/lspin/lspin_model.py:70: The name tf.AUTO_REUSE is deprecated. Please use tf.compat.v1.AUTO_REUSE instead.\n",
      "\n",
      "WARNING:tensorflow:From /.local/lib/python3.6/site-packages/lspin/lspin_model.py:71: The name tf.get_variable is deprecated. Please use tf.compat.v1.get_variable instead.\n",
      "\n",
      "WARNING:tensorflow:From /.local/lib/python3.6/site-packages/lspin/lspin_model.py:259: The name tf.random_normal is deprecated. Please use tf.random.normal instead.\n",
      "\n",
      "WARNING:tensorflow:From /.local/lib/python3.6/site-packages/lspin/lspin_model.py:107: batch_normalization (from tensorflow.python.layers.normalization) is deprecated and will be removed in a future version.\n",
      "Instructions for updating:\n",
      "Use keras.layers.BatchNormalization instead.  In particular, `tf.control_dependencies(tf.GraphKeys.UPDATE_OPS)` should not be used (consult the `tf.keras.layers.batch_normalization` documentation).\n",
      "WARNING:tensorflow:From /usr/local/lib/python3.6/dist-packages/tensorflow_core/python/layers/normalization.py:327: Layer.apply (from tensorflow.python.keras.engine.base_layer) is deprecated and will be removed in a future version.\n",
      "Instructions for updating:\n",
      "Please use `layer.__call__` method instead.\n",
      "WARNING:tensorflow:From /.local/lib/python3.6/site-packages/lspin/lspin_model.py:171: softmax_cross_entropy_with_logits (from tensorflow.python.ops.nn_ops) is deprecated and will be removed in a future version.\n",
      "Instructions for updating:\n",
      "\n",
      "Future major versions of TensorFlow will allow gradients to flow\n",
      "into the labels input on backprop by default.\n",
      "\n",
      "See `tf.nn.softmax_cross_entropy_with_logits_v2`.\n",
      "\n",
      "WARNING:tensorflow:From /.local/lib/python3.6/site-packages/lspin/lspin_model.py:179: The name tf.erf is deprecated. Please use tf.math.erf instead.\n",
      "\n",
      "WARNING:tensorflow:From /.local/lib/python3.6/site-packages/lspin/lspin_model.py:189: The name tf.get_collection is deprecated. Please use tf.compat.v1.get_collection instead.\n",
      "\n",
      "WARNING:tensorflow:From /.local/lib/python3.6/site-packages/lspin/lspin_model.py:189: The name tf.GraphKeys is deprecated. Please use tf.compat.v1.GraphKeys instead.\n",
      "\n",
      "WARNING:tensorflow:From /.local/lib/python3.6/site-packages/lspin/lspin_model.py:191: The name tf.train.GradientDescentOptimizer is deprecated. Please use tf.compat.v1.train.GradientDescentOptimizer instead.\n",
      "\n",
      "WARNING:tensorflow:From /usr/local/lib/python3.6/dist-packages/tensorflow_core/python/ops/math_grad.py:1424: where (from tensorflow.python.ops.array_ops) is deprecated and will be removed in a future version.\n",
      "Instructions for updating:\n",
      "Use tf.where in 2.0, which has the same broadcast rule as np.where\n",
      "WARNING:tensorflow:From /.local/lib/python3.6/site-packages/lspin/lspin_model.py:198: The name tf.global_variables_initializer is deprecated. Please use tf.compat.v1.global_variables_initializer instead.\n",
      "\n",
      "WARNING:tensorflow:From /.local/lib/python3.6/site-packages/lspin/lspin_model.py:199: The name tf.train.Saver is deprecated. Please use tf.compat.v1.train.Saver instead.\n",
      "\n",
      "WARNING:tensorflow:From /.local/lib/python3.6/site-packages/lspin/lspin_model.py:216: The name tf.set_random_seed is deprecated. Please use tf.compat.v1.set_random_seed instead.\n",
      "\n",
      "num_samples : 855\n",
      "Epoch: 200 train loss=1.330508232 valid loss= 1.622076631 valid acc= 0.631578922\n",
      "train reg_fs: 0.9629896283149719\n",
      "Epoch: 400 train loss=1.064807415 valid loss= 1.126667976 valid acc= 0.842105269\n",
      "train reg_fs: 0.7787948250770569\n",
      "Epoch: 600 train loss=0.791380107 valid loss= 0.715648234 valid acc= 0.947368443\n",
      "train reg_fs: 0.48859262466430664\n",
      "Epoch: 800 train loss=0.642036915 valid loss= 0.540754437 valid acc= 0.947368443\n",
      "train reg_fs: 0.33628109097480774\n"
     ]
    },
    {
     "name": "stderr",
     "output_type": "stream",
     "text": [
      "\u001b[32m[I 2021-06-13 18:30:08,094]\u001b[0m Trial 0 finished with value: 0.05263155698776245 and parameters: {'lam': 1.349108443286322, 'learning_rate': 0.03276275751474345, 'num_epoch': 1000}. Best is trial 0 with value: 0.05263155698776245.\u001b[0m\n"
     ]
    },
    {
     "name": "stdout",
     "output_type": "stream",
     "text": [
      "Epoch: 1000 train loss=0.603522539 valid loss= 0.489048421 valid acc= 0.947368443\n",
      "train reg_fs: 0.2927262485027313\n",
      "Optimization Finished!\n",
      "test loss: 0.491611123085022, test acc: 0.9399999976158142\n",
      "In trial:---------------------\n",
      "num_samples : 855\n",
      "Epoch: 200 train loss=1.238797545 valid loss= 1.536481619 valid acc= 0.694736838\n",
      "train reg_fs: 0.9221813678741455\n",
      "Epoch: 400 train loss=0.976688385 valid loss= 1.013443828 valid acc= 0.873684227\n",
      "train reg_fs: 0.6966350078582764\n",
      "Epoch: 600 train loss=0.727110207 valid loss= 0.618285537 valid acc= 0.936842084\n",
      "train reg_fs: 0.3946290910243988\n",
      "Epoch: 800 train loss=0.600724816 valid loss= 0.502949893 valid acc= 0.957894742\n",
      "train reg_fs: 0.30123186111450195\n",
      "Epoch: 1000 train loss=0.594852746 valid loss= 0.467586935 valid acc= 0.957894742\n",
      "train reg_fs: 0.27850812673568726\n"
     ]
    },
    {
     "name": "stderr",
     "output_type": "stream",
     "text": [
      "\u001b[32m[I 2021-06-13 18:30:16,716]\u001b[0m Trial 1 finished with value: 0.042105257511138916 and parameters: {'lam': 1.3385490327713923, 'learning_rate': 0.04332348467882946, 'num_epoch': 1200}. Best is trial 1 with value: 0.042105257511138916.\u001b[0m\n"
     ]
    },
    {
     "name": "stdout",
     "output_type": "stream",
     "text": [
      "Epoch: 1200 train loss=0.566719413 valid loss= 0.456457466 valid acc= 0.957894742\n",
      "train reg_fs: 0.27052533626556396\n",
      "Optimization Finished!\n",
      "test loss: 0.507614016532898, test acc: 0.9200000166893005\n",
      "In trial:---------------------\n",
      "num_samples : 855\n",
      "Epoch: 200 train loss=1.302545905 valid loss= 1.613818407 valid acc= 0.621052623\n",
      "train reg_fs: 0.9566023945808411\n",
      "Epoch: 400 train loss=1.119749546 valid loss= 1.152888298 valid acc= 0.894736826\n",
      "train reg_fs: 0.8332911729812622\n",
      "Epoch: 600 train loss=0.954648733 valid loss= 0.944650531 valid acc= 0.936842084\n",
      "train reg_fs: 0.6837295889854431\n",
      "Epoch: 800 train loss=0.767820418 valid loss= 0.703142166 valid acc= 0.947368443\n",
      "train reg_fs: 0.4698359966278076\n"
     ]
    },
    {
     "name": "stderr",
     "output_type": "stream",
     "text": [
      "\u001b[32m[I 2021-06-13 18:30:24,190]\u001b[0m Trial 2 finished with value: 0.042105257511138916 and parameters: {'lam': 1.3418298205239603, 'learning_rate': 0.03782913220752351, 'num_epoch': 1000}. Best is trial 1 with value: 0.042105257511138916.\u001b[0m\n"
     ]
    },
    {
     "name": "stdout",
     "output_type": "stream",
     "text": [
      "Epoch: 1000 train loss=0.653873384 valid loss= 0.533041596 valid acc= 0.957894742\n",
      "train reg_fs: 0.3342238962650299\n",
      "Optimization Finished!\n",
      "test loss: 0.5529507398605347, test acc: 0.9399999976158142\n",
      "In trial:---------------------\n",
      "num_samples : 855\n",
      "Epoch: 200 train loss=1.294185400 valid loss= 1.587030888 valid acc= 0.663157880\n",
      "train reg_fs: 0.9434335231781006\n",
      "Epoch: 400 train loss=1.046297193 valid loss= 1.106652975 valid acc= 0.863157868\n",
      "train reg_fs: 0.7625693678855896\n",
      "Epoch: 600 train loss=0.816289842 valid loss= 0.722737074 valid acc= 0.936842084\n",
      "train reg_fs: 0.49107903242111206\n",
      "Epoch: 800 train loss=0.637736559 valid loss= 0.534603000 valid acc= 0.947368443\n",
      "train reg_fs: 0.3247310221195221\n",
      "Epoch: 1000 train loss=0.629936397 valid loss= 0.496350586 valid acc= 0.947368443\n",
      "train reg_fs: 0.28908663988113403\n"
     ]
    },
    {
     "name": "stderr",
     "output_type": "stream",
     "text": [
      "\u001b[32m[I 2021-06-13 18:30:33,251]\u001b[0m Trial 3 finished with value: 0.05263155698776245 and parameters: {'lam': 1.337330022574576, 'learning_rate': 0.035849375853519064, 'num_epoch': 1200}. Best is trial 1 with value: 0.042105257511138916.\u001b[0m\n"
     ]
    },
    {
     "name": "stdout",
     "output_type": "stream",
     "text": [
      "Epoch: 1200 train loss=0.592648029 valid loss= 0.486068606 valid acc= 0.947368443\n",
      "train reg_fs: 0.2773953974246979\n",
      "Optimization Finished!\n",
      "test loss: 0.49885544180870056, test acc: 0.9200000166893005\n",
      "In trial:---------------------\n",
      "num_samples : 855\n",
      "Epoch: 200 train loss=1.251464844 valid loss= 1.553488493 valid acc= 0.642105281\n",
      "train reg_fs: 0.9303475022315979\n",
      "Epoch: 400 train loss=1.035670161 valid loss= 1.028103113 valid acc= 0.894736826\n",
      "train reg_fs: 0.7373852133750916\n",
      "Epoch: 600 train loss=0.753356934 valid loss= 0.672523856 valid acc= 0.926315784\n",
      "train reg_fs: 0.44424834847450256\n",
      "Epoch: 800 train loss=0.632213831 valid loss= 0.509889603 valid acc= 0.957894742\n",
      "train reg_fs: 0.31353601813316345\n"
     ]
    },
    {
     "name": "stderr",
     "output_type": "stream",
     "text": [
      "\u001b[32m[I 2021-06-13 18:30:40,822]\u001b[0m Trial 4 finished with value: 0.05263155698776245 and parameters: {'lam': 1.3320635069048876, 'learning_rate': 0.04040847355541672, 'num_epoch': 1000}. Best is trial 1 with value: 0.042105257511138916.\u001b[0m\n"
     ]
    },
    {
     "name": "stdout",
     "output_type": "stream",
     "text": [
      "Epoch: 1000 train loss=0.602832019 valid loss= 0.489225894 valid acc= 0.947368443\n",
      "train reg_fs: 0.28170478343963623\n",
      "Optimization Finished!\n",
      "test loss: 0.4960092306137085, test acc: 0.9399999976158142\n",
      "In trial:---------------------\n",
      "num_samples : 855\n",
      "Epoch: 200 train loss=1.201093197 valid loss= 1.538900971 valid acc= 0.642105281\n",
      "train reg_fs: 0.8807088136672974\n",
      "Epoch: 400 train loss=0.806211472 valid loss= 0.789767265 valid acc= 0.884210527\n",
      "train reg_fs: 0.500770092010498\n",
      "Epoch: 600 train loss=0.658028603 valid loss= 0.513156533 valid acc= 0.957894742\n",
      "train reg_fs: 0.3089519441127777\n",
      "Epoch: 800 train loss=0.598184407 valid loss= 0.478027046 valid acc= 0.957894742\n",
      "train reg_fs: 0.2811543345451355\n",
      "Epoch: 1000 train loss=0.563650846 valid loss= 0.472236693 valid acc= 0.957894742\n",
      "train reg_fs: 0.2724478244781494\n"
     ]
    },
    {
     "name": "stderr",
     "output_type": "stream",
     "text": [
      "\u001b[32m[I 2021-06-13 18:30:49,639]\u001b[0m Trial 5 finished with value: 0.05263155698776245 and parameters: {'lam': 1.3403372900481392, 'learning_rate': 0.04810028096616743, 'num_epoch': 1200}. Best is trial 1 with value: 0.042105257511138916.\u001b[0m\n"
     ]
    },
    {
     "name": "stdout",
     "output_type": "stream",
     "text": [
      "Epoch: 1200 train loss=0.568320632 valid loss= 0.483967960 valid acc= 0.947368443\n",
      "train reg_fs: 0.26804763078689575\n",
      "Optimization Finished!\n",
      "test loss: 0.5318424701690674, test acc: 0.8999999761581421\n",
      "In trial:---------------------\n",
      "num_samples : 855\n",
      "Epoch: 200 train loss=1.328673244 valid loss= 1.650903225 valid acc= 0.568421066\n",
      "train reg_fs: 0.9530546069145203\n",
      "Epoch: 400 train loss=1.087790132 valid loss= 1.102160573 valid acc= 0.873684227\n",
      "train reg_fs: 0.7800824046134949\n",
      "Epoch: 600 train loss=0.821774125 valid loss= 0.758219540 valid acc= 0.947368443\n",
      "train reg_fs: 0.5213183164596558\n",
      "Epoch: 800 train loss=0.680145621 valid loss= 0.572127759 valid acc= 0.947368443\n",
      "train reg_fs: 0.35531121492385864\n",
      "Epoch: 1000 train loss=0.621752143 valid loss= 0.516360283 valid acc= 0.947368443\n",
      "train reg_fs: 0.30124104022979736\n"
     ]
    },
    {
     "name": "stderr",
     "output_type": "stream",
     "text": [
      "\u001b[32m[I 2021-06-13 18:30:58,527]\u001b[0m Trial 6 finished with value: 0.06315791606903076 and parameters: {'lam': 1.3359473286959611, 'learning_rate': 0.03248253974218247, 'num_epoch': 1200}. Best is trial 1 with value: 0.042105257511138916.\u001b[0m\n"
     ]
    },
    {
     "name": "stdout",
     "output_type": "stream",
     "text": [
      "Epoch: 1200 train loss=0.585742354 valid loss= 0.500397980 valid acc= 0.936842084\n",
      "train reg_fs: 0.2807384431362152\n",
      "Optimization Finished!\n",
      "test loss: 0.4998055696487427, test acc: 0.9399999976158142\n",
      "In trial:---------------------\n",
      "num_samples : 855\n",
      "Epoch: 200 train loss=1.305195689 valid loss= 1.629720211 valid acc= 0.600000024\n",
      "train reg_fs: 0.9431205987930298\n",
      "Epoch: 400 train loss=1.047539592 valid loss= 1.122042894 valid acc= 0.863157868\n",
      "train reg_fs: 0.772853672504425\n",
      "Epoch: 600 train loss=0.800892651 valid loss= 0.719118774 valid acc= 0.936842084\n",
      "train reg_fs: 0.49692943692207336\n",
      "Epoch: 800 train loss=0.650995731 valid loss= 0.516079843 valid acc= 0.978947341\n",
      "train reg_fs: 0.3258872628211975\n",
      "Epoch: 1000 train loss=0.593922973 valid loss= 0.480662882 valid acc= 0.957894742\n",
      "train reg_fs: 0.29012441635131836\n"
     ]
    },
    {
     "name": "stderr",
     "output_type": "stream",
     "text": [
      "\u001b[32m[I 2021-06-13 18:31:07,464]\u001b[0m Trial 7 finished with value: 0.05263155698776245 and parameters: {'lam': 1.338889033754983, 'learning_rate': 0.04272745070838684, 'num_epoch': 1200}. Best is trial 1 with value: 0.042105257511138916.\u001b[0m\n"
     ]
    },
    {
     "name": "stdout",
     "output_type": "stream",
     "text": [
      "Epoch: 1200 train loss=0.587545514 valid loss= 0.469004929 valid acc= 0.947368443\n",
      "train reg_fs: 0.27427423000335693\n",
      "Optimization Finished!\n",
      "test loss: 0.4847252368927002, test acc: 0.9399999976158142\n",
      "In trial:---------------------\n",
      "num_samples : 855\n",
      "Epoch: 200 train loss=1.262812138 valid loss= 1.551820517 valid acc= 0.652631581\n",
      "train reg_fs: 0.9177625775337219\n",
      "Epoch: 400 train loss=0.913119078 valid loss= 0.932928562 valid acc= 0.884210527\n",
      "train reg_fs: 0.620373547077179\n",
      "Epoch: 600 train loss=0.677189469 valid loss= 0.540698588 valid acc= 0.978947341\n",
      "train reg_fs: 0.34133002161979675\n",
      "Epoch: 800 train loss=0.631100655 valid loss= 0.477459490 valid acc= 0.978947341\n",
      "train reg_fs: 0.2905307710170746\n",
      "Epoch: 1000 train loss=0.595160723 valid loss= 0.466938317 valid acc= 0.968421042\n",
      "train reg_fs: 0.27788227796554565\n"
     ]
    },
    {
     "name": "stderr",
     "output_type": "stream",
     "text": [
      "\u001b[32m[I 2021-06-13 18:31:16,811]\u001b[0m Trial 8 finished with value: 0.05263155698776245 and parameters: {'lam': 1.3438545589799176, 'learning_rate': 0.04373793475520059, 'num_epoch': 1200}. Best is trial 1 with value: 0.042105257511138916.\u001b[0m\n"
     ]
    },
    {
     "name": "stdout",
     "output_type": "stream",
     "text": [
      "Epoch: 1200 train loss=0.592676401 valid loss= 0.491057575 valid acc= 0.947368443\n",
      "train reg_fs: 0.271905779838562\n",
      "Optimization Finished!\n",
      "test loss: 0.4586111307144165, test acc: 0.9599999785423279\n",
      "In trial:---------------------\n",
      "num_samples : 855\n",
      "Epoch: 200 train loss=1.210314989 valid loss= 1.532478929 valid acc= 0.621052623\n",
      "train reg_fs: 0.8954342007637024\n",
      "Epoch: 400 train loss=0.865243256 valid loss= 0.872209787 valid acc= 0.894736826\n",
      "train reg_fs: 0.57352614402771\n",
      "Epoch: 600 train loss=0.632328868 valid loss= 0.543007493 valid acc= 0.947368443\n",
      "train reg_fs: 0.3245195150375366\n",
      "Epoch: 800 train loss=0.592374742 valid loss= 0.508085012 valid acc= 0.947368443\n",
      "train reg_fs: 0.28314486145973206\n",
      "Epoch: 1000 train loss=0.591592669 valid loss= 0.500880778 valid acc= 0.926315784\n",
      "train reg_fs: 0.27188438177108765\n"
     ]
    },
    {
     "name": "stderr",
     "output_type": "stream",
     "text": [
      "\u001b[32m[I 2021-06-13 18:31:25,819]\u001b[0m Trial 9 finished with value: 0.05263155698776245 and parameters: {'lam': 1.337545715107499, 'learning_rate': 0.044781166370535606, 'num_epoch': 1200}. Best is trial 1 with value: 0.042105257511138916.\u001b[0m\n"
     ]
    },
    {
     "name": "stdout",
     "output_type": "stream",
     "text": [
      "Epoch: 1200 train loss=0.555313468 valid loss= 0.478461832 valid acc= 0.947368443\n",
      "train reg_fs: 0.2665634751319885\n",
      "Optimization Finished!\n",
      "test loss: 0.5225423574447632, test acc: 0.8999999761581421\n",
      "In trial:---------------------\n",
      "num_samples : 855\n",
      "Epoch: 200 train loss=1.167198896 valid loss= 1.443234801 valid acc= 0.715789497\n",
      "train reg_fs: 0.8419243097305298\n",
      "Epoch: 400 train loss=0.756384492 valid loss= 0.668256402 valid acc= 0.915789485\n",
      "train reg_fs: 0.41465938091278076\n",
      "Epoch: 600 train loss=0.632287025 valid loss= 0.494732589 valid acc= 0.957894742\n",
      "train reg_fs: 0.29067543148994446\n",
      "Epoch: 800 train loss=0.577087522 valid loss= 0.480766535 valid acc= 0.947368443\n",
      "train reg_fs: 0.27205055952072144\n",
      "Epoch: 1000 train loss=0.560892522 valid loss= 0.512451589 valid acc= 0.926315784\n",
      "train reg_fs: 0.2652341425418854\n"
     ]
    },
    {
     "name": "stderr",
     "output_type": "stream",
     "text": [
      "\u001b[32m[I 2021-06-13 18:31:34,785]\u001b[0m Trial 10 finished with value: 0.0736842155456543 and parameters: {'lam': 1.3306487522584571, 'learning_rate': 0.04969222244261882, 'num_epoch': 1200}. Best is trial 1 with value: 0.042105257511138916.\u001b[0m\n"
     ]
    },
    {
     "name": "stdout",
     "output_type": "stream",
     "text": [
      "Epoch: 1200 train loss=0.547066689 valid loss= 0.521625161 valid acc= 0.926315784\n",
      "train reg_fs: 0.261525958776474\n",
      "Optimization Finished!\n",
      "test loss: 0.5499681234359741, test acc: 0.8799999952316284\n",
      "In trial:---------------------\n",
      "num_samples : 855\n",
      "Epoch: 200 train loss=1.294233322 valid loss= 1.605938196 valid acc= 0.621052623\n",
      "train reg_fs: 0.9345301985740662\n",
      "Epoch: 400 train loss=0.981642067 valid loss= 1.000565767 valid acc= 0.884210527\n",
      "train reg_fs: 0.6937117576599121\n",
      "Epoch: 600 train loss=0.696592152 valid loss= 0.607473910 valid acc= 0.936842084\n",
      "train reg_fs: 0.3838619291782379\n",
      "Epoch: 800 train loss=0.605916739 valid loss= 0.500767291 valid acc= 0.947368443\n",
      "train reg_fs: 0.2985824942588806\n"
     ]
    },
    {
     "name": "stderr",
     "output_type": "stream",
     "text": [
      "\u001b[32m[I 2021-06-13 18:31:42,424]\u001b[0m Trial 11 finished with value: 0.05263155698776245 and parameters: {'lam': 1.3438954677036057, 'learning_rate': 0.03715947231592885, 'num_epoch': 1000}. Best is trial 1 with value: 0.042105257511138916.\u001b[0m\n"
     ]
    },
    {
     "name": "stdout",
     "output_type": "stream",
     "text": [
      "Epoch: 1000 train loss=0.581546187 valid loss= 0.478575170 valid acc= 0.947368443\n",
      "train reg_fs: 0.27966758608818054\n",
      "Optimization Finished!\n",
      "test loss: 0.49946898221969604, test acc: 0.9399999976158142\n",
      "In trial:---------------------\n",
      "num_samples : 855\n",
      "Epoch: 200 train loss=1.265833735 valid loss= 1.573531866 valid acc= 0.621052623\n",
      "train reg_fs: 0.9049333333969116\n",
      "Epoch: 400 train loss=0.908990264 valid loss= 0.919951558 valid acc= 0.863157868\n",
      "train reg_fs: 0.5864980220794678\n",
      "Epoch: 600 train loss=0.661639690 valid loss= 0.566670477 valid acc= 0.926315784\n",
      "train reg_fs: 0.33303266763687134\n",
      "Epoch: 800 train loss=0.619648457 valid loss= 0.478982478 valid acc= 0.947368443\n",
      "train reg_fs: 0.28591039776802063\n"
     ]
    },
    {
     "name": "stderr",
     "output_type": "stream",
     "text": [
      "\u001b[32m[I 2021-06-13 18:31:50,168]\u001b[0m Trial 12 finished with value: 0.05263155698776245 and parameters: {'lam': 1.3432162860017394, 'learning_rate': 0.03988380386774299, 'num_epoch': 1000}. Best is trial 1 with value: 0.042105257511138916.\u001b[0m\n"
     ]
    },
    {
     "name": "stdout",
     "output_type": "stream",
     "text": [
      "Epoch: 1000 train loss=0.591014862 valid loss= 0.479939461 valid acc= 0.947368443\n",
      "train reg_fs: 0.27392899990081787\n",
      "Optimization Finished!\n",
      "test loss: 0.4719604253768921, test acc: 0.9599999785423279\n",
      "In trial:---------------------\n",
      "num_samples : 855\n",
      "Epoch: 200 train loss=1.375707984 valid loss= 1.607011557 valid acc= 0.652631581\n",
      "train reg_fs: 0.9706004858016968\n",
      "Epoch: 400 train loss=1.077040315 valid loss= 1.196101785 valid acc= 0.821052611\n",
      "train reg_fs: 0.7906862497329712\n",
      "Epoch: 600 train loss=0.802659631 valid loss= 0.702917814 valid acc= 0.968421042\n",
      "train reg_fs: 0.5020098090171814\n",
      "Epoch: 800 train loss=0.648537397 valid loss= 0.529060960 valid acc= 0.957894742\n",
      "train reg_fs: 0.33395400643348694\n"
     ]
    },
    {
     "name": "stderr",
     "output_type": "stream",
     "text": [
      "\u001b[32m[I 2021-06-13 18:31:57,897]\u001b[0m Trial 13 finished with value: 0.021052658557891846 and parameters: {'lam': 1.34794809213752, 'learning_rate': 0.035201601767597505, 'num_epoch': 1000}. Best is trial 13 with value: 0.021052658557891846.\u001b[0m\n"
     ]
    },
    {
     "name": "stdout",
     "output_type": "stream",
     "text": [
      "Epoch: 1000 train loss=0.627695203 valid loss= 0.487115443 valid acc= 0.978947341\n",
      "train reg_fs: 0.297569215297699\n",
      "Optimization Finished!\n",
      "test loss: 0.48905080556869507, test acc: 0.9800000190734863\n",
      "In trial:---------------------\n",
      "num_samples : 855\n",
      "Epoch: 200 train loss=1.364830017 valid loss= 1.688179016 valid acc= 0.600000024\n",
      "train reg_fs: 0.9707516431808472\n",
      "Epoch: 400 train loss=1.113670588 valid loss= 1.176905513 valid acc= 0.831578970\n",
      "train reg_fs: 0.7989597916603088\n",
      "Epoch: 600 train loss=0.823236823 valid loss= 0.738393307 valid acc= 0.936842084\n",
      "train reg_fs: 0.5028119087219238\n",
      "Epoch: 800 train loss=0.637565374 valid loss= 0.538747787 valid acc= 0.947368443\n",
      "train reg_fs: 0.32935425639152527\n"
     ]
    },
    {
     "name": "stderr",
     "output_type": "stream",
     "text": [
      "\u001b[32m[I 2021-06-13 18:32:05,786]\u001b[0m Trial 14 finished with value: 0.03157895803451538 and parameters: {'lam': 1.3486696567935805, 'learning_rate': 0.03475088940166085, 'num_epoch': 1000}. Best is trial 13 with value: 0.021052658557891846.\u001b[0m\n"
     ]
    },
    {
     "name": "stdout",
     "output_type": "stream",
     "text": [
      "Epoch: 1000 train loss=0.612569928 valid loss= 0.483356535 valid acc= 0.968421042\n",
      "train reg_fs: 0.29109081625938416\n",
      "Optimization Finished!\n",
      "test loss: 0.5300608277320862, test acc: 0.9200000166893005\n",
      "In trial:---------------------\n",
      "num_samples : 855\n",
      "Epoch: 200 train loss=1.345608115 valid loss= 1.639852047 valid acc= 0.600000024\n",
      "train reg_fs: 0.9690170884132385\n",
      "Epoch: 400 train loss=1.094006062 valid loss= 1.158976436 valid acc= 0.831578970\n",
      "train reg_fs: 0.8047357797622681\n",
      "Epoch: 600 train loss=0.848401546 valid loss= 0.782279432 valid acc= 0.905263186\n",
      "train reg_fs: 0.5505079627037048\n",
      "Epoch: 800 train loss=0.712491930 valid loss= 0.565379918 valid acc= 0.957894742\n",
      "train reg_fs: 0.3615919053554535\n"
     ]
    },
    {
     "name": "stderr",
     "output_type": "stream",
     "text": [
      "\u001b[32m[I 2021-06-13 18:32:13,412]\u001b[0m Trial 15 finished with value: 0.042105257511138916 and parameters: {'lam': 1.3497997031432405, 'learning_rate': 0.030438543728276007, 'num_epoch': 1000}. Best is trial 13 with value: 0.021052658557891846.\u001b[0m\n"
     ]
    },
    {
     "name": "stdout",
     "output_type": "stream",
     "text": [
      "Epoch: 1000 train loss=0.621174693 valid loss= 0.498250067 valid acc= 0.957894742\n",
      "train reg_fs: 0.3066825568675995\n",
      "Optimization Finished!\n",
      "test loss: 0.5242086052894592, test acc: 0.9399999976158142\n",
      "In trial:---------------------\n",
      "num_samples : 855\n",
      "Epoch: 200 train loss=1.360000253 valid loss= 1.642469764 valid acc= 0.610526323\n",
      "train reg_fs: 0.9644519686698914\n",
      "Epoch: 400 train loss=1.070057273 valid loss= 1.135942817 valid acc= 0.852631569\n",
      "train reg_fs: 0.7860782742500305\n",
      "Epoch: 600 train loss=0.799451053 valid loss= 0.747413814 valid acc= 0.926315784\n",
      "train reg_fs: 0.4852985739707947\n",
      "Epoch: 800 train loss=0.662859142 valid loss= 0.549565315 valid acc= 0.968421042\n",
      "train reg_fs: 0.3336610198020935\n"
     ]
    },
    {
     "name": "stderr",
     "output_type": "stream",
     "text": [
      "\u001b[32m[I 2021-06-13 18:32:20,987]\u001b[0m Trial 16 finished with value: 0.021052658557891846 and parameters: {'lam': 1.3476877742878641, 'learning_rate': 0.03409722807689499, 'num_epoch': 1000}. Best is trial 13 with value: 0.021052658557891846.\u001b[0m\n"
     ]
    },
    {
     "name": "stdout",
     "output_type": "stream",
     "text": [
      "Epoch: 1000 train loss=0.618088722 valid loss= 0.498421758 valid acc= 0.978947341\n",
      "train reg_fs: 0.2928304374217987\n",
      "Optimization Finished!\n",
      "test loss: 0.4881187379360199, test acc: 0.9599999785423279\n",
      "In trial:---------------------\n",
      "num_samples : 855\n",
      "Epoch: 200 train loss=1.359859943 valid loss= 1.618609667 valid acc= 0.589473665\n",
      "train reg_fs: 0.9661786556243896\n",
      "Epoch: 400 train loss=1.091976047 valid loss= 1.160586238 valid acc= 0.778947353\n",
      "train reg_fs: 0.7728540897369385\n",
      "Epoch: 600 train loss=0.795526266 valid loss= 0.726723909 valid acc= 0.905263186\n",
      "train reg_fs: 0.470960795879364\n",
      "Epoch: 800 train loss=0.663257003 valid loss= 0.555595636 valid acc= 0.926315784\n",
      "train reg_fs: 0.328510582447052\n"
     ]
    },
    {
     "name": "stderr",
     "output_type": "stream",
     "text": [
      "\u001b[32m[I 2021-06-13 18:32:28,659]\u001b[0m Trial 17 finished with value: 0.05263155698776245 and parameters: {'lam': 1.3459149040802973, 'learning_rate': 0.03008439663385431, 'num_epoch': 1000}. Best is trial 13 with value: 0.021052658557891846.\u001b[0m\n"
     ]
    },
    {
     "name": "stdout",
     "output_type": "stream",
     "text": [
      "Epoch: 1000 train loss=0.596717834 valid loss= 0.514535308 valid acc= 0.947368443\n",
      "train reg_fs: 0.29279401898384094\n",
      "Optimization Finished!\n",
      "test loss: 0.5834197402000427, test acc: 0.9200000166893005\n",
      "In trial:---------------------\n",
      "num_samples : 855\n",
      "Epoch: 200 train loss=1.319054604 valid loss= 1.593976140 valid acc= 0.652631581\n",
      "train reg_fs: 0.9543618559837341\n",
      "Epoch: 400 train loss=1.050756097 valid loss= 1.102857113 valid acc= 0.842105269\n",
      "train reg_fs: 0.757571816444397\n",
      "Epoch: 600 train loss=0.785485268 valid loss= 0.700930297 valid acc= 0.936842084\n",
      "train reg_fs: 0.463703453540802\n",
      "Epoch: 800 train loss=0.628716707 valid loss= 0.530467153 valid acc= 0.957894742\n",
      "train reg_fs: 0.3276326358318329\n"
     ]
    },
    {
     "name": "stderr",
     "output_type": "stream",
     "text": [
      "\u001b[32m[I 2021-06-13 18:32:36,499]\u001b[0m Trial 18 finished with value: 0.042105257511138916 and parameters: {'lam': 1.3466132073281505, 'learning_rate': 0.03308904720049339, 'num_epoch': 1000}. Best is trial 13 with value: 0.021052658557891846.\u001b[0m\n"
     ]
    },
    {
     "name": "stdout",
     "output_type": "stream",
     "text": [
      "Epoch: 1000 train loss=0.592499614 valid loss= 0.488606930 valid acc= 0.957894742\n",
      "train reg_fs: 0.29309648275375366\n",
      "Optimization Finished!\n",
      "test loss: 0.5098576545715332, test acc: 0.9200000166893005\n",
      "In trial:---------------------\n",
      "num_samples : 855\n",
      "Epoch: 200 train loss=1.343331814 valid loss= 1.671101570 valid acc= 0.557894766\n",
      "train reg_fs: 0.9598313570022583\n",
      "Epoch: 400 train loss=1.061715007 valid loss= 1.120885968 valid acc= 0.842105269\n",
      "train reg_fs: 0.7702314257621765\n",
      "Epoch: 600 train loss=0.788185835 valid loss= 0.715157032 valid acc= 0.936842084\n",
      "train reg_fs: 0.48266658186912537\n",
      "Epoch: 800 train loss=0.648458242 valid loss= 0.532489240 valid acc= 0.947368443\n",
      "train reg_fs: 0.33269795775413513\n"
     ]
    },
    {
     "name": "stderr",
     "output_type": "stream",
     "text": [
      "\u001b[32m[I 2021-06-13 18:32:44,183]\u001b[0m Trial 19 finished with value: 0.03157895803451538 and parameters: {'lam': 1.3478924669425756, 'learning_rate': 0.03469372849069725, 'num_epoch': 1000}. Best is trial 13 with value: 0.021052658557891846.\u001b[0m\n"
     ]
    },
    {
     "name": "stdout",
     "output_type": "stream",
     "text": [
      "Epoch: 1000 train loss=0.582396507 valid loss= 0.497226536 valid acc= 0.968421042\n",
      "train reg_fs: 0.2912887632846832\n",
      "Optimization Finished!\n",
      "test loss: 0.5317978858947754, test acc: 0.9599999785423279\n",
      "In trial:---------------------\n"
     ]
    }
   ],
   "source": [
    "# optimize the model via Optuna and obtain the best model with largest validation acc\n",
    "best_model = None\n",
    "model = None\n",
    "study = optuna.create_study(pruner=None)\n",
    "study.optimize(lspin_objective, n_trials=20, callbacks=[callback])"
   ]
  },
  {
   "cell_type": "code",
   "execution_count": 17,
   "metadata": {},
   "outputs": [],
   "source": [
    "# get the training gate matrix\n",
    "gate_mat_nonl=best_model.get_prob_alpha(x_train)"
   ]
  },
  {
   "cell_type": "code",
   "execution_count": 18,
   "metadata": {},
   "outputs": [
    {
     "name": "stdout",
     "output_type": "stream",
     "text": [
      "test loss: 0.48905080556869507, test acc: 0.9800000190734863\n",
      "Saving model..\n",
      "Trial Finished*************\n",
      "Best model's lambda: 1.34794809213752\n",
      "Best model's learning rate: 0.035201601767597505\n",
      "Best model's num of epochs: 1000\n",
      "Test acc : 0.9800000190734863\n"
     ]
    }
   ],
   "source": [
    "best_lr = study.best_params['learning_rate']\n",
    "best_epoch = study.best_params['num_epoch']\n",
    "best_lam = study.best_params['lam']\n",
    "\n",
    "# test the best model\n",
    "test_acc, loss = best_model.evaluate(x_test,y_test)\n",
    "            \n",
    "print(\"Trial Finished*************\")\n",
    "print(\"Best model's lambda: {}\".format(best_lam))\n",
    "print(\"Best model's learning rate: {}\".format(best_lr))\n",
    "print(\"Best model's num of epochs: {}\".format(best_epoch))\n",
    "print(\"Test acc : {}\".format(test_acc))"
   ]
  },
  {
   "cell_type": "markdown",
   "metadata": {},
   "source": [
    "### Comparing the training gates to the ground truth"
   ]
  },
  {
   "cell_type": "code",
   "execution_count": 19,
   "metadata": {},
   "outputs": [],
   "source": [
    "cmap = cm.Blues \n",
    "bounds=[0,0.5,1]\n",
    "norm = colors.BoundaryNorm(bounds, cmap.N)\n",
    "\n",
    "title_size = 30\n",
    "xlabel_size = 35\n",
    "ylabel_size = 35\n",
    "xtick_size = 20\n",
    "ytick_size = 20\n",
    "bar_label_size = 20"
   ]
  },
  {
   "cell_type": "code",
   "execution_count": 21,
   "metadata": {},
   "outputs": [
    {
     "data": {
      "image/png": "[encoded data removed]",
      "text/plain": [
       "<Figure size 720x432 with 5 Axes>"
      ]
     },
     "metadata": {
      "needs_background": "light"
     },
     "output_type": "display_data"
    }
   ],
   "source": [
    "matplotlib.rc('xtick', labelsize=xtick_size) \n",
    "\n",
    "fig, axes = plt.subplots(1, 2, sharex=True,sharey=False,figsize=(10,6))\n",
    "\n",
    "fig.add_subplot(111, frameon=False)\n",
    "\n",
    "g_train_label = 1*(g_train[:,2] == 1)\n",
    "sorted_order_train = np.concatenate((np.where(g_train_label == 0)[0],np.where(g_train_label == 1)[0]))\n",
    "\n",
    "im1 = axes[0].imshow(g_train[sorted_order_train,:25],aspect='auto',cmap=cmap, norm=norm)\n",
    "axes[0].set_title(\"Ground Truth\",fontsize=title_size,fontweight=\"bold\")\n",
    "axes[0].set_xticks([0,1,2,3,9,14,19])\n",
    "axes[0].set_xticklabels([1,2,3,4,10,15,20],fontsize=xtick_size)\n",
    "axes[0].set_yticks([0,199,399,599,799])\n",
    "axes[0].set_yticklabels([1,200,400,600,800],fontsize=ytick_size)\n",
    "axes[0].set_ylabel(\"Sample Index\",fontsize=ylabel_size,labelpad=7)\n",
    "\n",
    "im3 = axes[1].imshow(gate_mat_nonl[sorted_order_train,:25],aspect='auto',cmap=cmap)\n",
    "axes[1].set_title(\"LSPIN\",fontsize=title_size,fontweight=\"bold\")\n",
    "axes[1].set_yticks([0,199,399,599,799])\n",
    "axes[1].set_yticklabels([1,200,400,600,800],fontsize=ytick_size)\n",
    "\n",
    "cbar = fig.colorbar(im1,ax=axes[0], cmap=cmap, norm=norm, boundaries=bounds, ticks=[0, 1])\n",
    "cbar.ax.tick_params(labelsize=bar_label_size)\n",
    "cbar = fig.colorbar(im3,ax=axes[1])\n",
    "cbar.ax.tick_params(labelsize=bar_label_size)\n",
    "\n",
    "plt.tick_params(labelcolor='none', top=False, bottom=False, left=False, right=False)\n",
    "plt.xlabel(\"Feature Index\",fontsize=xlabel_size)\n",
    "\n",
    "plt.tight_layout()"
   ]
  },
  {
   "cell_type": "code",
   "execution_count": 22,
   "metadata": {},
   "outputs": [
    {
     "name": "stdout",
     "output_type": "stream",
     "text": [
      "True Positive Rate: 0.9977\n"
     ]
    }
   ],
   "source": [
    "### TPR of the discoveries\n",
    "print(\"True Positive Rate: {:.4f}\".format(np.sum((g_train > 0) & (gate_mat_nonl >0))/np.sum(g_train > 0)))"
   ]
  },
  {
   "cell_type": "code",
   "execution_count": 23,
   "metadata": {},
   "outputs": [
    {
     "name": "stdout",
     "output_type": "stream",
     "text": [
      "False Discovery Rate: 0.0988\n"
     ]
    }
   ],
   "source": [
    "### FDR of the discoveries\n",
    "print(\"False Discovery Rate: {:.4f}\".format(np.sum((g_train ==0)&(gate_mat_nonl >0))/np.sum(gate_mat_nonl >0)))"
   ]
  },
  {
   "cell_type": "markdown",
   "metadata": {},
   "source": [
    "### Compare the test gates to the ground truth"
   ]
  },
  {
   "cell_type": "code",
   "execution_count": 24,
   "metadata": {},
   "outputs": [],
   "source": [
    "gate_mat_nonl_test = best_model.get_prob_alpha(x_test)"
   ]
  },
  {
   "cell_type": "code",
   "execution_count": 26,
   "metadata": {},
   "outputs": [
    {
     "data": {
      "image/png": "[encoded data removed]",
      "text/plain": [
       "<Figure size 720x432 with 5 Axes>"
      ]
     },
     "metadata": {
      "needs_background": "light"
     },
     "output_type": "display_data"
    }
   ],
   "source": [
    "fig, axes = plt.subplots(1, 2, sharex=True,sharey=False,figsize=(10,6))\n",
    "\n",
    "fig.add_subplot(111, frameon=False)\n",
    "\n",
    "g_test_label = 1*(g_test[:,2] == 1)\n",
    "sorted_order_test = np.concatenate((np.where(g_test_label == 0)[0],np.where(g_test_label == 1)[0]))\n",
    "\n",
    "im1 = axes[0].imshow(g_test[sorted_order_test,:25],aspect='auto',cmap=cmap, norm=norm)\n",
    "axes[0].set_title(\"Ground Truth\",fontsize=title_size,fontweight=\"bold\")\n",
    "axes[0].set_ylabel(\"Sample Index\",fontsize=ylabel_size,labelpad=20)\n",
    "axes[0].set_xticks([0,1,2,3,9,14,19])\n",
    "axes[0].set_xticklabels([1,2,3,4,10,15,20],fontsize=xtick_size)\n",
    "axes[0].set_yticks([0,19,39])\n",
    "axes[0].set_yticklabels([1,20,40],fontsize=ytick_size)\n",
    "\n",
    "im2 = axes[1].imshow(gate_mat_nonl_test[sorted_order_test,:25],aspect='auto',cmap=cmap)\n",
    "axes[1].set_title(\"LSPIN\",fontsize=title_size,fontweight=\"bold\")\n",
    "axes[1].set_yticks([0,19,39])\n",
    "axes[1].set_yticklabels([1,20,40],fontsize=ytick_size)\n",
    "\n",
    "cbar = fig.colorbar(im1,ax=axes[0], cmap=cmap, norm=norm, boundaries=bounds, ticks=[0, 1])\n",
    "cbar.ax.tick_params(labelsize=bar_label_size)\n",
    "cbar = fig.colorbar(im2,ax=axes[1])\n",
    "cbar.ax.tick_params(labelsize=bar_label_size)\n",
    "\n",
    "plt.tick_params(labelcolor='none', top=False, bottom=False, left=False, right=False)\n",
    "plt.xlabel(\"Feature Index\",fontsize=xlabel_size)\n",
    "plt.tight_layout()"
   ]
  },
  {
   "cell_type": "code",
   "execution_count": 27,
   "metadata": {},
   "outputs": [
    {
     "name": "stdout",
     "output_type": "stream",
     "text": [
      "True Positive Rate: 1.0000\n"
     ]
    }
   ],
   "source": [
    "### TPR\n",
    "print(\"True Positive Rate: {:.4f}\".format(np.sum((g_test > 0) & (gate_mat_nonl_test >0))/np.sum(g_test > 0)))"
   ]
  },
  {
   "cell_type": "code",
   "execution_count": 28,
   "metadata": {},
   "outputs": [
    {
     "name": "stdout",
     "output_type": "stream",
     "text": [
      "False Discovery Rate: 0.0385\n"
     ]
    }
   ],
   "source": [
    "### FDR:\n",
    "print(\"False Discovery Rate: {:.4f}\".format(np.sum((g_test ==0)&(gate_mat_nonl_test >0))/np.sum(gate_mat_nonl_test >0)))"
   ]
  }
 ],
 "metadata": {
  "kernelspec": {
   "display_name": "Python 3",
   "language": "python",
   "name": "python3"
  },
  "language_info": {
   "codemirror_mode": {
    "name": "ipython",
    "version": 3
   },
   "file_extension": ".py",
   "mimetype": "text/x-python",
   "name": "python",
   "nbconvert_exporter": "python",
   "pygments_lexer": "ipython3",
   "version": "3.6.9"
  }
 },
 "nbformat": 4,
 "nbformat_minor": 4
}
