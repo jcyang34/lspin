{
 "cells": [
  {
   "cell_type": "code",
   "execution_count": 1,
   "metadata": {},
   "outputs": [],
   "source": [
    "import numpy as np\n",
    "import scipy\n",
    "import sys\n",
    "import os\n",
    "import optuna\n",
    "\n",
    "from sklearn.model_selection import train_test_split\n",
    "\n",
    "from lspin.lspin_model import Model\n",
    "from lspin.utils import convertToOneHot, DataSet\n",
    "\n",
    "from matplotlib import cm,colors\n",
    "import matplotlib \n",
    "import matplotlib.pyplot as plt"
   ]
  },
  {
   "cell_type": "code",
   "execution_count": 2,
   "metadata": {},
   "outputs": [],
   "source": [
    "# If need to use GPU\n",
    "os.environ['CUDA_VISIBLE_DEVICES'] = '2'"
   ]
  },
  {
   "cell_type": "markdown",
   "metadata": {},
   "source": [
    "### Data Generation (Exp 4)"
   ]
  },
  {
   "cell_type": "code",
   "execution_count": 3,
   "metadata": {},
   "outputs": [],
   "source": [
    "np.random.seed(34)\n",
    "X1 = np.random.normal(loc=1,scale=0.5,size=(500,4))\n",
    "X2 = np.random.normal(loc=-1,scale=0.5,size=(500,4))\n",
    "logit1 = np.exp(X1[:, 0] *X1[:, 1]  - 0.9)\n",
    "logit2 = np.exp(np.sum(X2[:, 2:4]**2, axis = 1) - 2.5)\n",
    "Y1 = 1.*(1/(1+logit1) > 0.5).reshape(-1,1)\n",
    "Y2 = 1.*(1/(1+logit2) > 0.5).reshape(-1,1)"
   ]
  },
  {
   "cell_type": "code",
   "execution_count": 4,
   "metadata": {},
   "outputs": [],
   "source": [
    "#### add noise to the next 46 irrelevant features\n",
    "X = np.concatenate((X1,X2),axis=0)\n",
    "noise = np.random.normal(loc=0,scale=0.5,size=(1000,46))\n",
    "X = np.concatenate((X,noise),axis=1)\n",
    "Y = np.concatenate((Y1,Y2),axis=0).reshape(-1)"
   ]
  },
  {
   "cell_type": "code",
   "execution_count": 5,
   "metadata": {},
   "outputs": [],
   "source": [
    "ground_truth = np.zeros((1000,50))\n",
    "ground_truth[:500,:2] = 1\n",
    "ground_truth[500:,2:4] = 1"
   ]
  },
  {
   "cell_type": "code",
   "execution_count": 6,
   "metadata": {},
   "outputs": [],
   "source": [
    "Y_onehot = convertToOneHot(Y.astype(int))"
   ]
  },
  {
   "cell_type": "code",
   "execution_count": 7,
   "metadata": {},
   "outputs": [],
   "source": [
    "y_g = np.concatenate((Y_onehot,ground_truth),axis=1)"
   ]
  },
  {
   "cell_type": "code",
   "execution_count": 8,
   "metadata": {},
   "outputs": [],
   "source": [
    "X_non_zeros=np.sum(X,axis=0)!=0\n",
    "XN=scipy.stats.zscore(X[:,X_non_zeros], axis=0)"
   ]
  },
  {
   "cell_type": "code",
   "execution_count": 9,
   "metadata": {},
   "outputs": [
    {
     "data": {
      "text/plain": [
       "(50,)"
      ]
     },
     "execution_count": 9,
     "metadata": {},
     "output_type": "execute_result"
    }
   ],
   "source": [
    "X_non_zeros.shape"
   ]
  },
  {
   "cell_type": "code",
   "execution_count": 10,
   "metadata": {},
   "outputs": [],
   "source": [
    "x_train,x_test,y_g_train,y_g_test = train_test_split(XN,y_g,train_size=0.95,random_state=34)\n",
    "x_train,x_valid,y_g_train,y_g_valid = train_test_split(x_train,y_g_train,test_size=0.1,random_state=34)"
   ]
  },
  {
   "cell_type": "code",
   "execution_count": 11,
   "metadata": {},
   "outputs": [],
   "source": [
    "y_train = y_g_train[:,:2]\n",
    "y_valid = y_g_valid[:,:2]\n",
    "y_test = y_g_test[:,:2]"
   ]
  },
  {
   "cell_type": "code",
   "execution_count": 12,
   "metadata": {},
   "outputs": [],
   "source": [
    "g_train = y_g_train[:,2:]\n",
    "g_valid = y_g_valid[:,2:]\n",
    "g_test = y_g_test[:,2:]"
   ]
  },
  {
   "cell_type": "code",
   "execution_count": 13,
   "metadata": {},
   "outputs": [],
   "source": [
    "dataset = DataSet(**{'_data':x_train, '_labels':y_train,\n",
    "                '_valid_data':x_valid, '_valid_labels':y_valid,\n",
    "                '_test_data':x_test, '_test_labels':y_test})"
   ]
  },
  {
   "cell_type": "markdown",
   "metadata": {},
   "source": [
    "### LSPIN"
   ]
  },
  {
   "cell_type": "code",
   "execution_count": 14,
   "metadata": {},
   "outputs": [],
   "source": [
    "# objective function for optuna hyper-parameter optimization\n",
    "def lspin_objective(trial):  \n",
    "    \n",
    "    global model\n",
    "            \n",
    "    params = {\n",
    "        \"input_node\" : x_train.shape[1],           # input dimension for the prediction network\n",
    "        \"hidden_layers_node\" : [200,200],          # number of nodes for each hidden layer of the prediction net\n",
    "        \"output_node\" : 2,                         # number of nodes for the output layer of the prediction net\n",
    "        \"feature_selection\" : True,                # if using the gating net\n",
    "        \"gating_net_hidden_layers_node\":[100,100], # number of nodes for each hidden layer of the gating net\n",
    "        \"display_step\" : 200,                      # number of epochs to output info      \n",
    "    }\n",
    "    params['activation']= 'tanh' # non-linear prediction\n",
    "    params['batch_size']= x_train.shape[0] \n",
    "    # hyper-parameter to optimize: lambda, learning rate, number of epochs\n",
    "    params['lam'] = trial.suggest_loguniform('lam',1.33,1.35) \n",
    "    params['learning_rate'] = trial.suggest_loguniform('learning_rate',0.03,0.05) \n",
    "    num_epoch = trial.suggest_categorical('num_epoch', [1000,1200])\n",
    "    \n",
    "    # specify the model with these parameters and train the model\n",
    "    model_dir = None\n",
    "    model = Model(**params)\n",
    "    train_acces, train_losses, val_acces, val_losses = model.train(trial, dataset, model_dir, num_epoch=num_epoch)\n",
    "        \n",
    "    val_acc, val_loss = model.evaluate(x_valid,y_valid)\n",
    "    print(\"In trial:---------------------\")    \n",
    "    loss=(1-val_acc)\n",
    "            \n",
    "    return loss\n",
    "        \n",
    "def callback(study,trial):\n",
    "    global best_model\n",
    "    if study.best_trial == trial:\n",
    "        best_model = model"
   ]
  },
  {
   "cell_type": "code",
   "execution_count": 15,
   "metadata": {
    "scrolled": true
   },
   "outputs": [
    {
     "name": "stderr",
     "output_type": "stream",
     "text": [
      "\u001b[32m[I 2021-06-30 19:07:59,705]\u001b[0m A new study created in memory with name: no-name-23ccfe01-f40b-435f-9624-a6186d59a577\u001b[0m\n"
     ]
    },
    {
     "name": "stdout",
     "output_type": "stream",
     "text": [
      "WARNING:tensorflow:From /.local/lib/python3.6/site-packages/lspin/lspin_model.py:52: The name tf.Session is deprecated. Please use tf.compat.v1.Session instead.\n",
      "\n",
      "WARNING:tensorflow:From /.local/lib/python3.6/site-packages/lspin/lspin_model.py:54: The name tf.placeholder is deprecated. Please use tf.compat.v1.placeholder instead.\n",
      "\n",
      "WARNING:tensorflow:From /.local/lib/python3.6/site-packages/lspin/lspin_model.py:70: The name tf.variable_scope is deprecated. Please use tf.compat.v1.variable_scope instead.\n",
      "\n",
      "WARNING:tensorflow:From /.local/lib/python3.6/site-packages/lspin/lspin_model.py:70: The name tf.AUTO_REUSE is deprecated. Please use tf.compat.v1.AUTO_REUSE instead.\n",
      "\n",
      "WARNING:tensorflow:From /.local/lib/python3.6/site-packages/lspin/lspin_model.py:71: The name tf.get_variable is deprecated. Please use tf.compat.v1.get_variable instead.\n",
      "\n",
      "WARNING:tensorflow:From /.local/lib/python3.6/site-packages/lspin/lspin_model.py:259: The name tf.random_normal is deprecated. Please use tf.random.normal instead.\n",
      "\n",
      "WARNING:tensorflow:From /.local/lib/python3.6/site-packages/lspin/lspin_model.py:107: batch_normalization (from tensorflow.python.layers.normalization) is deprecated and will be removed in a future version.\n",
      "Instructions for updating:\n",
      "Use keras.layers.BatchNormalization instead.  In particular, `tf.control_dependencies(tf.GraphKeys.UPDATE_OPS)` should not be used (consult the `tf.keras.layers.batch_normalization` documentation).\n",
      "WARNING:tensorflow:From /usr/local/lib/python3.6/dist-packages/tensorflow_core/python/layers/normalization.py:327: Layer.apply (from tensorflow.python.keras.engine.base_layer) is deprecated and will be removed in a future version.\n",
      "Instructions for updating:\n",
      "Please use `layer.__call__` method instead.\n",
      "WARNING:tensorflow:From /.local/lib/python3.6/site-packages/lspin/lspin_model.py:171: softmax_cross_entropy_with_logits (from tensorflow.python.ops.nn_ops) is deprecated and will be removed in a future version.\n",
      "Instructions for updating:\n",
      "\n",
      "Future major versions of TensorFlow will allow gradients to flow\n",
      "into the labels input on backprop by default.\n",
      "\n",
      "See `tf.nn.softmax_cross_entropy_with_logits_v2`.\n",
      "\n",
      "WARNING:tensorflow:From /.local/lib/python3.6/site-packages/lspin/lspin_model.py:179: The name tf.erf is deprecated. Please use tf.math.erf instead.\n",
      "\n",
      "WARNING:tensorflow:From /.local/lib/python3.6/site-packages/lspin/lspin_model.py:189: The name tf.get_collection is deprecated. Please use tf.compat.v1.get_collection instead.\n",
      "\n",
      "WARNING:tensorflow:From /.local/lib/python3.6/site-packages/lspin/lspin_model.py:189: The name tf.GraphKeys is deprecated. Please use tf.compat.v1.GraphKeys instead.\n",
      "\n",
      "WARNING:tensorflow:From /.local/lib/python3.6/site-packages/lspin/lspin_model.py:191: The name tf.train.GradientDescentOptimizer is deprecated. Please use tf.compat.v1.train.GradientDescentOptimizer instead.\n",
      "\n",
      "WARNING:tensorflow:From /usr/local/lib/python3.6/dist-packages/tensorflow_core/python/ops/math_grad.py:1424: where (from tensorflow.python.ops.array_ops) is deprecated and will be removed in a future version.\n",
      "Instructions for updating:\n",
      "Use tf.where in 2.0, which has the same broadcast rule as np.where\n",
      "WARNING:tensorflow:From /.local/lib/python3.6/site-packages/lspin/lspin_model.py:198: The name tf.global_variables_initializer is deprecated. Please use tf.compat.v1.global_variables_initializer instead.\n",
      "\n",
      "WARNING:tensorflow:From /.local/lib/python3.6/site-packages/lspin/lspin_model.py:199: The name tf.train.Saver is deprecated. Please use tf.compat.v1.train.Saver instead.\n",
      "\n",
      "WARNING:tensorflow:From /.local/lib/python3.6/site-packages/lspin/lspin_model.py:216: The name tf.set_random_seed is deprecated. Please use tf.compat.v1.set_random_seed instead.\n",
      "\n",
      "num_samples : 855\n",
      "Epoch: 200 train loss=1.328568220 valid loss= 1.652823448 valid acc= 0.589473665\n",
      "train reg_fs: 0.9493748545646667\n",
      "Epoch: 400 train loss=1.052866459 valid loss= 1.140260458 valid acc= 0.821052611\n",
      "train reg_fs: 0.7562646269798279\n",
      "Epoch: 600 train loss=0.788947940 valid loss= 0.735918403 valid acc= 0.915789485\n",
      "train reg_fs: 0.46120819449424744\n",
      "Epoch: 800 train loss=0.651406944 valid loss= 0.562066317 valid acc= 0.926315784\n",
      "train reg_fs: 0.3263842463493347\n",
      "Epoch: 1000 train loss=0.614386082 valid loss= 0.525679827 valid acc= 0.926315784\n",
      "train reg_fs: 0.2894091010093689\n"
     ]
    },
    {
     "name": "stderr",
     "output_type": "stream",
     "text": [
      "\u001b[32m[I 2021-06-30 19:08:09,461]\u001b[0m Trial 0 finished with value: 0.0736842155456543 and parameters: {'lam': 1.337748465370783, 'learning_rate': 0.03388176669664873, 'num_epoch': 1200}. Best is trial 0 with value: 0.0736842155456543.\u001b[0m\n"
     ]
    },
    {
     "name": "stdout",
     "output_type": "stream",
     "text": [
      "Epoch: 1200 train loss=0.595843673 valid loss= 0.509453654 valid acc= 0.926315784\n",
      "train reg_fs: 0.27676570415496826\n",
      "In trial:---------------------\n",
      "num_samples : 855\n",
      "Epoch: 200 train loss=1.166755199 valid loss= 1.491303444 valid acc= 0.652631581\n",
      "train reg_fs: 0.8708028793334961\n",
      "Epoch: 400 train loss=0.802224994 valid loss= 0.703059793 valid acc= 0.936842084\n",
      "train reg_fs: 0.4748130142688751\n",
      "Epoch: 600 train loss=0.639981508 valid loss= 0.494040251 valid acc= 0.978947341\n",
      "train reg_fs: 0.3034372329711914\n",
      "Epoch: 800 train loss=0.577025890 valid loss= 0.474309713 valid acc= 0.957894742\n",
      "train reg_fs: 0.27864840626716614\n"
     ]
    },
    {
     "name": "stderr",
     "output_type": "stream",
     "text": [
      "\u001b[32m[I 2021-06-30 19:08:16,840]\u001b[0m Trial 1 finished with value: 0.042105257511138916 and parameters: {'lam': 1.3404730293779379, 'learning_rate': 0.04986143442218005, 'num_epoch': 1000}. Best is trial 1 with value: 0.042105257511138916.\u001b[0m\n"
     ]
    },
    {
     "name": "stdout",
     "output_type": "stream",
     "text": [
      "Epoch: 1000 train loss=0.567233205 valid loss= 0.466912419 valid acc= 0.957894742\n",
      "train reg_fs: 0.2709483802318573\n",
      "In trial:---------------------\n",
      "num_samples : 855\n",
      "Epoch: 200 train loss=1.352820158 valid loss= 1.591964006 valid acc= 0.621052623\n",
      "train reg_fs: 0.9689089059829712\n",
      "Epoch: 400 train loss=1.101031065 valid loss= 1.136081219 valid acc= 0.873684227\n",
      "train reg_fs: 0.8116951584815979\n",
      "Epoch: 600 train loss=0.861492276 valid loss= 0.757573843 valid acc= 1.000000000\n",
      "train reg_fs: 0.5465667843818665\n",
      "Epoch: 800 train loss=0.658332467 valid loss= 0.551351249 valid acc= 0.968421042\n",
      "train reg_fs: 0.35079070925712585\n"
     ]
    },
    {
     "name": "stderr",
     "output_type": "stream",
     "text": [
      "\u001b[32m[I 2021-06-30 19:08:24,207]\u001b[0m Trial 2 finished with value: 0.021052658557891846 and parameters: {'lam': 1.3338885970426921, 'learning_rate': 0.0314604671452609, 'num_epoch': 1000}. Best is trial 2 with value: 0.021052658557891846.\u001b[0m\n"
     ]
    },
    {
     "name": "stdout",
     "output_type": "stream",
     "text": [
      "Epoch: 1000 train loss=0.618588507 valid loss= 0.491979778 valid acc= 0.978947341\n",
      "train reg_fs: 0.29951801896095276\n",
      "In trial:---------------------\n",
      "num_samples : 855\n",
      "Epoch: 200 train loss=1.194833755 valid loss= 1.479889631 valid acc= 0.673684239\n",
      "train reg_fs: 0.8748665452003479\n",
      "Epoch: 400 train loss=0.818434954 valid loss= 0.769917905 valid acc= 0.947368443\n",
      "train reg_fs: 0.5332131385803223\n",
      "Epoch: 600 train loss=0.639756799 valid loss= 0.497507453 valid acc= 0.968421042\n",
      "train reg_fs: 0.30892467498779297\n",
      "Epoch: 800 train loss=0.590693593 valid loss= 0.476245224 valid acc= 0.968421042\n",
      "train reg_fs: 0.27871912717819214\n"
     ]
    },
    {
     "name": "stderr",
     "output_type": "stream",
     "text": [
      "\u001b[32m[I 2021-06-30 19:08:31,925]\u001b[0m Trial 3 finished with value: 0.05263155698776245 and parameters: {'lam': 1.3313203067830015, 'learning_rate': 0.047162637873716426, 'num_epoch': 1000}. Best is trial 2 with value: 0.021052658557891846.\u001b[0m\n"
     ]
    },
    {
     "name": "stdout",
     "output_type": "stream",
     "text": [
      "Epoch: 1000 train loss=0.577286720 valid loss= 0.484405041 valid acc= 0.947368443\n",
      "train reg_fs: 0.2699867784976959\n",
      "In trial:---------------------\n",
      "num_samples : 855\n",
      "Epoch: 200 train loss=1.352387905 valid loss= 1.601264715 valid acc= 0.600000024\n",
      "train reg_fs: 0.952407956123352\n",
      "Epoch: 400 train loss=1.085944891 valid loss= 1.166780233 valid acc= 0.800000012\n",
      "train reg_fs: 0.7607671022415161\n",
      "Epoch: 600 train loss=0.821337521 valid loss= 0.754727721 valid acc= 0.926315784\n",
      "train reg_fs: 0.49046197533607483\n",
      "Epoch: 800 train loss=0.653489769 valid loss= 0.562187314 valid acc= 0.936842084\n",
      "train reg_fs: 0.33853352069854736\n"
     ]
    },
    {
     "name": "stderr",
     "output_type": "stream",
     "text": [
      "\u001b[32m[I 2021-06-30 19:08:39,569]\u001b[0m Trial 4 finished with value: 0.042105257511138916 and parameters: {'lam': 1.3385496109779955, 'learning_rate': 0.03244372203899771, 'num_epoch': 1000}. Best is trial 2 with value: 0.021052658557891846.\u001b[0m\n"
     ]
    },
    {
     "name": "stdout",
     "output_type": "stream",
     "text": [
      "Epoch: 1000 train loss=0.624893129 valid loss= 0.485027939 valid acc= 0.957894742\n",
      "train reg_fs: 0.2926011085510254\n",
      "In trial:---------------------\n",
      "num_samples : 855\n",
      "Epoch: 200 train loss=1.360407829 valid loss= 1.574715376 valid acc= 0.621052623\n",
      "train reg_fs: 0.9714415073394775\n",
      "Epoch: 400 train loss=1.118711233 valid loss= 1.172633648 valid acc= 0.852631569\n",
      "train reg_fs: 0.8197547197341919\n",
      "Epoch: 600 train loss=0.878144503 valid loss= 0.822353363 valid acc= 0.947368443\n",
      "train reg_fs: 0.5710400938987732\n",
      "Epoch: 800 train loss=0.712786973 valid loss= 0.588793635 valid acc= 0.936842084\n",
      "train reg_fs: 0.3684026300907135\n"
     ]
    },
    {
     "name": "stderr",
     "output_type": "stream",
     "text": [
      "\u001b[32m[I 2021-06-30 19:08:47,197]\u001b[0m Trial 5 finished with value: 0.05263155698776245 and parameters: {'lam': 1.3423174065701113, 'learning_rate': 0.031003766120993943, 'num_epoch': 1000}. Best is trial 2 with value: 0.021052658557891846.\u001b[0m\n"
     ]
    },
    {
     "name": "stdout",
     "output_type": "stream",
     "text": [
      "Epoch: 1000 train loss=0.643774748 valid loss= 0.514156342 valid acc= 0.947368443\n",
      "train reg_fs: 0.30745887756347656\n",
      "In trial:---------------------\n",
      "num_samples : 855\n",
      "Epoch: 200 train loss=1.246162891 valid loss= 1.584088564 valid acc= 0.610526323\n",
      "train reg_fs: 0.9157795906066895\n",
      "Epoch: 400 train loss=0.928954482 valid loss= 0.863426328 valid acc= 0.926315784\n",
      "train reg_fs: 0.6172618865966797\n",
      "Epoch: 600 train loss=0.699484706 valid loss= 0.528614044 valid acc= 0.989473701\n",
      "train reg_fs: 0.3577347993850708\n",
      "Epoch: 800 train loss=0.625710547 valid loss= 0.467643768 valid acc= 0.978947341\n",
      "train reg_fs: 0.2941092848777771\n",
      "Epoch: 1000 train loss=0.591011941 valid loss= 0.450022817 valid acc= 0.978947341\n",
      "train reg_fs: 0.27874645590782166\n"
     ]
    },
    {
     "name": "stderr",
     "output_type": "stream",
     "text": [
      "\u001b[32m[I 2021-06-30 19:08:56,041]\u001b[0m Trial 6 finished with value: 0.021052658557891846 and parameters: {'lam': 1.3496682944454843, 'learning_rate': 0.043367034232952156, 'num_epoch': 1200}. Best is trial 2 with value: 0.021052658557891846.\u001b[0m\n"
     ]
    },
    {
     "name": "stdout",
     "output_type": "stream",
     "text": [
      "Epoch: 1200 train loss=0.575973034 valid loss= 0.444053292 valid acc= 0.978947341\n",
      "train reg_fs: 0.2729901671409607\n",
      "In trial:---------------------\n",
      "num_samples : 855\n",
      "Epoch: 200 train loss=1.221387267 valid loss= 1.566668034 valid acc= 0.610526323\n",
      "train reg_fs: 0.8996308445930481\n",
      "Epoch: 400 train loss=0.872953355 valid loss= 0.855515718 valid acc= 0.884210527\n",
      "train reg_fs: 0.5770705938339233\n",
      "Epoch: 600 train loss=0.677455306 valid loss= 0.546560705 valid acc= 0.947368443\n",
      "train reg_fs: 0.3414536416530609\n",
      "Epoch: 800 train loss=0.617636681 valid loss= 0.482755184 valid acc= 0.978947341\n",
      "train reg_fs: 0.28976762294769287\n"
     ]
    },
    {
     "name": "stderr",
     "output_type": "stream",
     "text": [
      "\u001b[32m[I 2021-06-30 19:09:03,878]\u001b[0m Trial 7 finished with value: 0.042105257511138916 and parameters: {'lam': 1.3435774691084006, 'learning_rate': 0.04337813280804023, 'num_epoch': 1000}. Best is trial 2 with value: 0.021052658557891846.\u001b[0m\n"
     ]
    },
    {
     "name": "stdout",
     "output_type": "stream",
     "text": [
      "Epoch: 1000 train loss=0.587642074 valid loss= 0.470359802 valid acc= 0.957894742\n",
      "train reg_fs: 0.2768917977809906\n",
      "In trial:---------------------\n",
      "num_samples : 855\n",
      "Epoch: 200 train loss=1.275366545 valid loss= 1.535361886 valid acc= 0.642105281\n",
      "train reg_fs: 0.9235157370567322\n",
      "Epoch: 400 train loss=0.992440701 valid loss= 0.988102019 valid acc= 0.852631569\n",
      "train reg_fs: 0.6904182434082031\n",
      "Epoch: 600 train loss=0.698093891 valid loss= 0.579428256 valid acc= 0.978947341\n",
      "train reg_fs: 0.39180830121040344\n",
      "Epoch: 800 train loss=0.627432466 valid loss= 0.487897336 valid acc= 0.978947341\n",
      "train reg_fs: 0.3034130334854126\n"
     ]
    },
    {
     "name": "stderr",
     "output_type": "stream",
     "text": [
      "\u001b[32m[I 2021-06-30 19:09:11,411]\u001b[0m Trial 8 finished with value: 0.042105257511138916 and parameters: {'lam': 1.3330022528440635, 'learning_rate': 0.037048851831549885, 'num_epoch': 1000}. Best is trial 2 with value: 0.021052658557891846.\u001b[0m\n"
     ]
    },
    {
     "name": "stdout",
     "output_type": "stream",
     "text": [
      "Epoch: 1000 train loss=0.609685302 valid loss= 0.473045945 valid acc= 0.957894742\n",
      "train reg_fs: 0.28292420506477356\n",
      "In trial:---------------------\n",
      "num_samples : 855\n",
      "Epoch: 200 train loss=1.209713101 valid loss= 1.488831282 valid acc= 0.705263138\n",
      "train reg_fs: 0.9055827260017395\n",
      "Epoch: 400 train loss=0.866977692 valid loss= 0.867389560 valid acc= 0.915789485\n",
      "train reg_fs: 0.5926569104194641\n",
      "Epoch: 600 train loss=0.663961530 valid loss= 0.548194587 valid acc= 0.968421042\n",
      "train reg_fs: 0.34150511026382446\n",
      "Epoch: 800 train loss=0.615941107 valid loss= 0.486790448 valid acc= 0.968421042\n",
      "train reg_fs: 0.2899192273616791\n",
      "Epoch: 1000 train loss=0.584265709 valid loss= 0.502644181 valid acc= 0.936842084\n",
      "train reg_fs: 0.2727947235107422\n"
     ]
    },
    {
     "name": "stderr",
     "output_type": "stream",
     "text": [
      "\u001b[32m[I 2021-06-30 19:09:20,267]\u001b[0m Trial 9 finished with value: 0.0736842155456543 and parameters: {'lam': 1.3389991469952736, 'learning_rate': 0.04604643562531302, 'num_epoch': 1200}. Best is trial 2 with value: 0.021052658557891846.\u001b[0m\n"
     ]
    },
    {
     "name": "stdout",
     "output_type": "stream",
     "text": [
      "Epoch: 1200 train loss=0.550584197 valid loss= 0.511172414 valid acc= 0.926315784\n",
      "train reg_fs: 0.266889750957489\n",
      "In trial:---------------------\n",
      "num_samples : 855\n",
      "Epoch: 200 train loss=1.303061485 valid loss= 1.599699974 valid acc= 0.600000024\n",
      "train reg_fs: 0.9475488066673279\n",
      "Epoch: 400 train loss=1.045589209 valid loss= 1.103189111 valid acc= 0.873684227\n",
      "train reg_fs: 0.7834523916244507\n",
      "Epoch: 600 train loss=0.823850155 valid loss= 0.776333809 valid acc= 0.936842084\n",
      "train reg_fs: 0.5390331745147705\n",
      "Epoch: 800 train loss=0.673366129 valid loss= 0.553126276 valid acc= 0.978947341\n",
      "train reg_fs: 0.35053545236587524\n"
     ]
    },
    {
     "name": "stderr",
     "output_type": "stream",
     "text": [
      "\u001b[32m[I 2021-06-30 19:09:28,001]\u001b[0m Trial 10 finished with value: 0.05263155698776245 and parameters: {'lam': 1.3345173909884436, 'learning_rate': 0.03775749131499215, 'num_epoch': 1000}. Best is trial 2 with value: 0.021052658557891846.\u001b[0m\n"
     ]
    },
    {
     "name": "stdout",
     "output_type": "stream",
     "text": [
      "Epoch: 1000 train loss=0.623000681 valid loss= 0.489982724 valid acc= 0.947368443\n",
      "train reg_fs: 0.29398033022880554\n",
      "In trial:---------------------\n",
      "num_samples : 855\n",
      "Epoch: 200 train loss=1.278425694 valid loss= 1.609847307 valid acc= 0.600000024\n",
      "train reg_fs: 0.9160221219062805\n",
      "Epoch: 400 train loss=0.896195948 valid loss= 0.930077195 valid acc= 0.852631569\n",
      "train reg_fs: 0.5978951454162598\n",
      "Epoch: 600 train loss=0.651798189 valid loss= 0.554185987 valid acc= 0.926315784\n",
      "train reg_fs: 0.3290340006351471\n",
      "Epoch: 800 train loss=0.595842719 valid loss= 0.494197130 valid acc= 0.936842084\n",
      "train reg_fs: 0.28598517179489136\n",
      "Epoch: 1000 train loss=0.571468353 valid loss= 0.469227195 valid acc= 0.936842084\n",
      "train reg_fs: 0.2739822268486023\n"
     ]
    },
    {
     "name": "stderr",
     "output_type": "stream",
     "text": [
      "\u001b[32m[I 2021-06-30 19:09:36,892]\u001b[0m Trial 11 finished with value: 0.05263155698776245 and parameters: {'lam': 1.349347139053354, 'learning_rate': 0.041949644252444504, 'num_epoch': 1200}. Best is trial 2 with value: 0.021052658557891846.\u001b[0m\n"
     ]
    },
    {
     "name": "stdout",
     "output_type": "stream",
     "text": [
      "Epoch: 1200 train loss=0.547297716 valid loss= 0.489627838 valid acc= 0.947368443\n",
      "train reg_fs: 0.26826393604278564\n",
      "In trial:---------------------\n",
      "num_samples : 855\n",
      "Epoch: 200 train loss=1.280231714 valid loss= 1.615838528 valid acc= 0.589473665\n",
      "train reg_fs: 0.9202909469604492\n",
      "Epoch: 400 train loss=0.918614268 valid loss= 0.972959042 valid acc= 0.863157868\n",
      "train reg_fs: 0.617591142654419\n",
      "Epoch: 600 train loss=0.670420408 valid loss= 0.574856937 valid acc= 0.936842084\n",
      "train reg_fs: 0.3495359420776367\n",
      "Epoch: 800 train loss=0.602383912 valid loss= 0.489152908 valid acc= 0.978947341\n",
      "train reg_fs: 0.2928467094898224\n",
      "Epoch: 1000 train loss=0.558828771 valid loss= 0.478750706 valid acc= 0.968421042\n",
      "train reg_fs: 0.27821001410484314\n"
     ]
    },
    {
     "name": "stderr",
     "output_type": "stream",
     "text": [
      "\u001b[32m[I 2021-06-30 19:09:45,817]\u001b[0m Trial 12 finished with value: 0.05263155698776245 and parameters: {'lam': 1.3493000705918743, 'learning_rate': 0.04081290338307771, 'num_epoch': 1200}. Best is trial 2 with value: 0.021052658557891846.\u001b[0m\n"
     ]
    },
    {
     "name": "stdout",
     "output_type": "stream",
     "text": [
      "Epoch: 1200 train loss=0.583323777 valid loss= 0.473748863 valid acc= 0.947368443\n",
      "train reg_fs: 0.27179738879203796\n",
      "In trial:---------------------\n",
      "num_samples : 855\n",
      "Epoch: 200 train loss=1.311328053 valid loss= 1.569850445 valid acc= 0.652631581\n",
      "train reg_fs: 0.9527204036712646\n",
      "Epoch: 400 train loss=1.097578764 valid loss= 1.113646746 valid acc= 0.884210527\n",
      "train reg_fs: 0.8114472031593323\n",
      "Epoch: 600 train loss=0.882174611 valid loss= 0.832813144 valid acc= 0.915789485\n",
      "train reg_fs: 0.6013861894607544\n",
      "Epoch: 800 train loss=0.706562161 valid loss= 0.586179495 valid acc= 0.968421042\n",
      "train reg_fs: 0.387697696685791\n",
      "Epoch: 1000 train loss=0.640545845 valid loss= 0.510431051 valid acc= 0.957894742\n",
      "train reg_fs: 0.31363850831985474\n"
     ]
    },
    {
     "name": "stderr",
     "output_type": "stream",
     "text": [
      "\u001b[32m[I 2021-06-30 19:09:55,020]\u001b[0m Trial 13 finished with value: 0.042105257511138916 and parameters: {'lam': 1.3464776611682803, 'learning_rate': 0.034668075816573295, 'num_epoch': 1200}. Best is trial 2 with value: 0.021052658557891846.\u001b[0m\n"
     ]
    },
    {
     "name": "stdout",
     "output_type": "stream",
     "text": [
      "Epoch: 1200 train loss=0.598039269 valid loss= 0.483515799 valid acc= 0.957894742\n",
      "train reg_fs: 0.2878173589706421\n",
      "In trial:---------------------\n",
      "num_samples : 855\n",
      "Epoch: 200 train loss=1.373528242 valid loss= 1.625547767 valid acc= 0.610526323\n",
      "train reg_fs: 0.9749000072479248\n",
      "Epoch: 400 train loss=1.119299054 valid loss= 1.205474734 valid acc= 0.831578970\n",
      "train reg_fs: 0.8304423093795776\n",
      "Epoch: 600 train loss=0.912166834 valid loss= 0.853426933 valid acc= 0.926315784\n",
      "train reg_fs: 0.6025822758674622\n",
      "Epoch: 800 train loss=0.719483972 valid loss= 0.595007837 valid acc= 0.947368443\n",
      "train reg_fs: 0.3792961537837982\n",
      "Epoch: 1000 train loss=0.626471639 valid loss= 0.519295454 valid acc= 0.936842084\n",
      "train reg_fs: 0.30638283491134644\n"
     ]
    },
    {
     "name": "stderr",
     "output_type": "stream",
     "text": [
      "\u001b[32m[I 2021-06-30 19:10:04,005]\u001b[0m Trial 14 finished with value: 0.06315791606903076 and parameters: {'lam': 1.335581871039207, 'learning_rate': 0.03007160487584685, 'num_epoch': 1200}. Best is trial 2 with value: 0.021052658557891846.\u001b[0m\n"
     ]
    },
    {
     "name": "stdout",
     "output_type": "stream",
     "text": [
      "Epoch: 1200 train loss=0.596211791 valid loss= 0.497375190 valid acc= 0.936842084\n",
      "train reg_fs: 0.28501859307289124\n",
      "In trial:---------------------\n",
      "num_samples : 855\n",
      "Epoch: 200 train loss=1.252966762 valid loss= 1.504337311 valid acc= 0.694736838\n",
      "train reg_fs: 0.9171085357666016\n",
      "Epoch: 400 train loss=0.943044782 valid loss= 0.917695165 valid acc= 0.884210527\n",
      "train reg_fs: 0.634475588798523\n",
      "Epoch: 600 train loss=0.680390954 valid loss= 0.555032730 valid acc= 0.957894742\n",
      "train reg_fs: 0.3506561815738678\n",
      "Epoch: 800 train loss=0.610284328 valid loss= 0.488014996 valid acc= 0.968421042\n",
      "train reg_fs: 0.28829634189605713\n",
      "Epoch: 1000 train loss=0.615252376 valid loss= 0.484722614 valid acc= 0.957894742\n",
      "train reg_fs: 0.27361491322517395\n"
     ]
    },
    {
     "name": "stderr",
     "output_type": "stream",
     "text": [
      "\u001b[32m[I 2021-06-30 19:10:12,960]\u001b[0m Trial 15 finished with value: 0.05263155698776245 and parameters: {'lam': 1.3309890308381873, 'learning_rate': 0.03987921198086567, 'num_epoch': 1200}. Best is trial 2 with value: 0.021052658557891846.\u001b[0m\n"
     ]
    },
    {
     "name": "stdout",
     "output_type": "stream",
     "text": [
      "Epoch: 1200 train loss=0.595064580 valid loss= 0.502752364 valid acc= 0.947368443\n",
      "train reg_fs: 0.26754137873649597\n",
      "In trial:---------------------\n",
      "num_samples : 855\n",
      "Epoch: 200 train loss=1.231878281 valid loss= 1.476216078 valid acc= 0.684210539\n",
      "train reg_fs: 0.8924999237060547\n",
      "Epoch: 400 train loss=0.897100925 valid loss= 0.853151441 valid acc= 0.905263186\n",
      "train reg_fs: 0.5869680047035217\n",
      "Epoch: 600 train loss=0.655728400 valid loss= 0.531621277 valid acc= 0.978947341\n",
      "train reg_fs: 0.3319641947746277\n",
      "Epoch: 800 train loss=0.600764871 valid loss= 0.477210075 valid acc= 0.968421042\n",
      "train reg_fs: 0.2852049767971039\n",
      "Epoch: 1000 train loss=0.575992584 valid loss= 0.466329008 valid acc= 0.968421042\n",
      "train reg_fs: 0.27405381202697754\n"
     ]
    },
    {
     "name": "stderr",
     "output_type": "stream",
     "text": [
      "\u001b[32m[I 2021-06-30 19:10:22,052]\u001b[0m Trial 16 finished with value: 0.042105257511138916 and parameters: {'lam': 1.34572987821892, 'learning_rate': 0.044538379448852736, 'num_epoch': 1200}. Best is trial 2 with value: 0.021052658557891846.\u001b[0m\n"
     ]
    },
    {
     "name": "stdout",
     "output_type": "stream",
     "text": [
      "Epoch: 1200 train loss=0.571489215 valid loss= 0.460037798 valid acc= 0.957894742\n",
      "train reg_fs: 0.2685920000076294\n",
      "In trial:---------------------\n",
      "num_samples : 855\n",
      "Epoch: 200 train loss=1.216503024 valid loss= 1.531466484 valid acc= 0.652631581\n",
      "train reg_fs: 0.9010637998580933\n",
      "Epoch: 400 train loss=0.863999426 valid loss= 0.855414689 valid acc= 0.894736826\n",
      "train reg_fs: 0.551700234413147\n",
      "Epoch: 600 train loss=0.644652843 valid loss= 0.516331613 valid acc= 0.947368443\n",
      "train reg_fs: 0.31935611367225647\n",
      "Epoch: 800 train loss=0.591362000 valid loss= 0.490049899 valid acc= 0.947368443\n",
      "train reg_fs: 0.2824312746524811\n"
     ]
    },
    {
     "name": "stderr",
     "output_type": "stream",
     "text": [
      "\u001b[32m[I 2021-06-30 19:10:29,717]\u001b[0m Trial 17 finished with value: 0.08421051502227783 and parameters: {'lam': 1.3361801082241644, 'learning_rate': 0.04903538169354039, 'num_epoch': 1000}. Best is trial 2 with value: 0.021052658557891846.\u001b[0m\n"
     ]
    },
    {
     "name": "stdout",
     "output_type": "stream",
     "text": [
      "Epoch: 1000 train loss=0.563219368 valid loss= 0.524535358 valid acc= 0.915789485\n",
      "train reg_fs: 0.2719906270503998\n",
      "In trial:---------------------\n",
      "num_samples : 855\n",
      "Epoch: 200 train loss=1.298101664 valid loss= 1.596948385 valid acc= 0.589473665\n",
      "train reg_fs: 0.9405755400657654\n",
      "Epoch: 400 train loss=1.010957837 valid loss= 1.047351599 valid acc= 0.852631569\n",
      "train reg_fs: 0.7112972140312195\n",
      "Epoch: 600 train loss=0.717099547 valid loss= 0.619162560 valid acc= 0.936842084\n",
      "train reg_fs: 0.4016036093235016\n",
      "Epoch: 800 train loss=0.610786915 valid loss= 0.511085391 valid acc= 0.968421042\n",
      "train reg_fs: 0.30480772256851196\n"
     ]
    },
    {
     "name": "stderr",
     "output_type": "stream",
     "text": [
      "\u001b[32m[I 2021-06-30 19:10:37,398]\u001b[0m Trial 18 finished with value: 0.042105257511138916 and parameters: {'lam': 1.3330597379948053, 'learning_rate': 0.03544685148920204, 'num_epoch': 1000}. Best is trial 2 with value: 0.021052658557891846.\u001b[0m\n"
     ]
    },
    {
     "name": "stdout",
     "output_type": "stream",
     "text": [
      "Epoch: 1000 train loss=0.598285496 valid loss= 0.485097229 valid acc= 0.957894742\n",
      "train reg_fs: 0.282370388507843\n",
      "In trial:---------------------\n",
      "num_samples : 855\n",
      "Epoch: 200 train loss=1.279379129 valid loss= 1.566911936 valid acc= 0.621052623\n",
      "train reg_fs: 0.9493274688720703\n",
      "Epoch: 400 train loss=1.027806640 valid loss= 1.072106123 valid acc= 0.863157868\n",
      "train reg_fs: 0.7582383751869202\n",
      "Epoch: 600 train loss=0.764429152 valid loss= 0.673837543 valid acc= 0.957894742\n",
      "train reg_fs: 0.46192485094070435\n",
      "Epoch: 800 train loss=0.629112005 valid loss= 0.522121668 valid acc= 0.968421042\n",
      "train reg_fs: 0.3275220990180969\n",
      "Epoch: 1000 train loss=0.599451900 valid loss= 0.479026794 valid acc= 0.978947341\n",
      "train reg_fs: 0.29124027490615845\n"
     ]
    },
    {
     "name": "stderr",
     "output_type": "stream",
     "text": [
      "\u001b[32m[I 2021-06-30 19:10:46,360]\u001b[0m Trial 19 finished with value: 0.042105257511138916 and parameters: {'lam': 1.3470322632520868, 'learning_rate': 0.03898284920190647, 'num_epoch': 1200}. Best is trial 2 with value: 0.021052658557891846.\u001b[0m\n"
     ]
    },
    {
     "name": "stdout",
     "output_type": "stream",
     "text": [
      "Epoch: 1200 train loss=0.597529709 valid loss= 0.473826885 valid acc= 0.957894742\n",
      "train reg_fs: 0.27862393856048584\n",
      "In trial:---------------------\n"
     ]
    }
   ],
   "source": [
    "# optimize the model via Optuna and obtain the best model with largest validation acc\n",
    "best_model = None\n",
    "model = None\n",
    "study = optuna.create_study(pruner=None)\n",
    "study.optimize(lspin_objective, n_trials=20, callbacks=[callback])"
   ]
  },
  {
   "cell_type": "code",
   "execution_count": 16,
   "metadata": {},
   "outputs": [],
   "source": [
    "# get the training gate matrix\n",
    "gate_mat_nonl=best_model.get_prob_alpha(x_train)"
   ]
  },
  {
   "cell_type": "code",
   "execution_count": 17,
   "metadata": {},
   "outputs": [
    {
     "name": "stdout",
     "output_type": "stream",
     "text": [
      "Trial Finished*************\n",
      "Best model's lambda: 1.3338885970426921\n",
      "Best model's learning rate: 0.0314604671452609\n",
      "Best model's num of epochs: 1000\n",
      "Test acc : 0.9800000190734863\n"
     ]
    }
   ],
   "source": [
    "best_lr = study.best_params['learning_rate']\n",
    "best_epoch = study.best_params['num_epoch']\n",
    "best_lam = study.best_params['lam']\n",
    "\n",
    "# test the best model\n",
    "test_acc, loss = best_model.evaluate(x_test,y_test)\n",
    "            \n",
    "print(\"Trial Finished*************\")\n",
    "print(\"Best model's lambda: {}\".format(best_lam))\n",
    "print(\"Best model's learning rate: {}\".format(best_lr))\n",
    "print(\"Best model's num of epochs: {}\".format(best_epoch))\n",
    "print(\"Test acc : {}\".format(test_acc))"
   ]
  },
  {
   "cell_type": "markdown",
   "metadata": {},
   "source": [
    "### Comparing the training gates to the ground truth"
   ]
  },
  {
   "cell_type": "code",
   "execution_count": 18,
   "metadata": {},
   "outputs": [],
   "source": [
    "cmap = cm.Blues \n",
    "bounds=[0,0.5,1]\n",
    "norm = colors.BoundaryNorm(bounds, cmap.N)\n",
    "\n",
    "title_size = 30\n",
    "xlabel_size = 35\n",
    "ylabel_size = 35\n",
    "xtick_size = 20\n",
    "ytick_size = 20\n",
    "bar_label_size = 20"
   ]
  },
  {
   "cell_type": "code",
   "execution_count": 19,
   "metadata": {},
   "outputs": [
    {
     "data": {
      "image/png": "[encoded data removed]",
      "text/plain": [
       "<Figure size 720x432 with 5 Axes>"
      ]
     },
     "metadata": {
      "needs_background": "light"
     },
     "output_type": "display_data"
    }
   ],
   "source": [
    "matplotlib.rc('xtick', labelsize=xtick_size) \n",
    "\n",
    "fig, axes = plt.subplots(1, 2, sharex=True,sharey=False,figsize=(10,6))\n",
    "\n",
    "fig.add_subplot(111, frameon=False)\n",
    "\n",
    "g_train_label = 1*(g_train[:,2] == 1)\n",
    "sorted_order_train = np.concatenate((np.where(g_train_label == 0)[0],np.where(g_train_label == 1)[0]))\n",
    "\n",
    "im1 = axes[0].imshow(g_train[sorted_order_train,:25],aspect='auto',cmap=cmap, norm=norm)\n",
    "axes[0].set_title(\"Ground Truth\",fontsize=title_size,fontweight=\"bold\")\n",
    "axes[0].set_xticks([0,1,2,3,9,14,19])\n",
    "axes[0].set_xticklabels([1,2,3,4,10,15,20],fontsize=xtick_size)\n",
    "axes[0].set_yticks([0,199,399,599,799])\n",
    "axes[0].set_yticklabels([1,200,400,600,800],fontsize=ytick_size)\n",
    "axes[0].set_ylabel(\"Sample Index\",fontsize=ylabel_size,labelpad=7)\n",
    "\n",
    "im3 = axes[1].imshow(gate_mat_nonl[sorted_order_train,:25],aspect='auto',cmap=cmap)\n",
    "axes[1].set_title(\"LSPIN\",fontsize=title_size,fontweight=\"bold\")\n",
    "axes[1].set_yticks([0,199,399,599,799])\n",
    "axes[1].set_yticklabels([1,200,400,600,800],fontsize=ytick_size)\n",
    "\n",
    "cbar = fig.colorbar(im1,ax=axes[0], cmap=cmap, norm=norm, boundaries=bounds, ticks=[0, 1])\n",
    "cbar.ax.tick_params(labelsize=bar_label_size)\n",
    "cbar = fig.colorbar(im3,ax=axes[1])\n",
    "cbar.ax.tick_params(labelsize=bar_label_size)\n",
    "\n",
    "plt.tick_params(labelcolor='none', top=False, bottom=False, left=False, right=False)\n",
    "plt.xlabel(\"Feature Index\",fontsize=xlabel_size)\n",
    "\n",
    "plt.tight_layout()"
   ]
  },
  {
   "cell_type": "code",
   "execution_count": 20,
   "metadata": {},
   "outputs": [
    {
     "name": "stdout",
     "output_type": "stream",
     "text": [
      "True Positive Rate: 0.9977\n"
     ]
    }
   ],
   "source": [
    "### TPR of the discoveries\n",
    "print(\"True Positive Rate: {:.4f}\".format(np.sum((g_train > 0) & (gate_mat_nonl >0))/np.sum(g_train > 0)))"
   ]
  },
  {
   "cell_type": "code",
   "execution_count": 21,
   "metadata": {},
   "outputs": [
    {
     "name": "stdout",
     "output_type": "stream",
     "text": [
      "False Discovery Rate: 0.0693\n"
     ]
    }
   ],
   "source": [
    "### FDR of the discoveries\n",
    "print(\"False Discovery Rate: {:.4f}\".format(np.sum((g_train ==0)&(gate_mat_nonl >0))/np.sum(gate_mat_nonl >0)))"
   ]
  },
  {
   "cell_type": "markdown",
   "metadata": {},
   "source": [
    "### Compare the test gates to the ground truth"
   ]
  },
  {
   "cell_type": "code",
   "execution_count": 22,
   "metadata": {},
   "outputs": [],
   "source": [
    "gate_mat_nonl_test = best_model.get_prob_alpha(x_test)"
   ]
  },
  {
   "cell_type": "code",
   "execution_count": 23,
   "metadata": {},
   "outputs": [
    {
     "data": {
      "image/png": "[encoded data removed]",
      "text/plain": [
       "<Figure size 720x432 with 5 Axes>"
      ]
     },
     "metadata": {
      "needs_background": "light"
     },
     "output_type": "display_data"
    }
   ],
   "source": [
    "fig, axes = plt.subplots(1, 2, sharex=True,sharey=False,figsize=(10,6))\n",
    "\n",
    "fig.add_subplot(111, frameon=False)\n",
    "\n",
    "g_test_label = 1*(g_test[:,2] == 1)\n",
    "sorted_order_test = np.concatenate((np.where(g_test_label == 0)[0],np.where(g_test_label == 1)[0]))\n",
    "\n",
    "im1 = axes[0].imshow(g_test[sorted_order_test,:25],aspect='auto',cmap=cmap, norm=norm)\n",
    "axes[0].set_title(\"Ground Truth\",fontsize=title_size,fontweight=\"bold\")\n",
    "axes[0].set_ylabel(\"Sample Index\",fontsize=ylabel_size,labelpad=20)\n",
    "axes[0].set_xticks([0,1,2,3,9,14,19])\n",
    "axes[0].set_xticklabels([1,2,3,4,10,15,20],fontsize=xtick_size)\n",
    "axes[0].set_yticks([0,19,39])\n",
    "axes[0].set_yticklabels([1,20,40],fontsize=ytick_size)\n",
    "\n",
    "im2 = axes[1].imshow(gate_mat_nonl_test[sorted_order_test,:25],aspect='auto',cmap=cmap)\n",
    "axes[1].set_title(\"LSPIN\",fontsize=title_size,fontweight=\"bold\")\n",
    "axes[1].set_yticks([0,19,39])\n",
    "axes[1].set_yticklabels([1,20,40],fontsize=ytick_size)\n",
    "\n",
    "cbar = fig.colorbar(im1,ax=axes[0], cmap=cmap, norm=norm, boundaries=bounds, ticks=[0, 1])\n",
    "cbar.ax.tick_params(labelsize=bar_label_size)\n",
    "cbar = fig.colorbar(im2,ax=axes[1])\n",
    "cbar.ax.tick_params(labelsize=bar_label_size)\n",
    "\n",
    "plt.tick_params(labelcolor='none', top=False, bottom=False, left=False, right=False)\n",
    "plt.xlabel(\"Feature Index\",fontsize=xlabel_size)\n",
    "plt.tight_layout()"
   ]
  },
  {
   "cell_type": "code",
   "execution_count": 24,
   "metadata": {},
   "outputs": [
    {
     "name": "stdout",
     "output_type": "stream",
     "text": [
      "True Positive Rate: 1.0000\n"
     ]
    }
   ],
   "source": [
    "### TPR\n",
    "print(\"True Positive Rate: {:.4f}\".format(np.sum((g_test > 0) & (gate_mat_nonl_test >0))/np.sum(g_test > 0)))"
   ]
  },
  {
   "cell_type": "code",
   "execution_count": 25,
   "metadata": {},
   "outputs": [
    {
     "name": "stdout",
     "output_type": "stream",
     "text": [
      "False Discovery Rate: 0.0196\n"
     ]
    }
   ],
   "source": [
    "### FDR:\n",
    "print(\"False Discovery Rate: {:.4f}\".format(np.sum((g_test ==0)&(gate_mat_nonl_test >0))/np.sum(gate_mat_nonl_test >0)))"
   ]
  }
 ],
 "metadata": {
  "kernelspec": {
   "display_name": "Python 3",
   "language": "python",
   "name": "python3"
  },
  "language_info": {
   "codemirror_mode": {
    "name": "ipython",
    "version": 3
   },
   "file_extension": ".py",
   "mimetype": "text/x-python",
   "name": "python",
   "nbconvert_exporter": "python",
   "pygments_lexer": "ipython3",
   "version": "3.6.9"
  }
 },
 "nbformat": 4,
 "nbformat_minor": 4
}
