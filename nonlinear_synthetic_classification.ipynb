{
 "cells": [
  {
   "cell_type": "code",
   "execution_count": 1,
   "metadata": {},
   "outputs": [],
   "source": [
    "import numpy as np\n",
    "import scipy\n",
    "import sys\n",
    "import os\n",
    "import optuna\n",
    "\n",
    "from sklearn.model_selection import train_test_split\n",
    "\n",
    "from LSPIN_model import Model\n",
    "from utils import convertToOneHot, DataSet"
   ]
  },
  {
   "cell_type": "code",
   "execution_count": 2,
   "metadata": {},
   "outputs": [],
   "source": [
    "os.environ['CUDA_VISIBLE_DEVICES'] = '2'"
   ]
  },
  {
   "cell_type": "markdown",
   "metadata": {},
   "source": [
    "### Data Generation (Exp 4)"
   ]
  },
  {
   "cell_type": "code",
   "execution_count": 3,
   "metadata": {},
   "outputs": [],
   "source": [
    "np.random.seed(34)\n",
    "X1 = np.random.normal(loc=1,scale=0.5,size=(500,4))\n",
    "X2 = np.random.normal(loc=-1,scale=0.5,size=(500,4))\n",
    "logit1 = np.exp(X1[:, 0] *X1[:, 1]  - 0.9)\n",
    "logit2 = np.exp(np.sum(X2[:, 2:4]**2, axis = 1) - 2.5)\n",
    "Y1 = 1.*(1/(1+logit1) > 0.5).reshape(-1,1)\n",
    "Y2 = 1.*(1/(1+logit2) > 0.5).reshape(-1,1)"
   ]
  },
  {
   "cell_type": "code",
   "execution_count": 4,
   "metadata": {},
   "outputs": [],
   "source": [
    "#### add noise to the next 46 irrelevant features\n",
    "X = np.concatenate((X1,X2),axis=0)\n",
    "noise = np.random.normal(loc=0,scale=0.5,size=(1000,46))\n",
    "X = np.concatenate((X,noise),axis=1)\n",
    "Y = np.concatenate((Y1,Y2),axis=0).reshape(-1)"
   ]
  },
  {
   "cell_type": "code",
   "execution_count": 5,
   "metadata": {},
   "outputs": [],
   "source": [
    "ground_truth = np.zeros((1000,50))\n",
    "ground_truth[:500,:2] = 1\n",
    "ground_truth[500:,2:4] = 1"
   ]
  },
  {
   "cell_type": "code",
   "execution_count": 6,
   "metadata": {},
   "outputs": [],
   "source": [
    "Y_onehot = convertToOneHot(Y.astype(int))"
   ]
  },
  {
   "cell_type": "code",
   "execution_count": 7,
   "metadata": {},
   "outputs": [],
   "source": [
    "y_g = np.concatenate((Y_onehot,ground_truth),axis=1)"
   ]
  },
  {
   "cell_type": "code",
   "execution_count": 8,
   "metadata": {},
   "outputs": [],
   "source": [
    "X_non_zeros=np.sum(X,axis=0)!=0\n",
    "XN=scipy.stats.zscore(X[:,X_non_zeros], axis=0)"
   ]
  },
  {
   "cell_type": "code",
   "execution_count": 9,
   "metadata": {},
   "outputs": [],
   "source": [
    "x_train,x_test,y_g_train,y_g_test = train_test_split(XN,y_g,train_size=0.95,random_state=34)\n",
    "x_train,x_valid,y_g_train,y_g_valid = train_test_split(x_train,y_g_train,test_size=0.1,random_state=34)"
   ]
  },
  {
   "cell_type": "code",
   "execution_count": 10,
   "metadata": {},
   "outputs": [],
   "source": [
    "y_train = y_g_train[:,:2]\n",
    "y_valid = y_g_valid[:,:2]\n",
    "y_test = y_g_test[:,:2]"
   ]
  },
  {
   "cell_type": "code",
   "execution_count": 11,
   "metadata": {},
   "outputs": [],
   "source": [
    "g_train = y_g_train[:,2:]\n",
    "g_valid = y_g_valid[:,2:]\n",
    "g_test = y_g_test[:,2:]"
   ]
  },
  {
   "cell_type": "code",
   "execution_count": 12,
   "metadata": {},
   "outputs": [],
   "source": [
    "dataset = DataSet(**{'_data':x_train, '_labels':y_train,\n",
    "                '_valid_data':x_valid, '_valid_labels':y_valid,\n",
    "                '_test_data':x_test, '_test_labels':y_test})"
   ]
  },
  {
   "cell_type": "markdown",
   "metadata": {},
   "source": [
    "### LSPIN"
   ]
  },
  {
   "cell_type": "code",
   "execution_count": 29,
   "metadata": {},
   "outputs": [],
   "source": [
    "def lspin_objective(trial):  \n",
    "    \n",
    "    global model\n",
    "            \n",
    "    params = {\n",
    "        \"feature_selection\" : True,\n",
    "        \"sigma\" : 0.5,\n",
    "        \"display_step\" : 200,\n",
    "        \"hidden_layers_node\" : [200,200], # 2 hidden layers with 200 nodes each, output layer with 2 nodes\n",
    "        \"batch_normalization\":False,\n",
    "        \"input_node\" : x_train.shape[1],\n",
    "        \"output_node\" : 2\n",
    "    }\n",
    "    params['stddev_input'] = 0.1\n",
    "    params['activation']= 'tanh' \n",
    "    params['batch_size']= x_train.shape[0] \n",
    "    params['feature_selection_dimension']=[100,100] \n",
    "    \n",
    "    params['lam'] = trial.suggest_loguniform('lam',1.33,1.35) \n",
    "    params['learning_rate'] = trial.suggest_loguniform('learning_rate',0.03,0.05) \n",
    "    num_epoch = trial.suggest_categorical('num_epoch', [1000,1200])\n",
    "\n",
    "    model_dir = None\n",
    "    model = Model(**params)\n",
    "    train_acces, train_losses, val_acces, val_losses = model.train(trial, dataset, model_dir, num_epoch=num_epoch)\n",
    "        \n",
    "    print(\"In trial:---------------------\")    \n",
    "    loss=(1-val_acces[-1])\n",
    "            \n",
    "    return loss\n",
    "        \n",
    "def callback(study,trial):\n",
    "    global best_model\n",
    "    if study.best_trial == trial:\n",
    "        best_model = model"
   ]
  },
  {
   "cell_type": "code",
   "execution_count": null,
   "metadata": {
    "scrolled": true
   },
   "outputs": [
    {
     "name": "stderr",
     "output_type": "stream",
     "text": [
      "\u001b[32m[I 2021-06-08 00:29:01,755]\u001b[0m A new study created in memory with name: no-name-67b3a008-cff9-46b1-91c0-333c2615df72\u001b[0m\n"
     ]
    },
    {
     "name": "stdout",
     "output_type": "stream",
     "text": [
      "num_samples : 855\n",
      "Epoch: 200 train loss=1.416467667 valid loss= 1.452327609 valid acc= 0.736842096\n",
      "train reg_fs: 0.9265543222427368\n",
      "Epoch: 400 train loss=0.941349030 valid loss= 0.984793603 valid acc= 0.800000012\n",
      "train reg_fs: 0.5744215846061707\n",
      "Epoch: 600 train loss=0.659266472 valid loss= 0.642455161 valid acc= 0.905263186\n",
      "train reg_fs: 0.3219015598297119\n",
      "Epoch: 800 train loss=0.631370425 valid loss= 0.564956188 valid acc= 0.926315784\n",
      "train reg_fs: 0.2834206223487854\n"
     ]
    },
    {
     "name": "stderr",
     "output_type": "stream",
     "text": [
      "\u001b[32m[I 2021-06-08 00:29:05,365]\u001b[0m Trial 0 finished with value: 0.0736842155456543 and parameters: {'lam': 1.3374961577277336, 'learning_rate': 0.039125347904239695, 'num_epoch': 1000}. Best is trial 0 with value: 0.0736842155456543.\u001b[0m\n"
     ]
    },
    {
     "name": "stdout",
     "output_type": "stream",
     "text": [
      "Epoch: 1000 train loss=0.572798193 valid loss= 0.544017792 valid acc= 0.926315784\n",
      "train reg_fs: 0.2716415822505951\n",
      "Optimization Finished!\n",
      "test loss: 0.5796085596084595, test acc: 0.8999999761581421\n",
      "In trial:---------------------\n",
      "num_samples : 855\n",
      "Epoch: 200 train loss=1.483689189 valid loss= 1.474424362 valid acc= 0.800000012\n",
      "train reg_fs: 0.9637041091918945\n",
      "Epoch: 400 train loss=1.142046452 valid loss= 1.123273849 valid acc= 0.842105269\n",
      "train reg_fs: 0.7258409857749939\n",
      "Epoch: 600 train loss=0.745460153 valid loss= 0.736205220 valid acc= 0.873684227\n",
      "train reg_fs: 0.39548659324645996\n",
      "Epoch: 800 train loss=0.644355416 valid loss= 0.605786860 valid acc= 0.915789485\n",
      "train reg_fs: 0.30288082361221313\n",
      "Epoch: 1000 train loss=0.599882364 valid loss= 0.576349854 valid acc= 0.915789485\n",
      "train reg_fs: 0.2816104292869568\n"
     ]
    },
    {
     "name": "stderr",
     "output_type": "stream",
     "text": [
      "\u001b[32m[I 2021-06-08 00:29:09,916]\u001b[0m Trial 1 finished with value: 0.10526317358016968 and parameters: {'lam': 1.3383992772099278, 'learning_rate': 0.033124269931764046, 'num_epoch': 1200}. Best is trial 0 with value: 0.0736842155456543.\u001b[0m\n"
     ]
    },
    {
     "name": "stdout",
     "output_type": "stream",
     "text": [
      "Epoch: 1200 train loss=0.618317008 valid loss= 0.580404282 valid acc= 0.894736826\n",
      "train reg_fs: 0.2728283703327179\n",
      "Optimization Finished!\n",
      "test loss: 0.5438217520713806, test acc: 0.8999999761581421\n",
      "In trial:---------------------\n",
      "num_samples : 855\n",
      "Epoch: 200 train loss=1.402539372 valid loss= 1.443993807 valid acc= 0.726315796\n",
      "train reg_fs: 0.9300333857536316\n",
      "Epoch: 400 train loss=0.949195981 valid loss= 0.941356421 valid acc= 0.831578970\n",
      "train reg_fs: 0.5623534917831421\n",
      "Epoch: 600 train loss=0.661354423 valid loss= 0.628169537 valid acc= 0.905263186\n",
      "train reg_fs: 0.3201603889465332\n",
      "Epoch: 800 train loss=0.612373114 valid loss= 0.555624485 valid acc= 0.926315784\n",
      "train reg_fs: 0.2840861976146698\n"
     ]
    },
    {
     "name": "stderr",
     "output_type": "stream",
     "text": [
      "\u001b[32m[I 2021-06-08 00:29:13,840]\u001b[0m Trial 2 finished with value: 0.10526317358016968 and parameters: {'lam': 1.3417890614922383, 'learning_rate': 0.03852459537855709, 'num_epoch': 1000}. Best is trial 0 with value: 0.0736842155456543.\u001b[0m\n"
     ]
    },
    {
     "name": "stdout",
     "output_type": "stream",
     "text": [
      "Epoch: 1000 train loss=0.587790787 valid loss= 0.557670712 valid acc= 0.894736826\n",
      "train reg_fs: 0.27223843336105347\n",
      "Optimization Finished!\n",
      "test loss: 0.5711503624916077, test acc: 0.9200000166893005\n",
      "In trial:---------------------\n",
      "num_samples : 855\n",
      "Epoch: 200 train loss=1.463373423 valid loss= 1.507778883 valid acc= 0.736842096\n",
      "train reg_fs: 0.9655645489692688\n",
      "Epoch: 400 train loss=1.097110391 valid loss= 1.158694267 valid acc= 0.800000012\n",
      "train reg_fs: 0.7243036031723022\n",
      "Epoch: 600 train loss=0.734652519 valid loss= 0.724450111 valid acc= 0.884210527\n",
      "train reg_fs: 0.39097002148628235\n",
      "Epoch: 800 train loss=0.637453556 valid loss= 0.596585393 valid acc= 0.905263186\n",
      "train reg_fs: 0.3040172755718231\n",
      "Epoch: 1000 train loss=0.614132345 valid loss= 0.555091143 valid acc= 0.915789485\n",
      "train reg_fs: 0.2835153043270111\n"
     ]
    },
    {
     "name": "stderr",
     "output_type": "stream",
     "text": [
      "\u001b[32m[I 2021-06-08 00:29:18,029]\u001b[0m Trial 3 finished with value: 0.08421051502227783 and parameters: {'lam': 1.3448563095173969, 'learning_rate': 0.03302256142183416, 'num_epoch': 1200}. Best is trial 0 with value: 0.0736842155456543.\u001b[0m\n"
     ]
    },
    {
     "name": "stdout",
     "output_type": "stream",
     "text": [
      "Epoch: 1200 train loss=0.586758256 valid loss= 0.536130786 valid acc= 0.915789485\n",
      "train reg_fs: 0.27511635422706604\n",
      "Optimization Finished!\n",
      "test loss: 0.565221905708313, test acc: 0.8799999952316284\n",
      "In trial:---------------------\n",
      "num_samples : 855\n",
      "Epoch: 200 train loss=1.483869076 valid loss= 1.472794056 valid acc= 0.736842096\n",
      "train reg_fs: 0.9392780661582947\n",
      "Epoch: 400 train loss=1.068114161 valid loss= 1.123670816 valid acc= 0.757894754\n",
      "train reg_fs: 0.6376194953918457\n",
      "Epoch: 600 train loss=0.736238539 valid loss= 0.775716066 valid acc= 0.800000012\n",
      "train reg_fs: 0.32825854420661926\n",
      "Epoch: 800 train loss=0.644231200 valid loss= 0.694290638 valid acc= 0.800000012\n",
      "train reg_fs: 0.27382567524909973\n"
     ]
    },
    {
     "name": "stderr",
     "output_type": "stream",
     "text": [
      "\u001b[32m[I 2021-06-08 00:29:21,632]\u001b[0m Trial 4 finished with value: 0.21052628755569458 and parameters: {'lam': 1.3315710341938907, 'learning_rate': 0.04083764494115181, 'num_epoch': 1000}. Best is trial 0 with value: 0.0736842155456543.\u001b[0m\n"
     ]
    },
    {
     "name": "stdout",
     "output_type": "stream",
     "text": [
      "Epoch: 1000 train loss=0.595821917 valid loss= 0.678827167 valid acc= 0.789473712\n",
      "train reg_fs: 0.2592620253562927\n",
      "Optimization Finished!\n",
      "test loss: 0.7905731201171875, test acc: 0.7799999713897705\n",
      "In trial:---------------------\n",
      "num_samples : 855\n",
      "Epoch: 200 train loss=1.345761657 valid loss= 1.403322101 valid acc= 0.705263138\n",
      "train reg_fs: 0.8873472809791565\n",
      "Epoch: 400 train loss=0.787194073 valid loss= 0.799606621 valid acc= 0.831578970\n",
      "train reg_fs: 0.43119919300079346\n",
      "Epoch: 600 train loss=0.621084690 valid loss= 0.608158708 valid acc= 0.884210527\n",
      "train reg_fs: 0.29483893513679504\n",
      "Epoch: 800 train loss=0.578289092 valid loss= 0.575326324 valid acc= 0.905263186\n",
      "train reg_fs: 0.27455005049705505\n",
      "Epoch: 1000 train loss=0.557446480 valid loss= 0.564252734 valid acc= 0.905263186\n",
      "train reg_fs: 0.26729318499565125\n"
     ]
    },
    {
     "name": "stderr",
     "output_type": "stream",
     "text": [
      "\u001b[32m[I 2021-06-08 00:29:25,898]\u001b[0m Trial 5 finished with value: 0.12631577253341675 and parameters: {'lam': 1.33569853729867, 'learning_rate': 0.047778368298536926, 'num_epoch': 1200}. Best is trial 0 with value: 0.0736842155456543.\u001b[0m\n"
     ]
    },
    {
     "name": "stdout",
     "output_type": "stream",
     "text": [
      "Epoch: 1200 train loss=0.565387011 valid loss= 0.548272192 valid acc= 0.873684227\n",
      "train reg_fs: 0.2631266713142395\n",
      "Optimization Finished!\n",
      "test loss: 0.5974491834640503, test acc: 0.8600000143051147\n",
      "In trial:---------------------\n",
      "num_samples : 855\n",
      "Epoch: 200 train loss=1.514051676 valid loss= 1.518829823 valid acc= 0.736842096\n",
      "train reg_fs: 0.9526914358139038\n",
      "Epoch: 400 train loss=1.096657038 valid loss= 1.118661642 valid acc= 0.800000012\n",
      "train reg_fs: 0.6805540919303894\n",
      "Epoch: 600 train loss=0.722850561 valid loss= 0.710948348 valid acc= 0.884210527\n",
      "train reg_fs: 0.3720944821834564\n",
      "Epoch: 800 train loss=0.633392811 valid loss= 0.589373410 valid acc= 0.915789485\n",
      "train reg_fs: 0.2983720302581787\n",
      "Epoch: 1000 train loss=0.610990047 valid loss= 0.554290712 valid acc= 0.915789485\n",
      "train reg_fs: 0.28010761737823486\n"
     ]
    },
    {
     "name": "stderr",
     "output_type": "stream",
     "text": [
      "\u001b[32m[I 2021-06-08 00:29:30,100]\u001b[0m Trial 6 finished with value: 0.06315791606903076 and parameters: {'lam': 1.3423381427056187, 'learning_rate': 0.03188731746801261, 'num_epoch': 1200}. Best is trial 6 with value: 0.06315791606903076.\u001b[0m\n"
     ]
    },
    {
     "name": "stdout",
     "output_type": "stream",
     "text": [
      "Epoch: 1200 train loss=0.608981192 valid loss= 0.532847762 valid acc= 0.936842084\n",
      "train reg_fs: 0.2724672853946686\n",
      "Optimization Finished!\n",
      "test loss: 0.5878341197967529, test acc: 0.8799999952316284\n",
      "In trial:---------------------\n",
      "num_samples : 855\n",
      "Epoch: 200 train loss=1.336208344 valid loss= 1.319756389 valid acc= 0.810526311\n",
      "train reg_fs: 0.8813821077346802\n",
      "Epoch: 400 train loss=0.763393939 valid loss= 0.736794770 valid acc= 0.863157868\n",
      "train reg_fs: 0.4048195779323578\n",
      "Epoch: 600 train loss=0.618545651 valid loss= 0.578953981 valid acc= 0.926315784\n",
      "train reg_fs: 0.29303571581840515\n",
      "Epoch: 800 train loss=0.591875851 valid loss= 0.544848442 valid acc= 0.936842084\n",
      "train reg_fs: 0.27521300315856934\n"
     ]
    },
    {
     "name": "stderr",
     "output_type": "stream",
     "text": [
      "\u001b[32m[I 2021-06-08 00:29:33,725]\u001b[0m Trial 7 finished with value: 0.0736842155456543 and parameters: {'lam': 1.3434716598340717, 'learning_rate': 0.046128525007909864, 'num_epoch': 1000}. Best is trial 6 with value: 0.06315791606903076.\u001b[0m\n"
     ]
    },
    {
     "name": "stdout",
     "output_type": "stream",
     "text": [
      "Epoch: 1000 train loss=0.588497996 valid loss= 0.526928782 valid acc= 0.926315784\n",
      "train reg_fs: 0.26797688007354736\n",
      "Optimization Finished!\n",
      "test loss: 0.6159058809280396, test acc: 0.8600000143051147\n",
      "In trial:---------------------\n",
      "num_samples : 855\n",
      "Epoch: 200 train loss=1.456729174 valid loss= 1.448524356 valid acc= 0.768421054\n",
      "train reg_fs: 0.9530304074287415\n",
      "Epoch: 400 train loss=1.078486085 valid loss= 1.078985453 valid acc= 0.831578970\n",
      "train reg_fs: 0.6785131096839905\n",
      "Epoch: 600 train loss=0.718863368 valid loss= 0.678034782 valid acc= 0.894736826\n",
      "train reg_fs: 0.35740724205970764\n",
      "Epoch: 800 train loss=0.636946917 valid loss= 0.586678743 valid acc= 0.905263186\n",
      "train reg_fs: 0.29391661286354065\n",
      "Epoch: 1000 train loss=0.590852380 valid loss= 0.574681461 valid acc= 0.894736826\n",
      "train reg_fs: 0.27781441807746887\n"
     ]
    },
    {
     "name": "stderr",
     "output_type": "stream",
     "text": [
      "\u001b[32m[I 2021-06-08 00:29:37,994]\u001b[0m Trial 8 finished with value: 0.10526317358016968 and parameters: {'lam': 1.3348187210021076, 'learning_rate': 0.036342278103913835, 'num_epoch': 1200}. Best is trial 6 with value: 0.06315791606903076.\u001b[0m\n"
     ]
    },
    {
     "name": "stdout",
     "output_type": "stream",
     "text": [
      "Epoch: 1200 train loss=0.568659425 valid loss= 0.572504520 valid acc= 0.894736826\n",
      "train reg_fs: 0.2709316313266754\n",
      "Optimization Finished!\n",
      "test loss: 0.541104793548584, test acc: 0.9200000166893005\n",
      "In trial:---------------------\n",
      "num_samples : 855\n",
      "Epoch: 200 train loss=1.491554499 valid loss= 1.485374331 valid acc= 0.757894754\n",
      "train reg_fs: 0.9729864001274109\n",
      "Epoch: 400 train loss=1.153601289 valid loss= 1.144408822 valid acc= 0.852631569\n",
      "train reg_fs: 0.754075825214386\n",
      "Epoch: 600 train loss=0.788585186 valid loss= 0.743128538 valid acc= 0.884210527\n",
      "train reg_fs: 0.4304160177707672\n",
      "Epoch: 800 train loss=0.645650387 valid loss= 0.584874868 valid acc= 0.936842084\n",
      "train reg_fs: 0.3135574460029602\n",
      "Epoch: 1000 train loss=0.594952345 valid loss= 0.543522477 valid acc= 0.947368443\n",
      "train reg_fs: 0.28651297092437744\n"
     ]
    },
    {
     "name": "stderr",
     "output_type": "stream",
     "text": [
      "\u001b[32m[I 2021-06-08 00:29:42,146]\u001b[0m Trial 9 finished with value: 0.05263155698776245 and parameters: {'lam': 1.3464888781514361, 'learning_rate': 0.03007005911406379, 'num_epoch': 1200}. Best is trial 9 with value: 0.05263155698776245.\u001b[0m\n"
     ]
    },
    {
     "name": "stdout",
     "output_type": "stream",
     "text": [
      "Epoch: 1200 train loss=0.586553454 valid loss= 0.532837212 valid acc= 0.947368443\n",
      "train reg_fs: 0.2765713930130005\n",
      "Optimization Finished!\n",
      "test loss: 0.5736778974533081, test acc: 0.8999999761581421\n",
      "In trial:---------------------\n",
      "num_samples : 855\n",
      "Epoch: 200 train loss=1.420165062 valid loss= 1.474161744 valid acc= 0.694736838\n",
      "train reg_fs: 0.9250065088272095\n",
      "Epoch: 400 train loss=0.887501359 valid loss= 0.894874096 valid acc= 0.842105269\n",
      "train reg_fs: 0.5209464430809021\n",
      "Epoch: 600 train loss=0.646221459 valid loss= 0.615471125 valid acc= 0.926315784\n",
      "train reg_fs: 0.3128178119659424\n",
      "Epoch: 800 train loss=0.582800508 valid loss= 0.557396531 valid acc= 0.926315784\n",
      "train reg_fs: 0.2830597460269928\n",
      "Epoch: 1000 train loss=0.593126535 valid loss= 0.541274190 valid acc= 0.936842084\n",
      "train reg_fs: 0.27299532294273376\n"
     ]
    }
   ],
   "source": [
    "best_model = None\n",
    "model = None\n",
    "study = optuna.create_study(pruner=None)\n",
    "study.optimize(lspin_objective, n_trials=20, callbacks=[callback])"
   ]
  },
  {
   "cell_type": "code",
   "execution_count": 15,
   "metadata": {},
   "outputs": [],
   "source": [
    "gate_mat_nonl=best_model.get_prob_alpha(x_train)"
   ]
  },
  {
   "cell_type": "code",
   "execution_count": 16,
   "metadata": {},
   "outputs": [
    {
     "name": "stdout",
     "output_type": "stream",
     "text": [
      "test loss: 0.4867679476737976, test acc: 0.9800000190734863\n",
      "Saving model..\n",
      "Trial Finished*************\n",
      "Best model's lambda: 1.3418530420177768\n",
      "Best model's learning rate: 0.030612651537454055\n",
      "Best model's num of epochs: 1200\n",
      "Test acc : 0.9800000190734863\n"
     ]
    }
   ],
   "source": [
    "best_lr = study.best_params['learning_rate']\n",
    "best_epoch = study.best_params['num_epoch']\n",
    "best_lam = study.best_params['lam']\n",
    "\n",
    "test_acc, loss = best_model.evaluate(x_test,y_test)\n",
    "            \n",
    "print(\"Trial Finished*************\")\n",
    "print(\"Best model's lambda: {}\".format(best_lam))\n",
    "print(\"Best model's learning rate: {}\".format(best_lr))\n",
    "print(\"Best model's num of epochs: {}\".format(best_epoch))\n",
    "print(\"Test acc : {}\".format(test_acc))"
   ]
  },
  {
   "cell_type": "markdown",
   "metadata": {},
   "source": [
    "### Comparing the training gates"
   ]
  },
  {
   "cell_type": "code",
   "execution_count": 21,
   "metadata": {},
   "outputs": [],
   "source": [
    "from matplotlib import cm,colors\n",
    "import matplotlib \n",
    "import matplotlib.pyplot as plt\n",
    "\n",
    "cmap = cm.Blues \n",
    "bounds=[0,0.5,1]\n",
    "norm = colors.BoundaryNorm(bounds, cmap.N)\n",
    "\n",
    "title_size = 30\n",
    "xlabel_size = 35\n",
    "ylabel_size = 35\n",
    "xtick_size = 20\n",
    "ytick_size = 20\n",
    "bar_label_size = 20"
   ]
  },
  {
   "cell_type": "code",
   "execution_count": 22,
   "metadata": {},
   "outputs": [
    {
     "data": {
      "image/png": "[encoded data removed]",
      "text/plain": [
       "<Figure size 720x432 with 5 Axes>"
      ]
     },
     "metadata": {
      "needs_background": "light"
     },
     "output_type": "display_data"
    }
   ],
   "source": [
    "fig, axes = plt.subplots(1, 2, sharex=True,sharey=False,figsize=(10,6))\n",
    "\n",
    "fig.add_subplot(111, frameon=False)\n",
    "matplotlib.rc('xtick', labelsize=xtick_size) \n",
    "\n",
    "g_train_label = 1*(g_train[:,2] == 1)\n",
    "sorted_order_train = np.concatenate((np.where(g_train_label == 0)[0],np.where(g_train_label == 1)[0]))\n",
    "\n",
    "im1 = axes[0].imshow(g_train[sorted_order_train,:25],aspect='auto',cmap=cmap, norm=norm)\n",
    "axes[0].set_title(\"Ground Truth\",fontsize=title_size,fontweight=\"bold\")\n",
    "axes[0].set_xticks([0,1,2,3,9,14,19])\n",
    "axes[0].set_xticklabels([1,2,3,4,10,15,20],fontsize=xtick_size)\n",
    "axes[0].set_yticks([0,199,399,599,799])\n",
    "axes[0].set_yticklabels([1,200,400,600,800],fontsize=ytick_size)\n",
    "axes[0].set_ylabel(\"Sample Index\",fontsize=ylabel_size,labelpad=7)\n",
    "\n",
    "im3 = axes[1].imshow(gate_mat_nonl[sorted_order_train,:25],aspect='auto',cmap=cmap)\n",
    "axes[1].set_title(\"LSPIN\",fontsize=title_size,fontweight=\"bold\")\n",
    "axes[1].set_yticks([0,199,399,599,799])\n",
    "axes[1].set_yticklabels([1,200,400,600,800],fontsize=ytick_size)\n",
    "\n",
    "cbar = fig.colorbar(im1,ax=axes[0], cmap=cmap, norm=norm, boundaries=bounds, ticks=[0, 1])\n",
    "cbar.ax.tick_params(labelsize=bar_label_size)\n",
    "cbar = fig.colorbar(im3,ax=axes[1])\n",
    "cbar.ax.tick_params(labelsize=bar_label_size)\n",
    "\n",
    "plt.tick_params(labelcolor='none', top=False, bottom=False, left=False, right=False)\n",
    "plt.xlabel(\"Feature Index\",fontsize=xlabel_size)\n",
    "\n",
    "plt.tight_layout()"
   ]
  },
  {
   "cell_type": "code",
   "execution_count": 23,
   "metadata": {},
   "outputs": [
    {
     "name": "stdout",
     "output_type": "stream",
     "text": [
      "True Positive Rate: 0.9988\n"
     ]
    }
   ],
   "source": [
    "### TPR of the discoveries\n",
    "print(\"True Positive Rate: {:.4f}\".format(np.sum((g_train > 0) & (gate_mat_nonl >0))/np.sum(g_train > 0)))"
   ]
  },
  {
   "cell_type": "code",
   "execution_count": 24,
   "metadata": {},
   "outputs": [
    {
     "name": "stdout",
     "output_type": "stream",
     "text": [
      "False Discovery Rate: 0.0195\n"
     ]
    }
   ],
   "source": [
    "### FDR of the discoveries\n",
    "print(\"False Discovery Rate: {:.4f}\".format(np.sum((g_train ==0)&(gate_mat_nonl >0))/np.sum(gate_mat_nonl >0)))"
   ]
  },
  {
   "cell_type": "markdown",
   "metadata": {},
   "source": [
    "### Compare the test gates"
   ]
  },
  {
   "cell_type": "code",
   "execution_count": 25,
   "metadata": {},
   "outputs": [],
   "source": [
    "gate_mat_nonl_test = best_model.get_prob_alpha(x_test)"
   ]
  },
  {
   "cell_type": "code",
   "execution_count": 26,
   "metadata": {},
   "outputs": [
    {
     "data": {
      "image/png": "[encoded data removed]",
      "text/plain": [
       "<Figure size 720x432 with 5 Axes>"
      ]
     },
     "metadata": {
      "needs_background": "light"
     },
     "output_type": "display_data"
    }
   ],
   "source": [
    "fig, axes = plt.subplots(1, 2, sharex=True,sharey=False,figsize=(10,6))\n",
    "\n",
    "fig.add_subplot(111, frameon=False)\n",
    "\n",
    "matplotlib.rc('xtick', labelsize=xtick_size) \n",
    "\n",
    "g_test_label = 1*(g_test[:,2] == 1)\n",
    "sorted_order_test = np.concatenate((np.where(g_test_label == 0)[0],np.where(g_test_label == 1)[0]))\n",
    "\n",
    "im1 = axes[0].imshow(g_test[sorted_order_test,:25],aspect='auto',cmap=cmap, norm=norm)\n",
    "axes[0].set_title(\"Ground Truth\",fontsize=title_size,fontweight=\"bold\")\n",
    "axes[0].set_ylabel(\"Sample Index\",fontsize=ylabel_size,labelpad=20)\n",
    "axes[0].set_xticks([0,1,2,3,9,14,19])\n",
    "axes[0].set_xticklabels([1,2,3,4,10,15,20],fontsize=xtick_size)\n",
    "axes[0].set_yticks([0,19,39])\n",
    "axes[0].set_yticklabels([1,20,40],fontsize=ytick_size)\n",
    "\n",
    "im2 = axes[1].imshow(gate_mat_nonl_test[sorted_order_test,:25],aspect='auto',cmap=cmap)\n",
    "axes[1].set_title(\"LSPIN\",fontsize=title_size,fontweight=\"bold\")\n",
    "axes[1].set_yticks([0,19,39])\n",
    "axes[1].set_yticklabels([1,20,40],fontsize=ytick_size)\n",
    "\n",
    "cbar = fig.colorbar(im1,ax=axes[0], cmap=cmap, norm=norm, boundaries=bounds, ticks=[0, 1])\n",
    "cbar.ax.tick_params(labelsize=bar_label_size)\n",
    "cbar = fig.colorbar(im2,ax=axes[1])\n",
    "cbar.ax.tick_params(labelsize=bar_label_size)\n",
    "\n",
    "plt.tick_params(labelcolor='none', top=False, bottom=False, left=False, right=False)\n",
    "plt.xlabel(\"Feature Index\",fontsize=xlabel_size)\n",
    "plt.tight_layout()"
   ]
  },
  {
   "cell_type": "code",
   "execution_count": 27,
   "metadata": {},
   "outputs": [
    {
     "name": "stdout",
     "output_type": "stream",
     "text": [
      "True Positive Rate: 1.0000\n"
     ]
    }
   ],
   "source": [
    "### TPR\n",
    "print(\"True Positive Rate: {:.4f}\".format(np.sum((g_test > 0) & (gate_mat_nonl_test >0))/np.sum(g_test > 0)))"
   ]
  },
  {
   "cell_type": "code",
   "execution_count": 28,
   "metadata": {},
   "outputs": [
    {
     "name": "stdout",
     "output_type": "stream",
     "text": [
      "False Discovery Rate: 0.0196\n"
     ]
    }
   ],
   "source": [
    "### FDR:\n",
    "print(\"False Discovery Rate: {:.4f}\".format(np.sum((g_test ==0)&(gate_mat_nonl_test >0))/np.sum(gate_mat_nonl_test >0)))"
   ]
  }
 ],
 "metadata": {
  "kernelspec": {
   "display_name": "Python 3",
   "language": "python",
   "name": "python3"
  },
  "language_info": {
   "codemirror_mode": {
    "name": "ipython",
    "version": 3
   },
   "file_extension": ".py",
   "mimetype": "text/x-python",
   "name": "python",
   "nbconvert_exporter": "python",
   "pygments_lexer": "ipython3",
   "version": "3.6.9"
  }
 },
 "nbformat": 4,
 "nbformat_minor": 4
}
